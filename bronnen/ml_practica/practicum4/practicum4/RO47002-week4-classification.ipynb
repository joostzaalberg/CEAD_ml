{
 "cells": [
  {
   "cell_type": "markdown",
   "metadata": {},
   "source": [
    "# RO47002 Machine Learning for Robotics\n",
    "* (c) TU Delft, 2021\n",
    "* Period: 2021-2022, Q1\n",
    "* Course homepage: https://brightspace.tudelft.nl/d2l/home/401403"
   ]
  },
  {
   "cell_type": "markdown",
   "metadata": {},
   "source": [
    "Make sure you fill in any place that says `YOUR CODE HERE` or `YOUR ANSWER HERE`. Moreover, if you see an empty cell, please DO NOT delete it, instead run that cell as you would run all other cells. Please fill in your name(s) and other required details below:"
   ]
  },
  {
   "cell_type": "code",
   "execution_count": 1,
   "metadata": {},
   "outputs": [],
   "source": [
    "GROUP_NUMBER = \"29\"\n",
    "STUDENT_NAME1 = \"Joost Zaalberg\"\n",
    "STUDENT_NUMBER1 = \"4464761\"\n",
    "STUDENT_NAME2 = \"Jasper van Leuven\"\n",
    "STUDENT_NUMBER2 = \"4648404\""
   ]
  },
  {
   "cell_type": "code",
   "execution_count": 2,
   "metadata": {
    "deletable": false,
    "editable": false,
    "nbgrader": {
     "cell_type": "code",
     "checksum": "e3f76d6a626db81c484191482b101edb",
     "grade": true,
     "grade_id": "cell-c35e4c8223095209",
     "locked": true,
     "points": 0,
     "schema_version": 3,
     "solution": false,
     "task": false
    }
   },
   "outputs": [],
   "source": [
    "# Note: this block is a check that you have filled in the above information.\n",
    "# It will throw an AssertionError until all fields are filled\n",
    "assert(GROUP_NUMBER != \"\")\n",
    "assert(STUDENT_NAME1 != \"\")\n",
    "assert(STUDENT_NUMBER1 != \"\")\n",
    "assert(STUDENT_NAME2 != \"\")\n",
    "assert(STUDENT_NUMBER2 != \"\")"
   ]
  },
  {
   "cell_type": "markdown",
   "metadata": {},
   "source": [
    "### General announcements\n",
    "\n",
    "* Do *not* share your solutions, and do *not* copy solutions from others. By submitting your solutions, you claim that you and your lab partner alone are responsible for this code.\n",
    "\n",
    "* Do *not* email questions directly, since we want to provide everybody with the same information and avoid repeating the same answers. Instead, please post your questions regarding this assignment in the correct support forum on Brightspace, this way everybody can benefit from the response. If you do have a particular question that you want to ask directly, please use the scheduled practicum hours to ask a TA.\n",
    "\n",
    "* There is a strict deadline for each assignment. Students are responsible to ensure that they have uploaded their work in time. So, please double check that your upload succeeded to the Brightspace and avoid any late penalties.\n",
    "\n",
    "* This [Jupyter notebook](https://jupyter.org/) uses `nbgrader` to help us with automated tests. `nbgrader` will make various cells in this notebook \"uneditable\" or \"unremovable\" and gives them a special id in the cell metadata. This way, when we run our checks, the system will check the existence of the cell ids and verify the number of points and which checks must be run. While there are ways that you can edit the metadata and work around the restrictions to delete or modify these special cells, you should not do that since then our nbgrader backend will not be able to parse your notebook and give you points for the assignment. You are free to add additional cells, but if you find a cell that you cannot modify or remove, please know that this is on purpose.\n",
    "\n",
    "* This notebook will have in various places a line that throws a `NotImplementedError` exception. These are locations where the assignment requires you to adapt the code! These lines are just there as a reminder for youthat you have not yet adapted that particular piece of code, especially when you execute all the cells. Once your solution code replaced these lines, it should accordingly *not* throw any exceptions anymore.\n",
    "\n",
    "Before you turn this problem in, make sure everything runs as expected. First, **restart the kernel** (in the menubar, select Kernel$\\rightarrow$Restart) and then **run all cells** (in the menubar, select Cell$\\rightarrow$Run All)."
   ]
  },
  {
   "cell_type": "markdown",
   "metadata": {},
   "source": [
    "---"
   ]
  },
  {
   "cell_type": "markdown",
   "metadata": {
    "deletable": false,
    "editable": false,
    "nbgrader": {
     "cell_type": "markdown",
     "checksum": "9b187b0e3dec2340c2403b5f09e58f52",
     "grade": false,
     "grade_id": "cell-a887e22cb74efcc4",
     "locked": true,
     "schema_version": 3,
     "solution": false,
     "task": false
    }
   },
   "source": [
    "# Practicum 4\n",
    "\n",
    "* Topic: Decision trees, SVM, bagging, imitation learning\n",
    "* Before performing this practicum, work through **Book chapter(s): 5, 6, 7**\n",
    "* **Deadline**: Sunday, October 3, 2021, 23:59\n",
    "\n",
    "## Objectives\n",
    "\n",
    "### Part 1 - Decision trees, SVM, bagging\n",
    "* Discover a data set and prepare it for algorithms\n",
    "* Inspect a decision tree\n",
    "* Re-implement a linear SVM\n",
    "* Re-implement a voting classifier\n",
    "* Explore how bagging improves a very simple classifier\n",
    "\n",
    "### Part 2 - Imitation Learning and Motion Planning\n",
    "* Build a dataset using an oracle\n",
    "* Use a classifier to imitate the behavior of a motion planning algorithm\n",
    "* Explore how the construction of the dataset can affect the performance of the classifier\n"
   ]
  },
  {
   "cell_type": "markdown",
   "metadata": {},
   "source": [
    "### Setup common python stuff\n",
    "We will start by loading a few common python dependencies"
   ]
  },
  {
   "cell_type": "code",
   "execution_count": 3,
   "metadata": {
    "deletable": false,
    "editable": false,
    "nbgrader": {
     "cell_type": "code",
     "checksum": "a8057c6875c639f00ac40f08e3c53624",
     "grade": false,
     "grade_id": "cell-81c44a132932427c",
     "locked": true,
     "schema_version": 3,
     "solution": false,
     "task": false
    }
   },
   "outputs": [],
   "source": [
    "# Python ≥3.5 is required\n",
    "import sys\n",
    "assert sys.version_info >= (3, 5)\n",
    "\n",
    "# Scikit-Learn 0.24.2 is required\n",
    "import sklearn\n",
    "assert sklearn.__version__ == \"0.24.2\"\n",
    "\n",
    "# Common imports\n",
    "import numpy as np\n",
    "import pandas as pd\n",
    "import os\n",
    "\n",
    "# to make this notebook's output stable across runs\n",
    "np.random.seed(42)\n",
    "\n",
    "# To plot pretty figures\n",
    "%matplotlib inline\n",
    "import matplotlib as mpl\n",
    "import matplotlib.pyplot as plt\n",
    "mpl.rc('axes', labelsize=14)\n",
    "mpl.rc('xtick', labelsize=12)\n",
    "mpl.rc('ytick', labelsize=12)\n",
    "\n",
    "import ipywidgets"
   ]
  },
  {
   "cell_type": "code",
   "execution_count": 4,
   "metadata": {
    "deletable": false,
    "editable": false,
    "nbgrader": {
     "cell_type": "code",
     "checksum": "28ec1bac4b4611ce47a757423487d76f",
     "grade": false,
     "grade_id": "cell-bbc833735a9dd261",
     "locked": true,
     "schema_version": 3,
     "solution": false,
     "task": false
    }
   },
   "outputs": [],
   "source": [
    "def plot_feature_space_function(f, X, y, axes, class_1=0, class_2=1, res=0.1):\n",
    "    \"\"\" \n",
    "    Plot the 2D feature space of the first two features of the data in X.\n",
    "    For the feature space, plot the samples in X with their class labels y,\n",
    "    and also overlay a countour plot with the function f(x) evaluated at a grid within\n",
    "    the shown region of the feature space (the size of the region is determined by the extent of the data).\n",
    "    based on https://scikit-learn.org/stable/auto_examples/ensemble/plot_voting_decision_regions.html\n",
    "    \"\"\"\n",
    "    \n",
    "    if f is not None:\n",
    "        xx, yy = np.meshgrid(np.arange(axes[0], axes[1], res),np.arange(axes[2], axes[3], res))\n",
    "\n",
    "        Z = f(np.c_[xx.ravel(), yy.ravel()])\n",
    "        Z = Z.reshape(xx.shape)\n",
    "\n",
    "        plt.contourf(xx, yy, Z, alpha=0.4)\n",
    "        \n",
    "    plt.plot(X[y==class_1,0], X[y==class_1,1], '.', label='class '+str(class_1), zorder=-1)\n",
    "    plt.plot(X[y==class_2,0], X[y==class_2,1], '.', label='class '+str(class_2), zorder=-1)\n",
    "    plt.grid('on')\n",
    "    plt.axis(axes)\n",
    "    plt.legend()"
   ]
  },
  {
   "cell_type": "code",
   "execution_count": 5,
   "metadata": {
    "deletable": false,
    "editable": false,
    "nbgrader": {
     "cell_type": "code",
     "checksum": "ee499b68ec37df67327050d5be338df6",
     "grade": false,
     "grade_id": "cell-afdbc31fbf0d3f77",
     "locked": true,
     "schema_version": 3,
     "solution": false,
     "task": false
    }
   },
   "outputs": [],
   "source": [
    "from sklearn.metrics import confusion_matrix\n",
    "from sklearn.metrics import accuracy_score\n",
    "\n",
    "def print_accuracy_confusion(y_test, y_pred, clf_name=''):\n",
    "    print(clf_name, 'accuracy score:', accuracy_score(y_test, y_pred))\n",
    "    print(clf_name, 'confusion matrix:\\n', confusion_matrix(y_test, y_pred))"
   ]
  },
  {
   "cell_type": "markdown",
   "metadata": {
    "deletable": false,
    "editable": false,
    "nbgrader": {
     "cell_type": "markdown",
     "checksum": "423788b1d70734f8a77e59da0a71d165",
     "grade": false,
     "grade_id": "cell-486bfa6c08d7b717",
     "locked": true,
     "schema_version": 3,
     "solution": false,
     "task": false
    }
   },
   "source": [
    "## 1) Exploring and preparing a dataset\n",
    "We are going to use a dataset for classifying hand gestures from EMG signals for the first part of this practicum. The description and original source can be found here: https://www.kaggle.com/kyr7plus/emg-4\n",
    "\n",
    "This kind of data can not only used for controlling prosthetics, but also for other human-robot interaction applications. Here is a little example from another CoR stuff member, Luka Peternel, on the use of EMG sensors in human-robot interaction https://youtu.be/i42X_rVVQWU\n",
    "\n",
    "Your first task is to read the description on the website and to figure out how the dataset is structured.\n",
    "Load the correct file (included in folder `hand_gestures` in this practicum) for each variable `df_rock`, `df_paper`, `df_scissors`, and `df_ok` using "
   ]
  },
  {
   "cell_type": "code",
   "execution_count": 6,
   "metadata": {
    "deletable": false,
    "nbgrader": {
     "cell_type": "code",
     "checksum": "77dd402e4b6ce1a5e83be72ec0f0a001",
     "grade": false,
     "grade_id": "cell-ccc71feef2301bcf",
     "locked": false,
     "schema_version": 3,
     "solution": true,
     "task": false
    }
   },
   "outputs": [
    {
     "data": {
      "text/html": [
       "<div>\n",
       "<style scoped>\n",
       "    .dataframe tbody tr th:only-of-type {\n",
       "        vertical-align: middle;\n",
       "    }\n",
       "\n",
       "    .dataframe tbody tr th {\n",
       "        vertical-align: top;\n",
       "    }\n",
       "\n",
       "    .dataframe thead th {\n",
       "        text-align: right;\n",
       "    }\n",
       "</style>\n",
       "<table border=\"1\" class=\"dataframe\">\n",
       "  <thead>\n",
       "    <tr style=\"text-align: right;\">\n",
       "      <th></th>\n",
       "      <th>0</th>\n",
       "      <th>1</th>\n",
       "      <th>2</th>\n",
       "      <th>3</th>\n",
       "      <th>4</th>\n",
       "      <th>5</th>\n",
       "      <th>6</th>\n",
       "      <th>7</th>\n",
       "      <th>8</th>\n",
       "      <th>9</th>\n",
       "      <th>...</th>\n",
       "      <th>55</th>\n",
       "      <th>56</th>\n",
       "      <th>57</th>\n",
       "      <th>58</th>\n",
       "      <th>59</th>\n",
       "      <th>60</th>\n",
       "      <th>61</th>\n",
       "      <th>62</th>\n",
       "      <th>63</th>\n",
       "      <th>64</th>\n",
       "    </tr>\n",
       "  </thead>\n",
       "  <tbody>\n",
       "    <tr>\n",
       "      <th>0</th>\n",
       "      <td>26.0</td>\n",
       "      <td>4.0</td>\n",
       "      <td>5.0</td>\n",
       "      <td>8.0</td>\n",
       "      <td>-1.0</td>\n",
       "      <td>-13.0</td>\n",
       "      <td>-109.0</td>\n",
       "      <td>-66.0</td>\n",
       "      <td>-9.0</td>\n",
       "      <td>2.0</td>\n",
       "      <td>...</td>\n",
       "      <td>-28.0</td>\n",
       "      <td>61.0</td>\n",
       "      <td>4.0</td>\n",
       "      <td>8.0</td>\n",
       "      <td>5.0</td>\n",
       "      <td>4.0</td>\n",
       "      <td>-7.0</td>\n",
       "      <td>-59.0</td>\n",
       "      <td>16.0</td>\n",
       "      <td>0</td>\n",
       "    </tr>\n",
       "    <tr>\n",
       "      <th>1</th>\n",
       "      <td>-47.0</td>\n",
       "      <td>-6.0</td>\n",
       "      <td>-5.0</td>\n",
       "      <td>-7.0</td>\n",
       "      <td>13.0</td>\n",
       "      <td>-1.0</td>\n",
       "      <td>35.0</td>\n",
       "      <td>-10.0</td>\n",
       "      <td>10.0</td>\n",
       "      <td>-4.0</td>\n",
       "      <td>...</td>\n",
       "      <td>-25.0</td>\n",
       "      <td>47.0</td>\n",
       "      <td>6.0</td>\n",
       "      <td>6.0</td>\n",
       "      <td>5.0</td>\n",
       "      <td>13.0</td>\n",
       "      <td>21.0</td>\n",
       "      <td>111.0</td>\n",
       "      <td>15.0</td>\n",
       "      <td>0</td>\n",
       "    </tr>\n",
       "    <tr>\n",
       "      <th>2</th>\n",
       "      <td>-19.0</td>\n",
       "      <td>-8.0</td>\n",
       "      <td>-8.0</td>\n",
       "      <td>-8.0</td>\n",
       "      <td>-21.0</td>\n",
       "      <td>-6.0</td>\n",
       "      <td>-79.0</td>\n",
       "      <td>12.0</td>\n",
       "      <td>0.0</td>\n",
       "      <td>5.0</td>\n",
       "      <td>...</td>\n",
       "      <td>-83.0</td>\n",
       "      <td>7.0</td>\n",
       "      <td>7.0</td>\n",
       "      <td>1.0</td>\n",
       "      <td>-8.0</td>\n",
       "      <td>7.0</td>\n",
       "      <td>21.0</td>\n",
       "      <td>114.0</td>\n",
       "      <td>48.0</td>\n",
       "      <td>0</td>\n",
       "    </tr>\n",
       "    <tr>\n",
       "      <th>3</th>\n",
       "      <td>2.0</td>\n",
       "      <td>3.0</td>\n",
       "      <td>0.0</td>\n",
       "      <td>2.0</td>\n",
       "      <td>0.0</td>\n",
       "      <td>22.0</td>\n",
       "      <td>106.0</td>\n",
       "      <td>-14.0</td>\n",
       "      <td>-16.0</td>\n",
       "      <td>-2.0</td>\n",
       "      <td>...</td>\n",
       "      <td>-38.0</td>\n",
       "      <td>-11.0</td>\n",
       "      <td>4.0</td>\n",
       "      <td>7.0</td>\n",
       "      <td>11.0</td>\n",
       "      <td>33.0</td>\n",
       "      <td>39.0</td>\n",
       "      <td>119.0</td>\n",
       "      <td>43.0</td>\n",
       "      <td>0</td>\n",
       "    </tr>\n",
       "    <tr>\n",
       "      <th>4</th>\n",
       "      <td>6.0</td>\n",
       "      <td>0.0</td>\n",
       "      <td>0.0</td>\n",
       "      <td>-2.0</td>\n",
       "      <td>-14.0</td>\n",
       "      <td>10.0</td>\n",
       "      <td>-51.0</td>\n",
       "      <td>5.0</td>\n",
       "      <td>7.0</td>\n",
       "      <td>0.0</td>\n",
       "      <td>...</td>\n",
       "      <td>38.0</td>\n",
       "      <td>-35.0</td>\n",
       "      <td>-8.0</td>\n",
       "      <td>2.0</td>\n",
       "      <td>6.0</td>\n",
       "      <td>-13.0</td>\n",
       "      <td>-24.0</td>\n",
       "      <td>-112.0</td>\n",
       "      <td>-69.0</td>\n",
       "      <td>0</td>\n",
       "    </tr>\n",
       "  </tbody>\n",
       "</table>\n",
       "<p>5 rows × 65 columns</p>\n",
       "</div>"
      ],
      "text/plain": [
       "     0    1    2    3     4     5      6     7     8    9   ...    55    56  \\\n",
       "0  26.0  4.0  5.0  8.0  -1.0 -13.0 -109.0 -66.0  -9.0  2.0  ... -28.0  61.0   \n",
       "1 -47.0 -6.0 -5.0 -7.0  13.0  -1.0   35.0 -10.0  10.0 -4.0  ... -25.0  47.0   \n",
       "2 -19.0 -8.0 -8.0 -8.0 -21.0  -6.0  -79.0  12.0   0.0  5.0  ... -83.0   7.0   \n",
       "3   2.0  3.0  0.0  2.0   0.0  22.0  106.0 -14.0 -16.0 -2.0  ... -38.0 -11.0   \n",
       "4   6.0  0.0  0.0 -2.0 -14.0  10.0  -51.0   5.0   7.0  0.0  ...  38.0 -35.0   \n",
       "\n",
       "    57   58    59    60    61     62    63  64  \n",
       "0  4.0  8.0   5.0   4.0  -7.0  -59.0  16.0   0  \n",
       "1  6.0  6.0   5.0  13.0  21.0  111.0  15.0   0  \n",
       "2  7.0  1.0  -8.0   7.0  21.0  114.0  48.0   0  \n",
       "3  4.0  7.0  11.0  33.0  39.0  119.0  43.0   0  \n",
       "4 -8.0  2.0   6.0 -13.0 -24.0 -112.0 -69.0   0  \n",
       "\n",
       "[5 rows x 65 columns]"
      ]
     },
     "execution_count": 6,
     "metadata": {},
     "output_type": "execute_result"
    }
   ],
   "source": [
    "df_rock = pd.read_csv('./hand_gestures/0.csv', header = None)\n",
    "\n",
    "# YOUR CODE HERE\n",
    "df_scissors = pd.read_csv('./hand_gestures/1.csv', header = None)\n",
    "df_paper = pd.read_csv('./hand_gestures/2.csv', header = None)\n",
    "df_ok = pd.read_csv('./hand_gestures/3.csv', header = None)\n",
    "\n",
    "df = pd.concat([df_rock, df_scissors, df_ok,  df_paper])\n",
    "\n",
    "df.head()"
   ]
  },
  {
   "cell_type": "code",
   "execution_count": 7,
   "metadata": {
    "deletable": false,
    "editable": false,
    "nbgrader": {
     "cell_type": "code",
     "checksum": "1b00fd5b42f63e596b46939fa4a6015f",
     "grade": true,
     "grade_id": "cell-6e590d1471ce418b",
     "locked": true,
     "points": 1,
     "schema_version": 3,
     "solution": false,
     "task": false
    }
   },
   "outputs": [],
   "source": [
    "assert df.shape[0] == 11678\n",
    "assert df.shape[1] == 65"
   ]
  },
  {
   "cell_type": "markdown",
   "metadata": {
    "deletable": false,
    "editable": false,
    "nbgrader": {
     "cell_type": "markdown",
     "checksum": "3f7fe0524afa361165a825b559927ebe",
     "grade": false,
     "grade_id": "cell-94ef96efc24b6038",
     "locked": true,
     "schema_version": 3,
     "solution": false,
     "task": false
    }
   },
   "source": [
    "**1.01)** Now convert the pandas dataframe to numpy matrices `X_4class` and `y_4class` for the features and labels respectively."
   ]
  },
  {
   "cell_type": "code",
   "execution_count": 8,
   "metadata": {
    "deletable": false,
    "nbgrader": {
     "cell_type": "code",
     "checksum": "37bb1dbfaaa01c4c981fb9810cb181c0",
     "grade": false,
     "grade_id": "cell-ddfe447ad56d567a",
     "locked": false,
     "schema_version": 3,
     "solution": true,
     "task": false
    }
   },
   "outputs": [],
   "source": [
    "# hint: use df.iloc.values or np.array(df)\n",
    "\n",
    "X_4class = np.array(df.iloc[:,0:64])\n",
    "y_4class = np.array(df.iloc[:,64])\n",
    "\n"
   ]
  },
  {
   "cell_type": "code",
   "execution_count": 9,
   "metadata": {
    "deletable": false,
    "editable": false,
    "nbgrader": {
     "cell_type": "code",
     "checksum": "bf78a43d1c534bf8d53cd1aacd539ce9",
     "grade": true,
     "grade_id": "cell-50d1f04b4183587c",
     "locked": true,
     "points": 1,
     "schema_version": 3,
     "solution": false,
     "task": false
    }
   },
   "outputs": [],
   "source": [
    "assert X_4class.shape[0] == 11678\n",
    "assert y_4class.shape[0] == 11678\n",
    "assert y_4class.ndim == 1"
   ]
  },
  {
   "cell_type": "code",
   "execution_count": 10,
   "metadata": {},
   "outputs": [],
   "source": [
    "#if you are stuck here, uncomment the lines below to load variables\n",
    "\n",
    "#npzfile = np.load('./get_unstuck/4class.npz')\n",
    "#X_4class = npzfile['X_4class']\n",
    "#y_4class = npzfile['y_4class']"
   ]
  },
  {
   "cell_type": "markdown",
   "metadata": {
    "deletable": false,
    "editable": false,
    "nbgrader": {
     "cell_type": "markdown",
     "checksum": "4d6d5d1d0347e7c9188a3b14f4f8bcde",
     "grade": false,
     "grade_id": "cell-7ff74ff0aeecdfe7",
     "locked": true,
     "schema_version": 3,
     "solution": false,
     "task": false
    }
   },
   "source": [
    "**1.02)** Let's split the dataset into a training and testing set and train a random forest classifier. Use `random_state=0` as an argument for the classifier to ensure reproducible results."
   ]
  },
  {
   "cell_type": "code",
   "execution_count": 11,
   "metadata": {
    "deletable": false,
    "nbgrader": {
     "cell_type": "code",
     "checksum": "96dfa1534de3db6fabc24981688c920b",
     "grade": false,
     "grade_id": "cell-bc4d9f7500509990",
     "locked": false,
     "schema_version": 3,
     "solution": true,
     "task": false
    }
   },
   "outputs": [
    {
     "name": "stdout",
     "output_type": "stream",
     "text": [
      " accuracy score: 0.9154109589041096\n",
      " confusion matrix:\n",
      " [[689   0   5  12]\n",
      " [  0 640  26  43]\n",
      " [ 13   9 715  27]\n",
      " [ 46  26  40 629]]\n"
     ]
    }
   ],
   "source": [
    "# Splitting the dataset into the Training set and Test set\n",
    "from sklearn.model_selection import train_test_split\n",
    "X_4class_train, X_4class_test, y_4class_train, y_4class_test = train_test_split(X_4class, y_4class, test_size=0.25, random_state=0)\n",
    "\n",
    "# Feature Scaling\n",
    "from sklearn.preprocessing import StandardScaler\n",
    "sc_4class = StandardScaler()\n",
    "X_4class_train = sc_4class.fit_transform(X_4class_train)\n",
    "X_4class_test = sc_4class.transform(X_4class_test)\n",
    "\n",
    "# Defining and fitting classifier\n",
    "from sklearn.ensemble import RandomForestClassifier\n",
    "\n",
    "rf_clf_4class = RandomForestClassifier(random_state = 0)\n",
    "rf_clf_4class.fit(X_4class_train, y_4class_train)\n",
    "\n",
    "# Predicting the Test set results\n",
    "rf_y_4class_pred = rf_clf_4class.predict(X_4class_test)\n",
    "print_accuracy_confusion(y_4class_test, rf_y_4class_pred)"
   ]
  },
  {
   "cell_type": "code",
   "execution_count": 12,
   "metadata": {
    "deletable": false,
    "editable": false,
    "nbgrader": {
     "cell_type": "code",
     "checksum": "8fdcb0f50c28f9fa3d527f1b30d03fda",
     "grade": true,
     "grade_id": "cell-264b11653944ada1",
     "locked": true,
     "points": 1,
     "schema_version": 3,
     "solution": false,
     "task": false
    }
   },
   "outputs": [],
   "source": [
    "assert np.abs(accuracy_score(y_4class_test, rf_y_4class_pred)-0.9154109589041096)<1e-6"
   ]
  },
  {
   "cell_type": "markdown",
   "metadata": {
    "deletable": false,
    "editable": false,
    "nbgrader": {
     "cell_type": "markdown",
     "checksum": "6756cc9995a314c2071a19a3bed97c70",
     "grade": false,
     "grade_id": "cell-91f18c6ab6da1333",
     "locked": true,
     "schema_version": 3,
     "solution": false,
     "task": false
    }
   },
   "source": [
    "**1.03)** We are now going to consider only 2 out of the 4 classes in this dataset, so we can focus on binary classifiers.\n",
    "Based on the confusion matrix above, which classes are easiest to distinguish?"
   ]
  },
  {
   "cell_type": "code",
   "execution_count": 13,
   "metadata": {
    "deletable": false,
    "nbgrader": {
     "cell_type": "code",
     "checksum": "b156d33c83d86d048e270d71417c25eb",
     "grade": false,
     "grade_id": "cell-6f064a7a97e16d75",
     "locked": false,
     "schema_version": 3,
     "solution": true,
     "task": false
    }
   },
   "outputs": [],
   "source": [
    "class_1= 0 # 42 is obviously nonsense, replace by the correct class\n",
    "class_2= 1 # ensure that class_1 < class_2\n",
    "\n"
   ]
  },
  {
   "cell_type": "code",
   "execution_count": null,
   "metadata": {
    "deletable": false,
    "editable": false,
    "nbgrader": {
     "cell_type": "code",
     "checksum": "9ceb913828254b369c1e574a8db5a024",
     "grade": true,
     "grade_id": "cell-60b03215d52728a6",
     "locked": true,
     "points": 1,
     "schema_version": 3,
     "solution": false,
     "task": false
    }
   },
   "outputs": [],
   "source": []
  },
  {
   "cell_type": "markdown",
   "metadata": {
    "deletable": false,
    "editable": false,
    "nbgrader": {
     "cell_type": "markdown",
     "checksum": "8582cd98eed6699ad179f530a8c0746e",
     "grade": false,
     "grade_id": "cell-918210eafbf80e1f",
     "locked": true,
     "schema_version": 3,
     "solution": false,
     "task": false
    }
   },
   "source": [
    "**1.04)** Now we create 2 new variables `X_binary` and `y_binary` that only contain these 2 classes (the easiest to distinguish). Hint: use Boolean indexing and bitwise logic operators."
   ]
  },
  {
   "cell_type": "code",
   "execution_count": 14,
   "metadata": {
    "deletable": false,
    "nbgrader": {
     "cell_type": "code",
     "checksum": "876f9c17d94b8a8991586e1054e8433d",
     "grade": false,
     "grade_id": "cell-20a5fd57aae1ef95",
     "locked": false,
     "schema_version": 3,
     "solution": true,
     "task": false
    }
   },
   "outputs": [],
   "source": [
    "indices = len(y_4class[y_4class==0])+len(+y_4class[y_4class==1])\n",
    "\n",
    "X_binary = X_4class[0:indices,:]\n",
    "y_binary = y_4class[0:indices]\n"
   ]
  },
  {
   "cell_type": "code",
   "execution_count": 15,
   "metadata": {
    "deletable": false,
    "editable": false,
    "nbgrader": {
     "cell_type": "code",
     "checksum": "8f8957304e70b03f2ee1aac584cf4d26",
     "grade": true,
     "grade_id": "cell-376259a6c43bfd54",
     "locked": true,
     "points": 1,
     "schema_version": 3,
     "solution": false,
     "task": false
    }
   },
   "outputs": [],
   "source": [
    "assert X_binary.shape[0] == 5813\n",
    "assert X_binary.shape[1] == 64\n",
    "assert y_binary.ndim == 1\n",
    "assert X_binary[0,0] == 26.0\n",
    "assert X_binary[5812,0] == -16.0"
   ]
  },
  {
   "cell_type": "code",
   "execution_count": 16,
   "metadata": {},
   "outputs": [],
   "source": [
    "#if you are stuck here, uncomment the lines below to load variables\n",
    "\n",
    "#npzfile = np.load('./get_unstuck/binary.npz')\n",
    "#X_binary = npzfile['X_binary']\n",
    "#y_binary = npzfile['y_binary']"
   ]
  },
  {
   "cell_type": "markdown",
   "metadata": {
    "deletable": false,
    "editable": false,
    "nbgrader": {
     "cell_type": "markdown",
     "checksum": "c1c2b10d7f3723ae4441c6012ba1a582",
     "grade": false,
     "grade_id": "cell-f3532565b7bb6968",
     "locked": true,
     "schema_version": 3,
     "solution": false,
     "task": false
    }
   },
   "source": [
    "Preparing the modified dataset..."
   ]
  },
  {
   "cell_type": "code",
   "execution_count": 17,
   "metadata": {
    "deletable": false,
    "editable": false,
    "nbgrader": {
     "cell_type": "code",
     "checksum": "3fa3644ef3c05ddde4c71133756b9d8a",
     "grade": false,
     "grade_id": "cell-9d267ab71fb9f873",
     "locked": true,
     "schema_version": 3,
     "solution": false,
     "task": false
    }
   },
   "outputs": [],
   "source": [
    "# Splitting the dataset into the Training set and Test set\n",
    "from sklearn.model_selection import train_test_split\n",
    "X_binary_train, X_binary_test, y_binary_train, y_binary_test = train_test_split(X_binary, y_binary, test_size=0.25, random_state=0)\n",
    "\n",
    "# Feature Scaling\n",
    "from sklearn.preprocessing import StandardScaler\n",
    "sc_binary = StandardScaler()\n",
    "X_binary_train = sc_binary.fit_transform(X_binary_train)\n",
    "X_binary_test = sc_binary.transform(X_binary_test)"
   ]
  },
  {
   "cell_type": "markdown",
   "metadata": {},
   "source": [
    "**1.05)** Now let's create a few more classifiers to see how they perform.\n",
    "- a SGD classifier `sgd_clf_binary` (with `loss='log', random_state=0`, all other parameters as default)\n",
    "- a decision tree classifier `dt_clf_binary` (with `random_state=0`, all other parameters as default)\n",
    "- a random forest classifier `rf_clf_binary` (with `random_state=0`, all other parameters as default)\n",
    "\n",
    "define them, fit them, and predict the values for the test set (use the variable names in the stub that displays the results)"
   ]
  },
  {
   "cell_type": "code",
   "execution_count": 18,
   "metadata": {
    "deletable": false,
    "nbgrader": {
     "cell_type": "code",
     "checksum": "427501d8d502f7d61857365217f9ae6e",
     "grade": false,
     "grade_id": "cell-5e70451b4e008276",
     "locked": false,
     "schema_version": 3,
     "solution": true,
     "task": false
    }
   },
   "outputs": [
    {
     "name": "stdout",
     "output_type": "stream",
     "text": [
      "sgd accuracy score: 0.5845942228335625\n",
      "sgd confusion matrix:\n",
      " [[317 411]\n",
      " [193 533]]\n",
      "dt accuracy score: 0.9773039889958735\n",
      "dt confusion matrix:\n",
      " [[707  21]\n",
      " [ 12 714]]\n",
      "rf accuracy score: 0.9917469050894085\n",
      "rf confusion matrix:\n",
      " [[726   2]\n",
      " [ 10 716]]\n"
     ]
    }
   ],
   "source": [
    "from sklearn.linear_model import SGDClassifier\n",
    "from sklearn.tree import DecisionTreeClassifier\n",
    "\n",
    "\n",
    "# YOUR CODE HERE\n",
    "sgd_clf_binary = SGDClassifier(loss = 'log', random_state=0).fit(X_binary_train,y_binary_train)\n",
    "sgd_y_binary_pred = sgd_clf_binary.predict(X_binary_test)\n",
    "\n",
    "dt_clf_binary = DecisionTreeClassifier(random_state=0).fit(X_binary_train,y_binary_train)\n",
    "dt_y_binary_pred = dt_clf_binary.predict(X_binary_test)\n",
    "\n",
    "rf_clf_binary = RandomForestClassifier(random_state=0).fit(X_binary_train,y_binary_train)\n",
    "rf_y_binary_pred = rf_clf_binary.predict(X_binary_test)\n",
    "\n",
    "# Printing results\n",
    "print_accuracy_confusion(y_binary_test, sgd_y_binary_pred, 'sgd')\n",
    "print_accuracy_confusion(y_binary_test, dt_y_binary_pred, 'dt')\n",
    "print_accuracy_confusion(y_binary_test, rf_y_binary_pred, 'rf')"
   ]
  },
  {
   "cell_type": "code",
   "execution_count": 19,
   "metadata": {
    "deletable": false,
    "editable": false,
    "nbgrader": {
     "cell_type": "code",
     "checksum": "77fd649ae6b25d02118a099f97cf4a86",
     "grade": true,
     "grade_id": "cell-da93408c21b1035c",
     "locked": true,
     "points": 3,
     "schema_version": 3,
     "solution": false,
     "task": false
    }
   },
   "outputs": [],
   "source": [
    "assert np.abs(accuracy_score(y_binary_test, sgd_y_binary_pred)-0.5845942228335625)<1e-6\n",
    "assert np.abs(accuracy_score(y_binary_test, dt_y_binary_pred)-0.9773039889958735)<1e-6\n",
    "assert np.abs(accuracy_score(y_binary_test, rf_y_binary_pred)-0.9917469050894085)<1e-6"
   ]
  },
  {
   "cell_type": "markdown",
   "metadata": {
    "deletable": false,
    "editable": false,
    "nbgrader": {
     "cell_type": "markdown",
     "checksum": "0711a54a9a300821ebd10ebf3aef07dd",
     "grade": false,
     "grade_id": "cell-39db39c4dbd1a8ec",
     "locked": true,
     "schema_version": 3,
     "solution": false,
     "task": false
    }
   },
   "source": [
    "**1.06)** The dataset has 64 features, which are virtually impossible to visualize in 2D. The next steps are going to take us from those 64 features down to 2 features.\n",
    "\n",
    "Take a look again at the description of the data set. Each sample contains measurements from 8 sensors, over 8 consecutive time steps. The measurements are very noisy anyhow, so average over the 8 time steps and create a new variable `X_binary_avg`. That can be done in 2 lines with numpy functions."
   ]
  },
  {
   "cell_type": "code",
   "execution_count": 20,
   "metadata": {
    "deletable": false,
    "nbgrader": {
     "cell_type": "code",
     "checksum": "47a88101464f513bcad90636b9e9b1f7",
     "grade": false,
     "grade_id": "cell-2b159c3cd7d5d052",
     "locked": false,
     "schema_version": 3,
     "solution": true,
     "task": false
    }
   },
   "outputs": [],
   "source": [
    "# YOUR CODE HERE\n",
    "X_binary_avg = np.zeros((5813,8))\n",
    "\n",
    "\n",
    "for i in range(8):\n",
    "    X_binary_avg[:,i] = (X_binary[:,0 + i] +  X_binary[:,8 + i] + X_binary[:,16+i] + X_binary[:,24 + i] + X_binary[:,32+i] + X_binary[:,40 + i ] +  X_binary[:,48 + i] + X_binary[:,56 + i]  )/8"
   ]
  },
  {
   "cell_type": "code",
   "execution_count": 21,
   "metadata": {
    "deletable": false,
    "editable": false,
    "nbgrader": {
     "cell_type": "code",
     "checksum": "4adcfd80db28bad5b9109bd5cd22a2b5",
     "grade": true,
     "grade_id": "cell-091228faef2a93b9",
     "locked": true,
     "points": 1,
     "schema_version": 3,
     "solution": false,
     "task": false
    }
   },
   "outputs": [],
   "source": [
    "assert X_binary_avg.shape[0] == 5813\n",
    "assert X_binary_avg.shape[1] == 8\n",
    "assert X_binary_avg[0,0] == 8\n",
    "assert X_binary_avg[5812,0] == 1.375"
   ]
  },
  {
   "cell_type": "code",
   "execution_count": 22,
   "metadata": {},
   "outputs": [],
   "source": [
    "#if you are stuck here, uncomment the lines below to load variables\n",
    "\n",
    "#npzfile = np.load('./get_unstuck/binary_avg.npz')\n",
    "#X_binary_avg= npzfile['X_binary_avg']"
   ]
  },
  {
   "cell_type": "markdown",
   "metadata": {
    "deletable": false,
    "editable": false,
    "nbgrader": {
     "cell_type": "markdown",
     "checksum": "c57c6e9f0d0fa16c84dbaf48a5c0fccb",
     "grade": false,
     "grade_id": "cell-07fc1b3a180f1476",
     "locked": true,
     "schema_version": 3,
     "solution": false,
     "task": false
    }
   },
   "source": [
    "**1.07)** Explore the dataset to see which features clearly distinguish the 2 classes (altough it will not be possible to completely eliminate the overlap between classes). The function below can help with that."
   ]
  },
  {
   "cell_type": "code",
   "execution_count": 23,
   "metadata": {
    "deletable": false,
    "editable": false,
    "nbgrader": {
     "cell_type": "code",
     "checksum": "3f6e1fe16acc7802c2ac66061a1d8bac",
     "grade": false,
     "grade_id": "cell-c99d472de2b66c6a",
     "locked": true,
     "schema_version": 3,
     "solution": false,
     "task": false
    }
   },
   "outputs": [],
   "source": [
    "def plot_data(X, y, feat_1, feat_2, class_1=0, class_2=1):\n",
    "    plt.plot(X[y==class_1,feat_1], X[y==class_1,feat_2], '.', label='class '+str(class_1))\n",
    "    plt.plot(X[y==class_2,feat_1], X[y==class_2,feat_2], '.', label='class '+str(class_2))\n",
    "    plt.grid('on')\n",
    "    plt.axis('equal')\n",
    "    plt.xlabel('feature ' + str(feat_1))\n",
    "    plt.ylabel('feature ' + str(feat_2))\n",
    "    plt.legend()"
   ]
  },
  {
   "cell_type": "code",
   "execution_count": null,
   "metadata": {},
   "outputs": [],
   "source": []
  },
  {
   "cell_type": "code",
   "execution_count": 24,
   "metadata": {
    "deletable": false,
    "nbgrader": {
     "cell_type": "code",
     "checksum": "ead2c2144e524c1701489d5a1fb5f6c4",
     "grade": false,
     "grade_id": "cell-30c5feef60068c4c",
     "locked": false,
     "schema_version": 3,
     "solution": true,
     "task": false
    }
   },
   "outputs": [
    {
     "data": {
      "application/vnd.jupyter.widget-view+json": {
       "model_id": "af449e46da884878a152f737c87c7449",
       "version_major": 2,
       "version_minor": 0
      },
      "text/plain": [
       "interactive(children=(IntSlider(value=4, description='feat_1', max=8), IntSlider(value=4, description='feat_2'…"
      ]
     },
     "metadata": {},
     "output_type": "display_data"
    },
    {
     "data": {
      "text/plain": [
       "<function __main__.plot_data(X, y, feat_1, feat_2, class_1=0, class_2=1)>"
      ]
     },
     "execution_count": 24,
     "metadata": {},
     "output_type": "execute_result"
    }
   ],
   "source": [
    "from ipywidgets import interact, interactive, fixed, interact_manual\n",
    "import ipywidgets as widgets\n",
    "\n",
    "#feat_1 = 0 #42 is obviously nonsense, replace by the correct feature\n",
    "#feat_2 = 1# ensure that feat_1 < feat_2\n",
    "\n",
    "ipywidgets.interact(plot_data, X=fixed(X_binary_avg), y = fixed(y_binary), feat_1=(0,8), feat_2=(0,8))"
   ]
  },
  {
   "cell_type": "code",
   "execution_count": null,
   "metadata": {
    "deletable": false,
    "editable": false,
    "nbgrader": {
     "cell_type": "code",
     "checksum": "f360d2917c63e67c9e017678b01c80d3",
     "grade": true,
     "grade_id": "cell-6ca7aa733bf6eb5c",
     "locked": true,
     "points": 1,
     "schema_version": 3,
     "solution": false,
     "task": false
    }
   },
   "outputs": [],
   "source": []
  },
  {
   "cell_type": "markdown",
   "metadata": {},
   "source": [
    "**1.08)** We can also use an auto-generated decision tree to help us decide on the must informative features."
   ]
  },
  {
   "cell_type": "code",
   "execution_count": 25,
   "metadata": {
    "deletable": false,
    "editable": false,
    "nbgrader": {
     "cell_type": "code",
     "checksum": "a23d88d2f026bd0648145b680d3dfad6",
     "grade": false,
     "grade_id": "cell-5982ab5b77789271",
     "locked": true,
     "schema_version": 3,
     "solution": false,
     "task": false
    }
   },
   "outputs": [
    {
     "name": "stdout",
     "output_type": "stream",
     "text": [
      "dt_simple accuracy score: 0.9044016506189821\n",
      "dt_simple confusion matrix:\n",
      " [[615 113]\n",
      " [ 26 700]]\n"
     ]
    }
   ],
   "source": [
    "X_simple_train, X_simple_test, y_simple_train, y_simple_test = train_test_split(X_binary_avg, y_binary, test_size=0.25, random_state=0)\n",
    "\n",
    "from sklearn.tree import DecisionTreeClassifier\n",
    "dt_clf_simple = DecisionTreeClassifier(random_state=0, max_depth=3)\n",
    "dt_clf_simple.fit(X_simple_train, y_simple_train)\n",
    "dt_y_simple_pred = dt_clf_simple.predict(X_simple_test)\n",
    "\n",
    "print_accuracy_confusion(y_simple_test, dt_y_simple_pred, 'dt_simple')"
   ]
  },
  {
   "cell_type": "code",
   "execution_count": 26,
   "metadata": {
    "deletable": false,
    "editable": false,
    "nbgrader": {
     "cell_type": "code",
     "checksum": "508c43685145238a9175338ea3541aa2",
     "grade": false,
     "grade_id": "cell-1965177da9e27e0a",
     "locked": true,
     "schema_version": 3,
     "solution": false,
     "task": false
    }
   },
   "outputs": [
    {
     "data": {
      "image/svg+xml": [
       "<?xml version=\"1.0\" encoding=\"UTF-8\" standalone=\"no\"?>\n",
       "<!DOCTYPE svg PUBLIC \"-//W3C//DTD SVG 1.1//EN\"\n",
       " \"http://www.w3.org/Graphics/SVG/1.1/DTD/svg11.dtd\">\n",
       "<!-- Generated by graphviz version 2.49.0 (0)\n",
       " -->\n",
       "<!-- Title: Tree Pages: 1 -->\n",
       "<svg width=\"1046pt\" height=\"433pt\"\n",
       " viewBox=\"0.00 0.00 1045.50 433.00\" xmlns=\"http://www.w3.org/2000/svg\" xmlns:xlink=\"http://www.w3.org/1999/xlink\">\n",
       "<g id=\"graph0\" class=\"graph\" transform=\"scale(1 1) rotate(0) translate(4 429)\">\n",
       "<title>Tree</title>\n",
       "<polygon fill=\"white\" stroke=\"transparent\" points=\"-4,4 -4,-429 1041.5,-429 1041.5,4 -4,4\"/>\n",
       "<!-- 0 -->\n",
       "<g id=\"node1\" class=\"node\">\n",
       "<title>0</title>\n",
       "<path fill=\"#ffffff\" stroke=\"black\" d=\"M539.5,-425C539.5,-425 419.5,-425 419.5,-425 413.5,-425 407.5,-419 407.5,-413 407.5,-413 407.5,-354 407.5,-354 407.5,-348 413.5,-342 419.5,-342 419.5,-342 539.5,-342 539.5,-342 545.5,-342 551.5,-348 551.5,-354 551.5,-354 551.5,-413 551.5,-413 551.5,-419 545.5,-425 539.5,-425\"/>\n",
       "<text text-anchor=\"middle\" x=\"479.5\" y=\"-409.8\" font-family=\"Helvetica,sans-Serif\" font-size=\"14.00\">X[6] &lt;= &#45;2.312</text>\n",
       "<text text-anchor=\"middle\" x=\"479.5\" y=\"-394.8\" font-family=\"Helvetica,sans-Serif\" font-size=\"14.00\">gini = 0.5</text>\n",
       "<text text-anchor=\"middle\" x=\"479.5\" y=\"-379.8\" font-family=\"Helvetica,sans-Serif\" font-size=\"14.00\">samples = 4359</text>\n",
       "<text text-anchor=\"middle\" x=\"479.5\" y=\"-364.8\" font-family=\"Helvetica,sans-Serif\" font-size=\"14.00\">value = [2182, 2177]</text>\n",
       "<text text-anchor=\"middle\" x=\"479.5\" y=\"-349.8\" font-family=\"Helvetica,sans-Serif\" font-size=\"14.00\">class = 0</text>\n",
       "</g>\n",
       "<!-- 1 -->\n",
       "<g id=\"node2\" class=\"node\">\n",
       "<title>1</title>\n",
       "<path fill=\"#e6833d\" stroke=\"black\" d=\"M412.5,-306C412.5,-306 308.5,-306 308.5,-306 302.5,-306 296.5,-300 296.5,-294 296.5,-294 296.5,-235 296.5,-235 296.5,-229 302.5,-223 308.5,-223 308.5,-223 412.5,-223 412.5,-223 418.5,-223 424.5,-229 424.5,-235 424.5,-235 424.5,-294 424.5,-294 424.5,-300 418.5,-306 412.5,-306\"/>\n",
       "<text text-anchor=\"middle\" x=\"360.5\" y=\"-290.8\" font-family=\"Helvetica,sans-Serif\" font-size=\"14.00\">X[6] &lt;= &#45;2.812</text>\n",
       "<text text-anchor=\"middle\" x=\"360.5\" y=\"-275.8\" font-family=\"Helvetica,sans-Serif\" font-size=\"14.00\">gini = 0.038</text>\n",
       "<text text-anchor=\"middle\" x=\"360.5\" y=\"-260.8\" font-family=\"Helvetica,sans-Serif\" font-size=\"14.00\">samples = 1096</text>\n",
       "<text text-anchor=\"middle\" x=\"360.5\" y=\"-245.8\" font-family=\"Helvetica,sans-Serif\" font-size=\"14.00\">value = [1075, 21]</text>\n",
       "<text text-anchor=\"middle\" x=\"360.5\" y=\"-230.8\" font-family=\"Helvetica,sans-Serif\" font-size=\"14.00\">class = 0</text>\n",
       "</g>\n",
       "<!-- 0&#45;&gt;1 -->\n",
       "<g id=\"edge1\" class=\"edge\">\n",
       "<title>0&#45;&gt;1</title>\n",
       "<path fill=\"none\" stroke=\"black\" d=\"M438.21,-341.91C428.8,-332.65 418.71,-322.73 409.02,-313.21\"/>\n",
       "<polygon fill=\"black\" stroke=\"black\" points=\"411.3,-310.54 401.71,-306.02 406.39,-315.53 411.3,-310.54\"/>\n",
       "<text text-anchor=\"middle\" x=\"401.93\" y=\"-327.32\" font-family=\"Helvetica,sans-Serif\" font-size=\"14.00\">True</text>\n",
       "</g>\n",
       "<!-- 8 -->\n",
       "<g id=\"node9\" class=\"node\">\n",
       "<title>8</title>\n",
       "<path fill=\"#9fcff2\" stroke=\"black\" d=\"M686,-306C686,-306 567,-306 567,-306 561,-306 555,-300 555,-294 555,-294 555,-235 555,-235 555,-229 561,-223 567,-223 567,-223 686,-223 686,-223 692,-223 698,-229 698,-235 698,-235 698,-294 698,-294 698,-300 692,-306 686,-306\"/>\n",
       "<text text-anchor=\"middle\" x=\"626.5\" y=\"-290.8\" font-family=\"Helvetica,sans-Serif\" font-size=\"14.00\">X[6] &lt;= 0.812</text>\n",
       "<text text-anchor=\"middle\" x=\"626.5\" y=\"-275.8\" font-family=\"Helvetica,sans-Serif\" font-size=\"14.00\">gini = 0.448</text>\n",
       "<text text-anchor=\"middle\" x=\"626.5\" y=\"-260.8\" font-family=\"Helvetica,sans-Serif\" font-size=\"14.00\">samples = 3263</text>\n",
       "<text text-anchor=\"middle\" x=\"626.5\" y=\"-245.8\" font-family=\"Helvetica,sans-Serif\" font-size=\"14.00\">value = [1107, 2156]</text>\n",
       "<text text-anchor=\"middle\" x=\"626.5\" y=\"-230.8\" font-family=\"Helvetica,sans-Serif\" font-size=\"14.00\">class = 1</text>\n",
       "</g>\n",
       "<!-- 0&#45;&gt;8 -->\n",
       "<g id=\"edge8\" class=\"edge\">\n",
       "<title>0&#45;&gt;8</title>\n",
       "<path fill=\"none\" stroke=\"black\" d=\"M530.5,-341.91C542.47,-332.38 555.33,-322.15 567.61,-312.37\"/>\n",
       "<polygon fill=\"black\" stroke=\"black\" points=\"569.94,-314.99 575.59,-306.02 565.59,-309.51 569.94,-314.99\"/>\n",
       "<text text-anchor=\"middle\" x=\"572.77\" y=\"-327.16\" font-family=\"Helvetica,sans-Serif\" font-size=\"14.00\">False</text>\n",
       "</g>\n",
       "<!-- 2 -->\n",
       "<g id=\"node3\" class=\"node\">\n",
       "<title>2</title>\n",
       "<path fill=\"#e5823a\" stroke=\"black\" d=\"M231.5,-187C231.5,-187 135.5,-187 135.5,-187 129.5,-187 123.5,-181 123.5,-175 123.5,-175 123.5,-116 123.5,-116 123.5,-110 129.5,-104 135.5,-104 135.5,-104 231.5,-104 231.5,-104 237.5,-104 243.5,-110 243.5,-116 243.5,-116 243.5,-175 243.5,-175 243.5,-181 237.5,-187 231.5,-187\"/>\n",
       "<text text-anchor=\"middle\" x=\"183.5\" y=\"-171.8\" font-family=\"Helvetica,sans-Serif\" font-size=\"14.00\">X[6] &lt;= &#45;3.312</text>\n",
       "<text text-anchor=\"middle\" x=\"183.5\" y=\"-156.8\" font-family=\"Helvetica,sans-Serif\" font-size=\"14.00\">gini = 0.014</text>\n",
       "<text text-anchor=\"middle\" x=\"183.5\" y=\"-141.8\" font-family=\"Helvetica,sans-Serif\" font-size=\"14.00\">samples = 1008</text>\n",
       "<text text-anchor=\"middle\" x=\"183.5\" y=\"-126.8\" font-family=\"Helvetica,sans-Serif\" font-size=\"14.00\">value = [1001, 7]</text>\n",
       "<text text-anchor=\"middle\" x=\"183.5\" y=\"-111.8\" font-family=\"Helvetica,sans-Serif\" font-size=\"14.00\">class = 0</text>\n",
       "</g>\n",
       "<!-- 1&#45;&gt;2 -->\n",
       "<g id=\"edge2\" class=\"edge\">\n",
       "<title>1&#45;&gt;2</title>\n",
       "<path fill=\"none\" stroke=\"black\" d=\"M299.09,-222.91C283.93,-212.88 267.59,-202.08 252.11,-191.85\"/>\n",
       "<polygon fill=\"black\" stroke=\"black\" points=\"253.88,-188.83 243.61,-186.23 250.02,-194.66 253.88,-188.83\"/>\n",
       "</g>\n",
       "<!-- 5 -->\n",
       "<g id=\"node6\" class=\"node\">\n",
       "<title>5</title>\n",
       "<path fill=\"#ea995e\" stroke=\"black\" d=\"M405,-187C405,-187 316,-187 316,-187 310,-187 304,-181 304,-175 304,-175 304,-116 304,-116 304,-110 310,-104 316,-104 316,-104 405,-104 405,-104 411,-104 417,-110 417,-116 417,-116 417,-175 417,-175 417,-181 411,-187 405,-187\"/>\n",
       "<text text-anchor=\"middle\" x=\"360.5\" y=\"-171.8\" font-family=\"Helvetica,sans-Serif\" font-size=\"14.00\">X[4] &lt;= &#45;4.25</text>\n",
       "<text text-anchor=\"middle\" x=\"360.5\" y=\"-156.8\" font-family=\"Helvetica,sans-Serif\" font-size=\"14.00\">gini = 0.268</text>\n",
       "<text text-anchor=\"middle\" x=\"360.5\" y=\"-141.8\" font-family=\"Helvetica,sans-Serif\" font-size=\"14.00\">samples = 88</text>\n",
       "<text text-anchor=\"middle\" x=\"360.5\" y=\"-126.8\" font-family=\"Helvetica,sans-Serif\" font-size=\"14.00\">value = [74, 14]</text>\n",
       "<text text-anchor=\"middle\" x=\"360.5\" y=\"-111.8\" font-family=\"Helvetica,sans-Serif\" font-size=\"14.00\">class = 0</text>\n",
       "</g>\n",
       "<!-- 1&#45;&gt;5 -->\n",
       "<g id=\"edge5\" class=\"edge\">\n",
       "<title>1&#45;&gt;5</title>\n",
       "<path fill=\"none\" stroke=\"black\" d=\"M360.5,-222.91C360.5,-214.65 360.5,-205.86 360.5,-197.3\"/>\n",
       "<polygon fill=\"black\" stroke=\"black\" points=\"364,-197.02 360.5,-187.02 357,-197.02 364,-197.02\"/>\n",
       "</g>\n",
       "<!-- 3 -->\n",
       "<g id=\"node4\" class=\"node\">\n",
       "<title>3</title>\n",
       "<path fill=\"#e58139\" stroke=\"black\" d=\"M101,-68C101,-68 12,-68 12,-68 6,-68 0,-62 0,-56 0,-56 0,-12 0,-12 0,-6 6,0 12,0 12,0 101,0 101,0 107,0 113,-6 113,-12 113,-12 113,-56 113,-56 113,-62 107,-68 101,-68\"/>\n",
       "<text text-anchor=\"middle\" x=\"56.5\" y=\"-52.8\" font-family=\"Helvetica,sans-Serif\" font-size=\"14.00\">gini = 0.004</text>\n",
       "<text text-anchor=\"middle\" x=\"56.5\" y=\"-37.8\" font-family=\"Helvetica,sans-Serif\" font-size=\"14.00\">samples = 934</text>\n",
       "<text text-anchor=\"middle\" x=\"56.5\" y=\"-22.8\" font-family=\"Helvetica,sans-Serif\" font-size=\"14.00\">value = [932, 2]</text>\n",
       "<text text-anchor=\"middle\" x=\"56.5\" y=\"-7.8\" font-family=\"Helvetica,sans-Serif\" font-size=\"14.00\">class = 0</text>\n",
       "</g>\n",
       "<!-- 2&#45;&gt;3 -->\n",
       "<g id=\"edge3\" class=\"edge\">\n",
       "<title>2&#45;&gt;3</title>\n",
       "<path fill=\"none\" stroke=\"black\" d=\"M136.21,-103.73C125.31,-94.33 113.74,-84.35 102.88,-74.99\"/>\n",
       "<polygon fill=\"black\" stroke=\"black\" points=\"104.98,-72.18 95.12,-68.3 100.41,-77.48 104.98,-72.18\"/>\n",
       "</g>\n",
       "<!-- 4 -->\n",
       "<g id=\"node5\" class=\"node\">\n",
       "<title>4</title>\n",
       "<path fill=\"#e78a47\" stroke=\"black\" d=\"M224,-68C224,-68 143,-68 143,-68 137,-68 131,-62 131,-56 131,-56 131,-12 131,-12 131,-6 137,0 143,0 143,0 224,0 224,0 230,0 236,-6 236,-12 236,-12 236,-56 236,-56 236,-62 230,-68 224,-68\"/>\n",
       "<text text-anchor=\"middle\" x=\"183.5\" y=\"-52.8\" font-family=\"Helvetica,sans-Serif\" font-size=\"14.00\">gini = 0.126</text>\n",
       "<text text-anchor=\"middle\" x=\"183.5\" y=\"-37.8\" font-family=\"Helvetica,sans-Serif\" font-size=\"14.00\">samples = 74</text>\n",
       "<text text-anchor=\"middle\" x=\"183.5\" y=\"-22.8\" font-family=\"Helvetica,sans-Serif\" font-size=\"14.00\">value = [69, 5]</text>\n",
       "<text text-anchor=\"middle\" x=\"183.5\" y=\"-7.8\" font-family=\"Helvetica,sans-Serif\" font-size=\"14.00\">class = 0</text>\n",
       "</g>\n",
       "<!-- 2&#45;&gt;4 -->\n",
       "<g id=\"edge4\" class=\"edge\">\n",
       "<title>2&#45;&gt;4</title>\n",
       "<path fill=\"none\" stroke=\"black\" d=\"M183.5,-103.73C183.5,-95.52 183.5,-86.86 183.5,-78.56\"/>\n",
       "<polygon fill=\"black\" stroke=\"black\" points=\"187,-78.3 183.5,-68.3 180,-78.3 187,-78.3\"/>\n",
       "</g>\n",
       "<!-- 6 -->\n",
       "<g id=\"node7\" class=\"node\">\n",
       "<title>6</title>\n",
       "<path fill=\"#399de5\" stroke=\"black\" d=\"M339,-68C339,-68 266,-68 266,-68 260,-68 254,-62 254,-56 254,-56 254,-12 254,-12 254,-6 260,0 266,0 266,0 339,0 339,0 345,0 351,-6 351,-12 351,-12 351,-56 351,-56 351,-62 345,-68 339,-68\"/>\n",
       "<text text-anchor=\"middle\" x=\"302.5\" y=\"-52.8\" font-family=\"Helvetica,sans-Serif\" font-size=\"14.00\">gini = 0.0</text>\n",
       "<text text-anchor=\"middle\" x=\"302.5\" y=\"-37.8\" font-family=\"Helvetica,sans-Serif\" font-size=\"14.00\">samples = 4</text>\n",
       "<text text-anchor=\"middle\" x=\"302.5\" y=\"-22.8\" font-family=\"Helvetica,sans-Serif\" font-size=\"14.00\">value = [0, 4]</text>\n",
       "<text text-anchor=\"middle\" x=\"302.5\" y=\"-7.8\" font-family=\"Helvetica,sans-Serif\" font-size=\"14.00\">class = 1</text>\n",
       "</g>\n",
       "<!-- 5&#45;&gt;6 -->\n",
       "<g id=\"edge6\" class=\"edge\">\n",
       "<title>5&#45;&gt;6</title>\n",
       "<path fill=\"none\" stroke=\"black\" d=\"M338.9,-103.73C334.31,-95.06 329.46,-85.9 324.84,-77.18\"/>\n",
       "<polygon fill=\"black\" stroke=\"black\" points=\"327.91,-75.5 320.14,-68.3 321.73,-78.77 327.91,-75.5\"/>\n",
       "</g>\n",
       "<!-- 7 -->\n",
       "<g id=\"node8\" class=\"node\">\n",
       "<title>7</title>\n",
       "<path fill=\"#e99254\" stroke=\"black\" d=\"M470,-68C470,-68 381,-68 381,-68 375,-68 369,-62 369,-56 369,-56 369,-12 369,-12 369,-6 375,0 381,0 381,0 470,0 470,0 476,0 482,-6 482,-12 482,-12 482,-56 482,-56 482,-62 476,-68 470,-68\"/>\n",
       "<text text-anchor=\"middle\" x=\"425.5\" y=\"-52.8\" font-family=\"Helvetica,sans-Serif\" font-size=\"14.00\">gini = 0.21</text>\n",
       "<text text-anchor=\"middle\" x=\"425.5\" y=\"-37.8\" font-family=\"Helvetica,sans-Serif\" font-size=\"14.00\">samples = 84</text>\n",
       "<text text-anchor=\"middle\" x=\"425.5\" y=\"-22.8\" font-family=\"Helvetica,sans-Serif\" font-size=\"14.00\">value = [74, 10]</text>\n",
       "<text text-anchor=\"middle\" x=\"425.5\" y=\"-7.8\" font-family=\"Helvetica,sans-Serif\" font-size=\"14.00\">class = 0</text>\n",
       "</g>\n",
       "<!-- 5&#45;&gt;7 -->\n",
       "<g id=\"edge7\" class=\"edge\">\n",
       "<title>5&#45;&gt;7</title>\n",
       "<path fill=\"none\" stroke=\"black\" d=\"M384.7,-103.73C389.9,-94.97 395.4,-85.7 400.62,-76.91\"/>\n",
       "<polygon fill=\"black\" stroke=\"black\" points=\"403.64,-78.69 405.73,-68.3 397.62,-75.11 403.64,-78.69\"/>\n",
       "</g>\n",
       "<!-- 9 -->\n",
       "<g id=\"node10\" class=\"node\">\n",
       "<title>9</title>\n",
       "<path fill=\"#5fb0ea\" stroke=\"black\" d=\"M682,-187C682,-187 571,-187 571,-187 565,-187 559,-181 559,-175 559,-175 559,-116 559,-116 559,-110 565,-104 571,-104 571,-104 682,-104 682,-104 688,-104 694,-110 694,-116 694,-116 694,-175 694,-175 694,-181 688,-187 682,-187\"/>\n",
       "<text text-anchor=\"middle\" x=\"626.5\" y=\"-171.8\" font-family=\"Helvetica,sans-Serif\" font-size=\"14.00\">X[3] &lt;= &#45;2.438</text>\n",
       "<text text-anchor=\"middle\" x=\"626.5\" y=\"-156.8\" font-family=\"Helvetica,sans-Serif\" font-size=\"14.00\">gini = 0.269</text>\n",
       "<text text-anchor=\"middle\" x=\"626.5\" y=\"-141.8\" font-family=\"Helvetica,sans-Serif\" font-size=\"14.00\">samples = 2520</text>\n",
       "<text text-anchor=\"middle\" x=\"626.5\" y=\"-126.8\" font-family=\"Helvetica,sans-Serif\" font-size=\"14.00\">value = [403, 2117]</text>\n",
       "<text text-anchor=\"middle\" x=\"626.5\" y=\"-111.8\" font-family=\"Helvetica,sans-Serif\" font-size=\"14.00\">class = 1</text>\n",
       "</g>\n",
       "<!-- 8&#45;&gt;9 -->\n",
       "<g id=\"edge9\" class=\"edge\">\n",
       "<title>8&#45;&gt;9</title>\n",
       "<path fill=\"none\" stroke=\"black\" d=\"M626.5,-222.91C626.5,-214.65 626.5,-205.86 626.5,-197.3\"/>\n",
       "<polygon fill=\"black\" stroke=\"black\" points=\"630,-197.02 626.5,-187.02 623,-197.02 630,-197.02\"/>\n",
       "</g>\n",
       "<!-- 12 -->\n",
       "<g id=\"node13\" class=\"node\">\n",
       "<title>12</title>\n",
       "<path fill=\"#e68844\" stroke=\"black\" d=\"M890.5,-187C890.5,-187 794.5,-187 794.5,-187 788.5,-187 782.5,-181 782.5,-175 782.5,-175 782.5,-116 782.5,-116 782.5,-110 788.5,-104 794.5,-104 794.5,-104 890.5,-104 890.5,-104 896.5,-104 902.5,-110 902.5,-116 902.5,-116 902.5,-175 902.5,-175 902.5,-181 896.5,-187 890.5,-187\"/>\n",
       "<text text-anchor=\"middle\" x=\"842.5\" y=\"-171.8\" font-family=\"Helvetica,sans-Serif\" font-size=\"14.00\">X[6] &lt;= 1.062</text>\n",
       "<text text-anchor=\"middle\" x=\"842.5\" y=\"-156.8\" font-family=\"Helvetica,sans-Serif\" font-size=\"14.00\">gini = 0.099</text>\n",
       "<text text-anchor=\"middle\" x=\"842.5\" y=\"-141.8\" font-family=\"Helvetica,sans-Serif\" font-size=\"14.00\">samples = 743</text>\n",
       "<text text-anchor=\"middle\" x=\"842.5\" y=\"-126.8\" font-family=\"Helvetica,sans-Serif\" font-size=\"14.00\">value = [704, 39]</text>\n",
       "<text text-anchor=\"middle\" x=\"842.5\" y=\"-111.8\" font-family=\"Helvetica,sans-Serif\" font-size=\"14.00\">class = 0</text>\n",
       "</g>\n",
       "<!-- 8&#45;&gt;12 -->\n",
       "<g id=\"edge12\" class=\"edge\">\n",
       "<title>8&#45;&gt;12</title>\n",
       "<path fill=\"none\" stroke=\"black\" d=\"M698.12,-224.7C722.3,-211.61 749.23,-197.02 773.22,-184.03\"/>\n",
       "<polygon fill=\"black\" stroke=\"black\" points=\"775.13,-186.97 782.25,-179.13 771.79,-180.82 775.13,-186.97\"/>\n",
       "</g>\n",
       "<!-- 10 -->\n",
       "<g id=\"node11\" class=\"node\">\n",
       "<title>10</title>\n",
       "<path fill=\"#f2c2a0\" stroke=\"black\" d=\"M601,-68C601,-68 512,-68 512,-68 506,-68 500,-62 500,-56 500,-56 500,-12 500,-12 500,-6 506,0 512,0 512,0 601,0 601,0 607,0 613,-6 613,-12 613,-12 613,-56 613,-56 613,-62 607,-68 601,-68\"/>\n",
       "<text text-anchor=\"middle\" x=\"556.5\" y=\"-52.8\" font-family=\"Helvetica,sans-Serif\" font-size=\"14.00\">gini = 0.45</text>\n",
       "<text text-anchor=\"middle\" x=\"556.5\" y=\"-37.8\" font-family=\"Helvetica,sans-Serif\" font-size=\"14.00\">samples = 85</text>\n",
       "<text text-anchor=\"middle\" x=\"556.5\" y=\"-22.8\" font-family=\"Helvetica,sans-Serif\" font-size=\"14.00\">value = [56, 29]</text>\n",
       "<text text-anchor=\"middle\" x=\"556.5\" y=\"-7.8\" font-family=\"Helvetica,sans-Serif\" font-size=\"14.00\">class = 0</text>\n",
       "</g>\n",
       "<!-- 9&#45;&gt;10 -->\n",
       "<g id=\"edge10\" class=\"edge\">\n",
       "<title>9&#45;&gt;10</title>\n",
       "<path fill=\"none\" stroke=\"black\" d=\"M600.43,-103.73C594.84,-94.97 588.91,-85.7 583.29,-76.91\"/>\n",
       "<polygon fill=\"black\" stroke=\"black\" points=\"586.12,-74.84 577.79,-68.3 580.22,-78.61 586.12,-74.84\"/>\n",
       "</g>\n",
       "<!-- 11 -->\n",
       "<g id=\"node12\" class=\"node\">\n",
       "<title>11</title>\n",
       "<path fill=\"#5aade9\" stroke=\"black\" d=\"M755.5,-68C755.5,-68 643.5,-68 643.5,-68 637.5,-68 631.5,-62 631.5,-56 631.5,-56 631.5,-12 631.5,-12 631.5,-6 637.5,0 643.5,0 643.5,0 755.5,0 755.5,0 761.5,0 767.5,-6 767.5,-12 767.5,-12 767.5,-56 767.5,-56 767.5,-62 761.5,-68 755.5,-68\"/>\n",
       "<text text-anchor=\"middle\" x=\"699.5\" y=\"-52.8\" font-family=\"Helvetica,sans-Serif\" font-size=\"14.00\">gini = 0.244</text>\n",
       "<text text-anchor=\"middle\" x=\"699.5\" y=\"-37.8\" font-family=\"Helvetica,sans-Serif\" font-size=\"14.00\">samples = 2435</text>\n",
       "<text text-anchor=\"middle\" x=\"699.5\" y=\"-22.8\" font-family=\"Helvetica,sans-Serif\" font-size=\"14.00\">value = [347, 2088]</text>\n",
       "<text text-anchor=\"middle\" x=\"699.5\" y=\"-7.8\" font-family=\"Helvetica,sans-Serif\" font-size=\"14.00\">class = 1</text>\n",
       "</g>\n",
       "<!-- 9&#45;&gt;11 -->\n",
       "<g id=\"edge11\" class=\"edge\">\n",
       "<title>9&#45;&gt;11</title>\n",
       "<path fill=\"none\" stroke=\"black\" d=\"M653.68,-103.73C659.58,-94.88 665.83,-85.51 671.75,-76.63\"/>\n",
       "<polygon fill=\"black\" stroke=\"black\" points=\"674.67,-78.56 677.3,-68.3 668.84,-74.68 674.67,-78.56\"/>\n",
       "</g>\n",
       "<!-- 13 -->\n",
       "<g id=\"node14\" class=\"node\">\n",
       "<title>13</title>\n",
       "<path fill=\"#f2c29f\" stroke=\"black\" d=\"M887,-68C887,-68 798,-68 798,-68 792,-68 786,-62 786,-56 786,-56 786,-12 786,-12 786,-6 792,0 798,0 798,0 887,0 887,0 893,0 899,-6 899,-12 899,-12 899,-56 899,-56 899,-62 893,-68 887,-68\"/>\n",
       "<text text-anchor=\"middle\" x=\"842.5\" y=\"-52.8\" font-family=\"Helvetica,sans-Serif\" font-size=\"14.00\">gini = 0.449</text>\n",
       "<text text-anchor=\"middle\" x=\"842.5\" y=\"-37.8\" font-family=\"Helvetica,sans-Serif\" font-size=\"14.00\">samples = 53</text>\n",
       "<text text-anchor=\"middle\" x=\"842.5\" y=\"-22.8\" font-family=\"Helvetica,sans-Serif\" font-size=\"14.00\">value = [35, 18]</text>\n",
       "<text text-anchor=\"middle\" x=\"842.5\" y=\"-7.8\" font-family=\"Helvetica,sans-Serif\" font-size=\"14.00\">class = 0</text>\n",
       "</g>\n",
       "<!-- 12&#45;&gt;13 -->\n",
       "<g id=\"edge13\" class=\"edge\">\n",
       "<title>12&#45;&gt;13</title>\n",
       "<path fill=\"none\" stroke=\"black\" d=\"M842.5,-103.73C842.5,-95.52 842.5,-86.86 842.5,-78.56\"/>\n",
       "<polygon fill=\"black\" stroke=\"black\" points=\"846,-78.3 842.5,-68.3 839,-78.3 846,-78.3\"/>\n",
       "</g>\n",
       "<!-- 14 -->\n",
       "<g id=\"node15\" class=\"node\">\n",
       "<title>14</title>\n",
       "<path fill=\"#e6853f\" stroke=\"black\" d=\"M1025.5,-68C1025.5,-68 929.5,-68 929.5,-68 923.5,-68 917.5,-62 917.5,-56 917.5,-56 917.5,-12 917.5,-12 917.5,-6 923.5,0 929.5,0 929.5,0 1025.5,0 1025.5,0 1031.5,0 1037.5,-6 1037.5,-12 1037.5,-12 1037.5,-56 1037.5,-56 1037.5,-62 1031.5,-68 1025.5,-68\"/>\n",
       "<text text-anchor=\"middle\" x=\"977.5\" y=\"-52.8\" font-family=\"Helvetica,sans-Serif\" font-size=\"14.00\">gini = 0.059</text>\n",
       "<text text-anchor=\"middle\" x=\"977.5\" y=\"-37.8\" font-family=\"Helvetica,sans-Serif\" font-size=\"14.00\">samples = 690</text>\n",
       "<text text-anchor=\"middle\" x=\"977.5\" y=\"-22.8\" font-family=\"Helvetica,sans-Serif\" font-size=\"14.00\">value = [669, 21]</text>\n",
       "<text text-anchor=\"middle\" x=\"977.5\" y=\"-7.8\" font-family=\"Helvetica,sans-Serif\" font-size=\"14.00\">class = 0</text>\n",
       "</g>\n",
       "<!-- 12&#45;&gt;14 -->\n",
       "<g id=\"edge14\" class=\"edge\">\n",
       "<title>12&#45;&gt;14</title>\n",
       "<path fill=\"none\" stroke=\"black\" d=\"M892.77,-103.73C904.46,-94.24 916.9,-84.16 928.54,-74.72\"/>\n",
       "<polygon fill=\"black\" stroke=\"black\" points=\"930.88,-77.32 936.45,-68.3 926.47,-71.88 930.88,-77.32\"/>\n",
       "</g>\n",
       "</g>\n",
       "</svg>\n"
      ],
      "text/plain": [
       "<graphviz.files.Source at 0x7f8ade3b54d0>"
      ]
     },
     "execution_count": 26,
     "metadata": {},
     "output_type": "execute_result"
    }
   ],
   "source": [
    "from sklearn import tree\n",
    "import graphviz \n",
    "dot_data = tree.export_graphviz(dt_clf_simple, out_file=None, filled=True, rounded=True, class_names=['0', '1'])  \n",
    "graph = graphviz.Source(dot_data) \n",
    "graph"
   ]
  },
  {
   "cell_type": "markdown",
   "metadata": {
    "deletable": false,
    "editable": false,
    "nbgrader": {
     "cell_type": "markdown",
     "checksum": "8de6d9d01e791326f701de0697902970",
     "grade": false,
     "grade_id": "cell-3273989405b4ba1b",
     "locked": true,
     "schema_version": 3,
     "solution": false,
     "task": false
    }
   },
   "source": [
    "Hopefully you'll come to a similar conclusion than with manual inspection."
   ]
  },
  {
   "cell_type": "code",
   "execution_count": 27,
   "metadata": {
    "deletable": false,
    "nbgrader": {
     "cell_type": "code",
     "checksum": "7f273ccf4b1b5433c21f362b5b3edf33",
     "grade": false,
     "grade_id": "cell-97fc4c0d0ac0c06c",
     "locked": false,
     "schema_version": 3,
     "solution": true,
     "task": false
    }
   },
   "outputs": [],
   "source": [
    "feat_1 = 4 #42 is obviously nonsense, replace by the correct feature\n",
    "feat_2 = 6 # ensure that feat_1 < feat_2\n",
    "\n"
   ]
  },
  {
   "cell_type": "code",
   "execution_count": null,
   "metadata": {
    "deletable": false,
    "editable": false,
    "nbgrader": {
     "cell_type": "code",
     "checksum": "58c370e7543d08a5da820686857b1bae",
     "grade": true,
     "grade_id": "cell-7ab1d153fa98eb3d",
     "locked": true,
     "points": 1,
     "schema_version": 3,
     "solution": false,
     "task": false
    }
   },
   "outputs": [],
   "source": []
  },
  {
   "cell_type": "markdown",
   "metadata": {
    "deletable": false,
    "editable": false,
    "nbgrader": {
     "cell_type": "markdown",
     "checksum": "af5c090503675318cd0169814c8124e1",
     "grade": false,
     "grade_id": "cell-7bff6afb2c3b922a",
     "locked": true,
     "schema_version": 3,
     "solution": false,
     "task": false
    }
   },
   "source": [
    "**1.09)** One of the features is clearly dominant. Which other feature to use is a bit less clear cut. In any case, to select the other one, use the one with the lower number. We are next going to look at SVMs. Those work best with small to medium data sets.\n",
    "\n",
    "Create a new subset of the averaged data (`X_binary_subset` and `y_binary_subset`) containing only the 2 features you chose and only every 3rd sample."
   ]
  },
  {
   "cell_type": "code",
   "execution_count": 28,
   "metadata": {
    "deletable": false,
    "nbgrader": {
     "cell_type": "code",
     "checksum": "df6d8dd8937fd43dd774b3c5f1706881",
     "grade": false,
     "grade_id": "cell-a6be45f64a76f37a",
     "locked": false,
     "schema_version": 3,
     "solution": true,
     "task": false
    }
   },
   "outputs": [],
   "source": [
    "# YOUR CODE HERE\n",
    "X_binary_subset = X_binary_avg[::3,[3,6]]\n",
    "y_binary_subset = y_binary[::3]\n"
   ]
  },
  {
   "cell_type": "code",
   "execution_count": 29,
   "metadata": {
    "deletable": false,
    "editable": false,
    "nbgrader": {
     "cell_type": "code",
     "checksum": "be4d74f2ccc5a72b8c27daff0fdc7f8e",
     "grade": true,
     "grade_id": "cell-53c8681590e84abb",
     "locked": true,
     "points": 1,
     "schema_version": 3,
     "solution": false,
     "task": false
    }
   },
   "outputs": [],
   "source": [
    "assert X_binary_subset.shape[0] == 1938\n",
    "assert y_binary_subset.shape[0] == 1938\n",
    "assert X_binary_subset.shape[1] == 2\n",
    "assert X_binary_subset[0,0] == 0.5\n",
    "assert X_binary_subset[1937,0] == -0.375\n",
    "assert y_binary_subset[1937] == 1"
   ]
  },
  {
   "cell_type": "code",
   "execution_count": 30,
   "metadata": {},
   "outputs": [],
   "source": [
    "#if you are stuck here, uncomment the lines below to load variables\n",
    "\n",
    "#npzfile = np.load('./get_unstuck/binary_subset.npz')\n",
    "#X_binary_subset = npzfile['X_binary_subset']\n",
    "#y_binary_subset = npzfile['y_binary_subset']"
   ]
  },
  {
   "cell_type": "markdown",
   "metadata": {
    "deletable": false,
    "editable": false,
    "nbgrader": {
     "cell_type": "markdown",
     "checksum": "233acd28741088c360e15f20e4cc5957",
     "grade": false,
     "grade_id": "cell-dfafa226001ccddf",
     "locked": true,
     "schema_version": 3,
     "solution": false,
     "task": false
    }
   },
   "source": [
    "Again some setup of the data etc."
   ]
  },
  {
   "cell_type": "code",
   "execution_count": 31,
   "metadata": {
    "deletable": false,
    "editable": false,
    "nbgrader": {
     "cell_type": "code",
     "checksum": "363f4f85c9d5a490b7041aa2ccb4001f",
     "grade": false,
     "grade_id": "cell-9c07530ece09be9d",
     "locked": true,
     "schema_version": 3,
     "solution": false,
     "task": false
    }
   },
   "outputs": [],
   "source": [
    "# Splitting the dataset into the Training set and Test set\n",
    "from sklearn.model_selection import train_test_split\n",
    "X_subset_train, X_subset_test, y_subset_train, y_subset_test = train_test_split(X_binary_subset, y_binary_subset, test_size=0.25, random_state=0)\n",
    "\n",
    "axes_subset = np.array([X_binary_subset[:, 0].min() - 1, X_binary_subset[:, 0].max() + 1, X_binary_subset[:, 1].min() - 1, X_binary_subset[:, 1].max() + 1])\n"
   ]
  },
  {
   "cell_type": "markdown",
   "metadata": {
    "deletable": false,
    "editable": false,
    "nbgrader": {
     "cell_type": "markdown",
     "checksum": "855210e7533955528bbe57b95c0c89b7",
     "grade": false,
     "grade_id": "cell-c9cbb9b65ecddb46",
     "locked": true,
     "schema_version": 3,
     "solution": false,
     "task": false
    }
   },
   "source": [
    "**1.10)** Here is a random forest classifier to see how well we can still perform on this very reduced dataset."
   ]
  },
  {
   "cell_type": "code",
   "execution_count": 32,
   "metadata": {
    "deletable": false,
    "editable": false,
    "nbgrader": {
     "cell_type": "code",
     "checksum": "b2a6428524fc904c0e4e5d47a58d037d",
     "grade": false,
     "grade_id": "cell-6101f91405275b03",
     "locked": true,
     "schema_version": 3,
     "solution": false,
     "task": false
    }
   },
   "outputs": [
    {
     "name": "stdout",
     "output_type": "stream",
     "text": [
      "rf accuracy score: 0.9010309278350516\n",
      "rf confusion matrix:\n",
      " [[221  26]\n",
      " [ 22 216]]\n"
     ]
    },
    {
     "data": {
      "image/png": "[encoded data removed]",
      "text/plain": [
       "<Figure size 432x288 with 1 Axes>"
      ]
     },
     "metadata": {
      "needs_background": "light"
     },
     "output_type": "display_data"
    }
   ],
   "source": [
    "# Defining and fitting mutliple classifiers\n",
    "from sklearn.ensemble import RandomForestClassifier\n",
    "\n",
    "rf_clf_subset = RandomForestClassifier(random_state=0)\n",
    "rf_clf_subset.fit(X_subset_train, y_subset_train)\n",
    "\n",
    "# Predicting the Test set results\n",
    "rf_y_subset_pred = rf_clf_subset.predict(X_subset_test)\n",
    "\n",
    "print_accuracy_confusion(y_subset_test, rf_y_subset_pred, 'rf')\n",
    "plot_feature_space_function(rf_clf_subset.predict, X_binary_subset, y_binary_subset, axes_subset)"
   ]
  },
  {
   "cell_type": "markdown",
   "metadata": {
    "deletable": false,
    "editable": false,
    "nbgrader": {
     "cell_type": "markdown",
     "checksum": "d2fe2fce28b24bcdba2c1013b7dfdb33",
     "grade": false,
     "grade_id": "cell-6b3d2a4fa4325887",
     "locked": true,
     "schema_version": 3,
     "solution": false,
     "task": false
    }
   },
   "source": [
    "**1.11)** We can still do surprisingly well compared to the full dataset, even though we have drastically reduced the number of features.\n",
    "\n",
    "Now create an non-linear SVM classifier `svm_clf_subset` that beats the random forest classifier in terms of accuracy."
   ]
  },
  {
   "cell_type": "code",
   "execution_count": 33,
   "metadata": {
    "deletable": false,
    "nbgrader": {
     "cell_type": "code",
     "checksum": "13ebfd8fc866c7a522686b363ba53a2e",
     "grade": false,
     "grade_id": "cell-2304532fe44da893",
     "locked": false,
     "schema_version": 3,
     "solution": true,
     "task": false
    }
   },
   "outputs": [
    {
     "name": "stdout",
     "output_type": "stream",
     "text": [
      "485\n",
      "svm accuracy score: 0.9237113402061856\n",
      "svm confusion matrix:\n",
      " [[215  32]\n",
      " [  5 233]]\n"
     ]
    },
    {
     "data": {
      "image/png": "[encoded data removed]",
      "text/plain": [
       "<Figure size 432x288 with 1 Axes>"
      ]
     },
     "metadata": {
      "needs_background": "light"
     },
     "output_type": "display_data"
    }
   ],
   "source": [
    "# YOUR CODE HERE\n",
    "from sklearn.svm import SVC\n",
    "from sklearn.pipeline import Pipeline \n",
    "\n",
    "svm_clf_subset = Pipeline([(\"scaler\", StandardScaler()),\n",
    "                          (\"svm_clf\",SVC(kernel=\"poly\",degree =2,coef0=1,C=100))])\n",
    "svm_clf_subset.fit(X_subset_train, y_subset_train)\n",
    "svm_y_subset_pred = svm_clf_subset.predict(X_subset_test)\n",
    "\n",
    "print(len(svm_y_subset_pred))\n",
    "\n",
    "print_accuracy_confusion(y_subset_test, svm_y_subset_pred, 'svm')\n",
    "plot_feature_space_function(svm_clf_subset.predict, X_binary_subset, y_binary_subset, axes_subset)\n"
   ]
  },
  {
   "cell_type": "code",
   "execution_count": 34,
   "metadata": {
    "deletable": false,
    "editable": false,
    "nbgrader": {
     "cell_type": "code",
     "checksum": "a8c34bc2d8164fb7d5b8ce6b86cc519f",
     "grade": true,
     "grade_id": "cell-9311bb578419ce2a",
     "locked": true,
     "points": 2,
     "schema_version": 3,
     "solution": false,
     "task": false
    }
   },
   "outputs": [],
   "source": [
    "assert accuracy_score(y_subset_test, svm_y_subset_pred) > 0.90103"
   ]
  },
  {
   "cell_type": "markdown",
   "metadata": {},
   "source": [
    "### 2) Re-implemeting a linear SVM classifier\n",
    "Next we are going to re-implement a linear SVM. As the data above can clearly not be separated by a linear decision boundary, we'll transform it once more. This obviously does not remove the overlap of the classes. Finally, the definition of an SVM expects labels/targets with -1 for one class and +1 for the other, so we also change the labels accordingly."
   ]
  },
  {
   "cell_type": "code",
   "execution_count": 35,
   "metadata": {
    "deletable": false,
    "editable": false,
    "nbgrader": {
     "cell_type": "code",
     "checksum": "48fcdb72c03e4642d667a87a79e6a363",
     "grade": false,
     "grade_id": "cell-3892615979f61539",
     "locked": true,
     "schema_version": 3,
     "solution": false,
     "task": false
    }
   },
   "outputs": [
    {
     "data": {
      "image/png": "[encoded data removed]",
      "text/plain": [
       "<Figure size 432x288 with 1 Axes>"
      ]
     },
     "metadata": {
      "needs_background": "light"
     },
     "output_type": "display_data"
    }
   ],
   "source": [
    "X_lin = np.abs(X_binary_subset)\n",
    "y_lin = 2.*y_binary_subset - 1.\n",
    "\n",
    "plot_data(np.abs(X_lin), y_lin, 0, 1, -1, 1)\n",
    "plt.title('Absolute value')\n",
    "\n",
    "# Splitting the dataset into the Training set and Test set\n",
    "from sklearn.model_selection import train_test_split\n",
    "X_train, X_test, y_train, y_test = train_test_split(X_lin, y_lin, test_size = 0.25, random_state = 0)\n",
    "\n",
    "axes = np.array([X_lin[:, 0].min() - 1, X_lin[:, 0].max() + 1, X_lin[:, 1].min() - 1, X_lin[:, 1].max() + 1])"
   ]
  },
  {
   "cell_type": "markdown",
   "metadata": {
    "deletable": false,
    "editable": false,
    "nbgrader": {
     "cell_type": "markdown",
     "checksum": "19a03cfc5c07c93d03c5271ff614c42c",
     "grade": false,
     "grade_id": "cell-28cffd0caba7b9c6",
     "locked": true,
     "schema_version": 3,
     "solution": false,
     "task": false
    }
   },
   "source": [
    "**2.01)** Before testing SVMs, let's see how well linear classifiers do now..."
   ]
  },
  {
   "cell_type": "code",
   "execution_count": 36,
   "metadata": {
    "deletable": false,
    "editable": false,
    "nbgrader": {
     "cell_type": "code",
     "checksum": "8b21e79389add1ea6d99b06ea0bb3440",
     "grade": false,
     "grade_id": "cell-53a17ab3c2f57d34",
     "locked": true,
     "schema_version": 3,
     "solution": false,
     "task": false
    }
   },
   "outputs": [
    {
     "name": "stdout",
     "output_type": "stream",
     "text": [
      "sgd accuracy score: 0.845360824742268\n",
      "sgd confusion matrix:\n",
      " [[228  19]\n",
      " [ 56 182]]\n"
     ]
    },
    {
     "data": {
      "image/png": "[encoded data removed]",
      "text/plain": [
       "<Figure size 432x288 with 1 Axes>"
      ]
     },
     "metadata": {
      "needs_background": "light"
     },
     "output_type": "display_data"
    }
   ],
   "source": [
    "from sklearn.linear_model import SGDClassifier\n",
    "sgd_clf = SGDClassifier(random_state=0)\n",
    "sgd_clf.fit(X_train, y_train);\n",
    "sgd_y_pred = sgd_clf.predict(X_test)\n",
    "print_accuracy_confusion(y_test, sgd_y_pred, 'sgd')\n",
    "plot_feature_space_function(sgd_clf.predict, X_lin, y_lin, axes, -1 ,1)"
   ]
  },
  {
   "cell_type": "markdown",
   "metadata": {
    "deletable": false,
    "editable": false,
    "nbgrader": {
     "cell_type": "markdown",
     "checksum": "40cbb3d7883d6816a609dca245cc2aed",
     "grade": false,
     "grade_id": "cell-eab3cadb2c452ba9",
     "locked": true,
     "schema_version": 3,
     "solution": false,
     "task": false
    }
   },
   "source": [
    "Actually a lot better than on the initial dataset...\n",
    "\n",
    "**2.02)** Now, before implementing an SVM, let's test with an sklearn linear SVM (using a linear kernel achieves the same as using LinearSVC, but this way of doing it gives us access to the support vectors). We'll compare our own implementation to this one later on."
   ]
  },
  {
   "cell_type": "code",
   "execution_count": 37,
   "metadata": {
    "deletable": false,
    "editable": false,
    "nbgrader": {
     "cell_type": "code",
     "checksum": "273d6c69b4d2391eb9e2f497b33a8629",
     "grade": false,
     "grade_id": "cell-17f604f7187ba43b",
     "locked": true,
     "schema_version": 3,
     "solution": false,
     "task": false
    }
   },
   "outputs": [
    {
     "name": "stdout",
     "output_type": "stream",
     "text": [
      "lin_svm accuracy score: 0.8907216494845361\n",
      "lin_svm confusion matrix:\n",
      " [[202  45]\n",
      " [  8 230]]\n"
     ]
    },
    {
     "data": {
      "text/plain": [
       "<matplotlib.legend.Legend at 0x7f8ae8d8cd90>"
      ]
     },
     "execution_count": 37,
     "metadata": {},
     "output_type": "execute_result"
    },
    {
     "data": {
      "image/png": "[encoded data removed]",
      "text/plain": [
       "<Figure size 432x288 with 1 Axes>"
      ]
     },
     "metadata": {
      "needs_background": "light"
     },
     "output_type": "display_data"
    }
   ],
   "source": [
    "from sklearn.svm import SVC\n",
    "lin_svm_clf = SVC(kernel=\"linear\", C=2)\n",
    "lin_svm_clf.fit(X_train, y_train)\n",
    "lin_svm_y_pred = lin_svm_clf.predict(X_test)\n",
    "\n",
    "print_accuracy_confusion(y_test, lin_svm_y_pred, 'lin_svm')\n",
    "plot_feature_space_function(lin_svm_clf.predict, X_lin, y_lin, axes, -1, 1)\n",
    "svs = lin_svm_clf.support_vectors_\n",
    "plt.scatter(svs[:, 0], svs[:, 1], s=1, facecolors='#009900', label='support vectors')\n",
    "plt.legend()"
   ]
  },
  {
   "cell_type": "markdown",
   "metadata": {
    "deletable": false,
    "editable": false,
    "nbgrader": {
     "cell_type": "markdown",
     "checksum": "3fb08b44a59be25b8cc0d3e0c74ca81e",
     "grade": false,
     "grade_id": "cell-9ba0f8b1c083f050",
     "locked": true,
     "schema_version": 3,
     "solution": false,
     "task": false
    }
   },
   "source": [
    "**2.03)** Is the data linearly separable?\n",
    "Do we hence use a hard margin or a soft margin SVM?"
   ]
  },
  {
   "cell_type": "code",
   "execution_count": 38,
   "metadata": {
    "deletable": false,
    "nbgrader": {
     "cell_type": "code",
     "checksum": "d180d5356076108d60aca472de7851d4",
     "grade": false,
     "grade_id": "cell-6936a4bdba0b0d19",
     "locked": false,
     "schema_version": 3,
     "solution": true,
     "task": false
    }
   },
   "outputs": [],
   "source": [
    "#uncomment the correct answers\n",
    "\n",
    "#linearly_separable = 'yes'\n",
    "linearly_separable = 'no'\n",
    "\n",
    "#SVM_margin = 'hard'\n",
    "SVM_margin = 'soft'\n",
    "\n",
    "# YOUR CODE HERE\n"
   ]
  },
  {
   "cell_type": "code",
   "execution_count": null,
   "metadata": {
    "deletable": false,
    "editable": false,
    "nbgrader": {
     "cell_type": "code",
     "checksum": "3979ef877a29c1af5935cde6f15f48c2",
     "grade": true,
     "grade_id": "cell-c498612561b2cd60",
     "locked": true,
     "points": 1,
     "schema_version": 3,
     "solution": false,
     "task": false
    }
   },
   "outputs": [],
   "source": []
  },
  {
   "cell_type": "code",
   "execution_count": 39,
   "metadata": {},
   "outputs": [
    {
     "name": "stdout",
     "output_type": "stream",
     "text": [
      "[[0.    1.125]\n",
      " [0.25  5.25 ]\n",
      " [0.    3.25 ]\n",
      " ...\n",
      " [1.5   1.   ]\n",
      " [1.    3.875]\n",
      " [0.    0.75 ]]\n"
     ]
    }
   ],
   "source": [
    "print(X_train)"
   ]
  },
  {
   "cell_type": "markdown",
   "metadata": {
    "deletable": false,
    "editable": false,
    "nbgrader": {
     "cell_type": "markdown",
     "checksum": "944401f115a71ac9bfa34a173ced23f7",
     "grade": false,
     "grade_id": "cell-18630899c33c7443",
     "locked": true,
     "schema_version": 3,
     "solution": false,
     "task": false
    }
   },
   "source": [
    "**2.04) Linear SVM implementation:**  We are using CVXOPT to solve the Quadratic Programming (QP) problem. According to https://cvxopt.org/userguide/coneprog.html#quadratic-programming the optimization problem needs to be in the following form\n",
    "\n",
    "$$\\begin{array}[t]{ll}\\mbox{minimize} & (1/2) x^TPx + q^T x \\\\\\mbox{subject to} & Gx \\preceq h \\\\ & Ax = b\\end{array}$$\n",
    "\n",
    "with the corresponding API\n",
    "`cvxopt.solvers.qp(P, q[, G, h[, A, b[, solver[, initvals]]]])`\n",
    "\n",
    "The dual form of the **hard margin** linear SVM objective is (page 169 of the book)\n",
    "\n",
    "$$\\underset{\\alpha}{\\mbox{minimize}} \\hspace{0.2cm} \\frac{1}{2} \\sum_{i}^m \\sum_{j}^m \\alpha^{(i)}\\alpha^{(j)}t^{(i)}t^{(j)}\\mathbf{x}^{(i)\\mathsf{T}}\\mathbf{x}^{(j)}  - \\sum_{i=1}^m \\alpha^{(i)}$$\n",
    "$$\\begin{array} \\\\\\mbox{subject to} & \\alpha^{(i)} \\geq 0 \\\\ & \\sum_i^m \\alpha^{(i)} t^{(i)} = 0\\end{array}$$\n",
    "\n",
    "Rewriting the SVM objective in vector/matrix form, and changing the constraint to the correct form, we get\n",
    "\n",
    "$$\\hspace{1.3cm}\\underset{\\alpha}{\\mbox{minimize}} \\hspace{0.4cm} \\frac{1}{2} \\boldsymbol{\\alpha}^{\\mathsf{T}} \\mathbf{H} \\boldsymbol{\\alpha} -  \\mathbf{1}^{\\mathsf{T}}\\boldsymbol{\\alpha}$$\n",
    "$$\\begin{array}\\\\\\mbox{subject to} & -\\boldsymbol{\\alpha} \\leq \\boldsymbol{0} \\\\ & \\mathbf{t}^{\\mathsf{T}}\\boldsymbol{\\alpha} = 0 \\end{array}$$\n",
    "where matrix $\\mathbf{H}$ has elements $H_{i,j} = t^{(i)}t^{(j)}\\mathbf{x}^{(i)\\mathsf{T}}\\mathbf{x}^{(j)}$\n",
    "\n",
    "<!-- we additionally know that $\\sum_i^m \\alpha^{(i)} t^{(i)} = 0 $ (page 763) which can be rewritten to $\\ \\mathbf{t}^{\\mathsf{T}}\\boldsymbol{\\alpha} = 0 $ -->"
   ]
  },
  {
   "cell_type": "markdown",
   "metadata": {
    "deletable": false,
    "editable": false,
    "nbgrader": {
     "cell_type": "markdown",
     "checksum": "095f8052902eb234b3f4d891074d5143",
     "grade": false,
     "grade_id": "cell-11df6664af20d70d",
     "locked": true,
     "schema_version": 3,
     "solution": false,
     "task": false
    }
   },
   "source": [
    "Map the terms from the SVM objective to the CVXOPT syntax"
   ]
  },
  {
   "cell_type": "code",
   "execution_count": 40,
   "metadata": {
    "deletable": false,
    "nbgrader": {
     "cell_type": "code",
     "checksum": "dc178cbba96e7ff9e7541f1d0e4cb6aa",
     "grade": false,
     "grade_id": "cell-019330c6e32789d9",
     "locked": false,
     "schema_version": 3,
     "solution": true,
     "task": false
    }
   },
   "outputs": [],
   "source": [
    "# use 'alpha', 'H', 't transposed', 'ones', 'identity', 'zero', 'zeros'\n",
    "# for negtive values '-alpha' etc.\n",
    "x = 'alpha'\n",
    "P = 'H'\n",
    "q = 'ones'\n",
    "G = '-identity'\n",
    "h = 'zeros'\n",
    "A = 't transposed'\n",
    "b = 'zero'\n"
   ]
  },
  {
   "cell_type": "code",
   "execution_count": null,
   "metadata": {
    "deletable": false,
    "editable": false,
    "nbgrader": {
     "cell_type": "code",
     "checksum": "0eac50bff4e4f6d0694806a0aeca7509",
     "grade": true,
     "grade_id": "cell-3c4be1b71c0d205e",
     "locked": true,
     "points": 2,
     "schema_version": 3,
     "solution": false,
     "task": false
    }
   },
   "outputs": [],
   "source": []
  },
  {
   "cell_type": "markdown",
   "metadata": {
    "deletable": false,
    "editable": false,
    "nbgrader": {
     "cell_type": "markdown",
     "checksum": "9b7702a1682012ca7557406a975b8232",
     "grade": false,
     "grade_id": "cell-b5fb1c4ed0c65b4c",
     "locked": true,
     "schema_version": 3,
     "solution": false,
     "task": false
    }
   },
   "source": [
    "**2.05)** For the **soft margin** linear SVM the constraint changes to $C \\geq \\alpha^{(i)} \\geq 0$ so we get\n",
    "$$\n",
    "\\begin{aligned}\n",
    "    \\min_{\\alpha} & \\frac{1}{2} \\boldsymbol{\\alpha}^{\\mathsf{T}} \\mathbf{H} \\boldsymbol{\\alpha} -  \\mathbf{1}^{\\mathsf{T}}\\boldsymbol{\\alpha}\n",
    "    \\\\\n",
    "     \\textrm{subject to } & -\\boldsymbol{\\alpha} \\leq \\boldsymbol{0} \n",
    "    \\\\\n",
    "     & \\boldsymbol{\\alpha} \\leq \\boldsymbol{C}\n",
    "     \\\\\n",
    "     & \\mathbf{t}^{\\mathsf{T}}\\boldsymbol{\\alpha} = 0  \n",
    "\\end{aligned}$$\n",
    "where the two inequalities can be stacked in a combined matrix/vector `G` and `h`.\n"
   ]
  },
  {
   "cell_type": "markdown",
   "metadata": {
    "deletable": false,
    "editable": false,
    "nbgrader": {
     "cell_type": "markdown",
     "checksum": "af3125eb3e94daf968101038b1742a9e",
     "grade": false,
     "grade_id": "cell-3a5e016e3b9cedd0",
     "locked": true,
     "schema_version": 3,
     "solution": false,
     "task": false
    }
   },
   "source": [
    "**2.06)** Before feeding all of this information to CVXOPT to optimize a **soft margin** SVM with our data, the only remaining question has to be answered: \"How can we efficiently calculate $\\mathbf{H}$?\" Let's consider a simple example with 2 samples $\\{x^{(1)}, x^{(2)}\\} \\in \\mathbb{R}^2$ which are two dimensional vectors. i.e. $\\mathbf{x}^{(1)} = (x_1^{(1)} , x_2^{(1)})^\\mathsf{T}$\n",
    "\n",
    "$$X = \\begin{bmatrix} x_1^{(1)} & x_2^{(1)} \\\\ x_1^{(2)} & x_2^{(2)} \\end{bmatrix} \\ \\ \\ t = \\begin{bmatrix} t^{(1)}  \\\\ t^{(2)} \\end{bmatrix}$$\n",
    "\n",
    "We now proceed to create a new matrix $\\mathbf{X}'$ where each input sample $\\mathbf{x}$ is multiplied by the corresponding output label $t$. This can be done easily in Numpy using vectorization and padding.\n",
    "\n",
    "$$\\mathbf{X}' = \\begin{bmatrix} x^{(1)}_1 t^{(1)} & x^{(1)}_2t^{(1)} \\\\\n",
    "x^{(2)}_1t^{(2)} & x^{(2)}_2t^{(2)} \\end{bmatrix}$$\n",
    "\n",
    "Finally we take the matrix multiplication of $\\mathbf{X}'$ and its transpose giving\n",
    "\n",
    "$$\\mathbf{H} = {\\mathbf{X}'} {\\mathbf{X}'^\\mathsf{T}} = \\begin{bmatrix} x^{(1)}_1 t^{(1)} & x^{(1)}_2t^{(1)} \\\\\n",
    "x^{(2)}_1t^{(2)} & x^{(2)}_2t^{(2)} \\end{bmatrix} \\begin{bmatrix} x^{(1)}_1 t^{(1)} & x^{(2)}_1 t^{(2)}  \\\\\n",
    "x^{(1)}_2t^{(1)} & x^{(2)}_2t^{(2)} \\end{bmatrix}$$\n",
    "\n",
    "$$\\mathbf{H} = \\begin{bmatrix}  x^{(1)}_1 x^{(1)}_1t^{(1)}t^{(1)} + x^{(1)}_2x^{(1)}_2t^{(1)}t^{(1)} & x^{(1)}_1 x^{(2)}_1t^{(1)}t^{(2)} + x^{(1)}_2x^{(2)}_2t^{(1)}t^{(2)} \\\\ x^{(2)}_1 x^{(1)}_1t^{(2)}t^{(1)} + x^{(2)}_2x^{(1)}_2t^{(2)}t^{(1)} & x^{(2)}_1 x^{(2)}_1t^{(2)}t^{(2)} + x^{(2)}_2x^{(2)}_2t^{(2)}t^{(2)} \\end{bmatrix}$$"
   ]
  },
  {
   "cell_type": "markdown",
   "metadata": {
    "deletable": false,
    "editable": false,
    "nbgrader": {
     "cell_type": "markdown",
     "checksum": "4668333d10400d964a99ce2edc586a40",
     "grade": false,
     "grade_id": "cell-33e302cc29da46ec",
     "locked": true,
     "schema_version": 3,
     "solution": false,
     "task": false
    }
   },
   "source": [
    "#### 2.07) Install cvxopt ####\n",
    "The `tf2` environment does not include a solver for QPs. So we need to install an additional package. This is easy to do on a command line with\n",
    "`conda install --channel \"conda-forge\" cvxopt` (do not forget to activate the `tf2` environment before running the command)"
   ]
  },
  {
   "cell_type": "markdown",
   "metadata": {
    "deletable": false,
    "editable": false,
    "nbgrader": {
     "cell_type": "markdown",
     "checksum": "66be4793dbde629af773728f5f7f9a65",
     "grade": false,
     "grade_id": "cell-0dd1bd64a9a8ac8e",
     "locked": true,
     "schema_version": 3,
     "solution": false,
     "task": false
    }
   },
   "source": [
    "**2.08) Begin implementation:** Let's import <code>cvxopt</code>, define a soft margin weight <code>C</code>, and get the dimensionality of our training data <code>mxn</code>."
   ]
  },
  {
   "cell_type": "code",
   "execution_count": 41,
   "metadata": {
    "deletable": false,
    "editable": false,
    "nbgrader": {
     "cell_type": "code",
     "checksum": "d3c61c4d45a8776f9374ac66d48685ca",
     "grade": false,
     "grade_id": "cell-93894b3e78261818",
     "locked": true,
     "schema_version": 3,
     "solution": false,
     "task": false
    }
   },
   "outputs": [],
   "source": [
    "#Importing with custom names to avoid issues with numpy / sympy matrix\n",
    "from cvxopt import matrix as cvxopt_matrix\n",
    "from cvxopt import solvers as cvxopt_solvers\n",
    "\n",
    "#Initializing values\n",
    "C = 2\n",
    "m,n = X_train.shape"
   ]
  },
  {
   "cell_type": "markdown",
   "metadata": {
    "deletable": false,
    "editable": false,
    "nbgrader": {
     "cell_type": "markdown",
     "checksum": "ac978944f06b6c7b94ce6711becd5474",
     "grade": false,
     "grade_id": "cell-7a0c64a81502c316",
     "locked": true,
     "schema_version": 3,
     "solution": false,
     "task": false
    }
   },
   "source": [
    "**2.09)** Following the hints from 2.06) calculate <code>H</code>."
   ]
  },
  {
   "cell_type": "code",
   "execution_count": 42,
   "metadata": {
    "deletable": false,
    "nbgrader": {
     "cell_type": "code",
     "checksum": "e12bb24dd4699c45d7a05e40c9be921d",
     "grade": false,
     "grade_id": "cell-4a79f06c849d59da",
     "locked": false,
     "schema_version": 3,
     "solution": true,
     "task": false
    }
   },
   "outputs": [],
   "source": [
    "X_ = np.zeros((m,n))\n",
    "\n",
    "for i in range(m):\n",
    "    for y in range(n):\n",
    "        X_[i,y] = X_train[i,y]*y_train[i]\n",
    "        \n",
    "H = X_.dot(X_.T)         \n",
    "     "
   ]
  },
  {
   "cell_type": "code",
   "execution_count": 43,
   "metadata": {
    "deletable": false,
    "editable": false,
    "nbgrader": {
     "cell_type": "code",
     "checksum": "9aced0e85d211a11160d82bee4010575",
     "grade": true,
     "grade_id": "cell-9cc7f82127b8848b",
     "locked": true,
     "points": 2,
     "schema_version": 3,
     "solution": false,
     "task": false
    }
   },
   "outputs": [],
   "source": [
    "assert H.shape[0] == 1453\n",
    "assert H.shape[1] == 1453\n",
    "assert H[0,0] == 1.265625\n",
    "assert H[-1,-1] == 0.5625"
   ]
  },
  {
   "cell_type": "markdown",
   "metadata": {
    "deletable": false,
    "editable": false,
    "nbgrader": {
     "cell_type": "markdown",
     "checksum": "f28622bdcd44246ef058c40a3e9728b5",
     "grade": false,
     "grade_id": "cell-50311856543fd10b",
     "locked": true,
     "schema_version": 3,
     "solution": false,
     "task": false
    }
   },
   "source": [
    "**2.10)** Calculate/define <code>P</code>, <code>q</code>, <code>G</code>, <code>h</code>, <code>A</code> and <code>b</code>."
   ]
  },
  {
   "cell_type": "code",
   "execution_count": 44,
   "metadata": {
    "deletable": false,
    "nbgrader": {
     "cell_type": "code",
     "checksum": "f9985af4f20ade93d08f6a28703892c4",
     "grade": false,
     "grade_id": "cell-18c8091cbf810d2d",
     "locked": false,
     "schema_version": 3,
     "solution": true,
     "task": false
    }
   },
   "outputs": [],
   "source": [
    "P = H\n",
    "q = -np.ones((len(H[0,:]),1))\n",
    "G = np.vstack((-np.identity(len(H[0,:])), np.identity(len(H[0,:])))) ##\n",
    "h = np.hstack((np.zeros((len(H[0,:]),)),2*np.ones((len(H[0,:]),))))\n",
    "A = y_train.reshape(1,1453)[:,:]\n",
    "b = np.array([0.00])"
   ]
  },
  {
   "cell_type": "code",
   "execution_count": 45,
   "metadata": {},
   "outputs": [],
   "source": [
    "#if you are stuck here, uncomment the lines below to load variables\n",
    "\n",
    "# npzfile = np.load('./get_unstuck/cvxopt.npz')\n",
    "# P = npzfile['P']\n",
    "# q = npzfile['q']\n",
    "# G = npzfile['G']\n",
    "# h = npzfile['h']\n",
    "# A = npzfile['A']\n",
    "# b = npzfile['b']"
   ]
  },
  {
   "cell_type": "code",
   "execution_count": 46,
   "metadata": {
    "deletable": false,
    "editable": false,
    "nbgrader": {
     "cell_type": "code",
     "checksum": "decc8f9ded889a77928382f22632dce4",
     "grade": true,
     "grade_id": "cell-f0a62a2221a2ec3c",
     "locked": true,
     "points": 4,
     "schema_version": 3,
     "solution": false,
     "task": false
    }
   },
   "outputs": [],
   "source": [
    "assert P.shape[0] == 1453\n",
    "assert P.shape[1] == 1453\n",
    "\n",
    "assert q.shape[0] == 1453\n",
    "assert q.shape[1] == 1\n",
    "assert q[0,0] == -1\n",
    "\n",
    "assert G.shape[0] == 2906\n",
    "assert G.shape[1] == 1453\n",
    "assert G[-1,-1] == 1.0\n",
    "\n",
    "assert h.shape[0] == 2906\n",
    "assert h.ndim == 1\n",
    "assert h[0] == 0.0\n",
    "\n",
    "assert A.shape[0] == 1\n",
    "assert A.shape[1] == 1453\n",
    "assert A[0,0] == 1.0\n",
    "\n",
    "assert b.shape[0] == 1\n",
    "assert b.ndim == 1\n"
   ]
  },
  {
   "cell_type": "markdown",
   "metadata": {
    "deletable": false,
    "editable": false,
    "nbgrader": {
     "cell_type": "markdown",
     "checksum": "9548e6f3b5518b2980444fe5b1470ec5",
     "grade": false,
     "grade_id": "cell-e13535b615000caa",
     "locked": true,
     "schema_version": 3,
     "solution": false,
     "task": false
    }
   },
   "source": [
    "**2.11)** Now we are almost ready to run the solver..."
   ]
  },
  {
   "cell_type": "code",
   "execution_count": null,
   "metadata": {},
   "outputs": [],
   "source": []
  },
  {
   "cell_type": "code",
   "execution_count": 47,
   "metadata": {
    "deletable": false,
    "editable": false,
    "nbgrader": {
     "cell_type": "code",
     "checksum": "1104f374c13c5ec5ce094514fe9f555d",
     "grade": false,
     "grade_id": "cell-6dab062bafd57b64",
     "locked": true,
     "schema_version": 3,
     "solution": false,
     "task": false
    }
   },
   "outputs": [],
   "source": [
    "#Converting into cvxopt format\n",
    "P = cvxopt_matrix(P)\n",
    "q = cvxopt_matrix(q)\n",
    "G = cvxopt_matrix(G)\n",
    "h = cvxopt_matrix(h)\n",
    "A = cvxopt_matrix(A)\n",
    "b = cvxopt_matrix(b)\n",
    "\n",
    "#Setting solver parameters \n",
    "cvxopt_solvers.options['show_progress'] = True\n",
    "cvxopt_solvers.options['abstol'] = 1e-10\n",
    "cvxopt_solvers.options['reltol'] = 1e-10\n",
    "cvxopt_solvers.options['feastol'] = 1e-10"
   ]
  },
  {
   "cell_type": "markdown",
   "metadata": {
    "deletable": false,
    "editable": false,
    "nbgrader": {
     "cell_type": "markdown",
     "checksum": "73f45429e8ee7f1b4a531aee069eba92",
     "grade": false,
     "grade_id": "cell-ada8d93154bf5320",
     "locked": true,
     "schema_version": 3,
     "solution": false,
     "task": false
    }
   },
   "source": [
    "**2.12)** Run the solver and store the results in `sol`"
   ]
  },
  {
   "cell_type": "code",
   "execution_count": 48,
   "metadata": {
    "deletable": false,
    "nbgrader": {
     "cell_type": "code",
     "checksum": "d7d127f47779a283d3b6f0e269c41570",
     "grade": false,
     "grade_id": "cell-9b524cbbbe4b23b4",
     "locked": false,
     "schema_version": 3,
     "solution": true,
     "task": false
    }
   },
   "outputs": [
    {
     "name": "stdout",
     "output_type": "stream",
     "text": [
      "     pcost       dcost       gap    pres   dres\n",
      " 0: -1.5694e+03 -2.1233e+04  2e+05  4e+00  4e-12\n",
      " 1: -1.1521e+03 -1.7430e+04  4e+04  9e-01  4e-12\n",
      " 2: -9.2263e+02 -1.0562e+04  2e+04  3e-01  2e-12\n",
      " 3: -7.5552e+02 -4.3660e+03  5e+03  9e-02  8e-13\n",
      " 4: -6.9899e+02 -1.8473e+03  1e+03  2e-02  3e-13\n",
      " 5: -7.6343e+02 -1.1777e+03  5e+02  6e-03  2e-13\n",
      " 6: -7.9309e+02 -1.0980e+03  3e+02  4e-03  2e-13\n",
      " 7: -8.1903e+02 -1.0283e+03  2e+02  2e-03  2e-13\n",
      " 8: -8.3628e+02 -9.8890e+02  2e+02  1e-03  2e-13\n",
      " 9: -8.5314e+02 -9.5083e+02  1e+02  8e-04  2e-13\n",
      "10: -8.6534e+02 -9.2639e+02  6e+01  4e-04  3e-13\n",
      "11: -8.7401e+02 -9.0749e+02  3e+01  1e-04  3e-13\n",
      "12: -8.7731e+02 -9.0166e+02  2e+01  8e-05  3e-13\n",
      "13: -8.8114e+02 -8.9542e+02  1e+01  4e-05  3e-13\n",
      "14: -8.8402e+02 -8.9125e+02  7e+00  2e-05  3e-13\n",
      "15: -8.8562e+02 -8.8881e+02  3e+00  4e-06  3e-13\n",
      "16: -8.8635e+02 -8.8786e+02  2e+00  1e-06  3e-13\n",
      "17: -8.8695e+02 -8.8718e+02  2e-01  1e-07  3e-13\n",
      "18: -8.8706e+02 -8.8706e+02  6e-03  3e-09  3e-13\n",
      "19: -8.8706e+02 -8.8706e+02  6e-05  3e-11  4e-13\n",
      "20: -8.8706e+02 -8.8706e+02  6e-07  3e-13  4e-13\n",
      "21: -8.8706e+02 -8.8706e+02  6e-09  3e-14  3e-13\n",
      "Optimal solution found.\n"
     ]
    }
   ],
   "source": [
    "sol = cvxopt_solvers.qp(P, q, G, h, A, b)\n",
    "\n",
    "alphas = np.array(sol['x'])\n"
   ]
  },
  {
   "cell_type": "code",
   "execution_count": 49,
   "metadata": {
    "deletable": false,
    "editable": false,
    "nbgrader": {
     "cell_type": "code",
     "checksum": "866d021aab04c38977551f0b7fbc6d4f",
     "grade": true,
     "grade_id": "cell-12a49d56e5d129b2",
     "locked": true,
     "points": 2,
     "schema_version": 3,
     "solution": false,
     "task": false
    }
   },
   "outputs": [],
   "source": [
    "assert isinstance(sol, dict)\n",
    "assert 'primal objective' in sol.keys()\n",
    "assert alphas.shape[0] == 1453\n"
   ]
  },
  {
   "cell_type": "markdown",
   "metadata": {
    "deletable": false,
    "editable": false,
    "nbgrader": {
     "cell_type": "markdown",
     "checksum": "e0f42078f5cb94a8a52a8f22c2ebef9e",
     "grade": false,
     "grade_id": "cell-adbc2b8bd17ba02e",
     "locked": true,
     "schema_version": 3,
     "solution": false,
     "task": false
    }
   },
   "source": [
    "**2.13)** Calculate `w_svm` and `b_svm` (see page 169)"
   ]
  },
  {
   "cell_type": "code",
   "execution_count": 108,
   "metadata": {
    "deletable": false,
    "nbgrader": {
     "cell_type": "code",
     "checksum": "03991bdd54a53ae1bd48c2cd377fb943",
     "grade": false,
     "grade_id": "cell-5b6e3d887dcd32d6",
     "locked": false,
     "schema_version": 3,
     "solution": true,
     "task": false
    }
   },
   "outputs": [
    {
     "name": "stdout",
     "output_type": "stream",
     "text": [
      "w =  [-0.42666667 -1.06666667]\n",
      "b =  2.061274725242967\n"
     ]
    }
   ],
   "source": [
    "#==================Computing parameters===============================#\n",
    "# Use a threshold of 1e-4 for alpha (rather than 0) for computing b_svm\n",
    "\n",
    "\n",
    "t = np.c_[y_train]\n",
    "w_svm = np.sum(alphas*t*X_train, axis =0)\n",
    "\n",
    "ind = np.where(alphas>1e-4)[0]\n",
    "wx = np.dot(X_train,w_svm.reshape([2,1]))\n",
    "twx = t[ind] - wx[ind]\n",
    "\n",
    "b_svm = 1/len(twx)*np.sum(twx)\n",
    "\n",
    "# Display results\n",
    "w_svm = w_svm.flatten()\n",
    "print('w = ', w_svm)\n",
    "print('b = ', b_svm)"
   ]
  },
  {
   "cell_type": "code",
   "execution_count": null,
   "metadata": {},
   "outputs": [],
   "source": []
  },
  {
   "cell_type": "code",
   "execution_count": 109,
   "metadata": {
    "deletable": false,
    "editable": false,
    "nbgrader": {
     "cell_type": "code",
     "checksum": "ae1c05e5bb5f62481a1623e38a866283",
     "grade": true,
     "grade_id": "cell-2637a561213c57ff",
     "locked": true,
     "points": 3,
     "schema_version": 3,
     "solution": false,
     "task": false
    }
   },
   "outputs": [],
   "source": [
    "assert np.abs(w_svm[0] - -0.42666667) < 1e-6\n",
    "assert np.abs(b_svm - 2.06127472524322) < 1e-6\n"
   ]
  },
  {
   "cell_type": "markdown",
   "metadata": {
    "deletable": false,
    "editable": false,
    "nbgrader": {
     "cell_type": "markdown",
     "checksum": "46f1dece3930ca65d9a5237e3155adcc",
     "grade": false,
     "grade_id": "cell-2e086eb5ff8abc3b",
     "locked": true,
     "schema_version": 3,
     "solution": false,
     "task": false
    }
   },
   "source": [
    "**2.14)** Implement the SVC prediction (see page 165)"
   ]
  },
  {
   "cell_type": "code",
   "execution_count": 52,
   "metadata": {
    "deletable": false,
    "nbgrader": {
     "cell_type": "code",
     "checksum": "7456bb124f068c8284f99cb54785eb17",
     "grade": false,
     "grade_id": "cell-0aaed0932cd77be5",
     "locked": false,
     "schema_version": 3,
     "solution": true,
     "task": false
    }
   },
   "outputs": [],
   "source": [
    "def own_svm_predict(b,w,X):\n",
    "# YOUR CODE HERE\n",
    "\n",
    "    wxb = np.sum(w.T * X + b, axis = 1)\n",
    "    wxb[np.where(wxb<0)] = -1\n",
    "    wxb[np.where(wxb>=0)] = 1\n",
    "    \n",
    "    return wxb"
   ]
  },
  {
   "cell_type": "code",
   "execution_count": 53,
   "metadata": {
    "deletable": false,
    "editable": false,
    "nbgrader": {
     "cell_type": "code",
     "checksum": "e9af2b00071cd8a394083030579154fd",
     "grade": true,
     "grade_id": "cell-b92088e8b41e4145",
     "locked": true,
     "points": 1,
     "schema_version": 3,
     "solution": false,
     "task": false
    }
   },
   "outputs": [],
   "source": [
    "assert (own_svm_predict(1, np.array([2, 3]), np.array([[4, 5], [-5, 0]])) == np.array([1, -1])).all()\n",
    "assert (own_svm_predict(-1, np.array([0, 1]), np.array([[-5, 0], [1, 0]])) == np.array([-1, -1])).all()"
   ]
  },
  {
   "cell_type": "code",
   "execution_count": 54,
   "metadata": {
    "deletable": false,
    "editable": false,
    "nbgrader": {
     "cell_type": "code",
     "checksum": "96514268ea9fc4a49fb8d67ee5a90511",
     "grade": false,
     "grade_id": "cell-86ba206969f3ccb6",
     "locked": true,
     "schema_version": 3,
     "solution": false,
     "task": false
    }
   },
   "outputs": [
    {
     "name": "stdout",
     "output_type": "stream",
     "text": [
      "own_svm accuracy score: 0.8164948453608247\n",
      "own_svm confusion matrix:\n",
      " [[159  88]\n",
      " [  1 237]]\n"
     ]
    },
    {
     "data": {
      "image/png": "[encoded data removed]",
      "text/plain": [
       "<Figure size 432x288 with 1 Axes>"
      ]
     },
     "metadata": {
      "needs_background": "light"
     },
     "output_type": "display_data"
    }
   ],
   "source": [
    "own_svm_y_pred = own_svm_predict(b_svm,w_svm,X_test)\n",
    "print_accuracy_confusion(y_test, own_svm_y_pred, 'own_svm')\n",
    "\n",
    "# A few lines to make own_svm_predict work with plot_feature_space_function (without implementing a fullblown sklearn calssifier)\n",
    "import functools\n",
    "own_svm_predict_param = functools.partial(own_svm_predict, b_svm, w_svm)\n",
    "\n",
    "plot_feature_space_function(own_svm_predict_param, X_lin, y_lin, axes, -1, 1)"
   ]
  },
  {
   "cell_type": "markdown",
   "metadata": {
    "deletable": false,
    "editable": false,
    "nbgrader": {
     "cell_type": "markdown",
     "checksum": "ffc4c36dd2e47dae38c6fc9dc292b79d",
     "grade": false,
     "grade_id": "cell-eb09ad784e0508a5",
     "locked": true,
     "schema_version": 3,
     "solution": false,
     "task": false
    }
   },
   "source": [
    "**2.14)** Let's compare our solution to the one from sklearn"
   ]
  },
  {
   "cell_type": "code",
   "execution_count": 55,
   "metadata": {
    "deletable": false,
    "editable": false,
    "nbgrader": {
     "cell_type": "code",
     "checksum": "692a1810703fbb5b44f69a3746f9b486",
     "grade": false,
     "grade_id": "cell-12a93884abb386fb",
     "locked": true,
     "schema_version": 3,
     "solution": false,
     "task": false
    }
   },
   "outputs": [
    {
     "name": "stdout",
     "output_type": "stream",
     "text": [
      "w =  [[-0.42697222 -1.06654914]]\n",
      "b =  [2.49401716]\n",
      "lin_svm accuracy score: 0.8907216494845361\n",
      "lin_svm confusion matrix:\n",
      " [[202  45]\n",
      " [  8 230]]\n"
     ]
    },
    {
     "data": {
      "image/png": "[encoded data removed]",
      "text/plain": [
       "<Figure size 432x288 with 1 Axes>"
      ]
     },
     "metadata": {
      "needs_background": "light"
     },
     "output_type": "display_data"
    }
   ],
   "source": [
    "print('w = ',lin_svm_clf.coef_)\n",
    "print('b = ',lin_svm_clf.intercept_)\n",
    "\n",
    "print_accuracy_confusion(y_test, lin_svm_y_pred, 'lin_svm')\n",
    "plot_feature_space_function(lin_svm_clf.predict, X_lin, y_lin, axes, -1, 1)"
   ]
  },
  {
   "cell_type": "markdown",
   "metadata": {
    "deletable": false,
    "editable": false,
    "nbgrader": {
     "cell_type": "markdown",
     "checksum": "82e787b2df9fe4a3e7fa4cf150c9ff95",
     "grade": false,
     "grade_id": "cell-7f0e247df65f8b16",
     "locked": true,
     "schema_version": 3,
     "solution": false,
     "task": false
    }
   },
   "source": [
    "Both the accuracy and the `w` parameter values should be close. Small differences occur depending on how the optimization is done (e.g., tolerances). As pointed out on page 763, there are multiple ways for calculating `b`. The book proposes to use the average rather than a single value. If we just use the first value instead, we are a lot closer to the sklearn parameter.\n",
    "\n",
    "If you are interested in how this method is modified to build non-linear SVMs using the *kernel trick*, read pages 168 -172 of the book."
   ]
  },
  {
   "cell_type": "markdown",
   "metadata": {
    "deletable": false,
    "editable": false,
    "nbgrader": {
     "cell_type": "markdown",
     "checksum": "909fc8a7a34592c561f0d4c744a23d20",
     "grade": false,
     "grade_id": "cell-42b06e042af1fd8a",
     "locked": true,
     "schema_version": 3,
     "solution": false,
     "task": false
    }
   },
   "source": [
    "linear SVM implementation based on https://xavierbourretsicotte.github.io/SVM_implementation.html"
   ]
  },
  {
   "cell_type": "markdown",
   "metadata": {
    "deletable": false,
    "editable": false,
    "nbgrader": {
     "cell_type": "markdown",
     "checksum": "89e21864aa65727caf86d9de5dda9ffc",
     "grade": false,
     "grade_id": "cell-77acb04a49583f46",
     "locked": true,
     "schema_version": 3,
     "solution": false,
     "task": false
    }
   },
   "source": [
    "### 3) Voting classifier\n",
    "\n",
    "We already tried quite a few classifiers on this data set. Let's try to combine them in an ensemble (chapter 7 of the book).\n",
    "\n",
    "First we'll define two more classifiers for the ensemble."
   ]
  },
  {
   "cell_type": "code",
   "execution_count": 56,
   "metadata": {
    "deletable": false,
    "editable": false,
    "nbgrader": {
     "cell_type": "code",
     "checksum": "1e4ef5e4e5c2687c6a01b1e8926b46a6",
     "grade": false,
     "grade_id": "cell-29808b1082deeb73",
     "locked": true,
     "schema_version": 3,
     "solution": false,
     "task": false
    }
   },
   "outputs": [
    {
     "name": "stdout",
     "output_type": "stream",
     "text": [
      "rf accuracy score: 0.8701030927835052\n",
      "rf confusion matrix:\n",
      " [[210  37]\n",
      " [ 26 212]]\n"
     ]
    },
    {
     "data": {
      "image/png": "[encoded data removed]",
      "text/plain": [
       "<Figure size 432x288 with 1 Axes>"
      ]
     },
     "metadata": {
      "needs_background": "light"
     },
     "output_type": "display_data"
    }
   ],
   "source": [
    "from sklearn.ensemble import RandomForestClassifier\n",
    "rf_clf = RandomForestClassifier(random_state=0)\n",
    "rf_clf.fit(X_train, y_train)\n",
    "rf_y_pred = rf_clf.predict(X_test)\n",
    "print_accuracy_confusion(y_test, rf_y_pred, 'rf')\n",
    "plot_feature_space_function(rf_clf.predict, X_lin, y_lin, axes, -1, 1)"
   ]
  },
  {
   "cell_type": "code",
   "execution_count": 57,
   "metadata": {
    "deletable": false,
    "editable": false,
    "nbgrader": {
     "cell_type": "code",
     "checksum": "e962263f7b802b576f929cb3034fc69a",
     "grade": false,
     "grade_id": "cell-3eb33bc5caf92dc2",
     "locked": true,
     "schema_version": 3,
     "solution": false,
     "task": false
    }
   },
   "outputs": [
    {
     "name": "stdout",
     "output_type": "stream",
     "text": [
      "knn accuracy score: 0.8865979381443299\n",
      "knn confusion matrix:\n",
      " [[204  43]\n",
      " [ 12 226]]\n"
     ]
    },
    {
     "data": {
      "image/png": "[encoded data removed]",
      "text/plain": [
       "<Figure size 432x288 with 1 Axes>"
      ]
     },
     "metadata": {
      "needs_background": "light"
     },
     "output_type": "display_data"
    }
   ],
   "source": [
    "from sklearn.neighbors import KNeighborsClassifier\n",
    "knn_clf = KNeighborsClassifier(5)\n",
    "knn_clf.fit(X_train, y_train)\n",
    "knn_y_pred = knn_clf.predict(X_test)\n",
    "print_accuracy_confusion(y_test, knn_y_pred, 'knn')\n",
    "plot_feature_space_function(knn_clf.predict, X_lin, y_lin, axes, -1, 1)"
   ]
  },
  {
   "cell_type": "markdown",
   "metadata": {
    "deletable": false,
    "editable": false,
    "nbgrader": {
     "cell_type": "markdown",
     "checksum": "b344fed97fdd5d762277b3a7e0ada0e4",
     "grade": false,
     "grade_id": "cell-ad0a7b6b56d1f422",
     "locked": true,
     "schema_version": 3,
     "solution": false,
     "task": false
    }
   },
   "source": [
    "**3.01)** Combine the predictions of the SGD classifier `sgd_clf` (we implemented before looking into how to implement a linear SVM), the random forest `rf_clf`, and of the KNN `knn_clf` in one variable `combined_pred`."
   ]
  },
  {
   "cell_type": "code",
   "execution_count": 58,
   "metadata": {
    "deletable": false,
    "nbgrader": {
     "cell_type": "code",
     "checksum": "57bc73c2a40e0ee8a4df85e5f7541afa",
     "grade": false,
     "grade_id": "cell-8d13a36a3a68036d",
     "locked": false,
     "schema_version": 3,
     "solution": true,
     "task": false
    }
   },
   "outputs": [],
   "source": [
    "from sklearn.ensemble import VotingClassifier\n",
    "\n",
    "\n",
    "\n",
    "\n",
    "combined_pred = np.zeros((485,3))\n",
    "\n",
    "\n",
    "combined_pred[:,0] = knn_y_pred\n",
    "combined_pred[:,1] = rf_y_pred\n",
    "combined_pred[:,2] = sgd_y_pred\n",
    "\n",
    "combined_pred = combined_pred.T\n",
    "\n"
   ]
  },
  {
   "cell_type": "code",
   "execution_count": 59,
   "metadata": {
    "deletable": false,
    "editable": false,
    "nbgrader": {
     "cell_type": "code",
     "checksum": "71f6fd8d9644a3ef10cad38e44b0296e",
     "grade": true,
     "grade_id": "cell-5a0e2431fb4f0bb9",
     "locked": true,
     "points": 1,
     "schema_version": 3,
     "solution": false,
     "task": false
    }
   },
   "outputs": [],
   "source": [
    "assert combined_pred.shape[0] == 3\n",
    "assert combined_pred.shape[1] == 485"
   ]
  },
  {
   "cell_type": "markdown",
   "metadata": {
    "deletable": false,
    "editable": false,
    "nbgrader": {
     "cell_type": "markdown",
     "checksum": "2494a81ffb27d8f254df51beb4ebb781",
     "grade": false,
     "grade_id": "cell-43c40cdcb7b02965",
     "locked": true,
     "schema_version": 3,
     "solution": false,
     "task": false
    }
   },
   "source": [
    "**3.02)** Implement hard voting, i.e., generate a new variable `hard_voting_pred` where the prediction corresponds to that of the majority of the classifiers."
   ]
  },
  {
   "cell_type": "code",
   "execution_count": 60,
   "metadata": {
    "deletable": false,
    "nbgrader": {
     "cell_type": "code",
     "checksum": "6062380c9200582326fe44c768facf6e",
     "grade": false,
     "grade_id": "cell-f3a52970a1dabc79",
     "locked": false,
     "schema_version": 3,
     "solution": true,
     "task": false
    }
   },
   "outputs": [
    {
     "name": "stdout",
     "output_type": "stream",
     "text": [
      "hard_voting accuracy score: 0.8927835051546392\n",
      "hard_voting confusion matrix:\n",
      " [[215  32]\n",
      " [ 20 218]]\n"
     ]
    }
   ],
   "source": [
    "# hint: use a `mode` function from scipy\n",
    "\n",
    "voting_clf = VotingClassifier(estimators = [('sgd' , sgd_clf ), ('rf' , rf_clf), ('knn' , knn_clf)],voting = \"hard\")\n",
    "voting_clf.fit(X_train, y_train)\n",
    "combined_pred = voting_clf.predict(X_test)\n",
    "\n",
    "\n",
    "\n",
    "hard_voting_pred = np.array([combined_pred])\n",
    "hard_voting_pred = hard_voting_pred.T\n",
    "\n",
    "print_accuracy_confusion(y_test, hard_voting_pred, 'hard_voting')"
   ]
  },
  {
   "cell_type": "code",
   "execution_count": 61,
   "metadata": {
    "deletable": false,
    "editable": false,
    "nbgrader": {
     "cell_type": "code",
     "checksum": "225e80504b13e823aca72cc8ea0055d3",
     "grade": true,
     "grade_id": "cell-d65b28fe6dbe2db6",
     "locked": true,
     "points": 1,
     "schema_version": 3,
     "solution": false,
     "task": false
    }
   },
   "outputs": [],
   "source": [
    "assert hard_voting_pred.shape[0] == 485\n",
    "assert hard_voting_pred.shape[1] == 1 or hard_voting_pred.ndim == 1\n",
    "assert accuracy_score(y_test, hard_voting_pred) > 0.8927"
   ]
  },
  {
   "cell_type": "markdown",
   "metadata": {
    "deletable": false,
    "editable": false,
    "nbgrader": {
     "cell_type": "markdown",
     "checksum": "7fc1d9fb1a4e88a2a472dc049d6c017c",
     "grade": false,
     "grade_id": "cell-eeaaf7ec19ae29da",
     "locked": true,
     "schema_version": 3,
     "solution": false,
     "task": false
    }
   },
   "source": [
    "**3.03)** Even this very simple voting approach brings the 3 classifiers that don't perform that well individually to the same level as your best performing classifier we had so far, the linear SVM."
   ]
  },
  {
   "cell_type": "markdown",
   "metadata": {
    "deletable": false,
    "editable": false,
    "nbgrader": {
     "cell_type": "markdown",
     "checksum": "c4f7f2ce10b7290762a5b0075341c685",
     "grade": false,
     "grade_id": "cell-3325f249f44d44c6",
     "locked": true,
     "schema_version": 3,
     "solution": false,
     "task": false
    }
   },
   "source": [
    "#### 3.04) Bagging \n",
    "Now let's see what we can do with an ensemble of just our worst performing classifier, the SGD. The code is already provided below, your task is to adjust the parameters such that it beats the linear SVM by getting an accuracy >0.9"
   ]
  },
  {
   "cell_type": "code",
   "execution_count": 62,
   "metadata": {
    "deletable": false,
    "nbgrader": {
     "cell_type": "code",
     "checksum": "560b2c8c785fe35ef892a46774bcc4ae",
     "grade": false,
     "grade_id": "cell-fa0dcba5997172ba",
     "locked": false,
     "schema_version": 3,
     "solution": true,
     "task": false
    }
   },
   "outputs": [
    {
     "name": "stdout",
     "output_type": "stream",
     "text": [
      "bag accuracy score: 0.9010309278350516\n",
      "bag confusion matrix:\n",
      " [[212  35]\n",
      " [ 13 225]]\n"
     ]
    }
   ],
   "source": [
    "# Bagging\n",
    "from sklearn.ensemble import BaggingClassifier\n",
    "from sklearn.linear_model import SGDClassifier\n",
    "\n",
    "n_estimators=1000\n",
    "max_samples=500\n",
    "bootstrap=False\n",
    "\n",
    "\n",
    "bag_clf = BaggingClassifier(SGDClassifier(random_state=0),\n",
    "                            n_estimators=n_estimators,\n",
    "                            max_samples=max_samples, \n",
    "                            bootstrap=bootstrap, \n",
    "                            random_state=0)\n",
    "\n",
    "bag_clf.fit(X_train, y_train)\n",
    "bag_y_pred = bag_clf.predict(X_test)\n",
    "\n",
    "print_accuracy_confusion(y_test, bag_y_pred, 'bag')"
   ]
  },
  {
   "cell_type": "code",
   "execution_count": 63,
   "metadata": {
    "deletable": false,
    "editable": false,
    "nbgrader": {
     "cell_type": "code",
     "checksum": "59cd431591081323fda364d58f8e0e76",
     "grade": true,
     "grade_id": "cell-c1f8c0c9f7654358",
     "locked": true,
     "points": 1,
     "schema_version": 3,
     "solution": false,
     "task": false
    }
   },
   "outputs": [],
   "source": [
    "assert accuracy_score(y_test, bag_y_pred) > 0.9"
   ]
  },
  {
   "cell_type": "markdown",
   "metadata": {
    "deletable": false,
    "editable": false,
    "nbgrader": {
     "cell_type": "markdown",
     "checksum": "e15535d1fbcd48a0c20ef6c2f90ddebe",
     "grade": false,
     "grade_id": "cell-0c8be4495415555f",
     "locked": true,
     "schema_version": 3,
     "solution": false,
     "task": false
    }
   },
   "source": [
    "### 4) Imitation Learning for Motion Planning\n",
    "\n",
    "In the last section of this practicum, we will use our machine learning knowledge in a robotics example.\n",
    "\n",
    "#### Motion Planning\n",
    "Motion planning is a field of robotics in which robots have to plan and execute a trajectory in order to reach a goal. The following image shows a manipulator reaching a goal while avoiding obstacles.\n",
    "\n",
    "<img src=\"img/manipulator_motion.png\" alt=\"drawing\" width=\"400\"/>\n",
    "\n",
    "Commonly, these algorithms have to be designed and tunned by someone with knowledge in robotics and/or control. However, if we aim to have robots in our daily life outside industrial settings, such an approach becomes limiting, because it is not be feasible to have a roboticist tunning every robot for every different situation.\n",
    "\n",
    "#### Imitation Learning\n",
    "Imitation Learning is a promising line of research that could address this problem. Imitation Learning can give humans, that are not experts in robotics/control, the ability to program a robot. The idea is simple, a human provides a set of demontrations of a task, and a robot imitates her/him.\n",
    "\n",
    "#### Goal\n",
    "\n",
    "Build a Motion Planning algorithm that uses an Imitation Learning technique, called Behavioral Cloning, to fit a classifier, using Supervised Learning, to demonstrations provided by an *oracle*.\n",
    "\n",
    "* **Oracle:** a system that provides demonstrations of a task. In our motivation of the problem the oracle is a human; however, for practical reasons, in this assignment we are going to use a Motion Planning algorithm (Artificial Potential Fields, implementation from https://pythonrobotics.readthedocs.io/en/latest/modules/path_planning.html#potential-field-algorithm) as an oracle, and given that we are going to imitate its behavior, it is not required for you to know how this method works."
   ]
  },
  {
   "cell_type": "code",
   "execution_count": 64,
   "metadata": {
    "deletable": false,
    "editable": false,
    "nbgrader": {
     "cell_type": "code",
     "checksum": "8b04ba9be227aaac065e1ea7855405bc",
     "grade": false,
     "grade_id": "cell-010258c8925bee56",
     "locked": true,
     "schema_version": 3,
     "solution": false,
     "task": false
    }
   },
   "outputs": [],
   "source": [
    "from potential_field_planning import create_environment, potential_field_planning, classifier_planning, plot_environment\n",
    "import numpy as np\n",
    "import matplotlib.pyplot as plt"
   ]
  },
  {
   "cell_type": "markdown",
   "metadata": {
    "deletable": false,
    "editable": false,
    "nbgrader": {
     "cell_type": "markdown",
     "checksum": "b991f190f015bf40637a903d25fbb9fa",
     "grade": false,
     "grade_id": "cell-28b1160f8052cbd4",
     "locked": true,
     "schema_version": 3,
     "solution": false,
     "task": false
    }
   },
   "source": [
    "**4.01)** The function `create_environment` randomly generates a 2D environment that consists of a starting point `[sx, sy]`, a goal `[gx, gy]`, and obstacles `[ox, oy]`. The dimensionality of `ox` and `oy` is equal to the number of obstacles. \n",
    "\n",
    "Let's create an environment with one obstacle.\n",
    "\n",
    "*Note: this function only supports 1, 2 or 3 obstacles.*"
   ]
  },
  {
   "cell_type": "code",
   "execution_count": 65,
   "metadata": {
    "deletable": false,
    "editable": false,
    "nbgrader": {
     "cell_type": "code",
     "checksum": "4a3a1fbb2e174096d086d29c659ef098",
     "grade": false,
     "grade_id": "cell-d82fcc0a45c97f44",
     "locked": true,
     "schema_version": 3,
     "solution": false,
     "task": false
    }
   },
   "outputs": [
    {
     "name": "stdout",
     "output_type": "stream",
     "text": [
      "Start              : [0.0008006237214142065, 2.1163280084228786]\n",
      "Goal               : [5.605211980728757, 6.777831030035783]\n",
      "Obstacles x-coords  : [3.08511002351287]\n",
      "Obstacles y-coords  : [4.60162246721079]\n",
      "Number of obstacles: 1\n"
     ]
    }
   ],
   "source": [
    "env = create_environment(n_obstacles=1, seed=1)\n",
    "\n",
    "print('Start              :', [env.sx, env.sy])\n",
    "print('Goal               :', [env.gx, env.gy])\n",
    "print('Obstacles x-coords  :', env.ox)\n",
    "print('Obstacles y-coords  :', env.oy)\n",
    "print('Number of obstacles:', len(env.ox))"
   ]
  },
  {
   "cell_type": "markdown",
   "metadata": {
    "deletable": false,
    "editable": false,
    "nbgrader": {
     "cell_type": "markdown",
     "checksum": "4d5fdccf17e248131b4ce61de7881631",
     "grade": false,
     "grade_id": "cell-b5d4ae760f6eb2d0",
     "locked": true,
     "schema_version": 3,
     "solution": false,
     "task": false
    }
   },
   "source": [
    "**IMPORTANT:** do not modify the seed values."
   ]
  },
  {
   "cell_type": "markdown",
   "metadata": {
    "deletable": false,
    "editable": false,
    "nbgrader": {
     "cell_type": "markdown",
     "checksum": "2da7db3bd23ee4987cc8a2a7b48d593d",
     "grade": false,
     "grade_id": "cell-0a6012dd5ae53f93",
     "locked": true,
     "schema_version": 3,
     "solution": false,
     "task": false
    }
   },
   "source": [
    "The function `potential_field_planning` is the oracle. It takes as input the parameters of our environment and generates a collision-free path to the goal. The generated trajectory is saved in `trajectory`.\n",
    "\n",
    "The function `plot_environment` can be used to visualize the environment, namely the obstacles (blue circles), start and goal position, and the trajectory.\n",
    "\n",
    "**4.02)** Let's generate a trajectory with the oracle and visualize it:"
   ]
  },
  {
   "cell_type": "code",
   "execution_count": 66,
   "metadata": {
    "deletable": false,
    "editable": false,
    "nbgrader": {
     "cell_type": "code",
     "checksum": "7536f29424dffb122538c8ea6a4d4f8a",
     "grade": false,
     "grade_id": "cell-e46c56e78b24f27a",
     "locked": true,
     "schema_version": 3,
     "solution": false,
     "task": false
    }
   },
   "outputs": [
    {
     "data": {
      "image/png": "[encoded data removed]",
      "text/plain": [
       "<Figure size 324x324 with 1 Axes>"
      ]
     },
     "metadata": {
      "needs_background": "light"
     },
     "output_type": "display_data"
    }
   ],
   "source": [
    "# Generate trajectory\n",
    "trajectory = potential_field_planning(env)\n",
    "\n",
    "# Show environment and trajectory\n",
    "plot_environment(env, potential_field_trajectory=trajectory)"
   ]
  },
  {
   "cell_type": "markdown",
   "metadata": {
    "deletable": false,
    "editable": false,
    "nbgrader": {
     "cell_type": "markdown",
     "checksum": "cf70d7cb3ec076cc34d446e3a0aed741",
     "grade": false,
     "grade_id": "cell-bfc51143f6bdcdb9",
     "locked": true,
     "schema_version": 3,
     "solution": false,
     "task": false
    }
   },
   "source": [
    "#### 4.03) Dataset\n",
    "\n",
    "We can get trajectories from our oracle in multiple environments to build a dataset to train a classifier.\n",
    "\n",
    "\n",
    "**Input:** In this context, the input of our machine learning model corresponds to the *robot's state* at a specific moment in time of the environment. Each one of these *moments* are known as time steps, and for every time step, as a function of the robot's state, our machine learning method has to take make a decision on where to go next. \n",
    "\n",
    "**robot's state** = [gxd, gyd, oxd1,...,oxdn, oyd1, ..., oydn]\n",
    "\n",
    "* **gxd**:  x distance from robot to goal\n",
    "* **gyd**:  y distance from robot to goal\n",
    "* **oxdi**: x distance from robot to obstacle i\n",
    "* **oydi**: y distance from robot to obstacle i\n",
    "\n",
    "**Output:** We are going to solve this problem as a classification problem. Each class corresponds to an *action* that the robot can take i.e., where to go next. These classes are represented using a vector that indicates the directions in which the robot can move.\n",
    "\n",
    "**actions** = north, east, south, west, north-east, north-west, south-east, south-west. Represented with numbers from 0 to 7 respectively."
   ]
  },
  {
   "cell_type": "markdown",
   "metadata": {
    "deletable": false,
    "editable": false,
    "nbgrader": {
     "cell_type": "markdown",
     "checksum": "815fa4eade63913280a8a99c73b04eff",
     "grade": false,
     "grade_id": "cell-12f5c57ca1e44f3c",
     "locked": true,
     "schema_version": 3,
     "solution": false,
     "task": false
    }
   },
   "source": [
    "**4.03)** `trajectory` is a dictionary that contains the following information:\n",
    "* `state`: the set of states visited by the robot. Each row of the state vector corresponds to the state of the robot in a specific time step. \n",
    "* `action`: the set of actions taken by the robot in every time step.\n",
    "* `pos`: the positions that the robot visited, as visualized in the plot.\n",
    "* `success`: a boolean indicating if the goal state was reached\n",
    "* `collision`: a boolean indicating if the robot collided.\n",
    "\n",
    "These names can be used as keys to access the data in the dictionary. \n",
    "\n",
    "Get the states and actions from `trajectory`."
   ]
  },
  {
   "cell_type": "code",
   "execution_count": 67,
   "metadata": {
    "deletable": false,
    "nbgrader": {
     "cell_type": "code",
     "checksum": "9703c61b16c9d80075402490f94bdf80",
     "grade": false,
     "grade_id": "cell-5f04d5142366aa70",
     "locked": false,
     "schema_version": 3,
     "solution": true,
     "task": false
    }
   },
   "outputs": [
    {
     "name": "stdout",
     "output_type": "stream",
     "text": [
      "[7 7 7 7 7 1 1 1 1 1 1 7 7 7 7 7 0 0 0 0 0 0 0 0 0 0]\n"
     ]
    }
   ],
   "source": [
    "state = trajectory['state']\n",
    "action = trajectory['action']\n",
    "print(action)"
   ]
  },
  {
   "cell_type": "code",
   "execution_count": 68,
   "metadata": {
    "deletable": false,
    "editable": false,
    "nbgrader": {
     "cell_type": "code",
     "checksum": "ffc3f1fc220a4e0982c2047199ba7f3a",
     "grade": true,
     "grade_id": "cell-b7316513f73d4742",
     "locked": true,
     "points": 1,
     "schema_version": 3,
     "solution": false,
     "task": false
    }
   },
   "outputs": [],
   "source": [
    "assert np.abs(state[0, 1] - -4.66150302) < 1e-6\n",
    "assert np.abs(state[4, 3] - -1.38529445) < 1e-6\n",
    "assert np.abs(state[10, 2] - -1.68430939) < 1e-6\n"
   ]
  },
  {
   "cell_type": "markdown",
   "metadata": {
    "deletable": false,
    "editable": false,
    "nbgrader": {
     "cell_type": "markdown",
     "checksum": "6a4992d9064d4037989f096afc288c1e",
     "grade": false,
     "grade_id": "cell-edcd6eabb64a932f",
     "locked": true,
     "schema_version": 3,
     "solution": false,
     "task": false
    }
   },
   "source": [
    "**4.04)** As mentioned before, the dimensionality of our state vector is a function of the number of obstacles in the environment. \n",
    "\n",
    "Build a function that computes the state dimensionality as a function of n obstacles:\n",
    "\n",
    "*Note: this function has to be solved with an equation.*"
   ]
  },
  {
   "cell_type": "code",
   "execution_count": 69,
   "metadata": {
    "deletable": false,
    "nbgrader": {
     "cell_type": "code",
     "checksum": "da1d817aead0c07701ed187b431860db",
     "grade": false,
     "grade_id": "cell-fe9c25792eb14fc7",
     "locked": false,
     "schema_version": 3,
     "solution": true,
     "task": false
    }
   },
   "outputs": [],
   "source": [
    "def get_state_dim(n_obstacles):\n",
    "    state_dim = 2+2*n_obstacles\n",
    "\n",
    "    return state_dim"
   ]
  },
  {
   "cell_type": "code",
   "execution_count": 70,
   "metadata": {
    "deletable": false,
    "editable": false,
    "nbgrader": {
     "cell_type": "code",
     "checksum": "36a80166311f43c34d7a62a859c35c14",
     "grade": true,
     "grade_id": "cell-e77d189ca944bab0",
     "locked": true,
     "points": 1,
     "schema_version": 3,
     "solution": false,
     "task": false
    }
   },
   "outputs": [],
   "source": [
    "assert get_state_dim(2) == 6\n",
    "assert get_state_dim(4) == 10\n"
   ]
  },
  {
   "cell_type": "markdown",
   "metadata": {
    "deletable": false,
    "editable": false,
    "nbgrader": {
     "cell_type": "markdown",
     "checksum": "bf911ba00643ccefcd7577c1bc869e79",
     "grade": false,
     "grade_id": "cell-ffe23b0669baac13",
     "locked": true,
     "schema_version": 3,
     "solution": false,
     "task": false
    }
   },
   "source": [
    "**4.05)** Build a function called `generate_dataset` that repeats the following process n times:\n",
    "\n",
    "    1) Create an environment.\n",
    "\n",
    "    2) Get a demonstration from the oracle.\n",
    "\n",
    "    3) Save demonstration, i.e., append visited states into an array called states and taken actions into an \n",
    "    array called actions.\n",
    "\n",
    "The argument `n_obstacles` indicates the number of obstacles the created environments will have, `n_trajectories` corresponds to the number of times the loop above will be repeated, and `show` is a boolean that makes the saved trajectories visible when true.\n",
    "\n",
    "Wherever it says `MODIFY`, you should modify the code."
   ]
  },
  {
   "cell_type": "code",
   "execution_count": 71,
   "metadata": {
    "deletable": false,
    "nbgrader": {
     "cell_type": "code",
     "checksum": "c09bde89332655fc2b8dacdfc2a8055c",
     "grade": false,
     "grade_id": "cell-b9049bf3fa7c8a7e",
     "locked": false,
     "schema_version": 3,
     "solution": true,
     "task": false
    }
   },
   "outputs": [],
   "source": [
    "import ipywidgets\n",
    "\n",
    "def generate_dataset(n_obstacles, n_trajectories, show=True):\n",
    "    # Reproducibility, do not change\n",
    "    np.random.seed(18)  # reproducibility, do not change\n",
    "    \n",
    "    # Initialize our arrays\n",
    "    states = np.empty([0, get_state_dim(n_obstacles)])\n",
    "    actions = np.empty([0])\n",
    "    \n",
    "    if show:\n",
    "        # Create lists used for interactive animation\n",
    "        envs = []\n",
    "        trajectories = []\n",
    "       \n",
    "    for i in range(n_trajectories):            \n",
    "        # Create environment\n",
    "        seed = np.random.randint(low=0, high=1e6)  # use this seed to create the environment\n",
    "        env = create_environment(n_obstacles=n_obstacles, seed=seed)\n",
    "        \n",
    "        # Run planner and get a trajectory\n",
    "        trajectory = potential_field_planning(env)\n",
    "        \n",
    "        if show:\n",
    "            # Store generated data for use in interactive animation\n",
    "            envs.append(env)\n",
    "            trajectories.append(trajectory)\n",
    "\n",
    "        dim = get_state_dim(n_obstacles)\n",
    "        # Append data to arrays states and actions. \n",
    "        states = np.append(states,trajectory['state'])\n",
    "        states = states.reshape(-1,dim)\n",
    "        actions = np.append(actions,trajectory['action'])\n",
    "        \n",
    "        # Print progress\n",
    "        if (i + 1) % (n_trajectories // 5 + 1e-6) == 0:\n",
    "            print('Progress dataset: %d %%' % ((i + 1) / n_trajectories * 100))\n",
    "\n",
    "    if show:\n",
    "        # Generate an interactive ipython widget to visualize the generated environments and trajectories\n",
    "        def plot_train_track(i):\n",
    "            plot_environment(envs[i], potential_field_trajectory=trajectories[i])\n",
    "            plt.title(f'dataset trajectory {i}')\n",
    "        ipywidgets.interact(plot_train_track, i=(0,n_trajectories - 1))\n",
    "    \n",
    "    return states, actions"
   ]
  },
  {
   "cell_type": "markdown",
   "metadata": {
    "deletable": false,
    "editable": false,
    "nbgrader": {
     "cell_type": "markdown",
     "checksum": "1a24af8b86d80b51e296db1ed3e809e8",
     "grade": false,
     "grade_id": "cell-478952a18d06b99e",
     "locked": true,
     "schema_version": 3,
     "solution": false,
     "task": false
    }
   },
   "source": [
    "Create a dataset with 5 trajectories and 1 obstacle."
   ]
  },
  {
   "cell_type": "code",
   "execution_count": 72,
   "metadata": {},
   "outputs": [
    {
     "data": {
      "application/vnd.jupyter.widget-view+json": {
       "model_id": "c3ab06714be34555a1dadefce7966720",
       "version_major": 2,
       "version_minor": 0
      },
      "text/plain": [
       "interactive(children=(IntSlider(value=2, description='i', max=4), Output()), _dom_classes=('widget-interact',)…"
      ]
     },
     "metadata": {},
     "output_type": "display_data"
    }
   ],
   "source": [
    "states, actions = generate_dataset(n_obstacles=1, n_trajectories=5, show=True)"
   ]
  },
  {
   "cell_type": "code",
   "execution_count": null,
   "metadata": {},
   "outputs": [],
   "source": []
  },
  {
   "cell_type": "code",
   "execution_count": 73,
   "metadata": {
    "deletable": false,
    "editable": false,
    "nbgrader": {
     "cell_type": "code",
     "checksum": "bd1e5354d99e18eb6dcf1f1de74000e0",
     "grade": true,
     "grade_id": "cell-8c77aa1bedf73c0d",
     "locked": true,
     "points": 2,
     "schema_version": 3,
     "solution": false,
     "task": false
    }
   },
   "outputs": [],
   "source": [
    "assert actions.shape == (77,)\n",
    "assert states.shape == (77, 4)\n",
    "assert np.abs(states[43, 3] - -0.142548887) < 1e-6\n",
    "assert int(actions[60]) == 7\n"
   ]
  },
  {
   "cell_type": "markdown",
   "metadata": {
    "deletable": false,
    "editable": false,
    "nbgrader": {
     "cell_type": "markdown",
     "checksum": "fd5f17a07ba234b5e121e3af54ab1118",
     "grade": false,
     "grade_id": "cell-3933a85a2037f8c8",
     "locked": true,
     "schema_version": 3,
     "solution": false,
     "task": false
    }
   },
   "source": [
    "#### 4.06) Prepare data\n",
    "\n",
    "After collecting a dataset, it is necessary to prepare the data for training."
   ]
  },
  {
   "cell_type": "markdown",
   "metadata": {
    "deletable": false,
    "editable": false,
    "nbgrader": {
     "cell_type": "markdown",
     "checksum": "be603fc4e081e5bb89d8f6d18015a7e7",
     "grade": false,
     "grade_id": "cell-17daed588b7827d3",
     "locked": true,
     "schema_version": 3,
     "solution": false,
     "task": false
    }
   },
   "source": [
    "**4.07)** In the collected dataset, the values `states[i, :]`, `states[i+1, :]` and `states[i+2, :]` are correlated (in most of the cases), because they are state transitions obtained in the same demonstration. This brakes an important machine learning assumption, which one? "
   ]
  },
  {
   "cell_type": "code",
   "execution_count": 74,
   "metadata": {
    "deletable": false,
    "nbgrader": {
     "cell_type": "code",
     "checksum": "71bb639e8f6d87115e6e3e404841b85a",
     "grade": false,
     "grade_id": "cell-7d8b147a508e8ed4",
     "locked": false,
     "schema_version": 3,
     "solution": true,
     "task": false
    }
   },
   "outputs": [],
   "source": [
    "# Uncomment the correct answer\n",
    "\n",
    "#answer = 'the dataset is big and diverse enough, so our input space is properly represented'\n",
    "#answer = 'the data has a linear relationship'\n",
    "answer = 'the data is i.i.d'\n",
    "#answer = 'the kernel trick'"
   ]
  },
  {
   "cell_type": "code",
   "execution_count": null,
   "metadata": {
    "deletable": false,
    "editable": false,
    "nbgrader": {
     "cell_type": "code",
     "checksum": "863c73eb618d2a9f5295d472d1de280a",
     "grade": true,
     "grade_id": "cell-d688ecea475dbb89",
     "locked": true,
     "points": 1,
     "schema_version": 3,
     "solution": false,
     "task": false
    }
   },
   "outputs": [],
   "source": []
  },
  {
   "cell_type": "markdown",
   "metadata": {
    "deletable": false,
    "editable": false,
    "nbgrader": {
     "cell_type": "markdown",
     "checksum": "dd704fb1a6dbbfb17ea856de92eb1b6b",
     "grade": false,
     "grade_id": "cell-7b5f0b940326f793",
     "locked": true,
     "schema_version": 3,
     "solution": false,
     "task": false
    }
   },
   "source": [
    "This problem is alleviated when we randomly sample from our dataset during training; however, we have to be careful to shuffle the dataset before splitting it into training and test; otherwise, the data in these sets will be highly correlated."
   ]
  },
  {
   "cell_type": "code",
   "execution_count": 75,
   "metadata": {
    "deletable": false,
    "editable": false,
    "nbgrader": {
     "cell_type": "code",
     "checksum": "4c7ce526bcf86a41916830be42960104",
     "grade": false,
     "grade_id": "cell-1a1c11427aaa8933",
     "locked": true,
     "schema_version": 3,
     "solution": false,
     "task": false
    }
   },
   "outputs": [],
   "source": [
    "from sklearn.utils import shuffle\n",
    "from sklearn.model_selection import train_test_split\n",
    "from sklearn.preprocessing import StandardScaler"
   ]
  },
  {
   "cell_type": "markdown",
   "metadata": {
    "deletable": false,
    "editable": false,
    "nbgrader": {
     "cell_type": "markdown",
     "checksum": "b0b283222903decea46c5292939916c4",
     "grade": false,
     "grade_id": "cell-d81616228e4cd3bb",
     "locked": true,
     "schema_version": 3,
     "solution": false,
     "task": false
    }
   },
   "source": [
    "**4.07)** Using the above imported functions, build the function `data_preprocess`, which takes as an argument the `states` and `actions` arrays generated with `generate_dataset` function."
   ]
  },
  {
   "cell_type": "code",
   "execution_count": 76,
   "metadata": {
    "deletable": false,
    "nbgrader": {
     "cell_type": "code",
     "checksum": "ed461f4b85388fd6609aa1739d2752ec",
     "grade": false,
     "grade_id": "cell-e30aba37a3cfe3b6",
     "locked": false,
     "schema_version": 3,
     "solution": true,
     "task": false
    }
   },
   "outputs": [],
   "source": [
    "def data_preprocess(states, actions): \n",
    "    # Shuffle data with random_state=0\n",
    "    shuffled_states, shuffled_actions = shuffle(states,actions,random_state = 0 )\n",
    "\n",
    "    # Separate data into train and test (20% of the data for test set with random_state=0)\n",
    "    states_train, states_test, actions_train, actions_test = train_test_split(shuffled_states, shuffled_actions, test_size = 0.2, random_state = 0)\n",
    "\n",
    "    # Scale training and test data (remember that test data should never be used to fit data)\n",
    "    scaler = StandardScaler()\n",
    "    states_train_scaled = scaler.fit_transform(states_train)\n",
    "    states_test_scaled = scaler.transform(states_test)\n",
    "\n",
    "    return states_train_scaled, states_test_scaled, actions_train, actions_test, scaler"
   ]
  },
  {
   "cell_type": "code",
   "execution_count": 77,
   "metadata": {},
   "outputs": [],
   "source": [
    "#if you are stuck here, uncomment the lines below to load variables\n",
    "\n",
    "#npzfile = np.load('./get_unstuck/states_actions.npz')\n",
    "#states = npzfile['states']\n",
    "#actions= npzfile['actions']"
   ]
  },
  {
   "cell_type": "markdown",
   "metadata": {
    "deletable": false,
    "editable": false,
    "nbgrader": {
     "cell_type": "markdown",
     "checksum": "6a448ee62c01d8b7e1fa41ed49dbc8de",
     "grade": false,
     "grade_id": "cell-1e85a4b920f0cd08",
     "locked": true,
     "schema_version": 3,
     "solution": false,
     "task": false
    }
   },
   "source": [
    "**4.08)** Preprocess dataset"
   ]
  },
  {
   "cell_type": "code",
   "execution_count": 78,
   "metadata": {
    "deletable": false,
    "editable": false,
    "nbgrader": {
     "cell_type": "code",
     "checksum": "655418841765cadb6b63b105a05790d3",
     "grade": false,
     "grade_id": "cell-d0ac13be97af0c52",
     "locked": true,
     "schema_version": 3,
     "solution": false,
     "task": false
    }
   },
   "outputs": [],
   "source": [
    "states_train_scaled, states_test_scaled, actions_train, actions_test, scaler = data_preprocess(states, actions)"
   ]
  },
  {
   "cell_type": "code",
   "execution_count": 79,
   "metadata": {
    "deletable": false,
    "editable": false,
    "nbgrader": {
     "cell_type": "code",
     "checksum": "f7706c667f5a77dec8da7f6aabd929c1",
     "grade": true,
     "grade_id": "cell-a95a7826cc24b0db",
     "locked": true,
     "points": 2,
     "schema_version": 3,
     "solution": false,
     "task": false
    }
   },
   "outputs": [],
   "source": [
    "assert states_train_scaled.shape == (61, 4)\n",
    "assert states_test_scaled.shape == (16, 4)\n",
    "assert actions_train.shape == (61,)\n",
    "assert actions_test.shape ==(16,)\n",
    "assert np.abs(states_train_scaled[10, 0] - 0.986126195) < 1e-6\n",
    "assert np.abs(states_test_scaled[4, 3] - -0.129293968) < 1e-6\n",
    "assert int(actions_train[43]) == 7\n",
    "assert int(actions_test[3]) == 0\n"
   ]
  },
  {
   "cell_type": "markdown",
   "metadata": {
    "deletable": false,
    "editable": false,
    "nbgrader": {
     "cell_type": "markdown",
     "checksum": "7b7de24a9a01f555f0d2d1235ffc8aac",
     "grade": false,
     "grade_id": "cell-8aa301681485592d",
     "locked": true,
     "schema_version": 3,
     "solution": false,
     "task": false
    }
   },
   "source": [
    "#### 4.09) Train classifier \n",
    "Build the function `train_classifier` that trains a classifier directly from `states` and `actions` and gets its accuracy score and confusion matrix."
   ]
  },
  {
   "cell_type": "code",
   "execution_count": 80,
   "metadata": {
    "deletable": false,
    "editable": false,
    "nbgrader": {
     "cell_type": "code",
     "checksum": "cc7615d1c8e479fc8572bb8506f704b7",
     "grade": false,
     "grade_id": "cell-623a5a1c0d3ec2c9",
     "locked": true,
     "schema_version": 3,
     "solution": false,
     "task": false
    }
   },
   "outputs": [],
   "source": [
    "from sklearn.ensemble import RandomForestClassifier\n",
    "from sklearn.metrics import accuracy_score, confusion_matrix"
   ]
  },
  {
   "cell_type": "code",
   "execution_count": 81,
   "metadata": {
    "deletable": false,
    "nbgrader": {
     "cell_type": "code",
     "checksum": "7d18e6c6870be39d0428877b2469f197",
     "grade": false,
     "grade_id": "cell-95f17a9265c328eb",
     "locked": false,
     "schema_version": 3,
     "solution": true,
     "task": false
    }
   },
   "outputs": [],
   "source": [
    "def train_classifier(states, actions):\n",
    "    # Prepare data\n",
    "    states_train_scaled, states_test_scaled, actions_train, actions_test, scaler = data_preprocess(states, actions)\n",
    "\n",
    "    \n",
    "    # Train Random Forest with random_state=0\n",
    "    clf = RandomForestClassifier(random_state=0).fit(states_train_scaled,actions_train)\n",
    "   \n",
    "    actions_test_pred = clf.predict(states_test_scaled)\n",
    "    \n",
    "    print(actions_test_pred)\n",
    "    print(actions_test)\n",
    "    accuracy = accuracy_score(actions_test,actions_test_pred)\n",
    "    \n",
    "    conf_matrix = confusion_matrix(actions_test,actions_test_pred,labels = [0,1,2,3,4,5,6,7])\n",
    "    \n",
    "    print(f'Accuracy: {accuracy:.3f}')\n",
    "    print('\\nConfusion matrix:\\n\\n', conf_matrix)\n",
    "    \n",
    "    return clf, accuracy, conf_matrix, scaler"
   ]
  },
  {
   "cell_type": "code",
   "execution_count": null,
   "metadata": {},
   "outputs": [],
   "source": []
  },
  {
   "cell_type": "code",
   "execution_count": 82,
   "metadata": {
    "deletable": false,
    "editable": false,
    "nbgrader": {
     "cell_type": "code",
     "checksum": "a900e61413c9124b77fd2d1097cb04e6",
     "grade": false,
     "grade_id": "cell-58dfc4a4af62d43c",
     "locked": true,
     "schema_version": 3,
     "solution": false,
     "task": false
    }
   },
   "outputs": [
    {
     "name": "stdout",
     "output_type": "stream",
     "text": [
      "[7. 0. 7. 7. 7. 3. 7. 7. 0. 7. 0. 7. 3. 7. 0. 7.]\n",
      "[7. 0. 7. 0. 7. 3. 7. 7. 0. 7. 0. 7. 3. 7. 0. 7.]\n",
      "Accuracy: 0.938\n",
      "\n",
      "Confusion matrix:\n",
      "\n",
      " [[4 0 0 0 0 0 0 1]\n",
      " [0 0 0 0 0 0 0 0]\n",
      " [0 0 0 0 0 0 0 0]\n",
      " [0 0 0 2 0 0 0 0]\n",
      " [0 0 0 0 0 0 0 0]\n",
      " [0 0 0 0 0 0 0 0]\n",
      " [0 0 0 0 0 0 0 0]\n",
      " [0 0 0 0 0 0 0 9]]\n"
     ]
    }
   ],
   "source": [
    "clf, accuracy, conf_matrix, scaler = train_classifier(states, actions)"
   ]
  },
  {
   "cell_type": "code",
   "execution_count": 83,
   "metadata": {
    "deletable": false,
    "editable": false,
    "nbgrader": {
     "cell_type": "code",
     "checksum": "eb7f84e35f7797ea47c9f70eec82338b",
     "grade": true,
     "grade_id": "cell-d3c96e234a0f22d4",
     "locked": true,
     "points": 2,
     "schema_version": 3,
     "solution": false,
     "task": false
    }
   },
   "outputs": [],
   "source": [
    "assert np.abs(accuracy - 0.9375) < 1e-6\n",
    "assert conf_matrix.shape == (8, 8)\n",
    "assert conf_matrix[3, 3] == 2"
   ]
  },
  {
   "cell_type": "markdown",
   "metadata": {
    "deletable": false,
    "editable": false,
    "nbgrader": {
     "cell_type": "markdown",
     "checksum": "1cae5d09dfc3f894d5d7d29fd8568fa5",
     "grade": false,
     "grade_id": "cell-aa2f3e49ea0c45df",
     "locked": true,
     "schema_version": 3,
     "solution": false,
     "task": false
    }
   },
   "source": [
    "**4.10)** There's something about the obtained confusion matrix that indicates that the state/input space of the learning problem is, probably, not properly covered. What is it?"
   ]
  },
  {
   "cell_type": "code",
   "execution_count": 84,
   "metadata": {},
   "outputs": [],
   "source": [
    "#its sprase"
   ]
  },
  {
   "cell_type": "code",
   "execution_count": 85,
   "metadata": {
    "deletable": false,
    "editable": false,
    "nbgrader": {
     "cell_type": "code",
     "checksum": "a5224c363a82fdbe9ec543d7aa899e87",
     "grade": true,
     "grade_id": "cell-98d4a0a086fc934e",
     "locked": true,
     "points": 1,
     "schema_version": 3,
     "solution": false,
     "task": false
    }
   },
   "outputs": [],
   "source": [
    "# Uncomment the correct answer\n",
    "\n",
    "#answer = 'it is not symmetrical'\n",
    "#answer = 'it is sparse'\n",
    "#answer = 'the sum of its elements is low'\n",
    "#answer = 'it is not invertible'\n"
   ]
  },
  {
   "cell_type": "markdown",
   "metadata": {
    "deletable": false,
    "editable": false,
    "nbgrader": {
     "cell_type": "markdown",
     "checksum": "29f8057b0f3de2d5a5e135a8f8390426",
     "grade": false,
     "grade_id": "cell-de29e81f387cf1e1",
     "locked": true,
     "schema_version": 3,
     "solution": false,
     "task": false
    }
   },
   "source": [
    "#### 4.11) Generate trajectories\n",
    "The classifier got a high accuracy, but we observed that the input/state space is not properly covered, let's see how it performs as a planner. \n",
    "\n",
    "The following function generates trajectories from a trained classifier and returns its success rate. \n",
    "\n",
    "* A trajectory is considered to be successful if it reaches the goal before a time limit and does not collide with any obstacle.\n",
    "\n",
    "* The `classifier_planning` function was imported at the beginning of the file and it creates a path using a classifier in a random environment. It returns a dictionary called `trajectory` (similar to `potential_field_planning`) but additionaly you can use the `success` and `collision` keys to check if the goal was reached.\n",
    "\n",
    "* If `show=True`, the function will show the classifier's trajectories in purple and the Artificial Potential Field planner trajectories in red."
   ]
  },
  {
   "cell_type": "code",
   "execution_count": 86,
   "metadata": {
    "deletable": false,
    "editable": false,
    "nbgrader": {
     "cell_type": "code",
     "checksum": "0d483716e3c6316b33ea88ac1064aa04",
     "grade": false,
     "grade_id": "cell-e85110b891e06cd4",
     "locked": true,
     "schema_version": 3,
     "solution": false,
     "task": false
    }
   },
   "outputs": [],
   "source": [
    "def generate_trajectories_classifier(clf, scaler, n_obstacles, n_trajectories_test, show=True):\n",
    "    success_counter = 0  # count the number of times the robot reached the goal\n",
    "    np.random.seed(50)  # reproducibility \n",
    "\n",
    "    if show:\n",
    "        envs = []\n",
    "        trajectories = []\n",
    "    \n",
    "    for i in range(n_trajectories_test):\n",
    "        seed = np.random.randint(low=0, high=1e6)\n",
    "        \n",
    "        # Create environment\n",
    "        env = create_environment(n_obstacles=n_obstacles, seed=seed)\n",
    "       \n",
    "        # Generate trajectory\n",
    "        trajectory = classifier_planning(env, clf, scaler)\n",
    "        success = trajectory['success']\n",
    "        \n",
    "        if show:\n",
    "            envs.append(env)\n",
    "            trajectories.append(trajectory)\n",
    "\n",
    "        # Count goal reached\n",
    "        if success:\n",
    "            success_counter += 1\n",
    "            \n",
    "        # Print if classifier fails\n",
    "        if not success:\n",
    "            print('Trial %i failed!' % i)\n",
    "            \n",
    "        # Print progress\n",
    "        if (i + 1) % int(n_trajectories_test  / 5) == 0:\n",
    "            print('Progress trials: %d %%' % ((i + 1) / n_trajectories_test * 100))\n",
    "    \n",
    "    success_rate = success_counter / n_trajectories_test\n",
    "    print('\\nSuccess rate: %.3f' % success_rate)\n",
    "    \n",
    "    if show:\n",
    "        def plot_test_track(i):\n",
    "            env = envs[i]\n",
    "            success = trajectories[i]['success']\n",
    "            collision = trajectories[i]['collision']\n",
    "\n",
    "            pf_trajectory = potential_field_planning(env)\n",
    "            plot_environment(env, potential_field_trajectory=pf_trajectory, classifier_trajectory=trajectories[i])\n",
    "            plt.title(f'test trajectory {i}, success={success}, collision={collision}')\n",
    "        ipywidgets.interact(plot_test_track, i=(0,n_trajectories_test-1))\n",
    "    \n",
    "    return success_rate"
   ]
  },
  {
   "cell_type": "markdown",
   "metadata": {
    "deletable": false,
    "editable": false,
    "nbgrader": {
     "cell_type": "markdown",
     "checksum": "db1e0969bbd069a3036f774d1b6af976",
     "grade": false,
     "grade_id": "cell-f776db65c715476b",
     "locked": true,
     "schema_version": 3,
     "solution": false,
     "task": false
    }
   },
   "source": [
    "**4.11)** Carefully read this function and answer the questions.\n",
    "\n",
    "**Q1:** What is the variable `n_trajectories_test`?\n",
    "\n",
    "**Q2:** Why does the `classifier_planning` function needs the `scaler` in one of its inputs?"
   ]
  },
  {
   "cell_type": "code",
   "execution_count": 87,
   "metadata": {
    "deletable": false,
    "nbgrader": {
     "cell_type": "code",
     "checksum": "919134cd06b2ccffc0263b3cf7013050",
     "grade": false,
     "grade_id": "cell-80dd8f9f21406f48",
     "locked": false,
     "schema_version": 3,
     "solution": true,
     "task": false
    }
   },
   "outputs": [],
   "source": [
    "# For each question uncomment on of the answers\n",
    "\n",
    "# Answer Q1\n",
    "\n",
    "#A1 = 'Number of environments to train the classifier'\n",
    "A1 = 'Number of environments to test the classifier'\n",
    "#A1 = 'Number of environments in which the classifier was successful'\n",
    "#A1 = 'Number of environments in which the classifier failed'\n",
    "\n",
    "\n",
    "# Answer Q2\n",
    "A2 = 'Because the environment has unscaled states, but the classifier expects scaled inputs'\n",
    "#A2 = 'Because the environment has scaled states, but the classifier expects unscaled inputs'\n",
    "#A2 = 'Because the classifier generates unscaled outputs, but the environment expects scaled actions'\n",
    "#A2 = 'Because the classifier generates scaled outputs, but the environment expects unscaled actions'\n"
   ]
  },
  {
   "cell_type": "code",
   "execution_count": null,
   "metadata": {
    "deletable": false,
    "editable": false,
    "nbgrader": {
     "cell_type": "code",
     "checksum": "ee75b6bbe1e2404cc6220072ece5a0e3",
     "grade": true,
     "grade_id": "cell-dc54636f309ddda9",
     "locked": true,
     "points": 2,
     "schema_version": 3,
     "solution": false,
     "task": false
    }
   },
   "outputs": [],
   "source": []
  },
  {
   "cell_type": "markdown",
   "metadata": {
    "deletable": false,
    "editable": false,
    "nbgrader": {
     "cell_type": "markdown",
     "checksum": "73e64afbb3c36f5011c2859bcb51c395",
     "grade": false,
     "grade_id": "cell-83371785b6191fa3",
     "locked": true,
     "schema_version": 3,
     "solution": false,
     "task": false
    }
   },
   "source": [
    "**4.12)** Run the function `generate_trajectories_classifier` to get the success rate of the learned planner over **100 environments** with **one obstacle** and save it in the variable `suc_5t`."
   ]
  },
  {
   "cell_type": "code",
   "execution_count": 88,
   "metadata": {},
   "outputs": [],
   "source": [
    "#if you are stuck here, uncomment the lines below to load variables\n",
    "\n",
    "# In this case it is required to have pickle installed in the tf2 environment: pip install pickle-mixin\n",
    "\n",
    "#import pickle \n",
    "#with open('./get_unstuck/clf_fitted', 'rb') as config_dictionary_file:\n",
    "#    config_dictionary = pickle.load(config_dictionary_file) \n",
    "    \n",
    "#clf = config_dictionary['clf']\n",
    "#scaler = config_dictionary['scaler']"
   ]
  },
  {
   "cell_type": "code",
   "execution_count": 89,
   "metadata": {
    "deletable": false,
    "nbgrader": {
     "cell_type": "code",
     "checksum": "28ab92bd3a37001843cd8798c95fd4ff",
     "grade": false,
     "grade_id": "cell-e993e30a7b04f622",
     "locked": false,
     "schema_version": 3,
     "solution": true,
     "task": false
    }
   },
   "outputs": [
    {
     "name": "stdout",
     "output_type": "stream",
     "text": [
      "Timeout!\n",
      "Trial 2 failed!\n",
      "Collision detected!\n",
      "Trial 4 failed!\n",
      "Timeout!\n",
      "Trial 5 failed!\n",
      "Timeout!\n",
      "Trial 6 failed!\n",
      "Timeout!\n",
      "Trial 8 failed!\n",
      "Timeout!\n",
      "Trial 9 failed!\n",
      "Timeout!\n",
      "Trial 11 failed!\n",
      "Timeout!\n",
      "Trial 13 failed!\n",
      "Timeout!\n",
      "Trial 16 failed!\n",
      "Timeout!\n",
      "Trial 17 failed!\n",
      "Timeout!\n",
      "Trial 19 failed!\n",
      "Progress trials: 20 %\n",
      "Collision detected!\n",
      "Trial 20 failed!\n",
      "Timeout!\n",
      "Trial 21 failed!\n",
      "Collision detected!\n",
      "Trial 22 failed!\n",
      "Timeout!\n",
      "Trial 23 failed!\n",
      "Timeout!\n",
      "Trial 26 failed!\n",
      "Timeout!\n",
      "Trial 27 failed!\n",
      "Timeout!\n",
      "Trial 28 failed!\n",
      "Timeout!\n",
      "Trial 29 failed!\n",
      "Timeout!\n",
      "Trial 30 failed!\n",
      "Collision detected!\n",
      "Trial 31 failed!\n",
      "Timeout!\n",
      "Trial 32 failed!\n",
      "Timeout!\n",
      "Trial 34 failed!\n",
      "Timeout!\n",
      "Trial 36 failed!\n",
      "Timeout!\n",
      "Trial 38 failed!\n",
      "Timeout!\n",
      "Trial 39 failed!\n",
      "Progress trials: 40 %\n",
      "Timeout!\n",
      "Trial 40 failed!\n",
      "Timeout!\n",
      "Trial 41 failed!\n",
      "Timeout!\n",
      "Trial 43 failed!\n",
      "Timeout!\n",
      "Trial 44 failed!\n",
      "Timeout!\n",
      "Trial 47 failed!\n",
      "Timeout!\n",
      "Trial 49 failed!\n",
      "Timeout!\n",
      "Trial 52 failed!\n",
      "Timeout!\n",
      "Trial 53 failed!\n",
      "Timeout!\n",
      "Trial 54 failed!\n",
      "Timeout!\n",
      "Trial 56 failed!\n",
      "Timeout!\n",
      "Trial 58 failed!\n",
      "Timeout!\n",
      "Trial 59 failed!\n",
      "Progress trials: 60 %\n",
      "Timeout!\n",
      "Trial 63 failed!\n",
      "Timeout!\n",
      "Trial 64 failed!\n",
      "Timeout!\n",
      "Trial 71 failed!\n",
      "Timeout!\n",
      "Trial 73 failed!\n",
      "Timeout!\n",
      "Trial 75 failed!\n",
      "Progress trials: 80 %\n",
      "Timeout!\n",
      "Trial 80 failed!\n",
      "Timeout!\n",
      "Trial 81 failed!\n",
      "Timeout!\n",
      "Trial 84 failed!\n",
      "Timeout!\n",
      "Trial 88 failed!\n",
      "Timeout!\n",
      "Trial 89 failed!\n",
      "Collision detected!\n",
      "Trial 91 failed!\n",
      "Timeout!\n",
      "Trial 93 failed!\n",
      "Timeout!\n",
      "Trial 95 failed!\n",
      "Timeout!\n",
      "Trial 96 failed!\n",
      "Timeout!\n",
      "Trial 97 failed!\n",
      "Timeout!\n",
      "Trial 98 failed!\n",
      "Timeout!\n",
      "Trial 99 failed!\n",
      "Progress trials: 100 %\n",
      "\n",
      "Success rate: 0.450\n"
     ]
    },
    {
     "data": {
      "application/vnd.jupyter.widget-view+json": {
       "model_id": "9ff3eee9c3184d6f9b12828e7716133a",
       "version_major": 2,
       "version_minor": 0
      },
      "text/plain": [
       "interactive(children=(IntSlider(value=49, description='i', max=99), Output()), _dom_classes=('widget-interact'…"
      ]
     },
     "metadata": {},
     "output_type": "display_data"
    }
   ],
   "source": [
    "suc_5t = generate_trajectories_classifier(clf,scaler,1,100)"
   ]
  },
  {
   "cell_type": "code",
   "execution_count": null,
   "metadata": {
    "deletable": false,
    "editable": false,
    "nbgrader": {
     "cell_type": "code",
     "checksum": "09145e4dd4f26dc3b166c6a1e66a8e55",
     "grade": true,
     "grade_id": "cell-634ea5a3b564bd34",
     "locked": true,
     "points": 1,
     "schema_version": 3,
     "solution": false,
     "task": false
    }
   },
   "outputs": [],
   "source": []
  },
  {
   "cell_type": "markdown",
   "metadata": {
    "deletable": false,
    "editable": false,
    "nbgrader": {
     "cell_type": "markdown",
     "checksum": "c52d6a7088e0214a0bb066b899c026d3",
     "grade": false,
     "grade_id": "cell-c7c93c8e64a70aa9",
     "locked": true,
     "schema_version": 3,
     "solution": false,
     "task": false
    }
   },
   "source": [
    "**4.13)** The success rate of the classifier is low, which indicates that the learned planner will fail to reach of the goal more than half of the times. Taking into consideration **4.10**, what should we try to increase the performance of our planner?"
   ]
  },
  {
   "cell_type": "code",
   "execution_count": 90,
   "metadata": {
    "deletable": false,
    "nbgrader": {
     "cell_type": "code",
     "checksum": "b16412b3ee1e2152ac7cf3c03637f93a",
     "grade": false,
     "grade_id": "cell-0633c272dc5ec726",
     "locked": false,
     "schema_version": 3,
     "solution": true,
     "task": false
    }
   },
   "outputs": [],
   "source": [
    "# Uncomment the correct answer\n",
    "\n",
    "#answer = 'a different learning algorithm'\n",
    "#answer = 'feature engineering'\n",
    "#answer = 'filter outliers'\n",
    "answer = 'increase the size of the dataset'\n",
    "\n"
   ]
  },
  {
   "cell_type": "code",
   "execution_count": null,
   "metadata": {
    "deletable": false,
    "editable": false,
    "nbgrader": {
     "cell_type": "code",
     "checksum": "b594783c84ad0a640f73d1e420dd40c5",
     "grade": true,
     "grade_id": "cell-b196f150c053e406",
     "locked": true,
     "points": 1,
     "schema_version": 3,
     "solution": false,
     "task": false
    }
   },
   "outputs": [],
   "source": []
  },
  {
   "cell_type": "markdown",
   "metadata": {
    "deletable": false,
    "editable": false,
    "nbgrader": {
     "cell_type": "markdown",
     "checksum": "3d6ce5d036c5f12c277334ecbc6f00e2",
     "grade": false,
     "grade_id": "cell-9c0c51babcffa447",
     "locked": true,
     "schema_version": 3,
     "solution": false,
     "task": false
    }
   },
   "source": [
    "#### 4.14) Repeat experiment with different settings\n",
    "Using the functions the we created so far in this section, a new function can be constructed to run the complete experiment with different settings using as arguments `n_obstacles`, `n_trajectories_dataset` and `n_trajectories_test`."
   ]
  },
  {
   "cell_type": "code",
   "execution_count": 91,
   "metadata": {
    "deletable": false,
    "editable": false,
    "nbgrader": {
     "cell_type": "code",
     "checksum": "a6616f01035ce0b8895211db3ce1aad6",
     "grade": false,
     "grade_id": "cell-3b6538a0f0d86630",
     "locked": true,
     "schema_version": 3,
     "solution": false,
     "task": false
    }
   },
   "outputs": [],
   "source": [
    "def run_experiment(n_obstacles, n_trajectories_dataset, n_trajectories_test, show=True):\n",
    "    # Create database\n",
    "    print('1) Create dataset: \\n')\n",
    "    states, actions = generate_dataset(n_obstacles, n_trajectories_dataset, show=show)\n",
    "\n",
    "    # Train classifier\n",
    "    print('\\n2) Train classifier: \\n')\n",
    "    clf, accuracy, conf_matrix, scaler = train_classifier(states, actions)\n",
    "\n",
    "    # Generate trajectories with classifier\n",
    "    print('\\n3) Test classifier: \\n')\n",
    "    success_rate = generate_trajectories_classifier(clf, scaler, n_obstacles, n_trajectories_test, show=show)\n",
    "    return success_rate"
   ]
  },
  {
   "cell_type": "markdown",
   "metadata": {
    "deletable": false,
    "editable": false,
    "nbgrader": {
     "cell_type": "markdown",
     "checksum": "68e2a1b8e1e77aed3b5bfda7c33c3fe1",
     "grade": false,
     "grade_id": "cell-14a437335748cdf3",
     "locked": true,
     "schema_version": 3,
     "solution": false,
     "task": false
    }
   },
   "source": [
    "**4.15)** Let's repeat the experiment with 20 trajectories in the dataset."
   ]
  },
  {
   "cell_type": "code",
   "execution_count": 92,
   "metadata": {
    "deletable": false,
    "editable": false,
    "nbgrader": {
     "cell_type": "code",
     "checksum": "ef023dffe3ad3f178bc873fe00bcc0b7",
     "grade": false,
     "grade_id": "cell-5f5c98fdda7a83f3",
     "locked": true,
     "schema_version": 3,
     "solution": false,
     "task": false
    }
   },
   "outputs": [
    {
     "name": "stdout",
     "output_type": "stream",
     "text": [
      "1) Create dataset: \n",
      "\n"
     ]
    },
    {
     "data": {
      "application/vnd.jupyter.widget-view+json": {
       "model_id": "4860570cc87d4469a1eb5e63fabb7905",
       "version_major": 2,
       "version_minor": 0
      },
      "text/plain": [
       "interactive(children=(IntSlider(value=9, description='i', max=19), Output()), _dom_classes=('widget-interact',…"
      ]
     },
     "metadata": {},
     "output_type": "display_data"
    },
    {
     "name": "stdout",
     "output_type": "stream",
     "text": [
      "\n",
      "2) Train classifier: \n",
      "\n",
      "[1. 0. 3. 7. 4. 4. 4. 4. 1. 3. 5. 4. 7. 0. 6. 1. 0. 5. 7. 4. 5. 1. 0. 6.\n",
      " 7. 4. 1. 3. 1. 7. 0. 0. 0. 7. 0. 4. 0. 4. 6. 6. 7. 5. 7. 3. 6. 7. 7. 5.\n",
      " 0. 7. 7. 1. 0. 0. 3. 5. 0. 0. 3. 3. 1. 7.]\n",
      "[1. 0. 3. 7. 4. 4. 4. 4. 1. 3. 5. 4. 7. 0. 6. 1. 0. 5. 7. 4. 5. 1. 0. 6.\n",
      " 7. 4. 7. 3. 1. 7. 0. 0. 0. 7. 0. 4. 7. 4. 6. 6. 7. 5. 0. 4. 6. 7. 7. 5.\n",
      " 0. 7. 7. 1. 0. 0. 3. 5. 7. 0. 3. 3. 1. 7.]\n",
      "Accuracy: 0.919\n",
      "\n",
      "Confusion matrix:\n",
      "\n",
      " [[12  0  0  0  0  0  0  1]\n",
      " [ 0  7  0  0  0  0  0  0]\n",
      " [ 0  0  0  0  0  0  0  0]\n",
      " [ 0  0  0  6  0  0  0  0]\n",
      " [ 0  0  0  1  9  0  0  0]\n",
      " [ 0  0  0  0  0  6  0  0]\n",
      " [ 0  0  0  0  0  0  5  0]\n",
      " [ 2  1  0  0  0  0  0 12]]\n",
      "\n",
      "3) Test classifier: \n",
      "\n",
      "Collision detected!\n",
      "Trial 19 failed!\n",
      "Progress trials: 20 %\n",
      "Collision detected!\n",
      "Trial 31 failed!\n",
      "Progress trials: 40 %\n",
      "Progress trials: 60 %\n",
      "Progress trials: 80 %\n",
      "Collision detected!\n",
      "Trial 88 failed!\n",
      "Progress trials: 100 %\n",
      "\n",
      "Success rate: 0.970\n"
     ]
    },
    {
     "data": {
      "application/vnd.jupyter.widget-view+json": {
       "model_id": "5562ff5780d644ec94c798a483689022",
       "version_major": 2,
       "version_minor": 0
      },
      "text/plain": [
       "interactive(children=(IntSlider(value=49, description='i', max=99), Output()), _dom_classes=('widget-interact'…"
      ]
     },
     "metadata": {},
     "output_type": "display_data"
    }
   ],
   "source": [
    "suc_20t = run_experiment(n_obstacles=1, n_trajectories_dataset=20, n_trajectories_test=100, show=True)"
   ]
  },
  {
   "cell_type": "markdown",
   "metadata": {
    "deletable": false,
    "editable": false,
    "nbgrader": {
     "cell_type": "markdown",
     "checksum": "30ac30dfa8ce6e5e5b6f2d945fa377f5",
     "grade": false,
     "grade_id": "cell-7e50e2782806e36f",
     "locked": true,
     "schema_version": 3,
     "solution": false,
     "task": false
    }
   },
   "source": [
    "**4.16)** The new classifer B got an accuracy of 0.919 and a success rate of 0.97. The previous classifer A got an accuracy of 0.938 and a success rate of 0.45. What can you conclude?"
   ]
  },
  {
   "cell_type": "code",
   "execution_count": 93,
   "metadata": {
    "deletable": false,
    "nbgrader": {
     "cell_type": "code",
     "checksum": "19b522448cb43522e5958b47dcd04ce4",
     "grade": false,
     "grade_id": "cell-c9613ea58a5c441d",
     "locked": false,
     "schema_version": 3,
     "solution": true,
     "task": false
    }
   },
   "outputs": [],
   "source": [
    "# Uncomment the correct answer\n",
    "\n",
    "#answer = 'A is slightly better because its accuracy is higher, but its success rate is lower'\n",
    "#answer = 'B is slightly better because its success rate is higher, but its accuracy is lower'\n",
    "#answer = 'A is clearly better because the accuracy better represents the performance of the planner'\n",
    "answer = 'B is clearly better because the success rate better represents the performance of the planner'\n"
   ]
  },
  {
   "cell_type": "code",
   "execution_count": null,
   "metadata": {
    "deletable": false,
    "editable": false,
    "nbgrader": {
     "cell_type": "code",
     "checksum": "b256946a58ad3df4116273d349d14134",
     "grade": true,
     "grade_id": "cell-3267ebf4790cc8df",
     "locked": true,
     "points": 1,
     "schema_version": 3,
     "solution": false,
     "task": false
    }
   },
   "outputs": [],
   "source": []
  },
  {
   "cell_type": "markdown",
   "metadata": {
    "deletable": false,
    "editable": false,
    "nbgrader": {
     "cell_type": "markdown",
     "checksum": "d5bab599869edb66e133606b08bae8bb",
     "grade": false,
     "grade_id": "cell-0a3cbe86b881e4e2",
     "locked": true,
     "schema_version": 3,
     "solution": false,
     "task": false
    }
   },
   "source": [
    "**4.17)** Therefore, can we conclude that increasing the size of the dataset helped to improve the performance of the learned planner? Choose the best answer."
   ]
  },
  {
   "cell_type": "code",
   "execution_count": 94,
   "metadata": {
    "deletable": false,
    "nbgrader": {
     "cell_type": "code",
     "checksum": "48d0fd75c9b000e3d34ad3c162b37fc9",
     "grade": false,
     "grade_id": "cell-c16819e631ea623b",
     "locked": false,
     "schema_version": 3,
     "solution": true,
     "task": false
    }
   },
   "outputs": [],
   "source": [
    "# Uncomment the correct answer\n",
    "\n",
    "#answer = 'yes, slightly'\n",
    "answer = 'yes, a lot'\n",
    "#answer = 'it is not clear'\n",
    "#answer = 'no, it decreased'\n"
   ]
  },
  {
   "cell_type": "code",
   "execution_count": null,
   "metadata": {
    "deletable": false,
    "editable": false,
    "nbgrader": {
     "cell_type": "code",
     "checksum": "797229c9ba0716b10850cf9756926031",
     "grade": true,
     "grade_id": "cell-803c08a881d14967",
     "locked": true,
     "points": 1,
     "schema_version": 3,
     "solution": false,
     "task": false
    }
   },
   "outputs": [],
   "source": []
  },
  {
   "cell_type": "markdown",
   "metadata": {
    "deletable": false,
    "editable": false,
    "nbgrader": {
     "cell_type": "markdown",
     "checksum": "e2c79c7cd1bd076a9da5e3fb972dcff1",
     "grade": false,
     "grade_id": "cell-ac91ffd67d45fe8e",
     "locked": true,
     "schema_version": 3,
     "solution": false,
     "task": false
    }
   },
   "source": [
    "#### 4.18) Multiple Obstacles\n",
    "So far, we have been using environments with one obstacle, let's see what happens if we use environments with two obstacles."
   ]
  },
  {
   "cell_type": "code",
   "execution_count": 95,
   "metadata": {},
   "outputs": [
    {
     "name": "stdout",
     "output_type": "stream",
     "text": [
      "1) Create dataset: \n",
      "\n"
     ]
    },
    {
     "data": {
      "application/vnd.jupyter.widget-view+json": {
       "model_id": "5185d7493bde4055a338f57fe5e0bead",
       "version_major": 2,
       "version_minor": 0
      },
      "text/plain": [
       "interactive(children=(IntSlider(value=9, description='i', max=19), Output()), _dom_classes=('widget-interact',…"
      ]
     },
     "metadata": {},
     "output_type": "display_data"
    },
    {
     "name": "stdout",
     "output_type": "stream",
     "text": [
      "\n",
      "2) Train classifier: \n",
      "\n",
      "[0. 5. 3. 5. 5. 2. 7. 0. 5. 5. 5. 3. 2. 3. 5. 3. 0. 5. 5. 3. 3. 2. 2. 0.\n",
      " 3. 2. 5. 7. 0. 3. 5. 1. 6. 0. 5. 0. 2. 3. 4. 0. 3. 3. 7. 5. 2. 3. 2. 2.\n",
      " 4. 5. 5. 7. 5. 0. 6. 2. 2. 3. 3. 5. 4. 2. 0. 2. 0. 0. 3. 3. 0.]\n",
      "[0. 5. 3. 2. 5. 2. 7. 0. 2. 5. 5. 3. 2. 3. 5. 6. 0. 5. 2. 3. 3. 2. 2. 0.\n",
      " 3. 2. 2. 7. 7. 3. 5. 1. 0. 7. 5. 6. 2. 3. 3. 7. 3. 3. 1. 5. 5. 4. 2. 2.\n",
      " 4. 2. 5. 7. 5. 0. 6. 2. 2. 3. 3. 5. 4. 2. 0. 2. 0. 0. 3. 3. 3.]\n",
      "Accuracy: 0.768\n",
      "\n",
      "Confusion matrix:\n",
      "\n",
      " [[ 8  0  0  0  0  0  1  0]\n",
      " [ 0  1  0  0  0  0  0  1]\n",
      " [ 0  0 12  0  0  5  0  0]\n",
      " [ 1  0  0 14  1  0  0  0]\n",
      " [ 0  0  0  1  2  0  0  0]\n",
      " [ 0  0  1  0  0 12  0  0]\n",
      " [ 1  0  0  1  0  0  1  0]\n",
      " [ 3  0  0  0  0  0  0  3]]\n",
      "\n",
      "3) Test classifier: \n",
      "\n",
      "Timeout!\n",
      "Trial 2 failed!\n",
      "Collision detected!\n",
      "Trial 6 failed!\n",
      "Collision detected!\n",
      "Trial 8 failed!\n",
      "Collision detected!\n",
      "Trial 18 failed!\n",
      "Progress trials: 20 %\n",
      "Timeout!\n",
      "Trial 24 failed!\n",
      "Collision detected!\n",
      "Trial 36 failed!\n",
      "Collision detected!\n",
      "Trial 39 failed!\n",
      "Progress trials: 40 %\n",
      "Collision detected!\n",
      "Trial 43 failed!\n",
      "Timeout!\n",
      "Trial 46 failed!\n",
      "Timeout!\n",
      "Trial 47 failed!\n",
      "Timeout!\n",
      "Trial 48 failed!\n",
      "Collision detected!\n",
      "Trial 51 failed!\n",
      "Collision detected!\n",
      "Trial 55 failed!\n",
      "Collision detected!\n",
      "Trial 58 failed!\n",
      "Progress trials: 60 %\n",
      "Timeout!\n",
      "Trial 60 failed!\n",
      "Timeout!\n",
      "Trial 61 failed!\n",
      "Collision detected!\n",
      "Trial 66 failed!\n",
      "Collision detected!\n",
      "Trial 68 failed!\n",
      "Collision detected!\n",
      "Trial 74 failed!\n",
      "Progress trials: 80 %\n",
      "Collision detected!\n",
      "Trial 81 failed!\n",
      "Timeout!\n",
      "Trial 87 failed!\n",
      "Progress trials: 100 %\n",
      "\n",
      "Success rate: 0.790\n"
     ]
    },
    {
     "data": {
      "application/vnd.jupyter.widget-view+json": {
       "model_id": "7be97a3f8352415a951848d25ed628e8",
       "version_major": 2,
       "version_minor": 0
      },
      "text/plain": [
       "interactive(children=(IntSlider(value=49, description='i', max=99), Output()), _dom_classes=('widget-interact'…"
      ]
     },
     "metadata": {},
     "output_type": "display_data"
    }
   ],
   "source": [
    "suc_20t = run_experiment(n_obstacles=2, n_trajectories_dataset=20, n_trajectories_test=100, show=True)"
   ]
  },
  {
   "cell_type": "markdown",
   "metadata": {
    "deletable": false,
    "editable": false,
    "nbgrader": {
     "cell_type": "markdown",
     "checksum": "72830cb897d71fbbc466036647130653",
     "grade": false,
     "grade_id": "cell-141f7ba9482414a4",
     "locked": true,
     "schema_version": 3,
     "solution": false,
     "task": false
    }
   },
   "source": [
    "**4.19)** The success rate decreased to 0.79 :(. What could be the most important reason? (*Hint:* this is an appetizer of chapter 8 in the book)"
   ]
  },
  {
   "cell_type": "code",
   "execution_count": 96,
   "metadata": {
    "deletable": false,
    "nbgrader": {
     "cell_type": "code",
     "checksum": "c551b4c546bbf1e96cedcb9e9dae8d06",
     "grade": false,
     "grade_id": "cell-c7f537e39b82cb94",
     "locked": false,
     "schema_version": 3,
     "solution": true,
     "task": false
    }
   },
   "outputs": [],
   "source": [
    "# Uncomment the correct answer\n",
    "\n",
    "#answer = 'there are many random variables that can influence the performance, so it is probably unluckiness'\n",
    "#answer = 'the curse of dimensionality'\n",
    "answer = 'it is easier to collide if there are two obstacles'\n",
    "#answer = 'the problem became nonlinear'\n"
   ]
  },
  {
   "cell_type": "code",
   "execution_count": null,
   "metadata": {
    "deletable": false,
    "editable": false,
    "nbgrader": {
     "cell_type": "code",
     "checksum": "2eba5fd74b6c5a68bf9c06d00e6ed972",
     "grade": true,
     "grade_id": "cell-befcdba4e4e7f4cf",
     "locked": true,
     "points": 1,
     "schema_version": 3,
     "solution": false,
     "task": false
    }
   },
   "outputs": [],
   "source": []
  },
  {
   "cell_type": "markdown",
   "metadata": {
    "deletable": false,
    "editable": false,
    "nbgrader": {
     "cell_type": "markdown",
     "checksum": "e47636a6a4ae2978a132e07670d46761",
     "grade": false,
     "grade_id": "cell-ddf3c5547c099b91",
     "locked": true,
     "schema_version": 3,
     "solution": false,
     "task": false
    }
   },
   "source": [
    "**4.20)** Once again, this problem can be alleviated with more data. Let's retrain using 100 trajectories."
   ]
  },
  {
   "cell_type": "code",
   "execution_count": 97,
   "metadata": {
    "deletable": false,
    "editable": false,
    "nbgrader": {
     "cell_type": "code",
     "checksum": "3870b0556ce3690715aa9c9cf001042e",
     "grade": false,
     "grade_id": "cell-1c9d4c5d7e0cff27",
     "locked": true,
     "schema_version": 3,
     "solution": false,
     "task": false
    }
   },
   "outputs": [
    {
     "name": "stdout",
     "output_type": "stream",
     "text": [
      "1) Create dataset: \n",
      "\n"
     ]
    },
    {
     "data": {
      "application/vnd.jupyter.widget-view+json": {
       "model_id": "7ca8393d67ec459b926b92d863d5dd1d",
       "version_major": 2,
       "version_minor": 0
      },
      "text/plain": [
       "interactive(children=(IntSlider(value=49, description='i', max=99), Output()), _dom_classes=('widget-interact'…"
      ]
     },
     "metadata": {},
     "output_type": "display_data"
    },
    {
     "name": "stdout",
     "output_type": "stream",
     "text": [
      "\n",
      "2) Train classifier: \n",
      "\n",
      "[3. 4. 4. 4. 0. 6. 4. 1. 4. 6. 0. 0. 7. 2. 7. 6. 4. 3. 2. 1. 6. 3. 0. 1.\n",
      " 0. 1. 2. 5. 2. 2. 1. 2. 3. 1. 6. 3. 3. 3. 4. 6. 3. 3. 0. 4. 0. 4. 0. 5.\n",
      " 7. 6. 0. 4. 5. 0. 7. 3. 1. 2. 2. 6. 2. 0. 7. 3. 5. 1. 0. 7. 4. 6. 1. 3.\n",
      " 7. 2. 7. 0. 7. 0. 3. 2. 2. 3. 3. 5. 4. 2. 2. 0. 7. 1. 4. 0. 1. 4. 7. 2.\n",
      " 4. 7. 4. 3. 2. 2. 1. 0. 4. 0. 7. 2. 2. 4. 2. 4. 1. 6. 0. 5. 5. 7. 7. 3.\n",
      " 0. 2. 1. 5. 7. 0. 1. 3. 4. 5. 7. 1. 3. 0. 4. 4. 4. 6. 0. 5. 4. 6. 0. 7.\n",
      " 6. 4. 4. 5. 5. 4. 0. 4. 7. 5. 6. 5. 1. 4. 4. 6. 1. 7. 5. 5. 5. 7. 3. 3.\n",
      " 0. 4. 3. 0. 0. 4. 0. 2. 1. 0. 7. 2. 5. 1. 1. 4. 0. 2. 3. 2. 5. 0. 4. 1.\n",
      " 5. 5. 3. 2. 1. 7. 6. 0. 5. 1. 2. 0. 0. 6. 6. 3. 0. 1. 3. 1. 4. 5. 2. 7.\n",
      " 1. 0. 3. 0. 5. 3. 2. 7. 0. 0. 0. 2. 2. 7. 5. 6. 5. 0. 2. 0. 2. 5. 6. 5.\n",
      " 6. 3. 3. 0. 7. 0. 1. 7. 3. 4. 7. 1. 3. 2. 5. 5. 3. 5. 4. 5. 0. 7. 0. 7.\n",
      " 5. 6. 2. 7. 0. 2. 7. 5. 3. 7. 2. 5. 4. 5. 5. 3. 7. 1. 7. 3. 0. 6. 7. 6.\n",
      " 5. 1. 0. 5. 5. 0. 0. 0. 4. 3. 7. 7. 5. 0. 2. 7. 4. 0. 0. 5. 2. 6. 1. 7.\n",
      " 1. 6. 5. 0. 5. 1. 7. 1. 5. 5. 3. 3. 5. 1. 1. 0. 6. 3. 2. 6. 2. 3. 2. 7.]\n",
      "[3. 4. 3. 4. 0. 0. 4. 1. 4. 0. 0. 0. 7. 5. 7. 6. 4. 3. 5. 1. 6. 3. 0. 1.\n",
      " 0. 1. 2. 2. 2. 2. 7. 2. 3. 1. 3. 3. 3. 3. 4. 6. 3. 3. 0. 4. 0. 4. 0. 2.\n",
      " 5. 3. 0. 4. 5. 7. 0. 6. 7. 2. 2. 6. 2. 0. 7. 3. 5. 7. 0. 7. 3. 0. 5. 3.\n",
      " 7. 2. 7. 0. 7. 0. 3. 2. 2. 4. 3. 5. 4. 2. 2. 0. 7. 5. 3. 0. 1. 4. 7. 5.\n",
      " 4. 7. 4. 3. 2. 2. 1. 0. 4. 0. 7. 2. 2. 3. 2. 4. 1. 0. 0. 5. 5. 7. 7. 6.\n",
      " 0. 2. 1. 1. 7. 0. 1. 3. 4. 5. 7. 1. 3. 0. 4. 2. 4. 3. 0. 5. 4. 0. 6. 7.\n",
      " 0. 4. 4. 5. 5. 4. 0. 4. 7. 5. 6. 5. 1. 4. 4. 6. 1. 7. 5. 5. 5. 0. 3. 3.\n",
      " 0. 4. 3. 0. 0. 4. 0. 5. 1. 0. 1. 2. 5. 1. 1. 4. 6. 2. 3. 5. 5. 0. 4. 1.\n",
      " 2. 5. 3. 2. 5. 7. 6. 0. 5. 1. 2. 0. 0. 6. 6. 3. 0. 1. 3. 1. 3. 5. 2. 7.\n",
      " 1. 0. 3. 0. 2. 3. 2. 7. 0. 0. 0. 2. 2. 7. 5. 3. 5. 0. 4. 0. 2. 5. 3. 2.\n",
      " 6. 3. 4. 0. 7. 0. 5. 7. 3. 4. 7. 1. 3. 2. 5. 5. 3. 5. 4. 5. 0. 7. 0. 0.\n",
      " 5. 6. 5. 7. 0. 4. 7. 5. 3. 7. 2. 5. 4. 5. 5. 3. 7. 5. 7. 3. 7. 3. 7. 6.\n",
      " 5. 1. 0. 5. 5. 0. 0. 0. 4. 3. 7. 1. 5. 6. 2. 7. 4. 0. 0. 5. 2. 3. 1. 7.\n",
      " 1. 6. 5. 0. 1. 1. 0. 1. 5. 7. 3. 3. 2. 1. 1. 0. 6. 3. 2. 6. 2. 3. 2. 7.]\n",
      "Accuracy: 0.821\n",
      "\n",
      "Confusion matrix:\n",
      "\n",
      " [[53  0  0  0  0  0  6  4]\n",
      " [ 0 29  0  0  0  2  0  2]\n",
      " [ 0  0 34  0  1  6  0  0]\n",
      " [ 0  0  0 37  5  0  7  0]\n",
      " [ 0  0  2  2 34  0  0  0]\n",
      " [ 0  5  6  0  0 38  0  1]\n",
      " [ 3  0  0  2  0  0 15  0]\n",
      " [ 2  3  0  0  0  1  0 36]]\n",
      "\n",
      "3) Test classifier: \n",
      "\n",
      "Collision detected!\n",
      "Trial 6 failed!\n",
      "Collision detected!\n",
      "Trial 15 failed!\n",
      "Collision detected!\n",
      "Trial 18 failed!\n",
      "Progress trials: 20 %\n",
      "Collision detected!\n",
      "Trial 36 failed!\n",
      "Collision detected!\n",
      "Trial 39 failed!\n",
      "Progress trials: 40 %\n",
      "Collision detected!\n",
      "Trial 43 failed!\n",
      "Collision detected!\n",
      "Trial 51 failed!\n",
      "Collision detected!\n",
      "Trial 55 failed!\n",
      "Collision detected!\n",
      "Trial 58 failed!\n",
      "Progress trials: 60 %\n",
      "Collision detected!\n",
      "Trial 66 failed!\n",
      "Progress trials: 80 %\n",
      "Collision detected!\n",
      "Trial 81 failed!\n",
      "Progress trials: 100 %\n",
      "\n",
      "Success rate: 0.890\n"
     ]
    },
    {
     "data": {
      "application/vnd.jupyter.widget-view+json": {
       "model_id": "7462c5bcdce44edc84f29f975fcaf4f7",
       "version_major": 2,
       "version_minor": 0
      },
      "text/plain": [
       "interactive(children=(IntSlider(value=49, description='i', max=99), Output()), _dom_classes=('widget-interact'…"
      ]
     },
     "metadata": {},
     "output_type": "display_data"
    }
   ],
   "source": [
    "suc_20t = run_experiment(n_obstacles=2, n_trajectories_dataset=100, n_trajectories_test=100, show=True)"
   ]
  },
  {
   "cell_type": "markdown",
   "metadata": {
    "deletable": false,
    "editable": false,
    "nbgrader": {
     "cell_type": "markdown",
     "checksum": "a0f0f6a82438bee1e48ce0adebc9c031",
     "grade": false,
     "grade_id": "cell-4dd6a70e3c8b0ae1",
     "locked": true,
     "schema_version": 3,
     "solution": false,
     "task": false
    }
   },
   "source": [
    "We can observe that the success rate increased to 0.89, which is not as good as before, but still is a good improvement :)."
   ]
  },
  {
   "cell_type": "markdown",
   "metadata": {
    "deletable": false,
    "editable": false,
    "nbgrader": {
     "cell_type": "markdown",
     "checksum": "decfe91754b3f9ff80d2555e2770fbe0",
     "grade": false,
     "grade_id": "cell-66b82438a627311e",
     "locked": true,
     "schema_version": 3,
     "solution": false,
     "task": false
    }
   },
   "source": [
    "#### 4.21) Repeat experiments with different settings and compare\n",
    "To finalize this assignment, we have the function `repeat_experiments` that gets the success rate of the classifier when trained with datasets of different sizes and different number of obstacles."
   ]
  },
  {
   "cell_type": "code",
   "execution_count": 98,
   "metadata": {
    "deletable": false,
    "editable": false,
    "nbgrader": {
     "cell_type": "code",
     "checksum": "396de63ece0a20d675e3e12d51ae0f90",
     "grade": false,
     "grade_id": "cell-4c13fe757ea070f2",
     "locked": true,
     "schema_version": 3,
     "solution": false,
     "task": false
    }
   },
   "outputs": [],
   "source": [
    "def repeat_experiments(n_trajectories_list, n_obstacles_list):  \n",
    "    success_rate_list_obstacle = []\n",
    "    \n",
    "    # Iterate for every obstacle number\n",
    "    for i in n_obstacles_list:\n",
    "        print('\\nNumber of obstacles:', i)\n",
    "        success_rate_list_n_trajectories = []\n",
    "        \n",
    "        # Iterate for every number of trajectories in dataset\n",
    "        for j in n_trajectories_list:\n",
    "            print('\\nNumber trajectories dataset:', j)\n",
    "            \n",
    "            # Get success rate\n",
    "            suc_it = run_experiment(n_obstacles=i, n_trajectories_dataset=j, n_trajectories_test=100, show=False)\n",
    "            success_rate_list_n_trajectories.append(suc_it)\n",
    "            \n",
    "        success_rate_list_obstacle.append(success_rate_list_n_trajectories)      \n",
    "    return success_rate_list_obstacle"
   ]
  },
  {
   "cell_type": "markdown",
   "metadata": {
    "deletable": false,
    "editable": false,
    "nbgrader": {
     "cell_type": "markdown",
     "checksum": "959a2088ce5f40b364bf110171b70f56",
     "grade": false,
     "grade_id": "cell-cbc8e138fd6a4593",
     "locked": true,
     "schema_version": 3,
     "solution": false,
     "task": false
    }
   },
   "source": [
    "**4.22)** Run it for 1, 2, and 3 obstacles, and for 1, 5, 10, 20, 40, 60 and 80 demonstrations in our dataset.\n",
    "\n",
    "*Warning: it will take some time to get these results. It's a good opportunity to get a nice cup of tea...*"
   ]
  },
  {
   "cell_type": "code",
   "execution_count": 99,
   "metadata": {
    "deletable": false,
    "editable": false,
    "nbgrader": {
     "cell_type": "code",
     "checksum": "62ac4e80b1b0b96e7594ccb265a645bb",
     "grade": false,
     "grade_id": "cell-382cf271be673977",
     "locked": true,
     "schema_version": 3,
     "solution": false,
     "task": false
    }
   },
   "outputs": [
    {
     "name": "stdout",
     "output_type": "stream",
     "text": [
      "\n",
      "Number of obstacles: 1\n",
      "\n",
      "Number trajectories dataset: 1\n",
      "1) Create dataset: \n",
      "\n",
      "\n",
      "2) Train classifier: \n",
      "\n",
      "[1. 1.]\n",
      "[1. 5.]\n",
      "Accuracy: 0.500\n",
      "\n",
      "Confusion matrix:\n",
      "\n",
      " [[0 0 0 0 0 0 0 0]\n",
      " [0 1 0 0 0 0 0 0]\n",
      " [0 0 0 0 0 0 0 0]\n",
      " [0 0 0 0 0 0 0 0]\n",
      " [0 0 0 0 0 0 0 0]\n",
      " [0 1 0 0 0 0 0 0]\n",
      " [0 0 0 0 0 0 0 0]\n",
      " [0 0 0 0 0 0 0 0]]\n",
      "\n",
      "3) Test classifier: \n",
      "\n",
      "Collision detected!\n",
      "Trial 0 failed!\n",
      "Timeout!\n",
      "Trial 1 failed!\n",
      "Timeout!\n",
      "Trial 2 failed!\n",
      "Timeout!\n",
      "Trial 3 failed!\n",
      "Timeout!\n",
      "Trial 4 failed!\n",
      "Collision detected!\n",
      "Trial 5 failed!\n",
      "Timeout!\n",
      "Trial 6 failed!\n",
      "Timeout!\n",
      "Trial 8 failed!\n",
      "Timeout!\n",
      "Trial 9 failed!\n",
      "Timeout!\n",
      "Trial 11 failed!\n",
      "Timeout!\n",
      "Trial 12 failed!\n",
      "Timeout!\n",
      "Trial 13 failed!\n",
      "Timeout!\n",
      "Trial 14 failed!\n",
      "Timeout!\n",
      "Trial 16 failed!\n",
      "Timeout!\n",
      "Trial 17 failed!\n",
      "Timeout!\n",
      "Trial 18 failed!\n",
      "Timeout!\n",
      "Trial 19 failed!\n",
      "Progress trials: 20 %\n",
      "Collision detected!\n",
      "Trial 20 failed!\n",
      "Timeout!\n",
      "Trial 21 failed!\n",
      "Timeout!\n",
      "Trial 22 failed!\n",
      "Timeout!\n",
      "Trial 23 failed!\n",
      "Timeout!\n",
      "Trial 25 failed!\n",
      "Timeout!\n",
      "Trial 26 failed!\n",
      "Timeout!\n",
      "Trial 27 failed!\n",
      "Timeout!\n",
      "Trial 28 failed!\n",
      "Timeout!\n",
      "Trial 29 failed!\n",
      "Timeout!\n",
      "Trial 30 failed!\n",
      "Timeout!\n",
      "Trial 31 failed!\n",
      "Timeout!\n",
      "Trial 32 failed!\n",
      "Timeout!\n",
      "Trial 33 failed!\n",
      "Timeout!\n",
      "Trial 34 failed!\n",
      "Timeout!\n",
      "Trial 36 failed!\n",
      "Timeout!\n",
      "Trial 38 failed!\n",
      "Timeout!\n",
      "Trial 39 failed!\n",
      "Progress trials: 40 %\n",
      "Timeout!\n",
      "Trial 40 failed!\n",
      "Timeout!\n",
      "Trial 41 failed!\n",
      "Timeout!\n",
      "Trial 42 failed!\n",
      "Timeout!\n",
      "Trial 43 failed!\n",
      "Timeout!\n",
      "Trial 44 failed!\n",
      "Timeout!\n",
      "Trial 45 failed!\n",
      "Collision detected!\n",
      "Trial 46 failed!\n",
      "Timeout!\n",
      "Trial 47 failed!\n",
      "Timeout!\n",
      "Trial 48 failed!\n",
      "Collision detected!\n",
      "Trial 49 failed!\n",
      "Timeout!\n",
      "Trial 50 failed!\n",
      "Collision detected!\n",
      "Trial 52 failed!\n",
      "Timeout!\n",
      "Trial 53 failed!\n",
      "Timeout!\n",
      "Trial 54 failed!\n",
      "Timeout!\n",
      "Trial 55 failed!\n",
      "Timeout!\n",
      "Trial 56 failed!\n",
      "Timeout!\n",
      "Trial 57 failed!\n",
      "Timeout!\n",
      "Trial 58 failed!\n",
      "Timeout!\n",
      "Trial 59 failed!\n",
      "Progress trials: 60 %\n",
      "Timeout!\n",
      "Trial 63 failed!\n",
      "Timeout!\n",
      "Trial 64 failed!\n",
      "Collision detected!\n",
      "Trial 65 failed!\n",
      "Timeout!\n",
      "Trial 67 failed!\n",
      "Timeout!\n",
      "Trial 68 failed!\n",
      "Collision detected!\n",
      "Trial 69 failed!\n",
      "Timeout!\n",
      "Trial 70 failed!\n",
      "Timeout!\n",
      "Trial 71 failed!\n",
      "Timeout!\n",
      "Trial 72 failed!\n",
      "Timeout!\n",
      "Trial 73 failed!\n",
      "Timeout!\n",
      "Trial 75 failed!\n",
      "Timeout!\n",
      "Trial 76 failed!\n",
      "Timeout!\n",
      "Trial 78 failed!\n",
      "Progress trials: 80 %\n",
      "Timeout!\n",
      "Trial 80 failed!\n",
      "Timeout!\n",
      "Trial 81 failed!\n",
      "Timeout!\n",
      "Trial 82 failed!\n",
      "Timeout!\n",
      "Trial 84 failed!\n",
      "Timeout!\n",
      "Trial 85 failed!\n",
      "Timeout!\n",
      "Trial 88 failed!\n",
      "Timeout!\n",
      "Trial 89 failed!\n",
      "Timeout!\n",
      "Trial 91 failed!\n",
      "Collision detected!\n",
      "Trial 92 failed!\n",
      "Timeout!\n",
      "Trial 93 failed!\n",
      "Collision detected!\n",
      "Trial 94 failed!\n",
      "Timeout!\n",
      "Trial 95 failed!\n",
      "Timeout!\n",
      "Trial 96 failed!\n",
      "Timeout!\n",
      "Trial 97 failed!\n",
      "Timeout!\n",
      "Trial 98 failed!\n",
      "Timeout!\n",
      "Trial 99 failed!\n",
      "Progress trials: 100 %\n",
      "\n",
      "Success rate: 0.180\n",
      "\n",
      "Number trajectories dataset: 10\n",
      "1) Create dataset: \n",
      "\n",
      "\n",
      "2) Train classifier: \n",
      "\n",
      "[3. 3. 1. 1. 4. 7. 3. 1. 0. 3. 1. 6. 7. 5. 3. 4. 1. 5. 7. 4. 5. 6. 5. 0.\n",
      " 6. 7. 7. 1. 1. 0. 6.]\n",
      "[3. 3. 5. 1. 4. 7. 6. 1. 0. 3. 7. 6. 7. 5. 3. 4. 1. 5. 7. 4. 5. 6. 5. 0.\n",
      " 6. 7. 7. 1. 1. 7. 6.]\n",
      "Accuracy: 0.871\n",
      "\n",
      "Confusion matrix:\n",
      "\n",
      " [[2 0 0 0 0 0 0 0]\n",
      " [0 5 0 0 0 0 0 0]\n",
      " [0 0 0 0 0 0 0 0]\n",
      " [0 0 0 4 0 0 0 0]\n",
      " [0 0 0 0 3 0 0 0]\n",
      " [0 1 0 0 0 4 0 0]\n",
      " [0 0 0 1 0 0 4 0]\n",
      " [1 1 0 0 0 0 0 5]]\n",
      "\n",
      "3) Test classifier: \n",
      "\n",
      "Collision detected!\n",
      "Trial 4 failed!\n",
      "Timeout!\n",
      "Trial 8 failed!\n",
      "Timeout!\n",
      "Trial 13 failed!\n",
      "Timeout!\n",
      "Trial 17 failed!\n",
      "Collision detected!\n",
      "Trial 19 failed!\n",
      "Progress trials: 20 %\n",
      "Timeout!\n",
      "Trial 27 failed!\n",
      "Timeout!\n",
      "Trial 28 failed!\n",
      "Timeout!\n",
      "Trial 29 failed!\n",
      "Timeout!\n",
      "Trial 30 failed!\n",
      "Collision detected!\n",
      "Trial 31 failed!\n",
      "Timeout!\n",
      "Trial 32 failed!\n",
      "Progress trials: 40 %\n",
      "Timeout!\n",
      "Trial 40 failed!\n",
      "Timeout!\n",
      "Trial 44 failed!\n",
      "Timeout!\n",
      "Trial 52 failed!\n",
      "Timeout!\n",
      "Trial 54 failed!\n",
      "Timeout!\n",
      "Trial 56 failed!\n",
      "Timeout!\n",
      "Trial 58 failed!\n",
      "Progress trials: 60 %\n",
      "Timeout!\n",
      "Trial 63 failed!\n",
      "Timeout!\n",
      "Trial 71 failed!\n",
      "Progress trials: 80 %\n",
      "Timeout!\n",
      "Trial 80 failed!\n",
      "Timeout!\n",
      "Trial 84 failed!\n",
      "Collision detected!\n",
      "Trial 88 failed!\n",
      "Timeout!\n",
      "Trial 99 failed!\n",
      "Progress trials: 100 %\n",
      "\n",
      "Success rate: 0.770\n",
      "\n",
      "Number trajectories dataset: 20\n",
      "1) Create dataset: \n",
      "\n",
      "\n",
      "2) Train classifier: \n",
      "\n",
      "[1. 0. 3. 7. 4. 4. 4. 4. 1. 3. 5. 4. 7. 0. 6. 1. 0. 5. 7. 4. 5. 1. 0. 6.\n",
      " 7. 4. 1. 3. 1. 7. 0. 0. 0. 7. 0. 4. 0. 4. 6. 6. 7. 5. 7. 3. 6. 7. 7. 5.\n",
      " 0. 7. 7. 1. 0. 0. 3. 5. 0. 0. 3. 3. 1. 7.]\n",
      "[1. 0. 3. 7. 4. 4. 4. 4. 1. 3. 5. 4. 7. 0. 6. 1. 0. 5. 7. 4. 5. 1. 0. 6.\n",
      " 7. 4. 7. 3. 1. 7. 0. 0. 0. 7. 0. 4. 7. 4. 6. 6. 7. 5. 0. 4. 6. 7. 7. 5.\n",
      " 0. 7. 7. 1. 0. 0. 3. 5. 7. 0. 3. 3. 1. 7.]\n",
      "Accuracy: 0.919\n",
      "\n",
      "Confusion matrix:\n",
      "\n",
      " [[12  0  0  0  0  0  0  1]\n",
      " [ 0  7  0  0  0  0  0  0]\n",
      " [ 0  0  0  0  0  0  0  0]\n",
      " [ 0  0  0  6  0  0  0  0]\n",
      " [ 0  0  0  1  9  0  0  0]\n",
      " [ 0  0  0  0  0  6  0  0]\n",
      " [ 0  0  0  0  0  0  5  0]\n",
      " [ 2  1  0  0  0  0  0 12]]\n",
      "\n",
      "3) Test classifier: \n",
      "\n",
      "Collision detected!\n",
      "Trial 19 failed!\n",
      "Progress trials: 20 %\n",
      "Collision detected!\n",
      "Trial 31 failed!\n",
      "Progress trials: 40 %\n",
      "Progress trials: 60 %\n",
      "Progress trials: 80 %\n",
      "Collision detected!\n",
      "Trial 88 failed!\n",
      "Progress trials: 100 %\n",
      "\n",
      "Success rate: 0.970\n",
      "\n",
      "Number trajectories dataset: 40\n",
      "1) Create dataset: \n",
      "\n",
      "\n",
      "2) Train classifier: \n",
      "\n",
      "[0. 0. 6. 7. 0. 7. 6. 1. 7. 1. 1. 7. 5. 5. 3. 0. 2. 3. 2. 6. 7. 4. 7. 7.\n",
      " 7. 5. 7. 1. 7. 7. 0. 0. 1. 7. 6. 5. 4. 4. 0. 3. 0. 7. 0. 3. 7. 4. 4. 3.\n",
      " 7. 3. 3. 0. 1. 5. 7. 2. 5. 4. 0. 2. 0. 7. 7. 6. 0. 7. 6. 4. 1. 5. 0. 3.\n",
      " 4. 0. 3. 7. 0. 6. 5. 7. 3. 7. 0. 7. 2. 5. 3. 0. 7. 5. 5. 7. 3. 1. 6. 7.\n",
      " 3. 3. 5. 0. 4. 7. 7. 1. 4. 3. 5. 3. 3. 0. 7. 3. 3. 1. 1. 3.]\n",
      "[0. 0. 6. 7. 0. 7. 6. 1. 7. 1. 1. 7. 5. 5. 3. 0. 2. 3. 2. 6. 7. 4. 7. 7.\n",
      " 7. 5. 7. 1. 7. 7. 0. 0. 0. 7. 6. 5. 4. 3. 0. 3. 0. 7. 0. 3. 0. 4. 4. 3.\n",
      " 7. 3. 3. 0. 1. 5. 7. 2. 5. 4. 0. 2. 0. 7. 7. 6. 0. 7. 6. 3. 1. 5. 0. 3.\n",
      " 4. 0. 3. 7. 0. 6. 5. 7. 3. 7. 0. 7. 2. 5. 3. 0. 7. 5. 5. 7. 3. 1. 6. 0.\n",
      " 3. 3. 5. 0. 4. 7. 7. 1. 4. 3. 5. 3. 3. 0. 7. 3. 3. 1. 5. 3.]\n",
      "Accuracy: 0.948\n",
      "\n",
      "Confusion matrix:\n",
      "\n",
      " [[20  1  0  0  0  0  0  2]\n",
      " [ 0  9  0  0  0  0  0  0]\n",
      " [ 0  0  5  0  0  0  0  0]\n",
      " [ 0  0  0 20  2  0  0  0]\n",
      " [ 0  0  0  0  8  0  0  0]\n",
      " [ 0  1  0  0  0 13  0  0]\n",
      " [ 0  0  0  0  0  0  8  0]\n",
      " [ 0  0  0  0  0  0  0 27]]\n",
      "\n",
      "3) Test classifier: \n",
      "\n",
      "Collision detected!\n",
      "Trial 19 failed!\n",
      "Progress trials: 20 %\n",
      "Collision detected!\n",
      "Trial 31 failed!\n",
      "Progress trials: 40 %\n",
      "Progress trials: 60 %\n",
      "Progress trials: 80 %\n",
      "Collision detected!\n",
      "Trial 88 failed!\n",
      "Progress trials: 100 %\n",
      "\n",
      "Success rate: 0.970\n",
      "\n",
      "Number trajectories dataset: 60\n",
      "1) Create dataset: \n",
      "\n",
      "\n",
      "2) Train classifier: \n",
      "\n",
      "[7. 4. 7. 1. 2. 6. 4. 3. 3. 4. 0. 0. 3. 7. 2. 7. 1. 6. 3. 0. 5. 3. 7. 0.\n",
      " 4. 7. 3. 5. 7. 4. 7. 4. 0. 5. 6. 6. 7. 3. 3. 1. 5. 7. 5. 1. 0. 3. 2. 7.\n",
      " 7. 5. 7. 4. 5. 0. 7. 3. 0. 3. 0. 0. 5. 5. 1. 4. 3. 3. 7. 7. 7. 7. 3. 0.\n",
      " 0. 7. 7. 3. 7. 0. 3. 7. 3. 6. 7. 4. 0. 1. 2. 0. 7. 7. 7. 1. 7. 1. 1. 3.\n",
      " 7. 5. 6. 0. 7. 4. 1. 1. 1. 0. 0. 5. 1. 3. 6. 0. 0. 0. 0. 7. 2. 1. 1. 0.\n",
      " 0. 1. 1. 4. 0. 5. 7. 0. 3. 3. 3. 4. 7. 0. 3. 3. 1. 0. 0. 3. 1. 7. 0. 7.\n",
      " 3. 0. 6. 7. 7. 1. 7. 5. 6. 0. 4. 4. 5. 3. 7. 6. 7. 6. 1. 0. 0.]\n",
      "[7. 4. 7. 1. 2. 6. 4. 3. 3. 4. 0. 0. 3. 7. 2. 7. 1. 6. 3. 0. 5. 3. 7. 7.\n",
      " 4. 7. 3. 5. 7. 4. 7. 4. 3. 5. 6. 3. 7. 3. 3. 1. 5. 7. 5. 1. 0. 3. 2. 7.\n",
      " 0. 5. 0. 4. 5. 0. 7. 3. 0. 3. 0. 0. 5. 5. 1. 4. 3. 3. 7. 7. 7. 7. 3. 0.\n",
      " 6. 7. 7. 3. 7. 0. 3. 7. 3. 6. 7. 4. 0. 1. 2. 0. 7. 7. 7. 1. 7. 1. 1. 3.\n",
      " 7. 5. 3. 0. 7. 4. 1. 1. 1. 7. 0. 5. 5. 3. 6. 0. 7. 0. 0. 7. 2. 0. 1. 0.\n",
      " 0. 1. 1. 4. 6. 5. 7. 0. 3. 3. 3. 4. 7. 0. 3. 3. 1. 7. 0. 3. 1. 7. 0. 7.\n",
      " 3. 0. 6. 7. 7. 1. 7. 5. 6. 0. 4. 4. 5. 3. 7. 6. 7. 6. 1. 0. 0.]\n",
      "Accuracy: 0.921\n",
      "\n",
      "Confusion matrix:\n",
      "\n",
      " [[27  1  0  0  0  0  0  2]\n",
      " [ 0 19  0  0  0  0  0  0]\n",
      " [ 0  0  5  0  0  0  0  0]\n",
      " [ 1  0  0 27  0  0  2  0]\n",
      " [ 0  0  0  0 14  0  0  0]\n",
      " [ 0  1  0  0  0 14  0  0]\n",
      " [ 2  0  0  0  0  0  9  0]\n",
      " [ 4  0  0  0  0  0  0 37]]\n",
      "\n",
      "3) Test classifier: \n",
      "\n",
      "Collision detected!\n",
      "Trial 19 failed!\n",
      "Progress trials: 20 %\n",
      "Collision detected!\n",
      "Trial 31 failed!\n",
      "Progress trials: 40 %\n",
      "Progress trials: 60 %\n",
      "Progress trials: 80 %\n",
      "Collision detected!\n",
      "Trial 88 failed!\n",
      "Progress trials: 100 %\n",
      "\n",
      "Success rate: 0.970\n",
      "\n",
      "Number trajectories dataset: 80\n",
      "1) Create dataset: \n",
      "\n",
      "\n",
      "2) Train classifier: \n",
      "\n",
      "[3. 3. 0. 0. 0. 6. 0. 0. 2. 4. 0. 7. 0. 7. 5. 5. 4. 5. 0. 3. 2. 0. 6. 5.\n",
      " 0. 0. 0. 1. 7. 0. 3. 1. 1. 3. 3. 2. 0. 3. 7. 7. 0. 1. 1. 5. 0. 0. 6. 5.\n",
      " 1. 2. 6. 6. 2. 7. 3. 7. 1. 0. 0. 3. 0. 7. 5. 4. 5. 4. 5. 1. 0. 0. 4. 7.\n",
      " 7. 0. 0. 1. 7. 3. 0. 2. 5. 7. 5. 3. 7. 0. 7. 0. 0. 7. 5. 3. 7. 0. 4. 7.\n",
      " 0. 3. 0. 7. 0. 4. 6. 1. 5. 6. 7. 4. 7. 3. 5. 0. 0. 4. 5. 5. 5. 2. 0. 4.\n",
      " 0. 7. 6. 3. 4. 5. 2. 4. 7. 3. 3. 0. 0. 0. 1. 0. 5. 3. 1. 3. 5. 7. 5. 7.\n",
      " 1. 3. 5. 7. 1. 3. 1. 2. 3. 0. 7. 2. 0. 4. 1. 7. 3. 0. 6. 5. 0. 7. 7. 4.\n",
      " 1. 5. 6. 6. 7. 5. 7. 4. 0. 4. 1. 3. 6. 5. 3. 1. 5. 5. 3. 7. 1. 0. 0. 5.\n",
      " 1. 3. 3. 5. 7. 6. 3. 3. 7. 3. 1. 0. 7. 6. 7. 5. 7. 2. 5. 7. 3. 0. 3. 7.\n",
      " 7. 6. 2. 3. 3.]\n",
      "[3. 3. 0. 0. 0. 6. 0. 0. 2. 4. 0. 7. 0. 7. 5. 5. 4. 5. 0. 3. 2. 0. 6. 5.\n",
      " 0. 0. 0. 1. 0. 0. 3. 1. 1. 3. 3. 2. 0. 3. 7. 7. 0. 1. 1. 5. 0. 0. 6. 2.\n",
      " 1. 2. 6. 6. 2. 7. 3. 7. 1. 0. 0. 3. 0. 7. 5. 4. 5. 4. 5. 1. 0. 0. 4. 7.\n",
      " 7. 0. 0. 1. 7. 3. 0. 2. 5. 7. 5. 3. 7. 0. 7. 0. 0. 7. 5. 3. 7. 0. 4. 7.\n",
      " 0. 4. 6. 7. 0. 4. 0. 1. 5. 6. 7. 4. 7. 3. 5. 0. 0. 4. 5. 5. 5. 2. 0. 4.\n",
      " 0. 7. 6. 3. 4. 5. 2. 4. 7. 3. 3. 6. 0. 0. 1. 7. 5. 3. 1. 3. 5. 7. 5. 7.\n",
      " 1. 3. 5. 7. 1. 3. 1. 2. 3. 0. 7. 2. 0. 4. 1. 7. 3. 0. 6. 5. 0. 7. 7. 4.\n",
      " 1. 5. 6. 6. 7. 5. 7. 4. 0. 4. 5. 3. 6. 5. 3. 1. 5. 5. 3. 7. 1. 0. 0. 5.\n",
      " 1. 3. 3. 5. 7. 6. 3. 3. 7. 3. 1. 0. 7. 6. 7. 5. 7. 2. 5. 7. 3. 0. 3. 7.\n",
      " 7. 6. 2. 3. 3.]\n",
      "Accuracy: 0.964\n",
      "\n",
      "Confusion matrix:\n",
      "\n",
      " [[46  0  0  0  0  0  1  1]\n",
      " [ 0 21  0  0  0  0  0  0]\n",
      " [ 0  0 12  0  0  1  0  0]\n",
      " [ 0  0  0 34  0  0  0  0]\n",
      " [ 0  0  0  1 16  0  0  0]\n",
      " [ 0  1  0  0  0 31  0  0]\n",
      " [ 2  0  0  0  0  0 14  0]\n",
      " [ 1  0  0  0  0  0  0 39]]\n",
      "\n",
      "3) Test classifier: \n",
      "\n",
      "Collision detected!\n",
      "Trial 19 failed!\n",
      "Progress trials: 20 %\n",
      "Collision detected!\n",
      "Trial 31 failed!\n",
      "Progress trials: 40 %\n",
      "Progress trials: 60 %\n",
      "Progress trials: 80 %\n",
      "Collision detected!\n",
      "Trial 88 failed!\n",
      "Progress trials: 100 %\n",
      "\n",
      "Success rate: 0.970\n",
      "\n",
      "Number trajectories dataset: 100\n",
      "1) Create dataset: \n",
      "\n",
      "\n",
      "2) Train classifier: \n",
      "\n",
      "[6. 1. 0. 6. 0. 7. 0. 3. 5. 3. 2. 4. 3. 7. 0. 3. 3. 5. 1. 0. 0. 1. 4. 0.\n",
      " 7. 7. 5. 0. 5. 2. 2. 5. 3. 3. 0. 4. 3. 5. 3. 0. 1. 3. 0. 7. 7. 4. 1. 0.\n",
      " 1. 0. 0. 4. 0. 7. 4. 6. 0. 1. 3. 1. 1. 0. 0. 0. 1. 2. 6. 7. 2. 3. 4. 7.\n",
      " 7. 0. 3. 5. 7. 7. 2. 1. 3. 1. 7. 7. 3. 1. 3. 7. 5. 4. 6. 7. 4. 0. 4. 1.\n",
      " 0. 2. 7. 1. 7. 6. 7. 7. 2. 7. 5. 0. 7. 1. 5. 5. 1. 4. 0. 7. 7. 2. 0. 5.\n",
      " 5. 4. 7. 5. 7. 5. 7. 2. 1. 3. 6. 7. 1. 4. 7. 7. 2. 5. 7. 2. 1. 7. 1. 3.\n",
      " 1. 4. 1. 2. 7. 0. 2. 1. 1. 0. 5. 2. 6. 1. 0. 7. 3. 1. 0. 0. 4. 1. 7. 0.\n",
      " 3. 0. 4. 0. 0. 1. 7. 1. 7. 0. 3. 3. 0. 7. 7. 4. 7. 0. 0. 3. 2. 0. 4. 0.\n",
      " 0. 0. 6. 3. 7. 7. 2. 1. 0. 4. 0. 7. 2. 4. 0. 4. 4. 1. 1. 7. 3. 2. 7. 1.\n",
      " 7. 5. 1. 3. 2. 1. 0. 3. 3. 7. 0. 1. 5. 7. 7. 7. 0. 0. 0. 1. 2. 4. 3. 7.\n",
      " 0. 3. 2. 1. 0. 4. 5. 5. 5. 2. 0. 2. 5. 0. 7. 6. 7. 3. 4. 1. 7. 3. 7. 1.\n",
      " 6. 2. 0. 0. 1. 2. 7. 6. 3. 3. 0. 1. 2. 6. 2. 0. 0. 3. 3.]\n",
      "[6. 1. 0. 6. 0. 0. 0. 3. 5. 3. 4. 4. 6. 7. 0. 3. 3. 5. 1. 0. 7. 1. 4. 0.\n",
      " 7. 7. 5. 0. 5. 2. 2. 5. 3. 3. 0. 4. 3. 5. 3. 0. 1. 3. 0. 7. 7. 4. 1. 0.\n",
      " 1. 2. 0. 4. 0. 7. 4. 0. 0. 1. 3. 1. 1. 0. 0. 0. 1. 2. 6. 7. 2. 3. 4. 7.\n",
      " 7. 0. 3. 5. 7. 7. 2. 1. 3. 1. 7. 7. 3. 1. 3. 7. 5. 4. 6. 7. 4. 0. 4. 1.\n",
      " 0. 2. 7. 1. 1. 6. 7. 7. 2. 7. 5. 0. 7. 1. 5. 5. 1. 4. 0. 7. 7. 2. 0. 5.\n",
      " 5. 4. 7. 5. 7. 5. 7. 2. 1. 6. 6. 7. 1. 4. 7. 7. 2. 5. 7. 2. 1. 7. 1. 3.\n",
      " 1. 4. 1. 2. 7. 0. 2. 1. 1. 0. 5. 2. 6. 1. 0. 7. 3. 1. 0. 0. 4. 1. 7. 7.\n",
      " 3. 0. 4. 0. 0. 1. 0. 1. 7. 0. 3. 3. 0. 7. 7. 4. 7. 0. 0. 3. 2. 0. 4. 0.\n",
      " 0. 0. 6. 3. 7. 1. 2. 1. 0. 4. 0. 7. 2. 4. 0. 4. 4. 1. 1. 7. 3. 2. 7. 1.\n",
      " 7. 5. 1. 3. 2. 1. 0. 3. 3. 7. 0. 1. 5. 7. 7. 7. 0. 0. 0. 0. 2. 4. 3. 7.\n",
      " 0. 3. 2. 1. 0. 4. 5. 5. 5. 2. 0. 2. 5. 0. 7. 6. 7. 3. 4. 1. 7. 3. 7. 1.\n",
      " 6. 2. 0. 0. 1. 2. 7. 6. 3. 3. 0. 7. 2. 6. 2. 0. 0. 3. 3.]\n",
      "Accuracy: 0.954\n",
      "\n",
      "Confusion matrix:\n",
      "\n",
      " [[56  1  0  0  0  0  1  2]\n",
      " [ 0 41  0  0  0  0  0  2]\n",
      " [ 1  0 27  0  0  0  0  0]\n",
      " [ 0  0  0 34  0  0  0  0]\n",
      " [ 0  0  1  0 25  0  0  0]\n",
      " [ 0  0  0  0  0 23  0  0]\n",
      " [ 0  0  0  2  0  0 12  0]\n",
      " [ 2  1  0  0  0  0  0 52]]\n",
      "\n",
      "3) Test classifier: \n",
      "\n",
      "Collision detected!\n",
      "Trial 19 failed!\n",
      "Progress trials: 20 %\n",
      "Collision detected!\n",
      "Trial 31 failed!\n",
      "Progress trials: 40 %\n",
      "Progress trials: 60 %\n",
      "Progress trials: 80 %\n",
      "Collision detected!\n",
      "Trial 88 failed!\n",
      "Progress trials: 100 %\n",
      "\n",
      "Success rate: 0.970\n",
      "\n",
      "Number of obstacles: 2\n",
      "\n",
      "Number trajectories dataset: 1\n",
      "1) Create dataset: \n",
      "\n",
      "\n",
      "2) Train classifier: \n",
      "\n",
      "[4. 4. 4. 4.]\n",
      "[4. 4. 4. 4.]\n",
      "Accuracy: 1.000\n",
      "\n",
      "Confusion matrix:\n",
      "\n",
      " [[0 0 0 0 0 0 0 0]\n",
      " [0 0 0 0 0 0 0 0]\n",
      " [0 0 0 0 0 0 0 0]\n",
      " [0 0 0 0 0 0 0 0]\n",
      " [0 0 0 0 4 0 0 0]\n",
      " [0 0 0 0 0 0 0 0]\n",
      " [0 0 0 0 0 0 0 0]\n",
      " [0 0 0 0 0 0 0 0]]\n",
      "\n",
      "3) Test classifier: \n",
      "\n",
      "Timeout!\n",
      "Trial 2 failed!\n",
      "Timeout!\n",
      "Trial 5 failed!\n",
      "Timeout!\n",
      "Trial 6 failed!\n",
      "Timeout!\n",
      "Trial 9 failed!\n",
      "Timeout!\n",
      "Trial 10 failed!\n",
      "Collision detected!\n",
      "Trial 11 failed!\n",
      "Timeout!\n",
      "Trial 12 failed!\n",
      "Collision detected!\n",
      "Trial 14 failed!\n",
      "Timeout!\n",
      "Trial 15 failed!\n",
      "Timeout!\n",
      "Trial 16 failed!\n",
      "Timeout!\n",
      "Trial 17 failed!\n",
      "Timeout!\n",
      "Trial 19 failed!\n",
      "Progress trials: 20 %\n",
      "Timeout!\n",
      "Trial 20 failed!\n",
      "Timeout!\n",
      "Trial 21 failed!\n",
      "Collision detected!\n",
      "Trial 22 failed!\n",
      "Timeout!\n",
      "Trial 23 failed!\n",
      "Timeout!\n",
      "Trial 25 failed!\n",
      "Timeout!\n",
      "Trial 27 failed!\n",
      "Collision detected!\n",
      "Trial 28 failed!\n",
      "Timeout!\n",
      "Trial 29 failed!\n",
      "Collision detected!\n",
      "Trial 30 failed!\n",
      "Timeout!\n",
      "Trial 33 failed!\n",
      "Timeout!\n",
      "Trial 34 failed!\n",
      "Collision detected!\n",
      "Trial 35 failed!\n",
      "Timeout!\n",
      "Trial 36 failed!\n",
      "Timeout!\n",
      "Trial 37 failed!\n",
      "Timeout!\n",
      "Trial 39 failed!\n",
      "Progress trials: 40 %\n",
      "Timeout!\n",
      "Trial 41 failed!\n",
      "Collision detected!\n",
      "Trial 42 failed!\n",
      "Timeout!\n",
      "Trial 43 failed!\n",
      "Timeout!\n",
      "Trial 45 failed!\n",
      "Timeout!\n",
      "Trial 48 failed!\n",
      "Timeout!\n",
      "Trial 49 failed!\n",
      "Timeout!\n",
      "Trial 50 failed!\n",
      "Timeout!\n",
      "Trial 51 failed!\n",
      "Timeout!\n",
      "Trial 53 failed!\n",
      "Timeout!\n",
      "Trial 54 failed!\n",
      "Timeout!\n",
      "Trial 55 failed!\n",
      "Timeout!\n",
      "Trial 56 failed!\n",
      "Timeout!\n",
      "Trial 57 failed!\n",
      "Timeout!\n",
      "Trial 58 failed!\n",
      "Timeout!\n",
      "Trial 59 failed!\n",
      "Progress trials: 60 %\n",
      "Timeout!\n",
      "Trial 60 failed!\n",
      "Timeout!\n",
      "Trial 62 failed!\n",
      "Collision detected!\n",
      "Trial 63 failed!\n",
      "Collision detected!\n",
      "Trial 64 failed!\n",
      "Timeout!\n",
      "Trial 65 failed!\n",
      "Timeout!\n",
      "Trial 66 failed!\n",
      "Timeout!\n",
      "Trial 67 failed!\n",
      "Timeout!\n",
      "Trial 68 failed!\n",
      "Timeout!\n",
      "Trial 70 failed!\n",
      "Timeout!\n",
      "Trial 71 failed!\n",
      "Timeout!\n",
      "Trial 73 failed!\n",
      "Timeout!\n",
      "Trial 74 failed!\n",
      "Timeout!\n",
      "Trial 75 failed!\n",
      "Timeout!\n",
      "Trial 76 failed!\n",
      "Timeout!\n",
      "Trial 77 failed!\n",
      "Collision detected!\n",
      "Trial 78 failed!\n",
      "Timeout!\n",
      "Trial 79 failed!\n",
      "Progress trials: 80 %\n",
      "Timeout!\n",
      "Trial 80 failed!\n",
      "Timeout!\n",
      "Trial 81 failed!\n",
      "Timeout!\n",
      "Trial 82 failed!\n",
      "Collision detected!\n",
      "Trial 84 failed!\n",
      "Timeout!\n",
      "Trial 85 failed!\n",
      "Timeout!\n",
      "Trial 86 failed!\n",
      "Collision detected!\n",
      "Trial 89 failed!\n",
      "Timeout!\n",
      "Trial 90 failed!\n",
      "Timeout!\n",
      "Trial 92 failed!\n",
      "Collision detected!\n",
      "Trial 93 failed!\n",
      "Collision detected!\n",
      "Trial 94 failed!\n",
      "Timeout!\n",
      "Trial 96 failed!\n",
      "Timeout!\n",
      "Trial 97 failed!\n",
      "Timeout!\n",
      "Trial 98 failed!\n",
      "Timeout!\n",
      "Trial 99 failed!\n",
      "Progress trials: 100 %\n",
      "\n",
      "Success rate: 0.260\n",
      "\n",
      "Number trajectories dataset: 10\n",
      "1) Create dataset: \n",
      "\n",
      "\n",
      "2) Train classifier: \n",
      "\n",
      "[1. 3. 5. 2. 0. 0. 7. 0. 7. 6. 0. 3. 6. 1. 1. 4. 1. 7. 4. 2. 0. 6. 6. 5.\n",
      " 6. 6. 2. 0. 0. 2. 0. 2. 0.]\n",
      "[5. 4. 5. 2. 0. 0. 7. 0. 1. 6. 0. 3. 6. 0. 5. 3. 5. 7. 4. 2. 0. 6. 6. 5.\n",
      " 3. 6. 2. 0. 0. 2. 0. 2. 0.]\n",
      "Accuracy: 0.758\n",
      "\n",
      "Confusion matrix:\n",
      "\n",
      " [[9 1 0 0 0 0 0 0]\n",
      " [0 0 0 0 0 0 0 1]\n",
      " [0 0 5 0 0 0 0 0]\n",
      " [0 0 0 1 1 0 1 0]\n",
      " [0 0 0 1 1 0 0 0]\n",
      " [0 3 0 0 0 2 0 0]\n",
      " [0 0 0 0 0 0 5 0]\n",
      " [0 0 0 0 0 0 0 2]]\n",
      "\n",
      "3) Test classifier: \n",
      "\n",
      "Collision detected!\n",
      "Trial 6 failed!\n",
      "Collision detected!\n",
      "Trial 8 failed!\n",
      "Collision detected!\n",
      "Trial 18 failed!\n",
      "Progress trials: 20 %\n",
      "Collision detected!\n",
      "Trial 21 failed!\n",
      "Collision detected!\n",
      "Trial 36 failed!\n",
      "Timeout!\n",
      "Trial 38 failed!\n",
      "Collision detected!\n",
      "Trial 39 failed!\n",
      "Progress trials: 40 %\n",
      "Collision detected!\n",
      "Trial 43 failed!\n",
      "Timeout!\n",
      "Trial 44 failed!\n",
      "Timeout!\n",
      "Trial 45 failed!\n",
      "Timeout!\n",
      "Trial 46 failed!\n",
      "Timeout!\n",
      "Trial 47 failed!\n",
      "Timeout!\n",
      "Trial 48 failed!\n",
      "Collision detected!\n",
      "Trial 51 failed!\n",
      "Collision detected!\n",
      "Trial 55 failed!\n",
      "Collision detected!\n",
      "Trial 56 failed!\n",
      "Collision detected!\n",
      "Trial 58 failed!\n",
      "Progress trials: 60 %\n",
      "Timeout!\n",
      "Trial 61 failed!\n",
      "Timeout!\n",
      "Trial 64 failed!\n",
      "Collision detected!\n",
      "Trial 66 failed!\n",
      "Collision detected!\n",
      "Trial 68 failed!\n",
      "Collision detected!\n",
      "Trial 74 failed!\n",
      "Progress trials: 80 %\n",
      "Collision detected!\n",
      "Trial 81 failed!\n",
      "Progress trials: 100 %\n",
      "\n",
      "Success rate: 0.770\n",
      "\n",
      "Number trajectories dataset: 20\n",
      "1) Create dataset: \n",
      "\n",
      "\n",
      "2) Train classifier: \n",
      "\n",
      "[0. 5. 3. 5. 5. 2. 7. 0. 5. 5. 5. 3. 2. 3. 5. 3. 0. 5. 5. 3. 3. 2. 2. 0.\n",
      " 3. 2. 5. 7. 0. 3. 5. 1. 6. 0. 5. 0. 2. 3. 4. 0. 3. 3. 7. 5. 2. 3. 2. 2.\n",
      " 4. 5. 5. 7. 5. 0. 6. 2. 2. 3. 3. 5. 4. 2. 0. 2. 0. 0. 3. 3. 0.]\n",
      "[0. 5. 3. 2. 5. 2. 7. 0. 2. 5. 5. 3. 2. 3. 5. 6. 0. 5. 2. 3. 3. 2. 2. 0.\n",
      " 3. 2. 2. 7. 7. 3. 5. 1. 0. 7. 5. 6. 2. 3. 3. 7. 3. 3. 1. 5. 5. 4. 2. 2.\n",
      " 4. 2. 5. 7. 5. 0. 6. 2. 2. 3. 3. 5. 4. 2. 0. 2. 0. 0. 3. 3. 3.]\n",
      "Accuracy: 0.768\n",
      "\n",
      "Confusion matrix:\n",
      "\n",
      " [[ 8  0  0  0  0  0  1  0]\n",
      " [ 0  1  0  0  0  0  0  1]\n",
      " [ 0  0 12  0  0  5  0  0]\n",
      " [ 1  0  0 14  1  0  0  0]\n",
      " [ 0  0  0  1  2  0  0  0]\n",
      " [ 0  0  1  0  0 12  0  0]\n",
      " [ 1  0  0  1  0  0  1  0]\n",
      " [ 3  0  0  0  0  0  0  3]]\n",
      "\n",
      "3) Test classifier: \n",
      "\n",
      "Timeout!\n",
      "Trial 2 failed!\n",
      "Collision detected!\n",
      "Trial 6 failed!\n",
      "Collision detected!\n",
      "Trial 8 failed!\n",
      "Collision detected!\n",
      "Trial 18 failed!\n",
      "Progress trials: 20 %\n",
      "Timeout!\n",
      "Trial 24 failed!\n",
      "Collision detected!\n",
      "Trial 36 failed!\n",
      "Collision detected!\n",
      "Trial 39 failed!\n",
      "Progress trials: 40 %\n",
      "Collision detected!\n",
      "Trial 43 failed!\n",
      "Timeout!\n",
      "Trial 46 failed!\n",
      "Timeout!\n",
      "Trial 47 failed!\n",
      "Timeout!\n",
      "Trial 48 failed!\n",
      "Collision detected!\n",
      "Trial 51 failed!\n",
      "Collision detected!\n",
      "Trial 55 failed!\n",
      "Collision detected!\n",
      "Trial 58 failed!\n",
      "Progress trials: 60 %\n",
      "Timeout!\n",
      "Trial 60 failed!\n",
      "Timeout!\n",
      "Trial 61 failed!\n",
      "Collision detected!\n",
      "Trial 66 failed!\n",
      "Collision detected!\n",
      "Trial 68 failed!\n",
      "Collision detected!\n",
      "Trial 74 failed!\n",
      "Progress trials: 80 %\n",
      "Collision detected!\n",
      "Trial 81 failed!\n",
      "Timeout!\n",
      "Trial 87 failed!\n",
      "Progress trials: 100 %\n",
      "\n",
      "Success rate: 0.790\n",
      "\n",
      "Number trajectories dataset: 40\n",
      "1) Create dataset: \n",
      "\n",
      "\n",
      "2) Train classifier: \n",
      "\n",
      "[6. 3. 7. 1. 3. 2. 0. 5. 7. 0. 5. 3. 7. 0. 4. 4. 2. 2. 2. 3. 4. 3. 2. 4.\n",
      " 7. 5. 2. 3. 5. 1. 6. 5. 2. 5. 0. 5. 2. 0. 0. 2. 7. 2. 7. 3. 4. 3. 1. 4.\n",
      " 5. 0. 4. 6. 2. 3. 1. 5. 5. 0. 4. 3. 2. 0. 7. 2. 2. 7. 3. 5. 2. 0. 7. 3.\n",
      " 5. 2. 5. 5. 5. 2. 2. 0. 1. 5. 1. 4. 2. 3. 7. 2. 0. 2. 2. 4. 4. 0. 2. 5.\n",
      " 3. 2. 1. 1. 4. 5. 5. 0. 3. 0. 2. 3. 7. 5. 0. 2. 5. 3. 3. 7. 2. 4. 5. 5.\n",
      " 4. 4. 4. 3. 5. 0. 5. 2. 2. 7. 7. 1.]\n",
      "[6. 3. 7. 0. 4. 2. 0. 5. 7. 0. 1. 6. 7. 0. 4. 4. 2. 2. 2. 3. 4. 3. 5. 4.\n",
      " 7. 5. 2. 3. 5. 7. 6. 5. 2. 5. 0. 5. 2. 0. 0. 2. 7. 2. 7. 3. 4. 3. 5. 3.\n",
      " 5. 6. 4. 6. 2. 3. 1. 5. 5. 6. 2. 3. 2. 0. 7. 2. 2. 7. 3. 5. 2. 0. 7. 4.\n",
      " 5. 2. 5. 5. 5. 2. 2. 5. 1. 5. 1. 4. 2. 3. 7. 2. 0. 2. 2. 4. 3. 0. 2. 5.\n",
      " 3. 2. 5. 1. 4. 5. 5. 0. 3. 0. 2. 3. 7. 5. 6. 2. 2. 3. 3. 7. 4. 3. 5. 5.\n",
      " 4. 4. 4. 3. 5. 6. 5. 2. 2. 7. 7. 1.]\n",
      "Accuracy: 0.848\n",
      "\n",
      "Confusion matrix:\n",
      "\n",
      " [[12  1  0  0  0  0  0  0]\n",
      " [ 0  5  0  0  0  1  0  0]\n",
      " [ 0  0 27  0  1  1  0  0]\n",
      " [ 0  0  0 16  3  0  0  0]\n",
      " [ 0  0  1  2 12  0  0  0]\n",
      " [ 1  2  1  0  0 23  0  0]\n",
      " [ 4  0  0  1  0  0  3  0]\n",
      " [ 0  1  0  0  0  0  0 14]]\n",
      "\n",
      "3) Test classifier: \n",
      "\n",
      "Collision detected!\n",
      "Trial 6 failed!\n",
      "Collision detected!\n",
      "Trial 8 failed!\n",
      "Collision detected!\n",
      "Trial 18 failed!\n",
      "Progress trials: 20 %\n",
      "Collision detected!\n",
      "Trial 36 failed!\n",
      "Collision detected!\n",
      "Trial 39 failed!\n",
      "Progress trials: 40 %\n",
      "Collision detected!\n",
      "Trial 43 failed!\n",
      "Collision detected!\n",
      "Trial 51 failed!\n",
      "Collision detected!\n",
      "Trial 58 failed!\n",
      "Progress trials: 60 %\n",
      "Collision detected!\n",
      "Trial 66 failed!\n",
      "Collision detected!\n",
      "Trial 74 failed!\n",
      "Progress trials: 80 %\n",
      "Progress trials: 100 %\n",
      "\n",
      "Success rate: 0.900\n",
      "\n",
      "Number trajectories dataset: 60\n",
      "1) Create dataset: \n",
      "\n",
      "\n",
      "2) Train classifier: \n",
      "\n",
      "[2. 5. 7. 5. 4. 4. 7. 4. 5. 3. 4. 0. 0. 2. 4. 0. 5. 2. 0. 2. 3. 6. 0. 3.\n",
      " 2. 0. 5. 7. 0. 3. 3. 3. 2. 7. 7. 1. 2. 4. 3. 3. 5. 3. 2. 1. 5. 3. 5. 3.\n",
      " 4. 5. 7. 1. 2. 1. 0. 0. 2. 2. 2. 4. 7. 5. 3. 1. 4. 5. 5. 2. 3. 0. 2. 7.\n",
      " 6. 4. 2. 4. 4. 1. 7. 3. 1. 0. 5. 0. 5. 7. 0. 5. 7. 5. 0. 5. 2. 3. 1. 5.\n",
      " 7. 6. 1. 0. 2. 2. 5. 0. 4. 6. 0. 5. 7. 7. 0. 0. 4. 3. 0. 5. 4. 0. 2. 0.\n",
      " 2. 4. 1. 3. 6. 2. 7. 2. 4. 0. 7. 1. 0. 0. 6. 0. 4. 2. 3. 7. 2. 2. 2. 0.\n",
      " 2. 2. 1. 5. 6. 5. 3. 6. 1. 4. 4. 5. 7. 7. 5. 3. 7. 3. 5. 2. 3. 4. 3. 2.\n",
      " 6. 3. 4. 3. 7. 4. 1. 1. 2. 0. 3. 7. 2. 5. 0. 2. 6. 2. 1. 7. 3. 1. 5. 1.\n",
      " 2. 3.]\n",
      "[2. 5. 0. 5. 4. 4. 1. 4. 5. 3. 4. 0. 0. 2. 4. 0. 5. 2. 7. 2. 4. 3. 0. 3.\n",
      " 5. 0. 2. 7. 0. 3. 3. 3. 2. 7. 7. 5. 2. 4. 3. 3. 5. 3. 2. 1. 5. 4. 5. 3.\n",
      " 4. 5. 7. 1. 2. 1. 0. 0. 4. 2. 2. 3. 7. 2. 4. 1. 4. 5. 5. 2. 3. 0. 2. 7.\n",
      " 6. 4. 2. 4. 4. 1. 7. 3. 5. 0. 2. 0. 5. 7. 0. 5. 7. 5. 7. 5. 5. 3. 1. 2.\n",
      " 1. 6. 5. 0. 2. 2. 5. 0. 4. 6. 0. 5. 7. 7. 0. 0. 4. 4. 0. 5. 4. 0. 2. 0.\n",
      " 2. 4. 5. 4. 3. 2. 7. 2. 4. 0. 7. 1. 0. 0. 6. 0. 4. 5. 3. 7. 2. 2. 2. 6.\n",
      " 2. 2. 1. 5. 0. 5. 3. 6. 1. 4. 4. 2. 0. 7. 5. 4. 7. 6. 4. 4. 3. 4. 3. 2.\n",
      " 0. 3. 4. 4. 7. 2. 1. 5. 2. 7. 3. 7. 2. 5. 0. 2. 7. 2. 1. 7. 3. 5. 5. 1.\n",
      " 2. 3.]\n",
      "Accuracy: 0.794\n",
      "\n",
      "Confusion matrix:\n",
      "\n",
      " [[25  0  0  0  0  0  2  2]\n",
      " [ 0 12  0  0  0  0  0  2]\n",
      " [ 0  0 30  0  1  5  0  0]\n",
      " [ 0  0  0 20  1  0  2  0]\n",
      " [ 0  0  2  7 21  1  0  0]\n",
      " [ 0  6  3  0  0 22  0  0]\n",
      " [ 1  0  0  1  0  0  5  0]\n",
      " [ 3  0  0  0  0  0  1 19]]\n",
      "\n",
      "3) Test classifier: \n",
      "\n",
      "Collision detected!\n",
      "Trial 6 failed!\n",
      "Collision detected!\n",
      "Trial 18 failed!\n",
      "Progress trials: 20 %\n",
      "Collision detected!\n",
      "Trial 36 failed!\n",
      "Collision detected!\n",
      "Trial 39 failed!\n",
      "Progress trials: 40 %\n",
      "Collision detected!\n",
      "Trial 43 failed!\n",
      "Collision detected!\n",
      "Trial 51 failed!\n",
      "Collision detected!\n",
      "Trial 58 failed!\n",
      "Progress trials: 60 %\n",
      "Collision detected!\n",
      "Trial 66 failed!\n",
      "Collision detected!\n",
      "Trial 74 failed!\n",
      "Progress trials: 80 %\n",
      "Collision detected!\n",
      "Trial 81 failed!\n",
      "Progress trials: 100 %\n",
      "\n",
      "Success rate: 0.900\n",
      "\n",
      "Number trajectories dataset: 80\n",
      "1) Create dataset: \n",
      "\n",
      "\n",
      "2) Train classifier: \n",
      "\n",
      "[4. 2. 3. 2. 3. 6. 5. 0. 7. 0. 7. 5. 1. 0. 0. 0. 2. 7. 3. 6. 3. 2. 5. 2.\n",
      " 2. 4. 0. 0. 2. 5. 6. 3. 1. 7. 0. 0. 5. 2. 7. 7. 3. 7. 5. 2. 6. 0. 2. 7.\n",
      " 5. 3. 3. 6. 0. 3. 6. 4. 3. 7. 0. 4. 2. 3. 7. 5. 6. 5. 3. 3. 0. 0. 1. 2.\n",
      " 4. 3. 0. 5. 4. 2. 3. 2. 0. 4. 2. 5. 5. 4. 6. 7. 0. 0. 4. 3. 5. 7. 2. 1.\n",
      " 3. 0. 5. 5. 0. 7. 5. 6. 0. 3. 3. 0. 0. 0. 1. 2. 0. 7. 7. 0. 5. 2. 3. 4.\n",
      " 4. 2. 7. 2. 0. 3. 5. 2. 1. 0. 0. 4. 7. 6. 5. 0. 4. 2. 0. 6. 3. 2. 4. 5.\n",
      " 6. 5. 3. 0. 0. 2. 4. 7. 5. 4. 0. 3. 2. 3. 0. 2. 2. 0. 7. 2. 2. 3. 3. 5.\n",
      " 3. 3. 4. 6. 5. 6. 0. 2. 5. 2. 7. 3. 7. 4. 2. 3. 7. 4. 3. 5. 5. 5. 6. 5.\n",
      " 0. 6. 1. 7. 5. 5. 2. 2. 3. 3. 6. 2. 7. 0. 7. 0. 4. 2. 3. 2. 5. 4. 5. 5.\n",
      " 2. 1. 1. 2. 0. 3. 0. 3. 6. 2. 0. 7. 4. 0. 6. 0. 3. 3. 2. 2. 7. 2. 3. 5.\n",
      " 0. 2. 3. 0. 4. 5. 5. 2. 0. 2. 0. 0. 7. 5. 1. 1. 6. 7. 0. 1. 5. 1.]\n",
      "[4. 5. 3. 2. 3. 6. 5. 6. 1. 0. 7. 5. 1. 6. 0. 0. 2. 7. 3. 6. 3. 2. 5. 2.\n",
      " 2. 4. 0. 0. 2. 5. 0. 3. 1. 0. 0. 0. 5. 2. 7. 7. 3. 7. 5. 2. 3. 0. 2. 7.\n",
      " 5. 4. 3. 0. 0. 3. 6. 4. 3. 7. 0. 2. 2. 3. 7. 5. 6. 5. 6. 3. 6. 0. 1. 2.\n",
      " 4. 3. 0. 5. 4. 2. 3. 2. 0. 4. 2. 5. 5. 4. 6. 7. 0. 6. 4. 3. 5. 7. 2. 1.\n",
      " 6. 0. 5. 5. 0. 7. 5. 3. 6. 3. 3. 0. 0. 0. 1. 2. 0. 7. 7. 0. 5. 2. 3. 4.\n",
      " 4. 2. 7. 5. 0. 4. 5. 2. 5. 0. 0. 4. 7. 6. 5. 0. 4. 2. 0. 3. 3. 2. 4. 5.\n",
      " 6. 5. 3. 0. 0. 2. 4. 0. 1. 4. 0. 3. 2. 3. 6. 2. 2. 0. 7. 2. 2. 4. 3. 1.\n",
      " 3. 3. 4. 0. 5. 6. 0. 5. 5. 2. 0. 3. 0. 4. 2. 3. 1. 4. 3. 5. 5. 5. 6. 5.\n",
      " 0. 6. 1. 7. 5. 1. 2. 4. 3. 3. 6. 2. 7. 6. 7. 0. 4. 2. 3. 2. 5. 4. 5. 5.\n",
      " 4. 1. 1. 2. 0. 3. 0. 3. 6. 2. 0. 7. 4. 7. 3. 0. 3. 3. 5. 2. 7. 2. 3. 2.\n",
      " 6. 2. 3. 0. 4. 1. 5. 2. 0. 2. 0. 0. 7. 5. 5. 1. 3. 7. 0. 1. 5. 1.]\n",
      "Accuracy: 0.840\n",
      "\n",
      "Confusion matrix:\n",
      "\n",
      " [[42  0  0  0  0  0  3  4]\n",
      " [ 0 11  0  0  0  4  0  2]\n",
      " [ 0  0 40  0  1  1  0  0]\n",
      " [ 0  0  0 36  0  0  5  0]\n",
      " [ 0  0  2  3 22  0  0  0]\n",
      " [ 0  2  4  0  0 34  0  0]\n",
      " [ 8  0  0  2  0  0 12  0]\n",
      " [ 1  0  0  0  0  0  0 23]]\n",
      "\n",
      "3) Test classifier: \n",
      "\n",
      "Collision detected!\n",
      "Trial 6 failed!\n",
      "Collision detected!\n",
      "Trial 11 failed!\n",
      "Collision detected!\n",
      "Trial 18 failed!\n",
      "Progress trials: 20 %\n",
      "Collision detected!\n",
      "Trial 36 failed!\n",
      "Collision detected!\n",
      "Trial 39 failed!\n",
      "Progress trials: 40 %\n",
      "Collision detected!\n",
      "Trial 43 failed!\n",
      "Collision detected!\n",
      "Trial 51 failed!\n",
      "Collision detected!\n",
      "Trial 55 failed!\n",
      "Collision detected!\n",
      "Trial 58 failed!\n",
      "Progress trials: 60 %\n",
      "Collision detected!\n",
      "Trial 66 failed!\n",
      "Progress trials: 80 %\n",
      "Collision detected!\n",
      "Trial 81 failed!\n",
      "Progress trials: 100 %\n",
      "\n",
      "Success rate: 0.890\n",
      "\n",
      "Number trajectories dataset: 100\n",
      "1) Create dataset: \n",
      "\n",
      "\n",
      "2) Train classifier: \n",
      "\n",
      "[3. 4. 4. 4. 0. 6. 4. 1. 4. 6. 0. 0. 7. 2. 7. 6. 4. 3. 2. 1. 6. 3. 0. 1.\n",
      " 0. 1. 2. 5. 2. 2. 1. 2. 3. 1. 6. 3. 3. 3. 4. 6. 3. 3. 0. 4. 0. 4. 0. 5.\n",
      " 7. 6. 0. 4. 5. 0. 7. 3. 1. 2. 2. 6. 2. 0. 7. 3. 5. 1. 0. 7. 4. 6. 1. 3.\n",
      " 7. 2. 7. 0. 7. 0. 3. 2. 2. 3. 3. 5. 4. 2. 2. 0. 7. 1. 4. 0. 1. 4. 7. 2.\n",
      " 4. 7. 4. 3. 2. 2. 1. 0. 4. 0. 7. 2. 2. 4. 2. 4. 1. 6. 0. 5. 5. 7. 7. 3.\n",
      " 0. 2. 1. 5. 7. 0. 1. 3. 4. 5. 7. 1. 3. 0. 4. 4. 4. 6. 0. 5. 4. 6. 0. 7.\n",
      " 6. 4. 4. 5. 5. 4. 0. 4. 7. 5. 6. 5. 1. 4. 4. 6. 1. 7. 5. 5. 5. 7. 3. 3.\n",
      " 0. 4. 3. 0. 0. 4. 0. 2. 1. 0. 7. 2. 5. 1. 1. 4. 0. 2. 3. 2. 5. 0. 4. 1.\n",
      " 5. 5. 3. 2. 1. 7. 6. 0. 5. 1. 2. 0. 0. 6. 6. 3. 0. 1. 3. 1. 4. 5. 2. 7.\n",
      " 1. 0. 3. 0. 5. 3. 2. 7. 0. 0. 0. 2. 2. 7. 5. 6. 5. 0. 2. 0. 2. 5. 6. 5.\n",
      " 6. 3. 3. 0. 7. 0. 1. 7. 3. 4. 7. 1. 3. 2. 5. 5. 3. 5. 4. 5. 0. 7. 0. 7.\n",
      " 5. 6. 2. 7. 0. 2. 7. 5. 3. 7. 2. 5. 4. 5. 5. 3. 7. 1. 7. 3. 0. 6. 7. 6.\n",
      " 5. 1. 0. 5. 5. 0. 0. 0. 4. 3. 7. 7. 5. 0. 2. 7. 4. 0. 0. 5. 2. 6. 1. 7.\n",
      " 1. 6. 5. 0. 5. 1. 7. 1. 5. 5. 3. 3. 5. 1. 1. 0. 6. 3. 2. 6. 2. 3. 2. 7.]\n",
      "[3. 4. 3. 4. 0. 0. 4. 1. 4. 0. 0. 0. 7. 5. 7. 6. 4. 3. 5. 1. 6. 3. 0. 1.\n",
      " 0. 1. 2. 2. 2. 2. 7. 2. 3. 1. 3. 3. 3. 3. 4. 6. 3. 3. 0. 4. 0. 4. 0. 2.\n",
      " 5. 3. 0. 4. 5. 7. 0. 6. 7. 2. 2. 6. 2. 0. 7. 3. 5. 7. 0. 7. 3. 0. 5. 3.\n",
      " 7. 2. 7. 0. 7. 0. 3. 2. 2. 4. 3. 5. 4. 2. 2. 0. 7. 5. 3. 0. 1. 4. 7. 5.\n",
      " 4. 7. 4. 3. 2. 2. 1. 0. 4. 0. 7. 2. 2. 3. 2. 4. 1. 0. 0. 5. 5. 7. 7. 6.\n",
      " 0. 2. 1. 1. 7. 0. 1. 3. 4. 5. 7. 1. 3. 0. 4. 2. 4. 3. 0. 5. 4. 0. 6. 7.\n",
      " 0. 4. 4. 5. 5. 4. 0. 4. 7. 5. 6. 5. 1. 4. 4. 6. 1. 7. 5. 5. 5. 0. 3. 3.\n",
      " 0. 4. 3. 0. 0. 4. 0. 5. 1. 0. 1. 2. 5. 1. 1. 4. 6. 2. 3. 5. 5. 0. 4. 1.\n",
      " 2. 5. 3. 2. 5. 7. 6. 0. 5. 1. 2. 0. 0. 6. 6. 3. 0. 1. 3. 1. 3. 5. 2. 7.\n",
      " 1. 0. 3. 0. 2. 3. 2. 7. 0. 0. 0. 2. 2. 7. 5. 3. 5. 0. 4. 0. 2. 5. 3. 2.\n",
      " 6. 3. 4. 0. 7. 0. 5. 7. 3. 4. 7. 1. 3. 2. 5. 5. 3. 5. 4. 5. 0. 7. 0. 0.\n",
      " 5. 6. 5. 7. 0. 4. 7. 5. 3. 7. 2. 5. 4. 5. 5. 3. 7. 5. 7. 3. 7. 3. 7. 6.\n",
      " 5. 1. 0. 5. 5. 0. 0. 0. 4. 3. 7. 1. 5. 6. 2. 7. 4. 0. 0. 5. 2. 3. 1. 7.\n",
      " 1. 6. 5. 0. 1. 1. 0. 1. 5. 7. 3. 3. 2. 1. 1. 0. 6. 3. 2. 6. 2. 3. 2. 7.]\n",
      "Accuracy: 0.821\n",
      "\n",
      "Confusion matrix:\n",
      "\n",
      " [[53  0  0  0  0  0  6  4]\n",
      " [ 0 29  0  0  0  2  0  2]\n",
      " [ 0  0 34  0  1  6  0  0]\n",
      " [ 0  0  0 37  5  0  7  0]\n",
      " [ 0  0  2  2 34  0  0  0]\n",
      " [ 0  5  6  0  0 38  0  1]\n",
      " [ 3  0  0  2  0  0 15  0]\n",
      " [ 2  3  0  0  0  1  0 36]]\n",
      "\n",
      "3) Test classifier: \n",
      "\n",
      "Collision detected!\n",
      "Trial 6 failed!\n",
      "Collision detected!\n",
      "Trial 15 failed!\n",
      "Collision detected!\n",
      "Trial 18 failed!\n",
      "Progress trials: 20 %\n",
      "Collision detected!\n",
      "Trial 36 failed!\n",
      "Collision detected!\n",
      "Trial 39 failed!\n",
      "Progress trials: 40 %\n",
      "Collision detected!\n",
      "Trial 43 failed!\n",
      "Collision detected!\n",
      "Trial 51 failed!\n",
      "Collision detected!\n",
      "Trial 55 failed!\n",
      "Collision detected!\n",
      "Trial 58 failed!\n",
      "Progress trials: 60 %\n",
      "Collision detected!\n",
      "Trial 66 failed!\n",
      "Progress trials: 80 %\n",
      "Collision detected!\n",
      "Trial 81 failed!\n",
      "Progress trials: 100 %\n",
      "\n",
      "Success rate: 0.890\n",
      "\n",
      "Number of obstacles: 3\n",
      "\n",
      "Number trajectories dataset: 1\n",
      "1) Create dataset: \n",
      "\n",
      "\n",
      "2) Train classifier: \n",
      "\n",
      "[2. 2. 2.]\n",
      "[2. 2. 2.]\n",
      "Accuracy: 1.000\n",
      "\n",
      "Confusion matrix:\n",
      "\n",
      " [[0 0 0 0 0 0 0 0]\n",
      " [0 0 0 0 0 0 0 0]\n",
      " [0 0 3 0 0 0 0 0]\n",
      " [0 0 0 0 0 0 0 0]\n",
      " [0 0 0 0 0 0 0 0]\n",
      " [0 0 0 0 0 0 0 0]\n",
      " [0 0 0 0 0 0 0 0]\n",
      " [0 0 0 0 0 0 0 0]]\n",
      "\n",
      "3) Test classifier: \n",
      "\n",
      "Collision detected!\n",
      "Trial 0 failed!\n",
      "Timeout!\n",
      "Trial 2 failed!\n",
      "Timeout!\n",
      "Trial 3 failed!\n",
      "Timeout!\n",
      "Trial 4 failed!\n",
      "Timeout!\n",
      "Trial 5 failed!\n",
      "Collision detected!\n",
      "Trial 6 failed!\n",
      "Collision detected!\n",
      "Trial 7 failed!\n",
      "Collision detected!\n",
      "Trial 8 failed!\n",
      "Timeout!\n",
      "Trial 9 failed!\n",
      "Timeout!\n",
      "Trial 10 failed!\n",
      "Timeout!\n",
      "Trial 11 failed!\n",
      "Timeout!\n",
      "Trial 12 failed!\n",
      "Collision detected!\n",
      "Trial 13 failed!\n",
      "Timeout!\n",
      "Trial 14 failed!\n",
      "Timeout!\n",
      "Trial 15 failed!\n",
      "Timeout!\n",
      "Trial 16 failed!\n",
      "Timeout!\n",
      "Trial 17 failed!\n",
      "Collision detected!\n",
      "Trial 18 failed!\n",
      "Timeout!\n",
      "Trial 19 failed!\n",
      "Progress trials: 20 %\n",
      "Timeout!\n",
      "Trial 20 failed!\n",
      "Collision detected!\n",
      "Trial 21 failed!\n",
      "Timeout!\n",
      "Trial 22 failed!\n",
      "Timeout!\n",
      "Trial 23 failed!\n",
      "Timeout!\n",
      "Trial 25 failed!\n",
      "Timeout!\n",
      "Trial 27 failed!\n",
      "Timeout!\n",
      "Trial 28 failed!\n",
      "Timeout!\n",
      "Trial 29 failed!\n",
      "Timeout!\n",
      "Trial 30 failed!\n",
      "Timeout!\n",
      "Trial 32 failed!\n",
      "Timeout!\n",
      "Trial 33 failed!\n",
      "Collision detected!\n",
      "Trial 34 failed!\n",
      "Timeout!\n",
      "Trial 36 failed!\n",
      "Timeout!\n",
      "Trial 37 failed!\n",
      "Timeout!\n",
      "Trial 38 failed!\n",
      "Timeout!\n",
      "Trial 39 failed!\n",
      "Progress trials: 40 %\n",
      "Timeout!\n",
      "Trial 40 failed!\n",
      "Timeout!\n",
      "Trial 41 failed!\n",
      "Timeout!\n",
      "Trial 42 failed!\n",
      "Timeout!\n",
      "Trial 43 failed!\n",
      "Timeout!\n",
      "Trial 45 failed!\n",
      "Timeout!\n",
      "Trial 46 failed!\n",
      "Timeout!\n",
      "Trial 47 failed!\n",
      "Timeout!\n",
      "Trial 48 failed!\n",
      "Timeout!\n",
      "Trial 49 failed!\n",
      "Timeout!\n",
      "Trial 50 failed!\n",
      "Collision detected!\n",
      "Trial 51 failed!\n",
      "Timeout!\n",
      "Trial 52 failed!\n",
      "Timeout!\n",
      "Trial 53 failed!\n",
      "Collision detected!\n",
      "Trial 54 failed!\n",
      "Timeout!\n",
      "Trial 55 failed!\n",
      "Timeout!\n",
      "Trial 56 failed!\n",
      "Timeout!\n",
      "Trial 57 failed!\n",
      "Timeout!\n",
      "Trial 58 failed!\n",
      "Progress trials: 60 %\n",
      "Timeout!\n",
      "Trial 61 failed!\n",
      "Timeout!\n",
      "Trial 62 failed!\n",
      "Timeout!\n",
      "Trial 63 failed!\n",
      "Timeout!\n",
      "Trial 64 failed!\n",
      "Timeout!\n",
      "Trial 65 failed!\n",
      "Timeout!\n",
      "Trial 66 failed!\n",
      "Collision detected!\n",
      "Trial 67 failed!\n",
      "Timeout!\n",
      "Trial 68 failed!\n",
      "Timeout!\n",
      "Trial 70 failed!\n",
      "Timeout!\n",
      "Trial 71 failed!\n",
      "Collision detected!\n",
      "Trial 72 failed!\n",
      "Timeout!\n",
      "Trial 73 failed!\n",
      "Timeout!\n",
      "Trial 74 failed!\n",
      "Timeout!\n",
      "Trial 75 failed!\n",
      "Collision detected!\n",
      "Trial 76 failed!\n",
      "Timeout!\n",
      "Trial 77 failed!\n",
      "Timeout!\n",
      "Trial 79 failed!\n",
      "Progress trials: 80 %\n",
      "Timeout!\n",
      "Trial 80 failed!\n",
      "Timeout!\n",
      "Trial 81 failed!\n",
      "Timeout!\n",
      "Trial 83 failed!\n",
      "Timeout!\n",
      "Trial 84 failed!\n",
      "Timeout!\n",
      "Trial 85 failed!\n",
      "Collision detected!\n",
      "Trial 87 failed!\n",
      "Timeout!\n",
      "Trial 90 failed!\n",
      "Collision detected!\n",
      "Trial 91 failed!\n",
      "Timeout!\n",
      "Trial 92 failed!\n",
      "Timeout!\n",
      "Trial 93 failed!\n",
      "Timeout!\n",
      "Trial 94 failed!\n",
      "Timeout!\n",
      "Trial 95 failed!\n",
      "Timeout!\n",
      "Trial 96 failed!\n",
      "Collision detected!\n",
      "Trial 97 failed!\n",
      "Timeout!\n",
      "Trial 98 failed!\n",
      "Timeout!\n",
      "Trial 99 failed!\n",
      "Progress trials: 100 %\n",
      "\n",
      "Success rate: 0.140\n",
      "\n",
      "Number trajectories dataset: 10\n",
      "1) Create dataset: \n",
      "\n",
      "\n",
      "2) Train classifier: \n",
      "\n",
      "[3. 2. 6. 6. 6. 2. 2. 2. 2. 4. 4. 2. 0. 6. 4. 2. 3. 4. 7. 2. 4. 2. 6. 4.\n",
      " 3. 6. 2. 0. 0. 2. 2. 4. 4.]\n",
      "[3. 5. 0. 6. 6. 2. 2. 2. 2. 3. 5. 2. 0. 6. 4. 2. 3. 4. 7. 2. 4. 5. 6. 5.\n",
      " 6. 6. 2. 0. 0. 5. 4. 4. 4.]\n",
      "Accuracy: 0.727\n",
      "\n",
      "Confusion matrix:\n",
      "\n",
      " [[3 0 0 0 0 0 1 0]\n",
      " [0 0 0 0 0 0 0 0]\n",
      " [0 0 8 0 0 0 0 0]\n",
      " [0 0 0 2 1 0 0 0]\n",
      " [0 0 1 0 5 0 0 0]\n",
      " [0 0 3 0 2 0 0 0]\n",
      " [0 0 0 1 0 0 5 0]\n",
      " [0 0 0 0 0 0 0 1]]\n",
      "\n",
      "3) Test classifier: \n",
      "\n",
      "Timeout!\n",
      "Trial 0 failed!\n",
      "Collision detected!\n",
      "Trial 3 failed!\n",
      "Timeout!\n",
      "Trial 4 failed!\n",
      "Timeout!\n",
      "Trial 5 failed!\n",
      "Collision detected!\n",
      "Trial 10 failed!\n",
      "Timeout!\n",
      "Trial 11 failed!\n",
      "Timeout!\n",
      "Trial 12 failed!\n",
      "Collision detected!\n",
      "Trial 13 failed!\n",
      "Collision detected!\n",
      "Trial 14 failed!\n",
      "Collision detected!\n",
      "Trial 15 failed!\n",
      "Collision detected!\n",
      "Trial 16 failed!\n",
      "Collision detected!\n",
      "Trial 18 failed!\n",
      "Progress trials: 20 %\n",
      "Timeout!\n",
      "Trial 21 failed!\n",
      "Collision detected!\n",
      "Trial 28 failed!\n",
      "Timeout!\n",
      "Trial 29 failed!\n",
      "Timeout!\n",
      "Trial 30 failed!\n",
      "Timeout!\n",
      "Trial 31 failed!\n",
      "Timeout!\n",
      "Trial 32 failed!\n",
      "Collision detected!\n",
      "Trial 34 failed!\n",
      "Timeout!\n",
      "Trial 35 failed!\n",
      "Timeout!\n",
      "Trial 36 failed!\n",
      "Timeout!\n",
      "Trial 38 failed!\n",
      "Timeout!\n",
      "Trial 39 failed!\n",
      "Progress trials: 40 %\n",
      "Timeout!\n",
      "Trial 40 failed!\n",
      "Collision detected!\n",
      "Trial 41 failed!\n",
      "Collision detected!\n",
      "Trial 42 failed!\n",
      "Collision detected!\n",
      "Trial 43 failed!\n",
      "Timeout!\n",
      "Trial 44 failed!\n",
      "Timeout!\n",
      "Trial 45 failed!\n",
      "Timeout!\n",
      "Trial 47 failed!\n",
      "Collision detected!\n",
      "Trial 48 failed!\n",
      "Timeout!\n",
      "Trial 49 failed!\n",
      "Timeout!\n",
      "Trial 53 failed!\n",
      "Timeout!\n",
      "Trial 54 failed!\n",
      "Timeout!\n",
      "Trial 55 failed!\n",
      "Collision detected!\n",
      "Trial 56 failed!\n",
      "Collision detected!\n",
      "Trial 58 failed!\n",
      "Progress trials: 60 %\n",
      "Collision detected!\n",
      "Trial 62 failed!\n",
      "Timeout!\n",
      "Trial 65 failed!\n",
      "Timeout!\n",
      "Trial 66 failed!\n",
      "Collision detected!\n",
      "Trial 69 failed!\n",
      "Timeout!\n",
      "Trial 71 failed!\n",
      "Collision detected!\n",
      "Trial 72 failed!\n",
      "Timeout!\n",
      "Trial 75 failed!\n",
      "Timeout!\n",
      "Trial 76 failed!\n",
      "Timeout!\n",
      "Trial 77 failed!\n",
      "Collision detected!\n",
      "Trial 78 failed!\n",
      "Progress trials: 80 %\n",
      "Timeout!\n",
      "Trial 81 failed!\n",
      "Timeout!\n",
      "Trial 83 failed!\n",
      "Collision detected!\n",
      "Trial 84 failed!\n",
      "Timeout!\n",
      "Trial 85 failed!\n",
      "Collision detected!\n",
      "Trial 86 failed!\n",
      "Collision detected!\n",
      "Trial 87 failed!\n",
      "Collision detected!\n",
      "Trial 88 failed!\n",
      "Collision detected!\n",
      "Trial 89 failed!\n",
      "Collision detected!\n",
      "Trial 90 failed!\n",
      "Timeout!\n",
      "Trial 91 failed!\n",
      "Collision detected!\n",
      "Trial 92 failed!\n",
      "Timeout!\n",
      "Trial 93 failed!\n",
      "Timeout!\n",
      "Trial 95 failed!\n",
      "Collision detected!\n",
      "Trial 96 failed!\n",
      "Progress trials: 100 %\n",
      "\n",
      "Success rate: 0.390\n",
      "\n",
      "Number trajectories dataset: 20\n",
      "1) Create dataset: \n",
      "\n",
      "\n",
      "2) Train classifier: \n",
      "\n",
      "[4. 6. 5. 3. 0. 5. 1. 7. 0. 3. 2. 3. 5. 7. 1. 0. 3. 5. 1. 2. 1. 2. 4. 4.\n",
      " 3. 2. 3. 4. 5. 2. 0. 5. 3. 0. 3. 4. 7. 4. 6. 7. 2. 2. 2. 3. 0. 6. 3. 2.\n",
      " 7. 4. 2. 0. 4. 7. 6. 6. 6. 4. 5. 1. 4. 6. 5. 5. 0. 1. 6. 2. 5. 1. 3. 0.\n",
      " 3. 6.]\n",
      "[2. 0. 5. 3. 0. 4. 5. 7. 0. 3. 2. 4. 2. 1. 7. 7. 3. 5. 7. 5. 1. 2. 3. 2.\n",
      " 3. 2. 4. 4. 1. 2. 7. 5. 6. 6. 3. 4. 7. 4. 6. 7. 2. 2. 2. 6. 0. 0. 4. 0.\n",
      " 7. 4. 2. 0. 4. 7. 6. 0. 0. 4. 1. 1. 4. 6. 1. 2. 0. 1. 0. 2. 2. 1. 3. 0.\n",
      " 3. 6.]\n",
      "Accuracy: 0.608\n",
      "\n",
      "Confusion matrix:\n",
      "\n",
      " [[6 0 1 0 0 0 5 0]\n",
      " [0 4 0 0 0 3 0 1]\n",
      " [0 0 9 0 2 3 0 0]\n",
      " [0 0 0 7 1 0 0 0]\n",
      " [0 0 0 3 7 1 0 0]\n",
      " [0 1 1 0 0 3 0 0]\n",
      " [1 0 0 2 0 0 4 0]\n",
      " [2 2 0 0 0 0 0 5]]\n",
      "\n",
      "3) Test classifier: \n",
      "\n",
      "Collision detected!\n",
      "Trial 3 failed!\n",
      "Collision detected!\n",
      "Trial 10 failed!\n",
      "Collision detected!\n",
      "Trial 15 failed!\n",
      "Collision detected!\n",
      "Trial 16 failed!\n",
      "Collision detected!\n",
      "Trial 18 failed!\n",
      "Progress trials: 20 %\n",
      "Collision detected!\n",
      "Trial 28 failed!\n",
      "Collision detected!\n",
      "Trial 32 failed!\n",
      "Collision detected!\n",
      "Trial 34 failed!\n",
      "Collision detected!\n",
      "Trial 35 failed!\n",
      "Progress trials: 40 %\n",
      "Collision detected!\n",
      "Trial 41 failed!\n",
      "Collision detected!\n",
      "Trial 44 failed!\n",
      "Collision detected!\n",
      "Trial 48 failed!\n",
      "Collision detected!\n",
      "Trial 53 failed!\n",
      "Collision detected!\n",
      "Trial 58 failed!\n",
      "Timeout!\n",
      "Trial 59 failed!\n",
      "Progress trials: 60 %\n",
      "Collision detected!\n",
      "Trial 62 failed!\n",
      "Timeout!\n",
      "Trial 69 failed!\n",
      "Collision detected!\n",
      "Trial 71 failed!\n",
      "Collision detected!\n",
      "Trial 72 failed!\n",
      "Timeout!\n",
      "Trial 78 failed!\n",
      "Collision detected!\n",
      "Trial 79 failed!\n",
      "Progress trials: 80 %\n",
      "Collision detected!\n",
      "Trial 81 failed!\n",
      "Collision detected!\n",
      "Trial 87 failed!\n",
      "Collision detected!\n",
      "Trial 92 failed!\n",
      "Collision detected!\n",
      "Trial 93 failed!\n",
      "Collision detected!\n",
      "Trial 96 failed!\n",
      "Progress trials: 100 %\n",
      "\n",
      "Success rate: 0.740\n",
      "\n",
      "Number trajectories dataset: 40\n",
      "1) Create dataset: \n",
      "\n",
      "\n",
      "2) Train classifier: \n",
      "\n",
      "[4. 4. 1. 0. 3. 1. 0. 4. 1. 6. 7. 2. 1. 5. 2. 0. 2. 3. 1. 2. 0. 3. 5. 1.\n",
      " 3. 3. 3. 1. 4. 0. 1. 0. 0. 3. 2. 3. 2. 3. 6. 1. 0. 0. 4. 7. 1. 3. 6. 7.\n",
      " 4. 1. 3. 6. 0. 7. 4. 3. 0. 0. 5. 4. 7. 0. 2. 2. 4. 1. 4. 0. 3. 1. 0. 2.\n",
      " 1. 1. 1. 5. 0. 2. 3. 2. 6. 0. 4. 3. 2. 2. 7. 3. 2. 7. 5. 3. 0. 5. 2. 3.\n",
      " 4. 2. 2. 0. 6. 5. 3. 0. 2. 0. 0. 1. 4. 1. 0. 1. 3. 1. 0. 1. 1. 2. 7. 7.\n",
      " 6. 0. 1. 3. 0. 3. 3. 3. 7. 0. 4. 0. 1. 1. 1. 2. 3. 0. 4. 2. 0. 0.]\n",
      "[4. 4. 1. 6. 3. 1. 0. 4. 5. 6. 1. 2. 1. 2. 0. 0. 2. 3. 7. 2. 6. 4. 5. 1.\n",
      " 3. 3. 3. 7. 4. 0. 7. 0. 7. 3. 2. 3. 2. 3. 6. 1. 0. 0. 4. 1. 1. 6. 6. 7.\n",
      " 4. 1. 3. 0. 6. 7. 4. 3. 0. 0. 1. 4. 7. 6. 2. 2. 2. 1. 4. 0. 3. 1. 6. 2.\n",
      " 7. 5. 7. 5. 0. 2. 3. 2. 6. 0. 4. 4. 2. 2. 7. 3. 2. 7. 2. 3. 0. 5. 2. 3.\n",
      " 4. 2. 2. 0. 6. 5. 3. 7. 2. 0. 0. 1. 5. 1. 3. 1. 3. 1. 0. 1. 1. 2. 7. 7.\n",
      " 3. 0. 7. 3. 0. 3. 3. 3. 6. 0. 4. 0. 1. 7. 1. 5. 3. 0. 5. 2. 0. 6.]\n",
      "Accuracy: 0.761\n",
      "\n",
      "Confusion matrix:\n",
      "\n",
      " [[22  0  1  0  0  0  1  0]\n",
      " [ 0 17  0  0  0  1  0  2]\n",
      " [ 0  0 19  0  1  2  0  0]\n",
      " [ 1  0  0 22  0  0  1  0]\n",
      " [ 0  0  0  2 12  0  0  0]\n",
      " [ 0  2  1  0  2  4  0  0]\n",
      " [ 6  0  0  1  0  0  5  1]\n",
      " [ 2  7  0  0  0  0  0  7]]\n",
      "\n",
      "3) Test classifier: \n",
      "\n",
      "Collision detected!\n",
      "Trial 3 failed!\n",
      "Collision detected!\n",
      "Trial 10 failed!\n",
      "Collision detected!\n",
      "Trial 13 failed!\n",
      "Collision detected!\n",
      "Trial 16 failed!\n",
      "Collision detected!\n",
      "Trial 18 failed!\n",
      "Progress trials: 20 %\n",
      "Collision detected!\n",
      "Trial 28 failed!\n",
      "Collision detected!\n",
      "Trial 32 failed!\n",
      "Collision detected!\n",
      "Trial 34 failed!\n",
      "Progress trials: 40 %\n",
      "Collision detected!\n",
      "Trial 41 failed!\n",
      "Collision detected!\n",
      "Trial 48 failed!\n",
      "Collision detected!\n",
      "Trial 49 failed!\n",
      "Collision detected!\n",
      "Trial 53 failed!\n",
      "Collision detected!\n",
      "Trial 56 failed!\n",
      "Collision detected!\n",
      "Trial 57 failed!\n",
      "Progress trials: 60 %\n",
      "Collision detected!\n",
      "Trial 62 failed!\n",
      "Collision detected!\n",
      "Trial 66 failed!\n",
      "Collision detected!\n",
      "Trial 72 failed!\n",
      "Progress trials: 80 %\n",
      "Collision detected!\n",
      "Trial 81 failed!\n",
      "Timeout!\n",
      "Trial 85 failed!\n",
      "Collision detected!\n",
      "Trial 87 failed!\n",
      "Collision detected!\n",
      "Trial 92 failed!\n",
      "Collision detected!\n",
      "Trial 93 failed!\n",
      "Collision detected!\n",
      "Trial 96 failed!\n",
      "Progress trials: 100 %\n",
      "\n",
      "Success rate: 0.770\n",
      "\n",
      "Number trajectories dataset: 60\n",
      "1) Create dataset: \n",
      "\n",
      "\n",
      "2) Train classifier: \n",
      "\n",
      "[0. 0. 6. 1. 0. 0. 4. 0. 6. 6. 0. 0. 3. 4. 5. 1. 4. 0. 2. 6. 2. 0. 1. 2.\n",
      " 6. 3. 1. 1. 4. 1. 0. 2. 0. 7. 0. 0. 1. 1. 2. 4. 1. 1. 4. 0. 2. 4. 4. 5.\n",
      " 4. 7. 5. 1. 5. 4. 1. 6. 1. 6. 4. 1. 0. 6. 4. 1. 4. 1. 1. 3. 3. 4. 0. 2.\n",
      " 1. 4. 0. 2. 0. 4. 6. 0. 0. 3. 1. 6. 1. 7. 3. 2. 0. 0. 3. 4. 0. 3. 0. 2.\n",
      " 1. 2. 3. 6. 3. 0. 4. 4. 3. 0. 3. 1. 5. 3. 6. 1. 3. 0. 5. 0. 0. 1. 2. 0.\n",
      " 4. 3. 5. 1. 2. 0. 5. 2. 1. 4. 0. 1. 2. 2. 5. 2. 3. 1. 7. 2. 0. 2. 1. 1.\n",
      " 0. 6. 0. 3. 0. 2. 1. 2. 5. 0. 3. 3. 4. 4. 3. 4. 1. 2. 1. 7. 0. 0. 7. 2.\n",
      " 6. 1. 0. 4. 0. 0. 4. 2. 4. 5. 6. 5. 7. 1. 2. 3. 2. 1. 0. 0. 3. 6. 2. 2.\n",
      " 7. 1. 3. 3. 2. 1. 1. 4. 7. 1. 4. 1. 2.]\n",
      "[0. 0. 6. 5. 0. 6. 4. 0. 6. 3. 0. 0. 3. 5. 4. 1. 4. 0. 2. 6. 2. 0. 7. 4.\n",
      " 6. 3. 1. 1. 4. 2. 6. 5. 0. 6. 0. 0. 1. 1. 4. 2. 1. 7. 4. 0. 5. 4. 4. 5.\n",
      " 4. 7. 2. 1. 5. 5. 1. 6. 1. 6. 3. 1. 0. 6. 3. 1. 2. 1. 7. 3. 3. 4. 0. 2.\n",
      " 7. 4. 0. 2. 0. 4. 6. 0. 0. 6. 1. 6. 1. 1. 3. 5. 0. 0. 3. 4. 0. 6. 0. 2.\n",
      " 1. 5. 3. 6. 3. 0. 4. 4. 3. 0. 3. 5. 5. 3. 6. 1. 3. 0. 5. 0. 0. 1. 2. 0.\n",
      " 4. 6. 5. 1. 2. 6. 5. 2. 5. 4. 0. 5. 2. 5. 5. 2. 3. 1. 7. 5. 0. 2. 1. 5.\n",
      " 7. 6. 0. 3. 7. 2. 1. 2. 5. 0. 3. 3. 4. 4. 3. 2. 1. 5. 5. 7. 6. 0. 7. 2.\n",
      " 3. 1. 0. 4. 0. 0. 4. 2. 4. 2. 3. 5. 6. 7. 4. 3. 2. 5. 0. 0. 3. 6. 2. 2.\n",
      " 7. 1. 3. 3. 2. 7. 1. 3. 7. 7. 4. 7. 2.]\n",
      "Accuracy: 0.746\n",
      "\n",
      "Confusion matrix:\n",
      "\n",
      " [[38  0  0  0  0  0  0  0]\n",
      " [ 0 25  0  0  0  0  0  1]\n",
      " [ 0  1 20  0  3  2  0  0]\n",
      " [ 0  0  0 21  3  0  3  0]\n",
      " [ 0  0  3  0 21  1  0  0]\n",
      " [ 0  7  7  0  2  9  0  0]\n",
      " [ 4  0  0  3  0  0 13  2]\n",
      " [ 2  8  0  0  0  0  0  6]]\n",
      "\n",
      "3) Test classifier: \n",
      "\n",
      "Collision detected!\n",
      "Trial 3 failed!\n",
      "Collision detected!\n",
      "Trial 6 failed!\n",
      "Collision detected!\n",
      "Trial 10 failed!\n",
      "Collision detected!\n",
      "Trial 16 failed!\n",
      "Collision detected!\n",
      "Trial 18 failed!\n",
      "Progress trials: 20 %\n",
      "Collision detected!\n",
      "Trial 28 failed!\n",
      "Collision detected!\n",
      "Trial 32 failed!\n",
      "Collision detected!\n",
      "Trial 34 failed!\n",
      "Collision detected!\n",
      "Trial 38 failed!\n",
      "Progress trials: 40 %\n",
      "Collision detected!\n",
      "Trial 41 failed!\n",
      "Collision detected!\n",
      "Trial 49 failed!\n",
      "Collision detected!\n",
      "Trial 53 failed!\n",
      "Collision detected!\n",
      "Trial 54 failed!\n",
      "Collision detected!\n",
      "Trial 56 failed!\n",
      "Progress trials: 60 %\n",
      "Collision detected!\n",
      "Trial 62 failed!\n",
      "Collision detected!\n",
      "Trial 66 failed!\n",
      "Timeout!\n",
      "Trial 71 failed!\n",
      "Collision detected!\n",
      "Trial 72 failed!\n",
      "Collision detected!\n",
      "Trial 79 failed!\n",
      "Progress trials: 80 %\n",
      "Collision detected!\n",
      "Trial 81 failed!\n",
      "Timeout!\n",
      "Trial 83 failed!\n",
      "Collision detected!\n",
      "Trial 87 failed!\n",
      "Timeout!\n",
      "Trial 89 failed!\n",
      "Collision detected!\n",
      "Trial 93 failed!\n",
      "Collision detected!\n",
      "Trial 96 failed!\n",
      "Progress trials: 100 %\n",
      "\n",
      "Success rate: 0.750\n",
      "\n",
      "Number trajectories dataset: 80\n",
      "1) Create dataset: \n",
      "\n",
      "\n",
      "2) Train classifier: \n",
      "\n",
      "[1. 2. 4. 1. 6. 1. 1. 1. 0. 1. 0. 0. 2. 1. 2. 3. 0. 1. 2. 1. 1. 1. 6. 6.\n",
      " 5. 0. 7. 1. 6. 0. 4. 0. 1. 1. 4. 1. 2. 7. 3. 2. 1. 4. 7. 5. 6. 7. 2. 0.\n",
      " 3. 0. 6. 2. 0. 4. 3. 1. 7. 7. 1. 0. 1. 3. 2. 4. 5. 6. 1. 4. 0. 2. 7. 2.\n",
      " 4. 1. 6. 2. 2. 0. 0. 3. 2. 5. 2. 1. 7. 7. 3. 3. 1. 1. 2. 0. 1. 2. 3. 0.\n",
      " 2. 5. 6. 7. 4. 2. 5. 7. 1. 4. 0. 1. 3. 1. 5. 4. 7. 1. 2. 0. 1. 0. 2. 0.\n",
      " 2. 3. 4. 0. 2. 1. 1. 2. 4. 0. 0. 1. 2. 4. 6. 6. 2. 7. 2. 2. 6. 1. 0. 4.\n",
      " 2. 4. 4. 1. 1. 7. 5. 3. 2. 3. 1. 1. 4. 5. 5. 0. 0. 4. 1. 2. 2. 7. 0. 2.\n",
      " 1. 6. 7. 6. 2. 0. 0. 4. 2. 6. 0. 7. 0. 1. 2. 1. 1. 6. 1. 0. 4. 2. 4. 1.\n",
      " 1. 4. 2. 6. 6. 0. 7. 3. 1. 6. 5. 0. 0. 1. 4. 1. 2. 7. 2. 4. 2. 2. 2. 4.\n",
      " 1. 3. 0. 0. 3. 7. 1. 2. 6. 5. 6. 1. 2. 2. 1. 5. 5. 3. 5. 2. 2. 0. 1. 6.\n",
      " 4. 1. 2. 5. 1. 6. 6. 5. 3. 4. 2. 1. 1. 2. 2. 3. 1. 3. 2. 4. 2. 4. 0. 1.\n",
      " 5. 4. 5. 7.]\n",
      "[1. 2. 4. 1. 3. 1. 1. 7. 0. 7. 0. 0. 2. 1. 2. 3. 0. 7. 2. 1. 7. 1. 6. 4.\n",
      " 2. 0. 7. 1. 6. 0. 4. 0. 5. 1. 4. 0. 2. 1. 3. 2. 1. 4. 6. 5. 6. 7. 2. 0.\n",
      " 3. 0. 3. 2. 0. 4. 3. 1. 7. 7. 1. 0. 1. 3. 2. 4. 5. 6. 1. 6. 0. 2. 7. 2.\n",
      " 2. 1. 6. 2. 2. 0. 0. 3. 2. 2. 2. 1. 7. 7. 3. 6. 5. 1. 2. 0. 1. 5. 3. 7.\n",
      " 4. 5. 6. 7. 6. 2. 5. 7. 1. 2. 0. 5. 3. 1. 5. 4. 7. 1. 2. 0. 1. 0. 2. 0.\n",
      " 2. 3. 4. 0. 5. 1. 1. 4. 4. 0. 7. 1. 4. 3. 6. 3. 2. 7. 2. 5. 6. 1. 0. 5.\n",
      " 2. 4. 4. 1. 5. 7. 5. 4. 2. 3. 1. 1. 2. 5. 5. 0. 0. 4. 1. 4. 2. 7. 7. 2.\n",
      " 5. 6. 7. 6. 2. 0. 6. 4. 2. 3. 0. 7. 0. 1. 4. 7. 1. 6. 1. 0. 4. 5. 4. 1.\n",
      " 1. 2. 5. 6. 6. 6. 7. 3. 1. 6. 1. 6. 0. 1. 4. 7. 2. 7. 2. 4. 2. 2. 2. 3.\n",
      " 1. 3. 0. 0. 3. 7. 1. 2. 3. 5. 6. 7. 2. 2. 5. 5. 4. 3. 5. 2. 2. 0. 1. 6.\n",
      " 4. 1. 2. 5. 7. 6. 6. 4. 3. 4. 5. 1. 1. 4. 2. 3. 5. 6. 2. 4. 2. 3. 0. 1.\n",
      " 5. 3. 5. 7.]\n",
      "Accuracy: 0.772\n",
      "\n",
      "Confusion matrix:\n",
      "\n",
      " [[33  1  0  0  0  0  0  0]\n",
      " [ 0 44  0  0  0  1  0  1]\n",
      " [ 0  0 42  0  4  2  0  0]\n",
      " [ 0  0  0 17  4  0  5  0]\n",
      " [ 0  0  6  1 20  2  1  0]\n",
      " [ 0  7  6  0  1 14  0  0]\n",
      " [ 3  0  0  2  2  0 18  1]\n",
      " [ 3  8  0  0  0  0  0 19]]\n",
      "\n",
      "3) Test classifier: \n",
      "\n",
      "Collision detected!\n",
      "Trial 3 failed!\n",
      "Collision detected!\n",
      "Trial 10 failed!\n",
      "Progress trials: 20 %\n",
      "Collision detected!\n",
      "Trial 28 failed!\n",
      "Collision detected!\n",
      "Trial 32 failed!\n",
      "Collision detected!\n",
      "Trial 34 failed!\n",
      "Progress trials: 40 %\n",
      "Collision detected!\n",
      "Trial 49 failed!\n",
      "Collision detected!\n",
      "Trial 54 failed!\n",
      "Collision detected!\n",
      "Trial 58 failed!\n",
      "Progress trials: 60 %\n",
      "Collision detected!\n",
      "Trial 62 failed!\n",
      "Collision detected!\n",
      "Trial 66 failed!\n",
      "Collision detected!\n",
      "Trial 71 failed!\n",
      "Collision detected!\n",
      "Trial 72 failed!\n",
      "Collision detected!\n",
      "Trial 79 failed!\n",
      "Progress trials: 80 %\n",
      "Collision detected!\n",
      "Trial 81 failed!\n",
      "Timeout!\n",
      "Trial 83 failed!\n",
      "Timeout!\n",
      "Trial 87 failed!\n",
      "Collision detected!\n",
      "Trial 93 failed!\n",
      "Collision detected!\n",
      "Trial 96 failed!\n",
      "Progress trials: 100 %\n",
      "\n",
      "Success rate: 0.820\n",
      "\n",
      "Number trajectories dataset: 100\n",
      "1) Create dataset: \n",
      "\n",
      "\n",
      "2) Train classifier: \n",
      "\n",
      "[7. 2. 3. 0. 0. 0. 4. 0. 2. 3. 7. 3. 7. 4. 2. 2. 7. 1. 0. 4. 3. 3. 7. 0.\n",
      " 2. 7. 4. 1. 3. 2. 0. 5. 3. 2. 0. 2. 1. 0. 1. 2. 5. 0. 6. 1. 6. 1. 1. 1.\n",
      " 0. 1. 0. 1. 2. 4. 1. 0. 0. 3. 2. 0. 6. 6. 1. 1. 1. 5. 4. 6. 1. 1. 2. 3.\n",
      " 5. 2. 3. 0. 0. 7. 7. 1. 7. 0. 2. 2. 0. 7. 0. 3. 2. 1. 5. 6. 2. 4. 3. 2.\n",
      " 6. 3. 7. 0. 2. 7. 2. 1. 2. 4. 1. 2. 4. 0. 2. 1. 7. 4. 0. 0. 3. 2. 1. 7.\n",
      " 5. 2. 1. 3. 7. 3. 3. 1. 7. 4. 3. 5. 1. 6. 4. 7. 4. 1. 7. 3. 7. 1. 1. 2.\n",
      " 1. 0. 0. 1. 2. 2. 2. 0. 4. 1. 1. 6. 4. 7. 2. 4. 5. 2. 1. 4. 6. 1. 0. 4.\n",
      " 3. 4. 3. 0. 3. 3. 0. 4. 7. 2. 6. 1. 3. 5. 5. 2. 7. 0. 1. 0. 4. 0. 1. 1.\n",
      " 2. 1. 3. 5. 7. 0. 1. 6. 2. 2. 7. 3. 4. 3. 7. 1. 5. 0. 0. 3. 0. 5. 1. 0.\n",
      " 1. 2. 1. 5. 4. 2. 0. 2. 3. 0. 2. 6. 0. 7. 7. 2. 0. 6. 1. 0. 2. 0. 6. 3.\n",
      " 0. 7. 1. 6. 5. 0. 6. 1. 0. 3. 5. 4. 5. 4. 3. 4. 1. 2. 2. 1. 4. 2. 0. 0.\n",
      " 1. 5. 3. 0. 2. 1. 5. 1. 1. 5. 5. 2. 1. 2. 2. 7. 4. 0. 7. 1. 2. 4. 5. 0.\n",
      " 7. 0. 4. 0. 3. 1. 3. 4. 4. 4. 4. 5. 7. 2. 2. 0. 0. 1. 1. 1. 1. 0. 0. 2.\n",
      " 0. 2. 3. 1. 4. 1. 3. 1. 4. 1. 2. 7. 1. 2. 0. 1. 4. 2. 4. 1. 0. 2. 2. 1.\n",
      " 1. 0. 2.]\n",
      "[7. 2. 3. 0. 0. 0. 4. 0. 2. 4. 7. 3. 7. 4. 4. 2. 0. 1. 0. 4. 3. 3. 7. 0.\n",
      " 2. 0. 2. 1. 3. 5. 0. 1. 3. 5. 0. 5. 1. 0. 1. 5. 5. 0. 6. 1. 6. 1. 1. 7.\n",
      " 0. 1. 0. 1. 2. 4. 1. 0. 6. 3. 5. 0. 0. 6. 1. 1. 1. 1. 4. 3. 1. 1. 4. 3.\n",
      " 1. 2. 3. 0. 0. 7. 7. 1. 0. 0. 2. 2. 0. 7. 0. 3. 2. 5. 5. 6. 2. 4. 3. 2.\n",
      " 6. 3. 1. 0. 5. 1. 2. 1. 2. 4. 1. 2. 5. 0. 2. 1. 7. 6. 7. 0. 3. 2. 7. 1.\n",
      " 5. 2. 1. 6. 7. 3. 3. 5. 0. 4. 3. 5. 1. 6. 4. 7. 4. 0. 1. 3. 7. 1. 1. 2.\n",
      " 1. 0. 6. 1. 2. 4. 2. 7. 6. 1. 1. 0. 2. 7. 2. 2. 5. 2. 1. 4. 6. 5. 0. 4.\n",
      " 3. 4. 6. 0. 6. 3. 0. 3. 7. 2. 6. 1. 3. 5. 5. 2. 7. 0. 1. 0. 4. 0. 1. 1.\n",
      " 2. 5. 6. 5. 7. 0. 1. 6. 2. 2. 7. 3. 4. 4. 7. 5. 5. 0. 0. 4. 0. 5. 1. 0.\n",
      " 5. 2. 1. 2. 3. 2. 0. 2. 3. 0. 2. 6. 0. 1. 1. 2. 0. 3. 1. 0. 2. 6. 6. 4.\n",
      " 0. 7. 1. 7. 5. 0. 6. 1. 6. 4. 5. 4. 5. 4. 3. 4. 1. 5. 4. 1. 2. 5. 0. 0.\n",
      " 1. 1. 3. 0. 2. 1. 5. 1. 1. 5. 5. 4. 1. 2. 2. 7. 3. 0. 7. 1. 2. 4. 1. 0.\n",
      " 7. 0. 4. 0. 3. 1. 3. 4. 4. 4. 4. 5. 7. 2. 5. 0. 0. 5. 1. 5. 1. 3. 6. 2.\n",
      " 0. 2. 3. 1. 4. 1. 3. 7. 4. 1. 5. 1. 1. 2. 0. 1. 6. 2. 4. 1. 7. 4. 2. 7.\n",
      " 1. 6. 2.]\n",
      "Accuracy: 0.761\n",
      "\n",
      "Confusion matrix:\n",
      "\n",
      " [[52  1  0  0  0  0  2  4]\n",
      " [ 0 56  0  0  0  5  0  7]\n",
      " [ 0  0 44  0  4  1  0  0]\n",
      " [ 1  0  0 28  3  0  2  0]\n",
      " [ 0  0  6  5 27  0  0  0]\n",
      " [ 0  8 10  0  1 17  0  0]\n",
      " [ 6  0  0  4  3  0 12  0]\n",
      " [ 3  4  0  0  0  0  1 22]]\n",
      "\n",
      "3) Test classifier: \n",
      "\n",
      "Collision detected!\n",
      "Trial 3 failed!\n",
      "Collision detected!\n",
      "Trial 5 failed!\n",
      "Timeout!\n",
      "Trial 9 failed!\n",
      "Collision detected!\n",
      "Trial 10 failed!\n",
      "Progress trials: 20 %\n",
      "Collision detected!\n",
      "Trial 28 failed!\n",
      "Collision detected!\n",
      "Trial 32 failed!\n",
      "Timeout!\n",
      "Trial 34 failed!\n",
      "Progress trials: 40 %\n",
      "Collision detected!\n",
      "Trial 41 failed!\n",
      "Collision detected!\n",
      "Trial 48 failed!\n",
      "Collision detected!\n",
      "Trial 49 failed!\n",
      "Collision detected!\n",
      "Trial 53 failed!\n",
      "Collision detected!\n",
      "Trial 54 failed!\n",
      "Collision detected!\n",
      "Trial 56 failed!\n",
      "Collision detected!\n",
      "Trial 58 failed!\n",
      "Progress trials: 60 %\n",
      "Collision detected!\n",
      "Trial 62 failed!\n",
      "Collision detected!\n",
      "Trial 66 failed!\n",
      "Collision detected!\n",
      "Trial 71 failed!\n",
      "Collision detected!\n",
      "Trial 72 failed!\n",
      "Progress trials: 80 %\n",
      "Collision detected!\n",
      "Trial 81 failed!\n",
      "Timeout!\n",
      "Trial 83 failed!\n",
      "Collision detected!\n",
      "Trial 96 failed!\n",
      "Progress trials: 100 %\n",
      "\n",
      "Success rate: 0.790\n"
     ]
    }
   ],
   "source": [
    "n_trajectories_list = [1, 10, 20, 40, 60, 80, 100]\n",
    "n_obstacles_list = [1, 2, 3]\n",
    "success_rate_list = repeat_experiments(n_trajectories_list, n_obstacles_list=n_obstacles_list)"
   ]
  },
  {
   "cell_type": "markdown",
   "metadata": {
    "deletable": false,
    "editable": false,
    "nbgrader": {
     "cell_type": "markdown",
     "checksum": "95291857312ac8267de54547da8d050f",
     "grade": false,
     "grade_id": "cell-9b95a800be398249",
     "locked": true,
     "schema_version": 3,
     "solution": false,
     "task": false
    }
   },
   "source": [
    "**4.23)** Let's plot these results!"
   ]
  },
  {
   "cell_type": "code",
   "execution_count": 100,
   "metadata": {
    "deletable": false,
    "editable": false,
    "nbgrader": {
     "cell_type": "code",
     "checksum": "134885439b7c54fbc0d74ba361e6f6dd",
     "grade": false,
     "grade_id": "cell-732364e75b74e8c8",
     "locked": true,
     "schema_version": 3,
     "solution": false,
     "task": false
    }
   },
   "outputs": [],
   "source": [
    "#if you are stuck here, uncomment the lines below to load variables\n",
    "#npzfile = np.load('./get_unstuck/plot1.npz')\n",
    "#success_rate_list= npzfile['success_rate_list']"
   ]
  },
  {
   "cell_type": "code",
   "execution_count": 101,
   "metadata": {
    "deletable": false,
    "editable": false,
    "nbgrader": {
     "cell_type": "code",
     "checksum": "eefd30d182e297591dbe0514f7e442d1",
     "grade": false,
     "grade_id": "cell-6884b9a05eb07a46",
     "locked": true,
     "schema_version": 3,
     "solution": false,
     "task": false
    }
   },
   "outputs": [
    {
     "data": {
      "image/png": "[encoded data removed]",
      "text/plain": [
       "<Figure size 432x288 with 1 Axes>"
      ]
     },
     "metadata": {
      "needs_background": "light"
     },
     "output_type": "display_data"
    }
   ],
   "source": [
    "n_trajectories_list = [1, 10, 20, 40, 60, 80, 100]\n",
    "n_obstacles_list = [1, 2, 3]\n",
    "\n",
    "for i in range(len(n_obstacles_list)):\n",
    "    plt.plot(n_trajectories_list, success_rate_list[i], linestyle='--', linewidth=2, label=('%i obstacle(s)' % (i+1)))\n",
    "    plt.scatter(n_trajectories_list, success_rate_list[i], linewidth=3)\n",
    "    \n",
    "plt.grid('on')\n",
    "plt.xlabel('Number of trajectories in dataset')\n",
    "plt.ylabel('Success rate')\n",
    "plt.title('Influence of dataset size in success rate')\n",
    "plt.ylim(ymin=0)\n",
    "plt.xlim(xmin=0)\n",
    "plt.legend()\n",
    "plt.show()"
   ]
  },
  {
   "cell_type": "markdown",
   "metadata": {
    "deletable": false,
    "editable": false,
    "nbgrader": {
     "cell_type": "markdown",
     "checksum": "266da09c4d34f1ff87f3217c16741784",
     "grade": false,
     "grade_id": "cell-b8351318bdf43c5e",
     "locked": true,
     "schema_version": 3,
     "solution": false,
     "task": false
    }
   },
   "source": [
    "**4.23)** We can observe that increasing the dataset size will increase the performance of the classifier in environments with 1, 2, and 3 obstacles. This performance, however, seems to be bounded (and this bound gets lower as the number of obstacles increases), which suggests that adding more data will not be enough to completely solve this problem. Why do you think this is the case?"
   ]
  },
  {
   "cell_type": "code",
   "execution_count": 102,
   "metadata": {},
   "outputs": [
    {
     "data": {
      "text/plain": [
       "'\\nBecause if there are more obstacles route planning needs to be done and if you only base your decision on your current\\nstate it is not enough\\n'"
      ]
     },
     "execution_count": 102,
     "metadata": {},
     "output_type": "execute_result"
    }
   ],
   "source": [
    "\"\"\"\n",
    "Because if there are more obstacles route planning needs to be done and if you only base your decision on your current\n",
    "state it is not enough\n",
    "\"\"\""
   ]
  },
  {
   "cell_type": "markdown",
   "metadata": {},
   "source": [
    "Because if there are more obstacles route planning needs to be done and if you only base your decision on your current state it is not enough."
   ]
  },
  {
   "cell_type": "markdown",
   "metadata": {
    "deletable": false,
    "editable": false,
    "nbgrader": {
     "cell_type": "markdown",
     "checksum": "48c3edc8deaadbfff74614b902cfd35f",
     "grade": false,
     "grade_id": "cell-339c01e898294c93",
     "locked": true,
     "schema_version": 3,
     "solution": false,
     "task": false
    }
   },
   "source": [
    "**4.24)** In the motivation of this problem, we mentioned that Imitation Learning can be used to learn from humans. However, from this plot, we can observe that as the problem gets more complex (more obstacles in this case), more data is required to find good solutions. More data means more human time to generate the demonstrations, and human time is expensive.\n",
    "\n",
    "What limitations do you see in the approach that we used in this assignment to solve the motion planning problem?"
   ]
  },
  {
   "cell_type": "code",
   "execution_count": 103,
   "metadata": {},
   "outputs": [
    {
     "data": {
      "text/plain": [
       "'\\nadding a human to the mix will increase the noise of the data and corrupt the process\\n'"
      ]
     },
     "execution_count": 103,
     "metadata": {},
     "output_type": "execute_result"
    }
   ],
   "source": [
    "\"\"\"\n",
    "adding a human to the mix will increase the noise of the data and corrupt the process. \n",
    "\"\"\""
   ]
  },
  {
   "cell_type": "markdown",
   "metadata": {},
   "source": [
    "adding a human to the mix will increase the noise of the data and corrupt the process"
   ]
  },
  {
   "cell_type": "markdown",
   "metadata": {
    "deletable": false,
    "editable": false,
    "nbgrader": {
     "cell_type": "markdown",
     "checksum": "00c9300e75206683b54e3c4d1d317776",
     "grade": false,
     "grade_id": "cell-4e46ffd13ff55672",
     "locked": true,
     "schema_version": 3,
     "solution": false,
     "task": false
    }
   },
   "source": [
    "That's it! Congratulations for reaching the end of this practicum :)"
   ]
  },
  {
   "cell_type": "code",
   "execution_count": null,
   "metadata": {},
   "outputs": [],
   "source": []
  },
  {
   "cell_type": "code",
   "execution_count": null,
   "metadata": {},
   "outputs": [],
   "source": []
  }
 ],
 "metadata": {
  "kernelspec": {
   "display_name": "Python 3 (ipykernel)",
   "language": "python",
   "name": "python3"
  },
  "language_info": {
   "codemirror_mode": {
    "name": "ipython",
    "version": 3
   },
   "file_extension": ".py",
   "mimetype": "text/x-python",
   "name": "python",
   "nbconvert_exporter": "python",
   "pygments_lexer": "ipython3",
   "version": "3.10.6"
  }
 },
 "nbformat": 4,
 "nbformat_minor": 4
}
