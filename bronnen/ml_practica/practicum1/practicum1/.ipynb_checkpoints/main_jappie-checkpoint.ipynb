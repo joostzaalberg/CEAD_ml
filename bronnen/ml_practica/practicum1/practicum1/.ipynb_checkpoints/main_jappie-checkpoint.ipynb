{
 "cells": [
  {
   "cell_type": "markdown",
   "metadata": {},
   "source": [
    "# RO47002 Machine Learning for Robotics\n",
    "* (c) TU Delft, 2021\n",
    "* Period: 2021-2022, Q1\n",
    "* Course homepage: https://brightspace.tudelft.nl/d2l/home/401403"
   ]
  },
  {
   "cell_type": "markdown",
   "metadata": {},
   "source": [
    "Make sure you fill in any place that says `YOUR CODE HERE` or `YOUR ANSWER HERE`. Moreover, if you see an empty cell, please DO NOT delete it, instead run that cell as you would run all other cells. Please fill in your name(s) and other required details below:"
   ]
  },
  {
   "cell_type": "code",
   "execution_count": 3,
   "metadata": {},
   "outputs": [],
   "source": [
    "GROUP_NUMBER = \"29\"\n",
    "STUDENT_NAME1 = \"Jasper van Leuven\"\n",
    "STUDENT_NUMBER1 = \"4648404\"\n",
    "STUDENT_NAME2 = \"Joost Zaalberg\"\n",
    "STUDENT_NUMBER2 = \"\""
   ]
  },
  {
   "cell_type": "code",
   "execution_count": 4,
   "metadata": {
    "deletable": false,
    "editable": false,
    "nbgrader": {
     "cell_type": "code",
     "checksum": "e3f76d6a626db81c484191482b101edb",
     "grade": true,
     "grade_id": "cell-c35e4c8223095209",
     "locked": true,
     "points": 0,
     "schema_version": 3,
     "solution": false,
     "task": false
    }
   },
   "outputs": [
    {
     "ename": "AssertionError",
     "evalue": "",
     "output_type": "error",
     "traceback": [
      "\u001b[1;31m---------------------------------------------------------------------------\u001b[0m",
      "\u001b[1;31mAssertionError\u001b[0m                            Traceback (most recent call last)",
      "\u001b[1;32m<ipython-input-4-6b5a882a0fc3>\u001b[0m in \u001b[0;36m<module>\u001b[1;34m\u001b[0m\n\u001b[0;32m      5\u001b[0m \u001b[1;32massert\u001b[0m\u001b[1;33m(\u001b[0m\u001b[0mSTUDENT_NUMBER1\u001b[0m \u001b[1;33m!=\u001b[0m \u001b[1;34m\"\"\u001b[0m\u001b[1;33m)\u001b[0m\u001b[1;33m\u001b[0m\u001b[1;33m\u001b[0m\u001b[0m\n\u001b[0;32m      6\u001b[0m \u001b[1;32massert\u001b[0m\u001b[1;33m(\u001b[0m\u001b[0mSTUDENT_NAME2\u001b[0m \u001b[1;33m!=\u001b[0m \u001b[1;34m\"\"\u001b[0m\u001b[1;33m)\u001b[0m\u001b[1;33m\u001b[0m\u001b[1;33m\u001b[0m\u001b[0m\n\u001b[1;32m----> 7\u001b[1;33m \u001b[1;32massert\u001b[0m\u001b[1;33m(\u001b[0m\u001b[0mSTUDENT_NUMBER2\u001b[0m \u001b[1;33m!=\u001b[0m \u001b[1;34m\"\"\u001b[0m\u001b[1;33m)\u001b[0m\u001b[1;33m\u001b[0m\u001b[1;33m\u001b[0m\u001b[0m\n\u001b[0m",
      "\u001b[1;31mAssertionError\u001b[0m: "
     ]
    }
   ],
   "source": [
    "# Note: this block is a check that you have filled in the above information.\n",
    "# It will throw an AssertionError until all fields are filled\n",
    "assert(GROUP_NUMBER != \"\")\n",
    "assert(STUDENT_NAME1 != \"\")\n",
    "assert(STUDENT_NUMBER1 != \"\")\n",
    "assert(STUDENT_NAME2 != \"\")\n",
    "assert(STUDENT_NUMBER2 != \"\")"
   ]
  },
  {
   "cell_type": "markdown",
   "metadata": {},
   "source": [
    "### General announcements\n",
    "\n",
    "* Do *not* share your solutions, and do *not* copy solutions from others. By submitting your solutions, you claim that you and your lab partner alone are responsible for this code.\n",
    "\n",
    "* Do *not* email questions directly, since we want to provide everybody with the same information and avoid repeating the same answers. Instead, please post your questions regarding this assignment in the correct support forum on Brightspace, this way everybody can benefit from the response. If you do have a particular question that you want to ask directly, please use the scheduled practicum hours to ask a TA.\n",
    "\n",
    "* There is a strict deadline for each assignment. Students are responsible to ensure that they have uploaded their work in time. So, please double check that your upload succeeded to the Brightspace and avoid any late penalties.\n",
    "\n",
    "* This [Jupyter notebook](https://jupyter.org/) uses `nbgrader` to help us with automated tests. `nbgrader` will make various cells in this notebook \"uneditable\" or \"unremovable\" and gives them a special id in the cell metadata. This way, when we run our checks, the system will check the existence of the cell ids and verify the number of points and which checks must be run. While there are ways that you can edit the metadata and work around the restrictions to delete or modify these special cells, you should not do that since then our nbgrader backend will not be able to parse your notebook and give you points for the assignment. You are free to add additional cells, but if you find a cell that you cannot modify or remove, please know that this is on purpose.\n",
    "\n",
    "* This notebook will have in various places a line that throws a `NotImplementedError` exception. These are locations where the assignment requires you to adapt the code! These lines are just there as a reminder for youthat you have not yet adapted that particular piece of code, especially when you execute all the cells. Once your solution code replaced these lines, it should accordingly *not* throw any exceptions anymore.\n",
    "\n",
    "Before you turn this problem in, make sure everything runs as expected. First, **restart the kernel** (in the menubar, select Kernel$\\rightarrow$Restart) and then **run all cells** (in the menubar, select Cell$\\rightarrow$Run All)."
   ]
  },
  {
   "cell_type": "markdown",
   "metadata": {},
   "source": [
    "---"
   ]
  },
  {
   "cell_type": "markdown",
   "metadata": {
    "deletable": false,
    "editable": false,
    "nbgrader": {
     "cell_type": "markdown",
     "checksum": "997782de55cfc5580830431a29c12079",
     "grade": false,
     "grade_id": "cell-692065a70d4a185a",
     "locked": true,
     "schema_version": 3,
     "solution": false,
     "task": false
    }
   },
   "source": [
    "# Python\n",
    "Python is a high-level, dynamically typed multiparadigm programming language. Python code is often said to be almost like pseudocode, since it allows you to express very powerful ideas in very few lines of code while being very readable.\n",
    "\n",
    "## Basic data types\n",
    "\n",
    "Like most languages, Python has a number of basic types including integers, floats, booleans, and strings. These data types behave in ways that are familiar from other programming languages.\n",
    "\n",
    "### Numbers\n",
    "Integers and floats work as you would expect from other languages:"
   ]
  },
  {
   "cell_type": "code",
   "execution_count": 5,
   "metadata": {},
   "outputs": [
    {
     "name": "stdout",
     "output_type": "stream",
     "text": [
      "3\n",
      "Type of x is:  <class 'int'>\n",
      "3.5\n",
      "Type of y is:  <class 'float'>\n"
     ]
    }
   ],
   "source": [
    "x = 3\n",
    "y = 3.5\n",
    "\n",
    "print(x)\n",
    "print(\"Type of x is: \", type(x))\n",
    "print(y)\n",
    "print(\"Type of y is: \", type(y))"
   ]
  },
  {
   "cell_type": "markdown",
   "metadata": {
    "deletable": false,
    "editable": false,
    "nbgrader": {
     "cell_type": "markdown",
     "checksum": "35623ee865ffdaf0f37ed843cfc95054",
     "grade": false,
     "grade_id": "cell-eff6677736343a45",
     "locked": true,
     "schema_version": 3,
     "solution": false,
     "task": false
    }
   },
   "source": [
    "Common mathematical operations are:\n",
    "\n",
    "Addition: $a+b$ := <code>a + b</code> <br />\n",
    "Subtraction: $a-b$ := <code>a - b</code> <br />\n",
    "Division: $a\\div b$ := <code>a / b</code> <br />\n",
    "Multiplication: $a\\times b$ := <code>a * b</code> <br />\n",
    "Power: $a^b$ := <code>a ** b</code> <br />"
   ]
  },
  {
   "cell_type": "code",
   "execution_count": 6,
   "metadata": {},
   "outputs": [
    {
     "name": "stdout",
     "output_type": "stream",
     "text": [
      "1 6 9\n"
     ]
    }
   ],
   "source": [
    "print(x + 1 - 3, x * 2, x ** 2)"
   ]
  },
  {
   "cell_type": "code",
   "execution_count": 7,
   "metadata": {},
   "outputs": [
    {
     "name": "stdout",
     "output_type": "stream",
     "text": [
      "1.5 7.0 12.25\n"
     ]
    }
   ],
   "source": [
    "print(y + 1 -3, y * 2, y ** 2)"
   ]
  },
  {
   "cell_type": "markdown",
   "metadata": {
    "deletable": false,
    "editable": false,
    "nbgrader": {
     "cell_type": "markdown",
     "checksum": "f697b1dee16b8e70ce603135f73c64fb",
     "grade": false,
     "grade_id": "cell-f8074d383d2a3587",
     "locked": true,
     "schema_version": 3,
     "solution": false,
     "task": false
    }
   },
   "source": [
    "# Functions\n",
    "Python functions are defined using the <code>def</code> keyword. For example:\n",
    "\n",
    "    def is_positive(x):\n",
    "        if x > 0:\n",
    "            return True\n",
    "        else:\n",
    "            return False\n",
    "            \n",
    "For more information, see the [documentaion](https://docs.python.org/3.5/tutorial/controlflow.html#defining-functions).\n",
    "\n",
    "**Exercise:**\n",
    "\n",
    "Create a function called **is_negative** that returns True if a number is negative. \n",
    "\n",
    "Print the output of this function when x=0.2 and x=-0.4. Do not forget to write this function first in your code."
   ]
  },
  {
   "cell_type": "code",
   "execution_count": 8,
   "metadata": {
    "deletable": false,
    "nbgrader": {
     "cell_type": "code",
     "checksum": "22969ab4930faa113f5450aa8c4374e7",
     "grade": false,
     "grade_id": "cell-7b160761c3d5b08b",
     "locked": false,
     "schema_version": 3,
     "solution": true,
     "task": false
    }
   },
   "outputs": [
    {
     "name": "stdout",
     "output_type": "stream",
     "text": [
      "False True\n"
     ]
    }
   ],
   "source": [
    "# YOUR CODE HERE\n",
    "def is_negative(x):\n",
    "    if x < 0:\n",
    "        return True\n",
    "    else: \n",
    "        return False\n",
    "    \n",
    "print(is_negative(0.2),is_negative(-0.4))"
   ]
  },
  {
   "cell_type": "code",
   "execution_count": null,
   "metadata": {
    "deletable": false,
    "editable": false,
    "nbgrader": {
     "cell_type": "code",
     "checksum": "cb8c687094bdfd2bec7694aca45273bc",
     "grade": true,
     "grade_id": "cell-bd726247a02eec4e",
     "locked": true,
     "points": 0.5,
     "schema_version": 3,
     "solution": false,
     "task": false
    }
   },
   "outputs": [],
   "source": []
  },
  {
   "cell_type": "markdown",
   "metadata": {
    "deletable": false,
    "editable": false,
    "nbgrader": {
     "cell_type": "markdown",
     "checksum": "fa93a8cc91b989bbf8add196a1320079",
     "grade": false,
     "grade_id": "cell-230a3cd1657b9c95",
     "locked": true,
     "schema_version": 3,
     "solution": false,
     "task": false
    }
   },
   "source": [
    "We will often define functions to take optional keyword arguments, like this:"
   ]
  },
  {
   "cell_type": "code",
   "execution_count": 9,
   "metadata": {},
   "outputs": [
    {
     "name": "stdout",
     "output_type": "stream",
     "text": [
      "Hello, Bob\n",
      "HELLO, FRED!\n"
     ]
    }
   ],
   "source": [
    "def hello(name, loud=False):\n",
    "    if loud:\n",
    "        print('HELLO, %s!' % name.upper())\n",
    "    else:\n",
    "        print('Hello, %s' % name)\n",
    "\n",
    "hello('Bob') # Prints \"Hello, Bob\"\n",
    "hello('Fred', loud=True)  # Prints \"HELLO, FRED!\""
   ]
  },
  {
   "cell_type": "markdown",
   "metadata": {
    "deletable": false,
    "editable": false,
    "nbgrader": {
     "cell_type": "markdown",
     "checksum": "3bcf9126c59e5693db5d0575abc2aad8",
     "grade": false,
     "grade_id": "cell-41ce23bd9f2fd741",
     "locked": true,
     "schema_version": 3,
     "solution": false,
     "task": false
    }
   },
   "source": [
    "## Booleans and logical operations\n",
    "Python implements all of the usual operators for Boolean logic, but uses English words e.g., <strong>and</strong>, <strong>or</strong>, <strong>not</strong> rather than symbols.\n",
    "\n",
    "Some examples are as follows:\n",
    "\n",
    "Logical AND: $a \\land b$ := <code>a and b</code> <br />\n",
    "Logical OR : $a \\lor b$ := <code>a or b</code> <br />\n",
    "Logical NOT: $a \\lnot b$ := <code>a not b</code> <br />\n",
    "Logical XOR: $a \\oplus b$ := <code>a != b</code> <br />"
   ]
  },
  {
   "cell_type": "code",
   "execution_count": 10,
   "metadata": {},
   "outputs": [
    {
     "name": "stdout",
     "output_type": "stream",
     "text": [
      "Type of a is <class 'bool'> and type of b is <class 'bool'>.\n"
     ]
    }
   ],
   "source": [
    "a = True\n",
    "b = False\n",
    "\n",
    "print(\"Type of a is {} and type of b is {}.\".format(type(a), type(b)))"
   ]
  },
  {
   "cell_type": "markdown",
   "metadata": {
    "deletable": false,
    "editable": false,
    "nbgrader": {
     "cell_type": "markdown",
     "checksum": "66c85730e1e0cdbff88456d43c8bbe76",
     "grade": false,
     "grade_id": "cell-42e55ed06926b8da",
     "locked": true,
     "schema_version": 3,
     "solution": false,
     "task": false
    }
   },
   "source": [
    "Perform logical operations between <strong>a</strong> and <strong>b</strong>."
   ]
  },
  {
   "cell_type": "code",
   "execution_count": 11,
   "metadata": {
    "deletable": false,
    "nbgrader": {
     "cell_type": "code",
     "checksum": "3b048c1003ba9a199415e67f9666965a",
     "grade": false,
     "grade_id": "cell-42e55ed06926b8db",
     "locked": false,
     "schema_version": 3,
     "solution": true,
     "task": false
    }
   },
   "outputs": [],
   "source": [
    "def logical_AND(a, b):\n",
    "    output = a and b \n",
    "     \n",
    "    return output\n",
    "\n",
    "def logical_OR(a, b):\n",
    "     # YOUR CODE HERE\n",
    "    output =  a or b\n",
    "    return output\n",
    "\n",
    "def logical_NOT(a):\n",
    "     # YOUR CODE HERE\n",
    "    output = not a \n",
    "    return output\n",
    "\n",
    "def logical_XOR(a, b):\n",
    "     # YOUR CODE HERE\n",
    "    output =  a != b \n",
    "    return output"
   ]
  },
  {
   "cell_type": "code",
   "execution_count": 12,
   "metadata": {},
   "outputs": [
    {
     "name": "stdout",
     "output_type": "stream",
     "text": [
      "False\n",
      "True\n",
      "False\n",
      "True\n"
     ]
    }
   ],
   "source": [
    "print(logical_AND(a,b))\n",
    "print(logical_OR(a,b))\n",
    "print(logical_NOT(a))\n",
    "print(logical_XOR(a,b))"
   ]
  },
  {
   "cell_type": "code",
   "execution_count": 13,
   "metadata": {
    "deletable": false,
    "editable": false,
    "nbgrader": {
     "cell_type": "code",
     "checksum": "f674027b018872e8f030491d2c5cd3bc",
     "grade": true,
     "grade_id": "cell-66e7d270b501202a",
     "locked": true,
     "points": 1,
     "schema_version": 3,
     "solution": false,
     "task": false
    }
   },
   "outputs": [],
   "source": [
    "assert logical_AND(True, False) == False\n",
    "assert logical_OR(False, True) == True\n",
    "assert logical_NOT(True) == False\n",
    "assert logical_XOR(True, True) == False\n"
   ]
  },
  {
   "cell_type": "markdown",
   "metadata": {
    "deletable": false,
    "editable": false,
    "nbgrader": {
     "cell_type": "markdown",
     "checksum": "b375e2d1543bffc3353e8d8fc2aab800",
     "grade": false,
     "grade_id": "cell-5906fd44cbfe3ba7",
     "locked": true,
     "schema_version": 3,
     "solution": false,
     "task": false
    }
   },
   "source": [
    "Implement XNOR between two booleans <strong>a</strong> and <strong>b</strong> ($a \\odot b$) and save the <strong>output</strong> in output variable:"
   ]
  },
  {
   "cell_type": "code",
   "execution_count": 14,
   "metadata": {
    "deletable": false,
    "nbgrader": {
     "cell_type": "code",
     "checksum": "5f57febdacbe9470be291ea7c7d7e304",
     "grade": false,
     "grade_id": "cell-fd541367faa71c44",
     "locked": false,
     "schema_version": 3,
     "solution": true,
     "task": false
    }
   },
   "outputs": [],
   "source": [
    "def xnor(a, b):\n",
    "    # YOUR CODE HERE\n",
    "    if a == b:\n",
    "        output = True\n",
    "    else:\n",
    "        output = False \n",
    "    return output"
   ]
  },
  {
   "cell_type": "code",
   "execution_count": 15,
   "metadata": {},
   "outputs": [
    {
     "name": "stdout",
     "output_type": "stream",
     "text": [
      "False\n"
     ]
    }
   ],
   "source": [
    "print(xnor(False, True))"
   ]
  },
  {
   "cell_type": "code",
   "execution_count": 16,
   "metadata": {
    "deletable": false,
    "editable": false,
    "nbgrader": {
     "cell_type": "code",
     "checksum": "f65a8eb42812defe4b0aa833ae213761",
     "grade": true,
     "grade_id": "cell-4e4acf4752814f0c",
     "locked": true,
     "points": 0.5,
     "schema_version": 3,
     "solution": false,
     "task": false
    }
   },
   "outputs": [],
   "source": [
    "assert xnor(True, False) == False"
   ]
  },
  {
   "cell_type": "markdown",
   "metadata": {
    "deletable": false,
    "editable": false,
    "nbgrader": {
     "cell_type": "markdown",
     "checksum": "669496bc3601b40f8811cc0836eaa5c8",
     "grade": false,
     "grade_id": "cell-70fc57561c3142a9",
     "locked": true,
     "schema_version": 3,
     "solution": false,
     "task": false
    }
   },
   "source": [
    "## Strings"
   ]
  },
  {
   "cell_type": "code",
   "execution_count": 17,
   "metadata": {},
   "outputs": [
    {
     "name": "stdout",
     "output_type": "stream",
     "text": [
      "foo\n",
      "3\n"
     ]
    }
   ],
   "source": [
    "foo = 'foo' # Single quotes can be used for String literals\n",
    "bar = \"bar\" # or double quotes\n",
    "print(foo)\n",
    "print(len(bar)) # String length"
   ]
  },
  {
   "cell_type": "code",
   "execution_count": 18,
   "metadata": {},
   "outputs": [
    {
     "name": "stdout",
     "output_type": "stream",
     "text": [
      "foo bar\n"
     ]
    }
   ],
   "source": [
    "foo_bar = foo + ' ' + bar # String concatenation\n",
    "print(foo_bar)"
   ]
  },
  {
   "cell_type": "code",
   "execution_count": 19,
   "metadata": {},
   "outputs": [
    {
     "name": "stdout",
     "output_type": "stream",
     "text": [
      "foo bar 10\n"
     ]
    }
   ],
   "source": [
    "foo_bar10 = '%s %s %d' % (foo, bar, 10) # sprintf style string formatting\n",
    "print(foo_bar10)"
   ]
  },
  {
   "cell_type": "markdown",
   "metadata": {
    "deletable": false,
    "editable": false,
    "nbgrader": {
     "cell_type": "markdown",
     "checksum": "7e498dd36221f41ce665a1d260bfbba1",
     "grade": false,
     "grade_id": "cell-1174450421b019fe",
     "locked": true,
     "schema_version": 3,
     "solution": false,
     "task": false
    }
   },
   "source": [
    "### Methods of String object"
   ]
  },
  {
   "cell_type": "code",
   "execution_count": 20,
   "metadata": {},
   "outputs": [
    {
     "name": "stdout",
     "output_type": "stream",
     "text": [
      "Hello\n",
      "HELLO\n",
      "  hello\n",
      " hello \n",
      "he(ell)(ell)o\n",
      "world\n"
     ]
    }
   ],
   "source": [
    "s = 'hello'\n",
    "print(s.capitalize())\n",
    "print(s.upper())\n",
    "print(s.rjust(7))\n",
    "print(s.center(7))\n",
    "print(s.replace('l', '(ell)'))\n",
    "\n",
    "print('  world '.strip()) # strip leading and training whitespaces, prints \"world\""
   ]
  },
  {
   "cell_type": "markdown",
   "metadata": {},
   "source": [
    "## Containers\n",
    "Python includes several built-in container types: lists, dictionaries, sets, and tuples\n",
    "\n",
    "### Lists\n",
    "A list is the Python equivalent of an array, but is resizeable and can contain elements of different types:\n",
    "\n",
    "A list containing 3 elements can be created simply as: \n",
    "\n",
    "    sample_list = [3, 6, 2]\n",
    "    \n",
    "Indexing of the list starts from $0$ (zero). <code>sample_list[1]</code> which is equal to $6$ here. A list can be indexed from the end as well using negative indices e.g., <code>sample_list[-1]</code> which is equal to $2$ here.\n",
    "\n",
    "Lists may contain elements of different types e.g., <code>sample_list[2] = 'hello'</code>. Now the elements of this list would become: <code>[3, 6, 'hello']</code>.\n",
    "\n",
    "Elements can be added (appended) in to the lists e.g., <code>sample_list.append('world')</code> which appends 'world' in the end of the list making it a $4$ elements list now. Moreover, elements can be popped out of the list e.g., <code>last_elem = sample_list.pop()</code> would save last element 'world' in <strong>last_elem</strong> variable.\n",
    " \n",
    "Perform (in order)\n",
    "* get the first element\n",
    "* add 'CoR' to the list\n",
    "* get the last element\n",
    "* retrun the first element, last element and the modified list\n",
    "\n",
    "on the list <code>sample_list</code> we created\n",
    "\n",
    "<!-- Perform the above mentioned opeartions on the list we created and print the output of each operation. -->"
   ]
  },
  {
   "cell_type": "code",
   "execution_count": 21,
   "metadata": {
    "deletable": false,
    "editable": false,
    "nbgrader": {
     "cell_type": "code",
     "checksum": "1674e7c20461451c4ce1c04039d4cf50",
     "grade": false,
     "grade_id": "cell-583eed57eec97787",
     "locked": true,
     "schema_version": 3,
     "solution": false,
     "task": false
    }
   },
   "outputs": [],
   "source": [
    "sample_list = [6, 2, 3] "
   ]
  },
  {
   "cell_type": "code",
   "execution_count": 22,
   "metadata": {
    "deletable": false,
    "nbgrader": {
     "cell_type": "code",
     "checksum": "1be9cbee75c62d0f5eafa0105d61a99c",
     "grade": false,
     "grade_id": "cell-40bdfad50d6f22ff",
     "locked": false,
     "schema_version": 3,
     "solution": true,
     "task": false
    }
   },
   "outputs": [
    {
     "name": "stdout",
     "output_type": "stream",
     "text": [
      "(6, 'CoR', [6, 2, 3, 'CoR'])\n"
     ]
    }
   ],
   "source": [
    "def container(sample_list):\n",
    "    # YOUR CODE HERE\n",
    "    first_element = sample_list[0]\n",
    "    sample_list.append(\"CoR\")\n",
    "    last_element = sample_list[-1]\n",
    "    return first_element, last_element, sample_list\n",
    "x = container(sample_list)\n",
    "print(x)"
   ]
  },
  {
   "cell_type": "code",
   "execution_count": 23,
   "metadata": {},
   "outputs": [],
   "source": [
    "first_element, last_element, sample_list = container(sample_list)"
   ]
  },
  {
   "cell_type": "code",
   "execution_count": null,
   "metadata": {
    "deletable": false,
    "editable": false,
    "nbgrader": {
     "cell_type": "code",
     "checksum": "037315c451e48e1254063e542f0f5360",
     "grade": true,
     "grade_id": "cell-2e776b8c2b53e86f",
     "locked": true,
     "points": 0.5,
     "schema_version": 3,
     "solution": false,
     "task": false
    }
   },
   "outputs": [],
   "source": []
  },
  {
   "cell_type": "markdown",
   "metadata": {
    "deletable": false,
    "editable": false,
    "nbgrader": {
     "cell_type": "markdown",
     "checksum": "24d9fc3b297eb218836d94ac0a4f7c16",
     "grade": false,
     "grade_id": "cell-3418e8a232246f4f",
     "locked": true,
     "schema_version": 3,
     "solution": false,
     "task": false
    }
   },
   "source": [
    "## Slicing\n",
    "\n",
    "In addition to accessing list elements one at a time, Python provides concise syntax to access sublists; this is known as slicing.\n",
    "\n",
    "To exercise this, we can create a list by using command <code>range(int)</code> e.g., <code>nums = list(range(5))</code> which gives us a list with elements <code>[0, 1, 2, 3, 4]</code>. To get elements from index 2 to 4 <strong>(exclusive)</strong>, we can write <code>nums[2:4]</code> which should give us <code>[2, 3]</code> in this case.\n",
    "\n",
    "To get a <em>slice</em> from index 2 to the end, we write <code>nums[2:]</code>. Similarly for a <em>slice</em> from the start to index 2 <strong>exclusive</strong>, we write <code>nums[:2]</code>. And to <em> slice</em> the whole list, we write <code>nums[:]</code>.\n",
    "    \n",
    "<em>Slicing</em> can be performed with negative indices as well e.g., <code>nums[:-2]</code> will give us all elements from the list ignoring only the last two element (in this case <code>[0, 1, 2]</code>.\n",
    "\n",
    "Perform (in order)\n",
    "* Get a slice from index 2 to the 4\n",
    "* Get a slice from the start to index 2\n",
    "* replace index from 5 to 7 with <code>[1, 2]</code>\n",
    "* retrun the results of step 1, 2 and the modified list (in order)\n",
    "\n",
    "on the list <code>nums</code> we created"
   ]
  },
  {
   "cell_type": "code",
   "execution_count": 24,
   "metadata": {
    "deletable": false,
    "editable": false,
    "nbgrader": {
     "cell_type": "code",
     "checksum": "c2227d74b98a873dd47eebe3d114fefb",
     "grade": false,
     "grade_id": "cell-c857ed5e93d8aa81",
     "locked": true,
     "schema_version": 3,
     "solution": false,
     "task": false
    }
   },
   "outputs": [],
   "source": [
    "nums = list(range(8))     # range is a built-in function that creates a list of integers"
   ]
  },
  {
   "cell_type": "code",
   "execution_count": 25,
   "metadata": {
    "deletable": false,
    "nbgrader": {
     "cell_type": "code",
     "checksum": "d663331105d3ca92014d54f2eccebdbb",
     "grade": false,
     "grade_id": "cell-0567306e5255ae77",
     "locked": false,
     "schema_version": 3,
     "solution": true,
     "task": false
    }
   },
   "outputs": [],
   "source": [
    "def slicing(nums):\n",
    "    # YOUR CODE HERE\n",
    "    a = nums[2:4]\n",
    "    b = nums[:2]\n",
    "    nums[5:7] = [1,2]\n",
    "    return a, b, nums"
   ]
  },
  {
   "cell_type": "code",
   "execution_count": 26,
   "metadata": {
    "deletable": false,
    "editable": false,
    "nbgrader": {
     "cell_type": "code",
     "checksum": "6a4fe7a263b3c3cdb8d36e9169ed036a",
     "grade": false,
     "grade_id": "cell-3f4b3a9c4d25ac10",
     "locked": true,
     "schema_version": 3,
     "solution": false,
     "task": false
    }
   },
   "outputs": [],
   "source": [
    "a, b, nums = slicing(nums)"
   ]
  },
  {
   "cell_type": "code",
   "execution_count": null,
   "metadata": {
    "deletable": false,
    "editable": false,
    "nbgrader": {
     "cell_type": "code",
     "checksum": "4327a409c86353b62ac90677ff80fedd",
     "grade": true,
     "grade_id": "cell-c45e27bccfbe7870",
     "locked": true,
     "points": 0.5,
     "schema_version": 3,
     "solution": false,
     "task": false
    }
   },
   "outputs": [],
   "source": []
  },
  {
   "cell_type": "markdown",
   "metadata": {
    "deletable": false,
    "editable": false,
    "nbgrader": {
     "cell_type": "markdown",
     "checksum": "40b51f5fd5d2d3a38bb18ae44f4ae67c",
     "grade": false,
     "grade_id": "cell-2087c7b344d12524",
     "locked": true,
     "schema_version": 3,
     "solution": false,
     "task": false
    }
   },
   "source": [
    "## Loops\n",
    "You can loop over the elements of a list like this:\n",
    "\n",
    "    list = ['element A', 'element B', 'element C', 'element D'] \n",
    "    for element in list: \n",
    "        print(element) \n",
    "\n",
    "Implement the code in the cell below for the following list: \n",
    "\n",
    "      actuators = ['Pneumatic', 'Hydraulic', 'Electric'] "
   ]
  },
  {
   "cell_type": "code",
   "execution_count": 27,
   "metadata": {
    "deletable": false,
    "nbgrader": {
     "cell_type": "code",
     "checksum": "f07d121d2c71d0cefb681bb812baf2f9",
     "grade": false,
     "grade_id": "cell-2a7a4bfe0cafde1e",
     "locked": false,
     "schema_version": 3,
     "solution": true,
     "task": false
    }
   },
   "outputs": [
    {
     "name": "stdout",
     "output_type": "stream",
     "text": [
      "Pneumatic\n",
      "Hydraulic\n",
      "Electric\n"
     ]
    }
   ],
   "source": [
    "# YOUR CODE HERE\n",
    "actuators = ['Pneumatic','Hydraulic','Electric']\n",
    "for i in actuators:\n",
    "    print(i)"
   ]
  },
  {
   "cell_type": "code",
   "execution_count": 28,
   "metadata": {
    "deletable": false,
    "editable": false,
    "nbgrader": {
     "cell_type": "code",
     "checksum": "0b04f2f50c1f1c92e848a0fb1fd9bab2",
     "grade": true,
     "grade_id": "cell-4e04922282b36d43",
     "locked": true,
     "points": 1,
     "schema_version": 3,
     "solution": false,
     "task": false
    }
   },
   "outputs": [],
   "source": [
    "assert isinstance(actuators, list)"
   ]
  },
  {
   "cell_type": "markdown",
   "metadata": {
    "deletable": false,
    "editable": false,
    "nbgrader": {
     "cell_type": "markdown",
     "checksum": "6e2950099cfa747ff2290d00917456d8",
     "grade": false,
     "grade_id": "cell-1fc79ee7d4f787fc",
     "locked": true,
     "schema_version": 3,
     "solution": false,
     "task": false
    }
   },
   "source": [
    "If you want access to the index of each element within the body of a loop, use the built-in enumerate function: \n",
    "\n",
    "    list = ['element A', 'element B', 'element C', 'element D'] \n",
    "    for idx, element in enumerate(list): \n",
    "        print('#%d: %s' % (idx + 1, element)) \n",
    "\n",
    "This will print \"#1: element A\", \"#2: element B\", \"#3: element C\", , \"#4: element D\", each on its own line. \n",
    "\n",
    "Practice enumerate function in the following cell with the list of actuators. "
   ]
  },
  {
   "cell_type": "markdown",
   "metadata": {
    "deletable": false,
    "editable": false,
    "nbgrader": {
     "cell_type": "markdown",
     "checksum": "1875526157ab9dc0b6bcb74f977c4237",
     "grade": false,
     "grade_id": "cell-8c1d2caed753031e",
     "locked": true,
     "schema_version": 3,
     "solution": false,
     "task": false
    }
   },
   "source": [
    "## List Comprehension\n",
    "When programming, frequently we want to transform one type of data into another. As a simple example, consider the following code that computes square numbers:\n",
    "\n",
    "    nums = [0, 1, 2, 3, 4]\n",
    "    squares = []\n",
    "    for x in nums:\n",
    "        squares.append(x ** 2)\n",
    "\n",
    "This prints <code>[0, 1, 4, 9, 16]</code>. With the use of list comprehension, this can be written as: <code>squares = [x ** 2 for x in nums]</code>.\n",
    "\n",
    "List comprehensions can also contain conditions e.g., <code>even_squares = [x ** 2 for x in nums if x % 2 == 0]</code>.\n",
    "\n",
    "Practice the above mentioned concepts below:"
   ]
  },
  {
   "cell_type": "code",
   "execution_count": 29,
   "metadata": {
    "deletable": false,
    "editable": false,
    "nbgrader": {
     "cell_type": "code",
     "checksum": "bb679b8917c4f7f7b9d5d1355c78100a",
     "grade": false,
     "grade_id": "cell-c1f04b85b559e0f3",
     "locked": true,
     "schema_version": 3,
     "solution": false,
     "task": false
    }
   },
   "outputs": [],
   "source": [
    "nums = list(range(5))"
   ]
  },
  {
   "cell_type": "markdown",
   "metadata": {
    "deletable": false,
    "editable": false,
    "nbgrader": {
     "cell_type": "markdown",
     "checksum": "7c97bcdb0bbcce2dfc4411fc7efae663",
     "grade": false,
     "grade_id": "cell-ab86fb0d66477487",
     "locked": true,
     "schema_version": 3,
     "solution": false,
     "task": false
    }
   },
   "source": [
    "A list with all elements are square of the nums"
   ]
  },
  {
   "cell_type": "code",
   "execution_count": 30,
   "metadata": {
    "deletable": false,
    "nbgrader": {
     "cell_type": "code",
     "checksum": "8670d6965de1bdb2afd872165555d378",
     "grade": false,
     "grade_id": "cell-f08a27b89def260c",
     "locked": false,
     "schema_version": 3,
     "solution": true,
     "task": false
    }
   },
   "outputs": [
    {
     "name": "stdout",
     "output_type": "stream",
     "text": [
      "[0, 1, 4, 9, 16]\n"
     ]
    }
   ],
   "source": [
    "def list_square(nums):\n",
    "    # YOUR CODE HERE\n",
    "    squares = [i**2 for i in nums]\n",
    "    return squares\n",
    "print(list_square(nums))"
   ]
  },
  {
   "cell_type": "markdown",
   "metadata": {
    "deletable": false,
    "editable": false,
    "nbgrader": {
     "cell_type": "markdown",
     "checksum": "eca8f4d79e75dc4cbc4cd4865b0b605c",
     "grade": false,
     "grade_id": "cell-f07d5237fbd49d61",
     "locked": true,
     "schema_version": 3,
     "solution": false,
     "task": false
    }
   },
   "source": [
    "A list with square of the elements with even index (index: 0, 2, 4)"
   ]
  },
  {
   "cell_type": "code",
   "execution_count": 31,
   "metadata": {
    "deletable": false,
    "nbgrader": {
     "cell_type": "code",
     "checksum": "d31dfe2df5fb982dae8498bbaad1cc88",
     "grade": false,
     "grade_id": "cell-f0dbd00b4db1776f",
     "locked": false,
     "schema_version": 3,
     "solution": true,
     "task": false
    }
   },
   "outputs": [
    {
     "name": "stdout",
     "output_type": "stream",
     "text": [
      "[0, 4, 16]\n"
     ]
    }
   ],
   "source": [
    "def list_square_even_index(nums):\n",
    "    # YOUR CODE HERE\n",
    "    squares_if_even = [i ** 2 for i in nums if i % 2 == 0]\n",
    "    return squares_if_even \n",
    "\n",
    "print(list_square_even_index(nums))"
   ]
  },
  {
   "cell_type": "code",
   "execution_count": 32,
   "metadata": {
    "deletable": false,
    "editable": false,
    "nbgrader": {
     "cell_type": "code",
     "checksum": "5e5b7f49820fdddbd1f147c5f31fe280",
     "grade": false,
     "grade_id": "cell-6bee5ea30103adcb",
     "locked": true,
     "schema_version": 3,
     "solution": false,
     "task": false
    }
   },
   "outputs": [],
   "source": [
    "squares = list_square(nums)\n",
    "even_squares = list_square_even_index(nums)"
   ]
  },
  {
   "cell_type": "code",
   "execution_count": null,
   "metadata": {
    "deletable": false,
    "editable": false,
    "nbgrader": {
     "cell_type": "code",
     "checksum": "55cdc78e4760382821ba3fce118c9e75",
     "grade": true,
     "grade_id": "cell-bfb2191f5fcc1533",
     "locked": true,
     "points": 0.5,
     "schema_version": 3,
     "solution": false,
     "task": false
    }
   },
   "outputs": [],
   "source": []
  },
  {
   "cell_type": "markdown",
   "metadata": {
    "deletable": false,
    "editable": false,
    "nbgrader": {
     "cell_type": "markdown",
     "checksum": "eb20c7c48391939933cb066c24be6717",
     "grade": false,
     "grade_id": "cell-dcfb89cac64103a1",
     "locked": true,
     "schema_version": 3,
     "solution": false,
     "task": false
    }
   },
   "source": [
    "# Dictionaries\n",
    "A dictionary stores (key, value) pairs. Please refer to this [link](https://docs.python.org/3.5/library/stdtypes.html#dict) for details. We can create a dictionary as <code>d = {'cat': 'cute', 'dog': 'furry'}</code>. To check if a dictionary has a given key, we write <code>print('cat' in d)</code>. A new entry can be set in the dictionary as <code>d['fish'] = 'wet'</code>. To get an element with a default, write <code>print(d.get('monkey', 'N/A'))</code>; this should print \"N/A\" as \"monkey\" is not a key of <strong>d</strong>. To remove an element from a dictionary, we write <code>del d['fish']</code>.\n",
    "\n",
    "Perform (in order)\n",
    "* Get the value of the key 'cat'\n",
    "* Check if a dictionary has the key 'Rabbit'\n",
    "* Set a new entry with key 'fish' and value 'wet' in the dictionary\n",
    "* delete the key 'dog'\n",
    "* retrun the results of step 1, 2 and the modified list (in order)\n",
    "\n",
    "on the dict <code>d</code> we created"
   ]
  },
  {
   "cell_type": "code",
   "execution_count": 33,
   "metadata": {
    "deletable": false,
    "editable": false,
    "nbgrader": {
     "cell_type": "code",
     "checksum": "05d6f7a49273f2adc29148520667715c",
     "grade": false,
     "grade_id": "cell-c16a643544f49ea0",
     "locked": true,
     "schema_version": 3,
     "solution": false,
     "task": false
    }
   },
   "outputs": [],
   "source": [
    "d = {'cat': 'cute', 'dog': 'furry'}"
   ]
  },
  {
   "cell_type": "code",
   "execution_count": 34,
   "metadata": {
    "deletable": false,
    "nbgrader": {
     "cell_type": "code",
     "checksum": "5f48cae1a2445eed8ebaae57caa5c05b",
     "grade": false,
     "grade_id": "cell-979c194416d1433f",
     "locked": false,
     "schema_version": 3,
     "solution": true,
     "task": false
    }
   },
   "outputs": [],
   "source": [
    "def dict_operation(d):\n",
    "    # YOUR CODE HERE\n",
    "    a = d['cat']\n",
    "    print(\"Rabbit\" in d)\n",
    "    d['fish'] = 'wet'\n",
    "    del d['dog']\n",
    "    return a, b, d"
   ]
  },
  {
   "cell_type": "code",
   "execution_count": 35,
   "metadata": {
    "deletable": false,
    "editable": false,
    "nbgrader": {
     "cell_type": "code",
     "checksum": "42ab632bce2ae0d4b22317d5dd188abb",
     "grade": false,
     "grade_id": "cell-57e5105538428c08",
     "locked": true,
     "schema_version": 3,
     "solution": false,
     "task": false
    }
   },
   "outputs": [
    {
     "name": "stdout",
     "output_type": "stream",
     "text": [
      "False\n"
     ]
    }
   ],
   "source": [
    "a, b, d = dict_operation(d)"
   ]
  },
  {
   "cell_type": "code",
   "execution_count": null,
   "metadata": {
    "deletable": false,
    "editable": false,
    "nbgrader": {
     "cell_type": "code",
     "checksum": "e07276eb1dae1e312803111cfd9f6fff",
     "grade": true,
     "grade_id": "cell-e419b92a993bb5a1",
     "locked": true,
     "points": 0.5,
     "schema_version": 3,
     "solution": false,
     "task": false
    }
   },
   "outputs": [],
   "source": []
  },
  {
   "cell_type": "markdown",
   "metadata": {
    "deletable": false,
    "editable": false,
    "nbgrader": {
     "cell_type": "markdown",
     "checksum": "ce50a71d2bd40c149048a7904d291b3c",
     "grade": false,
     "grade_id": "cell-8316211292855e24",
     "locked": true,
     "schema_version": 3,
     "solution": false,
     "task": false
    }
   },
   "source": [
    "## Loops\n",
    "It is easy to iterate over the keys in a dictionary. Let say, we have a dictionary <code>d = {'person': 2, 'cat': 4, 'spider': 8}</code>. We can iterate over this dictionary through the following code:\n",
    "    \n",
    "    for animal in d:\n",
    "        legs = d[animal]\n",
    "        print('A %s has %d legs' % (animal, legs))\n",
    "This will print:<br />\n",
    "    \n",
    "    A person has 2 legs\n",
    "    A cat has 4 legs\n",
    "    A spider has 8 legs\n",
    "\n",
    "iterate over the dict <code>d</code> we created and \n",
    "* obtain list contains all the keys \n",
    "* sum up all the values\n",
    "\n",
    "using [items](https://www.learnbyexample.org/python-dictionary-items-method/) method."
   ]
  },
  {
   "cell_type": "code",
   "execution_count": 36,
   "metadata": {
    "deletable": false,
    "editable": false,
    "nbgrader": {
     "cell_type": "code",
     "checksum": "0b992acfc644d6efd053d8dd785629bf",
     "grade": false,
     "grade_id": "cell-6ed35dfbf6a00edd",
     "locked": true,
     "schema_version": 3,
     "solution": false,
     "task": false
    }
   },
   "outputs": [],
   "source": [
    "d = {'person': 2.0, 'cat': 4.0, 'spider': 8.0}"
   ]
  },
  {
   "cell_type": "code",
   "execution_count": 37,
   "metadata": {
    "deletable": false,
    "nbgrader": {
     "cell_type": "code",
     "checksum": "d6a3b562e19133580b21e9c20cb71d6e",
     "grade": false,
     "grade_id": "cell-738c1794ad8b3e07",
     "locked": false,
     "schema_version": 3,
     "solution": true,
     "task": false
    }
   },
   "outputs": [],
   "source": [
    "\n",
    "def loop_over_dict(d):\n",
    "    # YOUR CODE HERE\n",
    "    list_a = []\n",
    "    value = 0\n",
    "    for i in d:\n",
    "        list_a.append(i)\n",
    "    for i in d:\n",
    "        x = d[i]\n",
    "        value += x\n",
    "        \n",
    "    return list_a, value"
   ]
  },
  {
   "cell_type": "code",
   "execution_count": 38,
   "metadata": {
    "deletable": false,
    "editable": false,
    "nbgrader": {
     "cell_type": "code",
     "checksum": "b450499508be7daddec27f589b463443",
     "grade": false,
     "grade_id": "cell-18ff03589ff54d8f",
     "locked": true,
     "schema_version": 3,
     "solution": false,
     "task": false
    }
   },
   "outputs": [],
   "source": [
    "a, b = loop_over_dict(d)"
   ]
  },
  {
   "cell_type": "code",
   "execution_count": null,
   "metadata": {
    "deletable": false,
    "editable": false,
    "nbgrader": {
     "cell_type": "code",
     "checksum": "db4e81c7eb2a7c5d824a7fa81e97d562",
     "grade": true,
     "grade_id": "cell-5dd73630629803d6",
     "locked": true,
     "points": 0.5,
     "schema_version": 3,
     "solution": false,
     "task": false
    }
   },
   "outputs": [],
   "source": []
  },
  {
   "cell_type": "markdown",
   "metadata": {
    "deletable": false,
    "editable": false,
    "nbgrader": {
     "cell_type": "markdown",
     "checksum": "b0fb9eefde0a4879cebf9bc2534d2fc3",
     "grade": false,
     "grade_id": "cell-9c29e89c2fe325ed",
     "locked": true,
     "schema_version": 3,
     "solution": false,
     "task": false
    }
   },
   "source": [
    "### Dictionary comprehensions:\n",
    "These are similar to list comprehensions, but allow you to easily construct dictionaries. For example \n",
    "    \n",
    "    nums = [0, 1, 2, 3, 4]\n",
    "    even_num_to_square = {x: x ** 2 for x in nums if x % 2 == 0}\n",
    "\n",
    "In the cell below, use the list comprehension to constuct a dictionary, named <strong>letter_count</strong>, who keys are the letters appeared in the list and values are their frequencies. E.g. letters = ['a', 'b', 'c', 'a', 'a', 'b'], letter_count = {'a': 3, 'b': 2, 'c': 1}."
   ]
  },
  {
   "cell_type": "code",
   "execution_count": 39,
   "metadata": {
    "deletable": false,
    "nbgrader": {
     "cell_type": "code",
     "checksum": "bb67938507e7a6b935cf204b7cc9c0da",
     "grade": false,
     "grade_id": "cell-41611bea1cb143fc",
     "locked": false,
     "schema_version": 3,
     "solution": true,
     "task": false
    }
   },
   "outputs": [
    {
     "name": "stdout",
     "output_type": "stream",
     "text": [
      "{'a': 3, 'b': 2, 'c': 1}\n"
     ]
    }
   ],
   "source": [
    "# YOUR CODE HERE\n",
    "letters = ['a', 'b', 'c', 'a', 'a', 'b']\n",
    "letter_count = {k : letters.count(k) for k in letters }\n",
    "print(letter_count)"
   ]
  },
  {
   "cell_type": "code",
   "execution_count": null,
   "metadata": {
    "deletable": false,
    "editable": false,
    "nbgrader": {
     "cell_type": "code",
     "checksum": "d20718c60074e2b3942445ca29fd012f",
     "grade": true,
     "grade_id": "cell-66e205bfdf2947ed",
     "locked": true,
     "points": 0.5,
     "schema_version": 3,
     "solution": false,
     "task": false
    }
   },
   "outputs": [],
   "source": []
  },
  {
   "cell_type": "markdown",
   "metadata": {
    "deletable": false,
    "editable": false,
    "nbgrader": {
     "cell_type": "markdown",
     "checksum": "3f32c6a246a58cdc76b67af051fc0f91",
     "grade": false,
     "grade_id": "cell-950644b60c397686",
     "locked": true,
     "schema_version": 3,
     "solution": false,
     "task": false
    }
   },
   "source": [
    "# Sets\n",
    "A set is an unordered collection of distinct elements. The details can be found [here](https://docs.python.org/3.5/library/stdtypes.html#set). As a simple example, consider the following:"
   ]
  },
  {
   "cell_type": "code",
   "execution_count": 40,
   "metadata": {},
   "outputs": [
    {
     "name": "stdout",
     "output_type": "stream",
     "text": [
      "True\n",
      "False\n",
      "True\n",
      "3\n",
      "3\n",
      "2\n"
     ]
    }
   ],
   "source": [
    "animals = {'cat', 'dog'}\n",
    "print('cat' in animals)   # Check if an element is in a set; prints \"True\"\n",
    "print('fish' in animals)  # prints \"False\"\n",
    "animals.add('fish')       # Add an element to a set\n",
    "print('fish' in animals)  # Prints \"True\"\n",
    "print(len(animals))       # Number of elements in a set; prints \"3\"\n",
    "animals.add('cat')        # Adding an element that is already in the set does nothing\n",
    "print(len(animals))       # Prints \"3\"\n",
    "animals.remove('cat')     # Remove an element from a set\n",
    "print(len(animals))       # Prints \"2\""
   ]
  },
  {
   "cell_type": "markdown",
   "metadata": {
    "deletable": false,
    "editable": false,
    "nbgrader": {
     "cell_type": "markdown",
     "checksum": "18e343f58a223240dab93c49c2b897b4",
     "grade": false,
     "grade_id": "cell-2ad21d1e7a0957aa",
     "locked": true,
     "schema_version": 3,
     "solution": false,
     "task": false
    }
   },
   "source": [
    "### Loops:\n",
    "Iterating over a set has the same syntax as iterating over a list; however since sets are unordered, you cannot make assumptions about the order in which you visit the elements of the set:"
   ]
  },
  {
   "cell_type": "code",
   "execution_count": 41,
   "metadata": {},
   "outputs": [
    {
     "name": "stdout",
     "output_type": "stream",
     "text": [
      "#1: fish\n",
      "#2: cat\n",
      "#3: dog\n"
     ]
    }
   ],
   "source": [
    "animals = {'cat', 'dog', 'fish'}\n",
    "for idx, animal in enumerate(animals):\n",
    "    print('#%d: %s' % (idx + 1, animal))\n",
    "# Prints \"#1: fish\", \"#2: dog\", \"#3: cat\""
   ]
  },
  {
   "cell_type": "markdown",
   "metadata": {
    "deletable": false,
    "editable": false,
    "nbgrader": {
     "cell_type": "markdown",
     "checksum": "e66adece192f87074310dfe6088e9067",
     "grade": false,
     "grade_id": "cell-eb001822025222f2",
     "locked": true,
     "schema_version": 3,
     "solution": false,
     "task": false
    }
   },
   "source": [
    "### Set comprehensions:\n",
    "Like lists and dictionaries, we can easily construct sets using set comprehensions:"
   ]
  },
  {
   "cell_type": "code",
   "execution_count": 42,
   "metadata": {},
   "outputs": [
    {
     "name": "stdout",
     "output_type": "stream",
     "text": [
      "{0, 1, 2, 3, 4, 5}\n"
     ]
    }
   ],
   "source": [
    "from math import sqrt\n",
    "nums = {int(sqrt(x)) for x in range(30)}\n",
    "print(nums)  # Prints \"{0, 1, 2, 3, 4, 5}\""
   ]
  },
  {
   "cell_type": "markdown",
   "metadata": {
    "deletable": false,
    "editable": false,
    "nbgrader": {
     "cell_type": "markdown",
     "checksum": "11db415b7a14fafbbbb73f425cb76182",
     "grade": false,
     "grade_id": "cell-128afb67c9babb9a",
     "locked": true,
     "schema_version": 3,
     "solution": false,
     "task": false
    }
   },
   "source": [
    "# Tuples\n",
    "A tuple is an (immutable) ordered list of values. A tuple is in many ways similar to a list; one of the most important differences is that tuples can be used as keys in dictionaries and as elements of sets, while lists cannot. For more information see the [documentation](https://docs.python.org/3.5/tutorial/datastructures.html#tuples-and-sequences). Here is a trivial example:"
   ]
  },
  {
   "cell_type": "code",
   "execution_count": 43,
   "metadata": {},
   "outputs": [
    {
     "name": "stdout",
     "output_type": "stream",
     "text": [
      "<class 'tuple'>\n",
      "5\n",
      "1\n"
     ]
    }
   ],
   "source": [
    "d = {(x, x + 1): x for x in range(10)}  # Create a dictionary with tuple keys\n",
    "t = (5, 6)        # Create a tuple\n",
    "print(type(t))    # Prints \"<class 'tuple'>\"\n",
    "print(d[t])       # Prints \"5\"\n",
    "print(d[(1, 2)])  # Prints \"1\""
   ]
  },
  {
   "cell_type": "markdown",
   "metadata": {
    "deletable": false,
    "editable": false,
    "nbgrader": {
     "cell_type": "markdown",
     "checksum": "1921261341383c637983080dee3f3a0f",
     "grade": false,
     "grade_id": "cell-08321679d4ebd033",
     "locked": true,
     "schema_version": 3,
     "solution": false,
     "task": false
    }
   },
   "source": [
    "# Classes\n",
    "The syntax for defining classes in Python is straightforward:"
   ]
  },
  {
   "cell_type": "code",
   "execution_count": 44,
   "metadata": {},
   "outputs": [
    {
     "name": "stdout",
     "output_type": "stream",
     "text": [
      "Hello, Fred\n",
      "HELLO, FRED!\n"
     ]
    }
   ],
   "source": [
    "class Greeter(object):\n",
    "\n",
    "    # Constructor\n",
    "    def __init__(self, name):\n",
    "        self.name = name  # Create an instance variable\n",
    "\n",
    "    # Instance method\n",
    "    def greet(self, loud=False):\n",
    "        if loud:\n",
    "            print('HELLO, %s!' % self.name.upper())\n",
    "        else:\n",
    "            print('Hello, %s' % self.name)\n",
    "\n",
    "g = Greeter('Fred')  # Construct an instance of the Greeter class\n",
    "g.greet()            # Call an instance method; prints \"Hello, Fred\"\n",
    "g.greet(loud=True)   # Call an instance method; prints \"HELLO, FRED!\""
   ]
  },
  {
   "cell_type": "markdown",
   "metadata": {
    "deletable": false,
    "editable": false,
    "nbgrader": {
     "cell_type": "markdown",
     "checksum": "e02f48aa2f025f7f3df2774b31ac74ea",
     "grade": false,
     "grade_id": "cell-e3173d22c51cf75b",
     "locked": true,
     "schema_version": 3,
     "solution": false,
     "task": false
    }
   },
   "source": [
    "There is a lot more about Python classes in the [documentation](https://docs.python.org/3.5/tutorial/classes.html)."
   ]
  },
  {
   "cell_type": "markdown",
   "metadata": {
    "deletable": false,
    "editable": false,
    "nbgrader": {
     "cell_type": "markdown",
     "checksum": "060d0049ad090d5e54eee1427f87a06a",
     "grade": false,
     "grade_id": "cell-cf72255b206bfbc8",
     "locked": true,
     "schema_version": 3,
     "solution": false,
     "task": false
    }
   },
   "source": [
    "# Numpy\n",
    "Numpy is the core library for scientific computing in Python. It provides a high-performance multidimensional array object, and tools for working with these arrays. If you are already familiar with MATLAB, you might find this tutorial useful to get started with Numpy.\n",
    "\n",
    "## Arrays\n",
    "A numpy array is a grid of values, all of the same type, and is indexed by a tuple of nonnegative integers. The number of dimensions is the rank of the array; the shape of an array is a tuple of integers giving the size of the array along each dimension.\n",
    "\n",
    "We can initialize numpy arrays from nested Python lists, and access elements using square brackets:\n",
    "\n",
    "    a = np.array([1, 2, 3])            # Create a rank 1 array\n",
    "    b = np.array([[1,2,3],[4,5,6]])    # Create a rank 2 array\n",
    "    \n",
    "    print(type(a))                     # Prints \"<class 'numpy.ndarray'>\"\n",
    "    print(a.shape)                     # Prints \"(3,)\"\n",
    "    print(a[0], a[1], a[2])            # Prints \"1 2 3\"\n",
    "    a[0] = 5                           # Change an element of the array\n",
    "    print(a)                           # Prints \"[5, 2, 3]\"\n",
    "    \n",
    "    print(b.shape)                     # Prints \"(2, 3)\"\n",
    "    print(b[0, 0], b[0, 1], b[1, 0])   # Prints \"1 2 4\"\n",
    "    \n"
   ]
  },
  {
   "cell_type": "markdown",
   "metadata": {
    "deletable": false,
    "editable": false,
    "nbgrader": {
     "cell_type": "markdown",
     "checksum": "079f18d653b9daa6b7a1f2f0116553af",
     "grade": false,
     "grade_id": "cell-e9bf316008dbd502",
     "locked": true,
     "schema_version": 3,
     "solution": false,
     "task": false
    }
   },
   "source": [
    "Numpy also provides many functions to create arrays.\n",
    "                                 \n",
    "In the cell below, <strong>import numpy as np</strong>. \\\n",
    "And then create an 8x8 array with all zeros, named <strong>array_zeros</strong>;\\\n",
    "a 5x5x5 array with all ones, named <strong>array_ones</strong>;\\\n",
    "a 2x2 identity matrix, named <strong>array_idenity</strong>;\\\n",
    "and a 7x7 constant array with all 7, named <strong>array_constant</strong>."
   ]
  },
  {
   "cell_type": "code",
   "execution_count": 45,
   "metadata": {
    "deletable": false,
    "nbgrader": {
     "cell_type": "code",
     "checksum": "f4ece3600955a7ea7c5788c104ea2f0f",
     "grade": false,
     "grade_id": "cell-3ca5d2ee4409aaf4",
     "locked": false,
     "schema_version": 3,
     "solution": true,
     "task": false
    }
   },
   "outputs": [],
   "source": [
    "\n",
    "# YOUR CODE HERE\n",
    "import numpy as np \n",
    "array_zeros = np.zeros((8,8))\n",
    "array_ones = np.ones((5,5,5))\n",
    "array_identity = np.identity(2)\n",
    "array_constant = np.full((7,7),7)"
   ]
  },
  {
   "cell_type": "code",
   "execution_count": null,
   "metadata": {
    "deletable": false,
    "editable": false,
    "nbgrader": {
     "cell_type": "code",
     "checksum": "fc8caba413235888ea6d833c26218551",
     "grade": true,
     "grade_id": "cell-0b7cec30fde3b771",
     "locked": true,
     "points": 0.5,
     "schema_version": 3,
     "solution": false,
     "task": false
    }
   },
   "outputs": [],
   "source": []
  },
  {
   "cell_type": "markdown",
   "metadata": {
    "deletable": false,
    "editable": false,
    "nbgrader": {
     "cell_type": "markdown",
     "checksum": "877e9b232d676b77a95d2cf2d7c1dce1",
     "grade": false,
     "grade_id": "cell-93a66384e5041f3c",
     "locked": true,
     "schema_version": 3,
     "solution": false,
     "task": false
    }
   },
   "source": [
    "You can read about other methods of array creation in the [documentation](http://docs.scipy.org/doc/numpy/user/basics.creation.html#arrays-creation)."
   ]
  },
  {
   "cell_type": "markdown",
   "metadata": {
    "deletable": false,
    "editable": false,
    "nbgrader": {
     "cell_type": "markdown",
     "checksum": "eb6a811be11363df8b53390a486e3d1c",
     "grade": false,
     "grade_id": "cell-1112399ec6d1342e",
     "locked": true,
     "schema_version": 3,
     "solution": false,
     "task": false
    }
   },
   "source": [
    "## Array indexing\n",
    "Numpy offers several ways to index into arrays.\n",
    "\n",
    "### Slicing\n",
    "Similar to Python lists, numpy arrays can be sliced. Since arrays may be multidimensional, you must specify a slice for each dimension of the array.\n",
    "\n",
    "**Example:**\n",
    "\n",
    "<code> a = np.array([[5, 9, 2], [4, 8, 9], [7, 5, 9], [7, 8, 5]])</code>\n",
    "\n",
    "Slice **a** to pull out a subarray consisting of rows 1 and 2, and the last 2 columns:\n",
    "\n",
    "<code> b = a[1:3, 1:]</code> (b = [[8, 9], [5, 9]])\n",
    "\n",
    "**Exercise:** \n",
    "\n",
    "Create an array named **a** with shape (3, 4) with the following rows: r<sub>1</sub> = [1,2,3,4]; r<sub>2</sub> = [5,6,7,8]; r<sub>3</sub> = [9,10,11,12]."
   ]
  },
  {
   "cell_type": "code",
   "execution_count": 46,
   "metadata": {
    "deletable": false,
    "nbgrader": {
     "cell_type": "code",
     "checksum": "244b1b3c2c92f4f63637dd01d96b5063",
     "grade": false,
     "grade_id": "cell-7a1f6ec23919e8be",
     "locked": false,
     "schema_version": 3,
     "solution": true,
     "task": false
    }
   },
   "outputs": [],
   "source": [
    "# YOUR CODE HERE\n",
    "a = np.array([[1,2,3,4],[5,6,7,8],[9,10,11,12]])"
   ]
  },
  {
   "cell_type": "code",
   "execution_count": null,
   "metadata": {
    "deletable": false,
    "editable": false,
    "nbgrader": {
     "cell_type": "code",
     "checksum": "fd0e87fb9739e9c5d2c03d5756e29faa",
     "grade": true,
     "grade_id": "cell-3a7d8dfefedffab9",
     "locked": true,
     "points": 0.2,
     "schema_version": 3,
     "solution": false,
     "task": false
    }
   },
   "outputs": [],
   "source": []
  },
  {
   "cell_type": "markdown",
   "metadata": {
    "deletable": false,
    "editable": false,
    "nbgrader": {
     "cell_type": "markdown",
     "checksum": "16e6874e31d0a2364319e367d684797f",
     "grade": false,
     "grade_id": "cell-784fb0e8b4fa6290",
     "locked": true,
     "schema_version": 3,
     "solution": false,
     "task": false
    }
   },
   "source": [
    "Use slicing to pull out the subarray of shape (2, 2) from **a** consisting of the first 2 rows and columns 1 and 2. Name this array **b**."
   ]
  },
  {
   "cell_type": "code",
   "execution_count": 47,
   "metadata": {
    "deletable": false,
    "nbgrader": {
     "cell_type": "code",
     "checksum": "257e651c51b7a71158a294fd9956a67b",
     "grade": false,
     "grade_id": "cell-08c3ba070956b10f",
     "locked": false,
     "schema_version": 3,
     "solution": true,
     "task": false
    }
   },
   "outputs": [
    {
     "name": "stdout",
     "output_type": "stream",
     "text": [
      "[[2 3]\n",
      " [6 7]]\n"
     ]
    }
   ],
   "source": [
    "# YOUR CODE HERE\n",
    "b = a[:2,1:3]\n",
    "print(b) "
   ]
  },
  {
   "cell_type": "code",
   "execution_count": 48,
   "metadata": {
    "deletable": false,
    "editable": false,
    "nbgrader": {
     "cell_type": "code",
     "checksum": "9f9a96640d82fb45450d0ac244598f6b",
     "grade": true,
     "grade_id": "cell-39dc2fc4e71b9254",
     "locked": true,
     "points": 0.3,
     "schema_version": 3,
     "solution": false,
     "task": false
    }
   },
   "outputs": [],
   "source": [
    "assert b.shape == (2,2), \"b should be np.array of shape 2 by 2\""
   ]
  },
  {
   "cell_type": "markdown",
   "metadata": {
    "deletable": false,
    "editable": false,
    "nbgrader": {
     "cell_type": "markdown",
     "checksum": "35fc8f1371b22008a09c05efac6ec782",
     "grade": false,
     "grade_id": "cell-5153a0d887be44c6",
     "locked": true,
     "schema_version": 3,
     "solution": false,
     "task": false
    }
   },
   "source": [
    "A slice of an array is a view into the same data, so modifying it will modify the original array. Check this by typing the following commands.\n",
    "\n",
    "    print(a[0, 1])   # Prints \"2\"\n",
    "    b[0, 0] = 77     # b[0, 0] is the same piece of data as a[0, 1]\n",
    "    print(a[0, 1])   # Prints \"77\" \n",
    "\n",
    "Now change all values in **b** to be zero and thereby changing **a** through **b**."
   ]
  },
  {
   "cell_type": "code",
   "execution_count": 49,
   "metadata": {
    "deletable": false,
    "nbgrader": {
     "cell_type": "code",
     "checksum": "7947bf9608fad127bbd11c37534ebebb",
     "grade": false,
     "grade_id": "cell-e4eeec68b69d7232",
     "locked": false,
     "schema_version": 3,
     "solution": true,
     "task": false
    }
   },
   "outputs": [
    {
     "name": "stdout",
     "output_type": "stream",
     "text": [
      "[[0 0]\n",
      " [0 0]]\n",
      "[[ 1  0  0  4]\n",
      " [ 5  0  0  8]\n",
      " [ 9 10 11 12]]\n"
     ]
    }
   ],
   "source": [
    "# YOUR CODE HERE\n",
    "b[:,:] = 0\n",
    "print(b)\n",
    "print(a)\n",
    "\n"
   ]
  },
  {
   "cell_type": "code",
   "execution_count": 50,
   "metadata": {
    "deletable": false,
    "editable": false,
    "nbgrader": {
     "cell_type": "code",
     "checksum": "03f95b0ab6184eaf682b9a5d5fea5f41",
     "grade": true,
     "grade_id": "cell-71c234125f99f165",
     "locked": true,
     "points": 0.5,
     "schema_version": 3,
     "solution": false,
     "task": false
    }
   },
   "outputs": [],
   "source": [
    "assert b.shape == (2,2)\n",
    "assert a.shape == (3,4)"
   ]
  },
  {
   "cell_type": "markdown",
   "metadata": {
    "deletable": false,
    "editable": false,
    "nbgrader": {
     "cell_type": "markdown",
     "checksum": "c5aefa184a621a459b59391e55d6d413",
     "grade": false,
     "grade_id": "cell-8b5118ef9e486234",
     "locked": true,
     "schema_version": 3,
     "solution": false,
     "task": false
    }
   },
   "source": [
    "You can also mix integer indexing with slice indexing. However, doing so will yield an array of lower rank than the original array.\n",
    "\n",
    "Create the following Rank 2 numpy array (say <strong>a</strong>) with shape (3, 4) \n",
    " \n",
    "         [[ 1  2  3  4]\n",
    "     a =  [ 5  6  7  8]\n",
    "          [ 9 10 11 12]]\n",
    "          \n",
    "Two ways of accessing the data in the middle row of the array.<br/>\n",
    "1. Mixing integer indexing with slices yields an array of lower rank e.g.:\n",
    "        \n",
    "         a[1, :]     # Rank 1 view of the second row of a\n",
    "        \n",
    "2. while using only slices yields an array of the same rank as the original array e.g.:\n",
    "\n",
    "         a[1:2, :]  # Rank 2 view of the second row of a\n",
    "         \n",
    "Implement this for the columns of <code>a.shape</code> in the cell below and print the ranks (use <code>array.shape</code>) command) of the resulting array."
   ]
  },
  {
   "cell_type": "code",
   "execution_count": 51,
   "metadata": {
    "deletable": false,
    "nbgrader": {
     "cell_type": "code",
     "checksum": "0b5ccddb9f117230acafdb02fc745687",
     "grade": false,
     "grade_id": "cell-c69ae5eaf2f7342b",
     "locked": false,
     "schema_version": 3,
     "solution": true,
     "task": false
    }
   },
   "outputs": [
    {
     "name": "stdout",
     "output_type": "stream",
     "text": [
      "(4,)\n",
      "(1, 4)\n",
      "[[5 6 7 8]]\n",
      "[5 6 7 8]\n",
      "(3,)\n"
     ]
    }
   ],
   "source": [
    "# YOUR CODE HERE    \n",
    "a = np.array([[ 1 , 2 , 3 , 4],[ 5 , 6 , 7 , 8],[ 9 ,10 ,11 ,12]])\n",
    "\n",
    "print(a[1,:].shape)\n",
    "print(a[1:2,:].shape)\n",
    "\n",
    "print(a[1:2,:]) #just checking\n",
    "print(a[1,:])   #just checking\n",
    "\n",
    "col_r1 = a[:,0]\n",
    "col_r2 = a[:,0:1]\n",
    "\n",
    "print(col_r1.shape)\n"
   ]
  },
  {
   "cell_type": "code",
   "execution_count": 52,
   "metadata": {
    "deletable": false,
    "editable": false,
    "nbgrader": {
     "cell_type": "code",
     "checksum": "1ab1967919aecde4fef323821bd4533e",
     "grade": true,
     "grade_id": "cell-0e4cff9731355c58",
     "locked": true,
     "points": 1,
     "schema_version": 3,
     "solution": false,
     "task": false
    }
   },
   "outputs": [],
   "source": [
    "assert col_r1.shape == (3,)\n",
    "assert col_r2.shape == (3,1)"
   ]
  },
  {
   "cell_type": "markdown",
   "metadata": {
    "deletable": false,
    "editable": false,
    "nbgrader": {
     "cell_type": "markdown",
     "checksum": "c57f643165a4bad92daf13adf863fd3c",
     "grade": false,
     "grade_id": "cell-fa97a250cca2b598",
     "locked": true,
     "schema_version": 3,
     "solution": false,
     "task": false
    }
   },
   "source": [
    "### Integer array indexing\n",
    "\n",
    "When you index into numpy arrays using slicing, the resulting array view will always be a subarray of the original array. In contrast, integer array indexing allows you to construct arbitrary arrays using the data from another array. Here is an example:"
   ]
  },
  {
   "cell_type": "code",
   "execution_count": 53,
   "metadata": {},
   "outputs": [
    {
     "name": "stdout",
     "output_type": "stream",
     "text": [
      "[[1 2]\n",
      " [3 4]\n",
      " [5 6]]\n",
      "[1 4 5]\n",
      "[1 4 5]\n",
      "[2 2]\n",
      "[2 2]\n"
     ]
    }
   ],
   "source": [
    "a = np.array([[1,2], [3, 4], [5, 6]])\n",
    "\n",
    "print(a)\n",
    "\n",
    "# An example of integer array indexing.\n",
    "# The returned array will have shape (3,) and\n",
    "print(a[[0, 1, 2], [0, 1, 0]])  # Prints \"[1 4 5]\"\n",
    "\n",
    "# The above example of integer array indexing is equivalent to this:\n",
    "print(np.array([a[0, 0], a[1, 1], a[2, 0]]))  # Prints \"[1 4 5]\"\n",
    "\n",
    "# When using integer array indexing, you can reuse the same\n",
    "# element from the source array:\n",
    "print(a[[0, 0], [1, 1]])  # Prints \"[2 2]\"\n",
    "\n",
    "# Equivalent to the previous integer array indexing example\n",
    "print(np.array([a[0, 1], a[0, 1]]))  # Prints \"[2 2]\""
   ]
  },
  {
   "cell_type": "markdown",
   "metadata": {},
   "source": [
    "Based on the elements of the array:\n",
    "    \n",
    "    a = [[5, 7, 8],\n",
    "         [4, 2, 54],\n",
    "         [6, 43, 12]]\n",
    "         \n",
    "Using integer indexing, we want to obtain the array **b = [7, 4, 54]**. To do so, we need to execute the following command:\n",
    "\n",
    "<code>b = a[[x<sub>1</sub>, x<sub>2</sub>, x<sub>3</sub>], [x<sub>4</sub>, x<sub>5</sub>, x<sub>6</sub>]]</code>\n",
    "\n",
    "Replace <code>None</code> with the values of x<sub>i</sub> in the following cell."
   ]
  },
  {
   "cell_type": "code",
   "execution_count": 54,
   "metadata": {
    "deletable": false,
    "nbgrader": {
     "cell_type": "code",
     "checksum": "1705e3f470d1e3d3425098b2828e512a",
     "grade": false,
     "grade_id": "cell-d3fe2b8ce15dd122",
     "locked": false,
     "schema_version": 3,
     "solution": true,
     "task": false
    }
   },
   "outputs": [
    {
     "name": "stdout",
     "output_type": "stream",
     "text": [
      "[ 7  4 54]\n"
     ]
    }
   ],
   "source": [
    "a = np.array([[5, 7, 8], [4, 2, 54], [6, 43, 12]])\n",
    "\n",
    "x_1 = 0\n",
    "x_2 = 1\n",
    "x_3 = 1\n",
    "x_4 = 1\n",
    "x_5 = 0\n",
    "x_6 = 2\n",
    "\n",
    "# YOUR CODE HERE\n",
    "\n",
    "\n",
    "b = a[[x_1, x_2, x_3], [x_4, x_5, x_6]]\n",
    "print(b)\n"
   ]
  },
  {
   "cell_type": "code",
   "execution_count": null,
   "metadata": {
    "deletable": false,
    "editable": false,
    "nbgrader": {
     "cell_type": "code",
     "checksum": "6387f7648b7b89c93269edce6fc7420e",
     "grade": true,
     "grade_id": "cell-a528b658599fe9a7",
     "locked": true,
     "points": 1,
     "schema_version": 3,
     "solution": false,
     "task": false
    }
   },
   "outputs": [],
   "source": []
  },
  {
   "cell_type": "markdown",
   "metadata": {
    "deletable": false,
    "editable": false,
    "nbgrader": {
     "cell_type": "markdown",
     "checksum": "98348282692ac068b01cb382983b0c82",
     "grade": false,
     "grade_id": "cell-11a95e0fe207183d",
     "locked": true,
     "schema_version": 3,
     "solution": false,
     "task": false
    }
   },
   "source": [
    "One useful trick with integer array indexing is selecting or mutating one element from each row of a matrix:\n",
    "\n",
    "Create a new array from which we will select elements\n",
    "    \n",
    "    a = np.array([[1,2,3], [4,5,6], [7,8,9], [10, 11, 12]])\n",
    "\n",
    "    print(a)  # prints \"array([[ 1,  2,  3],\n",
    "              #                [ 4,  5,  6],\n",
    "              #                [ 7,  8,  9],\n",
    "              #                [10, 11, 12]])\"\n",
    "    \n",
    "Create an array of indices\n",
    "\n",
    "    b = np.array([0, 2, 0, 1])\n",
    "\n",
    "Select one element from each row of a using the indices in b\n",
    "\n",
    "    print(a[np.arange(4), b])  # Prints \"[ 1  6  7 11]\"\n",
    "\n",
    "Mutate one element from each row of a using the indices in b\n",
    "\n",
    "    a[np.arange(4), b] += 10\n",
    "\n",
    "    print(a)  # prints \"array([[11,  2,  3],\n",
    "              #                [ 4,  5, 16],\n",
    "              #                [17,  8,  9],\n",
    "              #                [10, 21, 12]])\n",
    "              \n",
    "**Exercise:**\n",
    "\n",
    "Multiply by 2 every element of **a** belonging to rows 0 and 3 and columns 1 and 2."
   ]
  },
  {
   "cell_type": "code",
   "execution_count": 55,
   "metadata": {
    "deletable": false,
    "nbgrader": {
     "cell_type": "code",
     "checksum": "3c32a48b56a0e4e31134621b758e3871",
     "grade": false,
     "grade_id": "cell-992b5cd37514a784",
     "locked": false,
     "schema_version": 3,
     "solution": true,
     "task": false
    }
   },
   "outputs": [
    {
     "name": "stdout",
     "output_type": "stream",
     "text": [
      "[[ 1  4  3]\n",
      " [ 4  5  6]\n",
      " [ 7  8  9]\n",
      " [10 11 24]]\n"
     ]
    }
   ],
   "source": [
    "a = np.array([[1,2,3], [4,5,6], [7,8,9], [10, 11, 12]])\n",
    "# YOUR CODE HERE\n",
    "a[[0,3],[1,2]] *= 2\n",
    "print(a)"
   ]
  },
  {
   "cell_type": "code",
   "execution_count": null,
   "metadata": {
    "deletable": false,
    "editable": false,
    "nbgrader": {
     "cell_type": "code",
     "checksum": "192ce029a50742033986e4f1ae596cde",
     "grade": true,
     "grade_id": "cell-22672b3aa6920837",
     "locked": true,
     "points": 0.5,
     "schema_version": 3,
     "solution": false,
     "task": false
    }
   },
   "outputs": [],
   "source": []
  },
  {
   "cell_type": "markdown",
   "metadata": {
    "deletable": false,
    "editable": false,
    "nbgrader": {
     "cell_type": "markdown",
     "checksum": "2dfad891bcb498517603f2b8a7cc3203",
     "grade": false,
     "grade_id": "cell-4266f2e3a4f31523",
     "locked": true,
     "schema_version": 3,
     "solution": false,
     "task": false
    }
   },
   "source": [
    "### Boolean array indexing:\n",
    "Boolean array indexing lets you pick out arbitrary elements of an array. Frequently this type of indexing is used to select the elements of an array that satisfy some condition. Here is an example:"
   ]
  },
  {
   "cell_type": "code",
   "execution_count": 56,
   "metadata": {},
   "outputs": [
    {
     "name": "stdout",
     "output_type": "stream",
     "text": [
      "[[False False]\n",
      " [ True  True]\n",
      " [ True  True]]\n",
      "[3 4 5 6]\n",
      "[3 4 5 6]\n"
     ]
    }
   ],
   "source": [
    "a = np.array([[1,2], [3, 4], [5, 6]])\n",
    "\n",
    "bool_idx = (a > 2)   # Find the elements of a that are bigger than 2;\n",
    "                     # this returns a numpy array of Booleans of the same\n",
    "                     # shape as a, where each slot of bool_idx tells\n",
    "                     # whether that element of a is > 2.\n",
    "\n",
    "print(bool_idx)      # Prints \"[[False False]\n",
    "                     #          [ True  True]\n",
    "                     #          [ True  True]]\"\n",
    "\n",
    "# We use boolean array indexing to construct a rank 1 array \n",
    "# consisting of the elements of a corresponding to the True values\n",
    "# of bool_idx\n",
    "print(a[bool_idx])  # Prints \"[3 4 5 6]\"\n",
    "\n",
    "# We can do all of the above in a single concise statement:\n",
    "print(a[a > 2])     # Prints \"[3 4 5 6]\""
   ]
  },
  {
   "cell_type": "markdown",
   "metadata": {
    "deletable": false,
    "editable": false,
    "nbgrader": {
     "cell_type": "markdown",
     "checksum": "9121a72ebda730450dcf23d4559bb1b8",
     "grade": false,
     "grade_id": "cell-bcda2a66a0807eb2",
     "locked": true,
     "schema_version": 3,
     "solution": false,
     "task": false
    }
   },
   "source": [
    "For more details, please see the [documentation.](http://docs.scipy.org/doc/numpy/reference/arrays.indexing.html)"
   ]
  },
  {
   "cell_type": "markdown",
   "metadata": {
    "deletable": false,
    "editable": false,
    "nbgrader": {
     "cell_type": "markdown",
     "checksum": "b6de108c33c33a7ed60df7e40a9750d2",
     "grade": false,
     "grade_id": "cell-62e5ee31c5fa16e1",
     "locked": true,
     "schema_version": 3,
     "solution": false,
     "task": false
    }
   },
   "source": [
    "Exercise: Given the vector x, save in a vector a the position where the element is equal to 7."
   ]
  },
  {
   "cell_type": "code",
   "execution_count": 59,
   "metadata": {
    "deletable": false,
    "nbgrader": {
     "cell_type": "code",
     "checksum": "9fe0171d2b893e9b41e8bb4b46003d60",
     "grade": false,
     "grade_id": "cell-f2fc8b8a74519751",
     "locked": false,
     "schema_version": 3,
     "solution": true,
     "task": false
    }
   },
   "outputs": [
    {
     "name": "stdout",
     "output_type": "stream",
     "text": [
      "(array([2, 9], dtype=int64),)\n"
     ]
    }
   ],
   "source": [
    "x = np.array([2, 4, 7, 3, 5, 8, 4, 2, 4, 7])  # find indexes where x = 7\n",
    "inx = np.arange(x.shape[0]) \n",
    "# YOUR CODE HERE\n",
    "a = np.where(x == 7)\n",
    "print(a)"
   ]
  },
  {
   "cell_type": "code",
   "execution_count": null,
   "metadata": {
    "deletable": false,
    "editable": false,
    "nbgrader": {
     "cell_type": "code",
     "checksum": "a23353f1468ca16660169fc4bc61eedc",
     "grade": true,
     "grade_id": "cell-8e2e0bbfd5261eb4",
     "locked": true,
     "points": 0.2,
     "schema_version": 3,
     "solution": false,
     "task": false
    }
   },
   "outputs": [],
   "source": []
  },
  {
   "cell_type": "markdown",
   "metadata": {
    "deletable": false,
    "editable": false,
    "nbgrader": {
     "cell_type": "markdown",
     "checksum": "c11cb39c5b271ed2c8d18e1756b64a57",
     "grade": false,
     "grade_id": "cell-7a0b7968e6044955",
     "locked": true,
     "schema_version": 3,
     "solution": false,
     "task": false
    }
   },
   "source": [
    "Exercise: given x, same in a the rows where the sum of the elements is higher than 6"
   ]
  },
  {
   "cell_type": "code",
   "execution_count": 63,
   "metadata": {
    "deletable": false,
    "nbgrader": {
     "cell_type": "code",
     "checksum": "08a13a60cb682fcf5c59a31d51b2d58b",
     "grade": false,
     "grade_id": "cell-54ad61b584265527",
     "locked": false,
     "schema_version": 3,
     "solution": true,
     "task": false
    }
   },
   "outputs": [
    {
     "name": "stdout",
     "output_type": "stream",
     "text": [
      "[[1 2 3 4]\n",
      " [2 3 4 5]]\n"
     ]
    }
   ],
   "source": [
    "x = np.array([[1, 2, 3, 4], [2, 3, 4, 5], [1, 1, 1, 1]])  # select rows with sum larger than 6\n",
    "# YOUR CODE HERE\n",
    "y = x[np.sum(x,1) > 6]\n",
    "print(y)"
   ]
  },
  {
   "cell_type": "code",
   "execution_count": null,
   "metadata": {
    "deletable": false,
    "editable": false,
    "nbgrader": {
     "cell_type": "code",
     "checksum": "eaa298883fc53bbaba244549d3f9fe24",
     "grade": true,
     "grade_id": "cell-2c325e54dad55151",
     "locked": true,
     "points": 0.2,
     "schema_version": 3,
     "solution": false,
     "task": false
    }
   },
   "outputs": [],
   "source": []
  },
  {
   "cell_type": "markdown",
   "metadata": {
    "deletable": false,
    "editable": false,
    "nbgrader": {
     "cell_type": "markdown",
     "checksum": "2757aaf2c63b22eb69e8f270d5724468",
     "grade": false,
     "grade_id": "cell-1cf29e8f1f33b636",
     "locked": true,
     "schema_version": 3,
     "solution": false,
     "task": false
    }
   },
   "source": [
    "### Datatypes\n",
    "Every numpy array is a grid of elements of the same type. Numpy provides a large set of numeric datatypes that you can use to construct arrays. Numpy tries to guess a datatype when you create an array, but functions that construct arrays usually also include an optional argument to explicitly specify the datatype. Here is an example:"
   ]
  },
  {
   "cell_type": "code",
   "execution_count": null,
   "metadata": {},
   "outputs": [],
   "source": [
    "x = np.array([1, 2])                   # Let numpy choose the datatype\n",
    "print(x.dtype)                         # Prints \"int64\"\n",
    "\n",
    "x = np.array([1.0, 2.0])               # Let numpy choose the datatype\n",
    "print(x.dtype)                         # Prints \"float64\"\n",
    "\n",
    "x = np.array([1, 2], dtype=np.int64)   # Force a particular datatype\n",
    "print(x.dtype)                         # Prints \"int64\""
   ]
  },
  {
   "cell_type": "markdown",
   "metadata": {
    "deletable": false,
    "editable": false,
    "nbgrader": {
     "cell_type": "markdown",
     "checksum": "2c352d7f9a827a1b5f4059189610bf41",
     "grade": false,
     "grade_id": "cell-b7f13ebb035a0b26",
     "locked": true,
     "schema_version": 3,
     "solution": false,
     "task": false
    }
   },
   "source": [
    "For more details, please see the [documentation.](http://docs.scipy.org/doc/numpy/reference/arrays.dtypes.html)"
   ]
  },
  {
   "cell_type": "markdown",
   "metadata": {
    "deletable": false,
    "editable": false,
    "nbgrader": {
     "cell_type": "markdown",
     "checksum": "ed2659e7f2e0a4a0ed6fbc872b70dcda",
     "grade": false,
     "grade_id": "cell-8a4f64b712515580",
     "locked": true,
     "schema_version": 3,
     "solution": false,
     "task": false
    }
   },
   "source": [
    "### Array math\n",
    "Basic mathematical functions operate elementwise on arrays, and are available both as operator overloads and as functions in the numpy module:"
   ]
  },
  {
   "cell_type": "code",
   "execution_count": null,
   "metadata": {},
   "outputs": [],
   "source": [
    "import numpy as np\n",
    "\n",
    "x = np.array([[1,2],[3,4]], dtype=np.float64)\n",
    "y = np.array([[5,6],[7,8]], dtype=np.float64)\n",
    "\n",
    "# Elementwise sum; both produce the array\n",
    "# [[ 6.0  8.0]\n",
    "#  [10.0 12.0]]\n",
    "print(x + y)\n",
    "print(np.add(x, y))\n",
    "\n",
    "# Elementwise difference; both produce the array\n",
    "# [[-4.0 -4.0]\n",
    "#  [-4.0 -4.0]]\n",
    "print(x - y)\n",
    "print(np.subtract(x, y))\n",
    "\n",
    "# Elementwise product; both produce the array\n",
    "# [[ 5.0 12.0]\n",
    "#  [21.0 32.0]]\n",
    "print(x * y)\n",
    "print(np.multiply(x, y))\n",
    "\n",
    "# Elementwise division; both produce the array\n",
    "# [[ 0.2         0.33333333]\n",
    "#  [ 0.42857143  0.5       ]]\n",
    "print(x / y)\n",
    "print(np.divide(x, y))\n",
    "\n",
    "# Elementwise square root; produces the array\n",
    "# [[ 1.          1.41421356]\n",
    "#  [ 1.73205081  2.        ]]\n",
    "print(np.sqrt(x))"
   ]
  },
  {
   "cell_type": "markdown",
   "metadata": {
    "deletable": false,
    "editable": false,
    "nbgrader": {
     "cell_type": "markdown",
     "checksum": "aedd06f7afcd16a5a3c2c93f99c19199",
     "grade": false,
     "grade_id": "cell-b8d4656b60fa6e7c",
     "locked": true,
     "schema_version": 3,
     "solution": false,
     "task": false
    }
   },
   "source": [
    " Write a function named <strong>rmse</strong>, that takes two 1D numpy arrays (of the same length) as input, calculate the <strong>RMSE</strong> between them and return the output. Implement the following equation only using array math functions. For hint, please see [this](https://numpy.org/doc/stable/reference/generated/numpy.power.html). Also note, that the lenth of a np.array can also be obtained using <code>len()</code> command.\n",
    " \n",
    " RMSE = $\\sqrt{\\frac{1}{n}\\sum_{t=1}^{n}(\\hat{y_t} - y_t)^2}$ "
   ]
  },
  {
   "cell_type": "code",
   "execution_count": 67,
   "metadata": {
    "deletable": false,
    "nbgrader": {
     "cell_type": "code",
     "checksum": "87a4ed033d5e3c07df9d431b9a091e27",
     "grade": false,
     "grade_id": "cell-eb32476ad1486115",
     "locked": false,
     "schema_version": 3,
     "solution": true,
     "task": false
    }
   },
   "outputs": [
    {
     "name": "stdout",
     "output_type": "stream",
     "text": [
      "1.5811388300841898\n"
     ]
    }
   ],
   "source": [
    "def rmse(y, y_hat):\n",
    "# YOUR CODE HERE\n",
    "    x = 0\n",
    "    if len(y) == len(y_hat):\n",
    "        x = (np.sum((y_hat - y)**2/len(y)))**0.5\n",
    "    return x\n",
    "\n",
    "a = np.array([1,1])\n",
    "b = np.array([3,2])\n",
    "\n",
    "print(rmse(a,b))"
   ]
  },
  {
   "cell_type": "code",
   "execution_count": 68,
   "metadata": {},
   "outputs": [
    {
     "name": "stdout",
     "output_type": "stream",
     "text": [
      "164.27153841531202\n"
     ]
    }
   ],
   "source": [
    "y = np.array([1.4, 2, 5.6, 400, 52, 61])\n",
    "y_hat = np.array([0.9, 1.8, 3.1, 4.2, 5.1, 5.8])\n",
    "\n",
    "print(rmse(y, y_hat))"
   ]
  },
  {
   "cell_type": "code",
   "execution_count": 69,
   "metadata": {
    "deletable": false,
    "editable": false,
    "nbgrader": {
     "cell_type": "code",
     "checksum": "cced31038a117bbda85afbc4a917d0ca",
     "grade": true,
     "grade_id": "cell-2251e5722ee61804",
     "locked": true,
     "points": 1.5,
     "schema_version": 3,
     "solution": false,
     "task": false
    }
   },
   "outputs": [],
   "source": [
    "assert rmse(np.array([1, 2, 3, 4, 5, 6]), np.array([0.9, 1.8, 3.1, 4.2, 5.1, 5.8]))==0.158113883008419"
   ]
  },
  {
   "cell_type": "markdown",
   "metadata": {
    "deletable": false,
    "editable": false,
    "nbgrader": {
     "cell_type": "markdown",
     "checksum": "bbedb13a44be9b2274cef28c435daa60",
     "grade": false,
     "grade_id": "cell-1302309136817333",
     "locked": true,
     "schema_version": 3,
     "solution": false,
     "task": false
    }
   },
   "source": [
    "Note that unlike MATLAB, * is elementwise multiplication, not matrix multiplication. We instead use the dot function to compute inner products of vectors, to multiply a vector by a matrix, and to multiply matrices. dot is available both as a function in the numpy module and as an instance method of array objects:"
   ]
  },
  {
   "cell_type": "code",
   "execution_count": 70,
   "metadata": {},
   "outputs": [
    {
     "name": "stdout",
     "output_type": "stream",
     "text": [
      "219\n",
      "219\n",
      "[29 67]\n",
      "[29 67]\n",
      "[[19 22]\n",
      " [43 50]]\n",
      "[[19 22]\n",
      " [43 50]]\n"
     ]
    }
   ],
   "source": [
    "x = np.array([[1,2],[3,4]])\n",
    "y = np.array([[5,6],[7,8]])\n",
    "\n",
    "v = np.array([9,10])\n",
    "w = np.array([11, 12])\n",
    "\n",
    "# Inner product of vectors; both produce 219\n",
    "print(v.dot(w))\n",
    "print(np.dot(v, w))\n",
    "\n",
    "# Matrix / vector product; both produce the rank 1 array [29 67]\n",
    "print(x.dot(v))\n",
    "print(np.dot(x, v))\n",
    "\n",
    "# Matrix / matrix product; both produce the rank 2 array\n",
    "# [[19 22]\n",
    "#  [43 50]]\n",
    "print(x.dot(y))\n",
    "print(np.dot(x, y))"
   ]
  },
  {
   "cell_type": "markdown",
   "metadata": {
    "deletable": false,
    "editable": false,
    "nbgrader": {
     "cell_type": "markdown",
     "checksum": "6d77b9aef36f72b54a3afa93906372a2",
     "grade": false,
     "grade_id": "cell-34ae80e5b820879d",
     "locked": true,
     "schema_version": 3,
     "solution": false,
     "task": false
    }
   },
   "source": [
    "Numpy provides many useful functions for performing computations on arrays; one of the most useful is sum:"
   ]
  },
  {
   "cell_type": "code",
   "execution_count": 71,
   "metadata": {},
   "outputs": [
    {
     "name": "stdout",
     "output_type": "stream",
     "text": [
      "10\n",
      "[4 6]\n",
      "[3 7]\n"
     ]
    }
   ],
   "source": [
    "x = np.array([[1,2],[3,4]])\n",
    "\n",
    "print(np.sum(x))          # Compute sum of all elements; prints \"10\"\n",
    "print(np.sum(x, axis=0))  # Compute sum of each column; prints \"[4 6]\"\n",
    "print(np.sum(x, axis=1))  # Compute sum of each row; prints \"[3 7]\""
   ]
  },
  {
   "cell_type": "markdown",
   "metadata": {
    "deletable": false,
    "editable": false,
    "nbgrader": {
     "cell_type": "markdown",
     "checksum": "a4d048c6d7771addbdc999a6fc7d6c88",
     "grade": false,
     "grade_id": "cell-e416bcdd29749b2b",
     "locked": true,
     "schema_version": 3,
     "solution": false,
     "task": false
    }
   },
   "source": [
    "You can find the full list of mathematical functions provided by numpy in the [documentation](http://docs.scipy.org/doc/numpy/reference/routines.math.html).\n",
    "\n",
    "\n",
    "### Transpose\n",
    "Apart from computing mathematical functions using arrays, we frequently need to reshape or otherwise manipulate data in arrays. The simplest example of this type of operation is transposing a matrix; to transpose a matrix, simply use the <strong>T</strong> attribute of an array object:\n",
    "\n",
    "    x = np.array([[1,2], [3,4]])\n",
    "    print(x)                           # Prints \"[[1 2]\n",
    "                                       #          [3 4]]\"\n",
    "                                       \n",
    "    print(x.T)                         # Prints \"[[1 3]\n",
    "                                       #          [2 4]]\"\n",
    "                                       \n",
    "Note that taking the transpose of a rank 1 array does nothing:\n",
    "    \n",
    "    v = np.array([1,2,3])\n",
    "    print(v)                           # Prints \"[1 2 3]\"\n",
    "    print(v.T)                         # Prints \"[1 2 3]\""
   ]
  },
  {
   "cell_type": "markdown",
   "metadata": {
    "deletable": false,
    "editable": false,
    "nbgrader": {
     "cell_type": "markdown",
     "checksum": "96cb96a9abc89fd2eba2b51b0db46bc3",
     "grade": false,
     "grade_id": "cell-50916c18e4de6d10",
     "locked": true,
     "schema_version": 3,
     "solution": false,
     "task": false
    }
   },
   "source": [
    "For more information, please see the [documentation.](http://docs.scipy.org/doc/numpy/reference/routines.array-manipulation.html)"
   ]
  },
  {
   "cell_type": "markdown",
   "metadata": {
    "deletable": false,
    "editable": false,
    "nbgrader": {
     "cell_type": "markdown",
     "checksum": "caf39347c5d5807d1cfe49901a7b5a83",
     "grade": false,
     "grade_id": "cell-14bf2d69f663c001",
     "locked": true,
     "schema_version": 3,
     "solution": false,
     "task": false
    }
   },
   "source": [
    "### Broadcasting\n",
    "Broadcasting is a powerful mechanism that allows numpy to work with arrays of different shapes when performing arithmetic operations. Frequently we have a smaller array and a larger array, and we want to use the smaller array multiple times to perform some operation on the larger array.\n",
    "\n",
    "**Example:**\n",
    "\n",
    "Suppose that we want to add a constant vector to each row of a matrix. We could do it like this:\n",
    "\n",
    "Add the vector **b** to each row of the matrix **a** with an explicit loop\n",
    "\n",
    "    a = np.array([[1,2,3], [4,5,6], [7,8,9], [10, 11, 12]])\n",
    "    b = np.array([1, 0, 1])\n",
    "  \n",
    "    for i in range(4):\n",
    "        a[i, :] = a[i, :] + b\n",
    "\n",
    "**Exercise:**\n",
    "\n",
    "Transpose the array <code>c = [2, 3, 4, 6]</code>. Add **c<sup>T</sup>** to every column of **a**. "
   ]
  },
  {
   "cell_type": "code",
   "execution_count": 77,
   "metadata": {
    "deletable": false,
    "nbgrader": {
     "cell_type": "code",
     "checksum": "f43f4cc075ead23e9b8f94e957a6c437",
     "grade": false,
     "grade_id": "cell-697e2eb16cd85894",
     "locked": false,
     "schema_version": 3,
     "solution": true,
     "task": false
    }
   },
   "outputs": [
    {
     "name": "stdout",
     "output_type": "stream",
     "text": [
      "[[ 3  2  3]\n",
      " [ 7  5  6]\n",
      " [11  8  9]\n",
      " [16 11 12]]\n",
      "[[ 3  4  3]\n",
      " [ 7  8  6]\n",
      " [11 12  9]\n",
      " [16 17 12]]\n",
      "[[ 3  4  5]\n",
      " [ 7  8  9]\n",
      " [11 12 13]\n",
      " [16 17 18]]\n"
     ]
    }
   ],
   "source": [
    "# YOUR CODE HERE\n",
    "a = np.array([[1,2,3], [4,5,6], [7,8,9], [10, 11, 12]])\n",
    "c = np.array([2, 3, 4, 6])\n",
    "for i in range(len(a[0])):\n",
    "    a[:,i] += c.T\n",
    "    print(a)\n"
   ]
  },
  {
   "cell_type": "code",
   "execution_count": null,
   "metadata": {
    "deletable": false,
    "editable": false,
    "nbgrader": {
     "cell_type": "code",
     "checksum": "ca8648d86e6b8d2c2de602076deb06b5",
     "grade": true,
     "grade_id": "cell-2c06b28c7aa9eb9f",
     "locked": true,
     "points": 0.5,
     "schema_version": 3,
     "solution": false,
     "task": false
    }
   },
   "outputs": [],
   "source": []
  },
  {
   "cell_type": "markdown",
   "metadata": {
    "deletable": false,
    "editable": false,
    "nbgrader": {
     "cell_type": "markdown",
     "checksum": "c130dd31b8d929ea90f6367852d161b3",
     "grade": false,
     "grade_id": "cell-9ad1dfcbe7bf0d35",
     "locked": true,
     "schema_version": 3,
     "solution": false,
     "task": false
    }
   },
   "source": [
    "This works; however, when the matrix **a** is very large, computing an explicit loop in Python could be slow. Note that adding the vector **b** to each row of the matrix **a** is equivalent to forming a matrix **bb** by stacking multiple copies of **b** vertically, then performing elementwise summation of **a** and **b**. We could implement this approach like this:\n",
    "\n",
    "    b = np.array([1, 0, 1])\n",
    "    bb = np.tile(b, (4, 1))   # Stack 4 copies of b on top of each other\n",
    "    print(bb)                 # Prints \"[[1 0 1]\n",
    "                              #          [1 0 1]\n",
    "                              #          [1 0 1]\n",
    "                              #          [1 0 1]]\"\n",
    "                              \n",
    "Reimplement the previous exercise without using a Python loop by creating the matrix **cc** using <code>np.tile</code> and adding it to **a**:"
   ]
  },
  {
   "cell_type": "code",
   "execution_count": 80,
   "metadata": {
    "deletable": false,
    "nbgrader": {
     "cell_type": "code",
     "checksum": "017b551c2bd145308622b0997fb31086",
     "grade": false,
     "grade_id": "cell-7bcf3f309b768c41",
     "locked": false,
     "points": 0.25,
     "schema_version": 3,
     "solution": true,
     "task": false
    }
   },
   "outputs": [
    {
     "name": "stdout",
     "output_type": "stream",
     "text": [
      "[[2 2 2]\n",
      " [3 3 3]\n",
      " [4 4 4]\n",
      " [6 6 6]]\n",
      "[[ 3  4  5]\n",
      " [ 7  8  9]\n",
      " [11 12 13]\n",
      " [16 17 18]]\n"
     ]
    }
   ],
   "source": [
    "a = np.array([[1,2,3], [4,5,6], [7,8,9], [10, 11, 12]])\n",
    "c = np.array([[2, 3, 4, 6]])\n",
    "\n",
    "# YOUR CODE HERE\n",
    "ccT = np.tile(c.T,(1,3))\n",
    "print(ccT)\n",
    "print(a+ccT)\n",
    "\n"
   ]
  },
  {
   "cell_type": "code",
   "execution_count": null,
   "metadata": {
    "deletable": false,
    "editable": false,
    "nbgrader": {
     "cell_type": "code",
     "checksum": "c5cb07d360e295fa81b1fdc2ecb835c6",
     "grade": true,
     "grade_id": "cell-de9aa27ed19ca20f",
     "locked": true,
     "points": 0.5,
     "schema_version": 3,
     "solution": false,
     "task": false
    }
   },
   "outputs": [],
   "source": []
  },
  {
   "cell_type": "markdown",
   "metadata": {
    "deletable": false,
    "editable": false,
    "nbgrader": {
     "cell_type": "markdown",
     "checksum": "6e3ad1f897dcad56dacf5f779a871944",
     "grade": false,
     "grade_id": "cell-80d7243323906e79",
     "locked": true,
     "schema_version": 3,
     "solution": false,
     "task": false
    }
   },
   "source": [
    "Numpy broadcasting allows us to perform this computation without actually creating multiple copies of **c**. Consider this version, using broadcasting:"
   ]
  },
  {
   "cell_type": "code",
   "execution_count": 81,
   "metadata": {
    "deletable": false,
    "editable": false,
    "nbgrader": {
     "cell_type": "code",
     "checksum": "386434ef72ccb9ad223ee610720928ab",
     "grade": false,
     "grade_id": "cell-eef667d4fd01a9aa",
     "locked": true,
     "schema_version": 3,
     "solution": false,
     "task": false
    }
   },
   "outputs": [
    {
     "name": "stdout",
     "output_type": "stream",
     "text": [
      "[[ 2  2  4]\n",
      " [ 5  5  7]\n",
      " [ 8  8 10]\n",
      " [11 11 13]]\n"
     ]
    }
   ],
   "source": [
    "a = np.array([[1,2,3], [4,5,6], [7,8,9], [10, 11, 12]])\n",
    "b = np.array([1, 0, 1])\n",
    "a = a + b  # Add b to each row of a using broadcasting\n",
    "print(a)  # Prints \"[[ 2  2  4]\n",
    "          #          [ 5  5  7]\n",
    "          #          [ 8  8 10]\n",
    "          #          [11 11 13]]\""
   ]
  },
  {
   "cell_type": "markdown",
   "metadata": {
    "deletable": false,
    "editable": false,
    "nbgrader": {
     "cell_type": "markdown",
     "checksum": "f8028abad70ac2746944998896a77e9b",
     "grade": false,
     "grade_id": "cell-09663a0387195e55",
     "locked": true,
     "schema_version": 3,
     "solution": false,
     "task": false
    }
   },
   "source": [
    "The line <strong>a + b</strong> works even though <strong>a</strong> has shape <strong>(4, 3)</strong> and <strong>b</strong> has shape <strong>(3,)</strong> due to broadcasting; this line works as if <strong>b</strong> actually had shape <strong>(4, 3)</strong>, where each row was a copy of <strong>b</strong>, and the sum was performed elementwise.\n"
   ]
  },
  {
   "cell_type": "markdown",
   "metadata": {
    "deletable": false,
    "editable": false,
    "nbgrader": {
     "cell_type": "markdown",
     "checksum": "746afdd8faa5d85e319bc5ffc5d6cb84",
     "grade": false,
     "grade_id": "cell-cce8fd6082554d4e",
     "locked": true,
     "schema_version": 3,
     "solution": false,
     "task": false
    }
   },
   "source": [
    "Broadcasting two arrays together follows these rules:\n",
    "\n",
    "If the arrays do not have the same rank, prepend the shape of the lower rank array with 1s until both shapes have the same length.\n",
    "The two arrays are said to be compatible in a dimension if they have the same size in the dimension, or if one of the arrays has size 1 in that dimension.\n",
    "The arrays can be broadcast together if they are compatible in all dimensions.\n",
    "After broadcasting, each array behaves as if it had shape equal to the elementwise maximum of shapes of the two input arrays.\n",
    "In any dimension where one array had size 1 and the other array had size greater than 1, the first array behaves as if it were copied along that dimension\n",
    "If this explanation does not make sense, try reading the explanation from the [documentation](http://docs.scipy.org/doc/numpy/user/basics.broadcasting.html) or this [explanation](http://scipy.github.io/old-wiki/pages/EricsBroadcastingDoc).\n",
    "\n",
    "Functions that support broadcasting are known as universal functions. You can find the list of all universal functions in the [documentation](http://docs.scipy.org/doc/numpy/reference/ufuncs.html#available-ufuncs).\n",
    "\n",
    "Here are some applications of broadcasting:\n",
    "\n",
    "<strong>Compute outer product of vectors</strong>\n",
    "\n",
    "    v = np.array([1,2,3])  # v has shape (3,)\n",
    "    w = np.array([4,5])    # w has shape (2,)\n",
    "    \n",
    "To compute an outer product, we first reshape v to be a column vector of shape (3, 1); we can then broadcast it against w to yield an output of shape (3, 2), which is the outer product of v and w:\n",
    "\n",
    "    [[ 4  5]\n",
    "     [ 8 10]\n",
    "     [12 15]]\n",
    "     \n",
    "Write the code to obtain the outer product of v and w below.\n",
    "\n",
    "<strong>Add a vector to each row of a matrix</strong>\n",
    "\n",
    "    x = np.array([[1,2,3], [4,5,6]])\n",
    "    \n",
    "x has shape (2, 3) and v has shape (3,) so they broadcast to (2, 3), giving the following matrix:\n",
    "\n",
    "    [[2 4 6]\n",
    "     [5 7 9]]\n",
    "     \n",
    "Write the code to obtain the sum of x and v below.\n",
    "\n",
    "<strong>Add a vector to each column of a matrix</strong>\n",
    "\n",
    "x has shape (2, 3) and w has shape (2,). If we transpose x then it has shape (3, 2) and can be broadcast against w to yield a result of shape (3, 2); transposing this result yields the final result of shape (2, 3) which is the matrix x with the vector w added to each column. Gives the following matrix:\n",
    "\n",
    "    [[ 5  6  7]\n",
    "     [ 9 10 11]]\n",
    "     \n",
    "Write the code to obtain the above matrix following the procedure mentioned. (Another solution is to reshape w to be a column vector of shape (2, 1); we can then broadcast it directly against x to produce the same output.)\n",
    "\n",
    "<strong>Multiply a matrix by a constant:</strong>\n",
    "x has shape (2, 3). Numpy treats scalars as arrays of shape (); these can be broadcast together to shape (2, 3), producing the following array:\n",
    "\n",
    "    [[ 2  4  6]\n",
    "     [ 8 10 12]]\n",
    "     \n",
    "Write the code to multiply integer 2 with matrix <strong>x</strong>."
   ]
  },
  {
   "cell_type": "code",
   "execution_count": 90,
   "metadata": {
    "deletable": false,
    "nbgrader": {
     "cell_type": "code",
     "checksum": "64b99a65cd4e47e940817492ecbb917c",
     "grade": false,
     "grade_id": "cell-22f9c684674c76bb",
     "locked": false,
     "schema_version": 3,
     "solution": true,
     "task": false
    }
   },
   "outputs": [
    {
     "name": "stdout",
     "output_type": "stream",
     "text": [
      "[[ 4  5]\n",
      " [ 8 10]\n",
      " [12 15]]\n",
      "[[14 15]\n",
      " [28 30]\n",
      " [42 45]]\n"
     ]
    }
   ],
   "source": [
    "v = np.array([1,2,3])  # v has shape (3,)\n",
    "w = np.array([4,5])    # w has shape (2,)\n",
    "\n",
    "x = np.outer(v,w) # TODO: Compute outer product of v and w using broadcasting.\n",
    "print(x)\n",
    "\n",
    "\n",
    "y = np.array([10, 20, 30])\n",
    "\n",
    "z = x.T + y\n",
    "print(z.T)"
   ]
  },
  {
   "cell_type": "code",
   "execution_count": null,
   "metadata": {
    "deletable": false,
    "editable": false,
    "nbgrader": {
     "cell_type": "code",
     "checksum": "8d3affa2d12f8727792dc74b85d07fe0",
     "grade": true,
     "grade_id": "cell-83f3b9bcc5c92488",
     "locked": true,
     "points": 0,
     "schema_version": 3,
     "solution": false,
     "task": false
    }
   },
   "outputs": [],
   "source": []
  },
  {
   "cell_type": "markdown",
   "metadata": {
    "deletable": false,
    "editable": false,
    "nbgrader": {
     "cell_type": "markdown",
     "checksum": "f8ae4e7ab6f5bb55b030556971357eef",
     "grade": false,
     "grade_id": "cell-bdb8f90c466324cd",
     "locked": true,
     "schema_version": 3,
     "solution": false,
     "task": false
    }
   },
   "source": [
    "Broadcasting typically makes your code more concise and faster, so you should strive to use it where possible."
   ]
  },
  {
   "cell_type": "markdown",
   "metadata": {
    "deletable": false,
    "editable": false,
    "nbgrader": {
     "cell_type": "markdown",
     "checksum": "fad1d91b6649607957e70f2f4fbc5812",
     "grade": false,
     "grade_id": "cell-ca3480026a0a9be8",
     "locked": true,
     "schema_version": 3,
     "solution": false,
     "task": false
    }
   },
   "source": [
    "### Numpy Documentation\n",
    "This brief overview has touched on many of the important things that you need to know about numpy, but is far from complete. Check out the [numpy reference](http://docs.scipy.org/doc/numpy/reference/) to find out much more about numpy."
   ]
  },
  {
   "cell_type": "markdown",
   "metadata": {
    "deletable": false,
    "editable": false,
    "nbgrader": {
     "cell_type": "markdown",
     "checksum": "087cc9aa69f4166f02d81e0da2a74e92",
     "grade": false,
     "grade_id": "cell-84c4eee7a68bdc1a",
     "locked": true,
     "schema_version": 3,
     "solution": false,
     "task": false
    }
   },
   "source": [
    "# SciPy\n",
    "Numpy provides a high-performance multidimensional array and basic tools to compute with and manipulate these arrays. [SciPy](http://docs.scipy.org/doc/scipy/reference/) builds on this, and provides a large number of functions that operate on numpy arrays and are useful for different types of scientific and engineering applications.\n",
    "\n",
    "The best way to get familiar with SciPy is to browse the [documentation](http://docs.scipy.org/doc/scipy/reference/index.html). We will highlight some parts of SciPy that you might find useful for this class.\n",
    "\n",
    "## MATLAB files\n",
    "The functions <strong>scipy.io.loadmat</strong> and <strong>scipy.io.savemat</strong> allow you to read and write MATLAB files. You can read about them in the [documentation](http://docs.scipy.org/doc/scipy/reference/io.html).\n",
    "\n",
    "## Distance between points\n",
    "SciPy defines some useful functions for computing distances between sets of points.\n",
    "\n",
    "The function <code>scipy.spatial.distance.pdist</code> computes the distance between all pairs of points in a given set.\n",
    "\n",
    "Create the following array <strong>x</strong> where each row is a point in 2D space:\n",
    "  \n",
    "    [[0 1]\n",
    "     [1 0]\n",
    "     [2 0]]\n",
    "\n",
    "Compute the Euclidean distance between all rows of x. <code>d[i, j]</code> is the Euclidean distance between <code>x[i, :]</code> and <code>x[j, :]</code>, and <strong>d</strong> is the following array:\n",
    "  \n",
    "    [[ 0.          1.41421356  2.23606798]\n",
    "     [ 1.41421356  0.          1.        ]\n",
    "     [ 2.23606798  1.          0.        ]]"
   ]
  },
  {
   "cell_type": "code",
   "execution_count": 91,
   "metadata": {},
   "outputs": [
    {
     "name": "stdout",
     "output_type": "stream",
     "text": [
      "[[0 1]\n",
      " [1 0]\n",
      " [2 0]]\n",
      "[[0.         1.41421356 2.23606798]\n",
      " [1.41421356 0.         1.        ]\n",
      " [2.23606798 1.         0.        ]]\n"
     ]
    }
   ],
   "source": [
    "import numpy as np\n",
    "from scipy.spatial.distance import pdist, squareform\n",
    "\n",
    "x = np.array([[0, 1], [1, 0], [2, 0]])\n",
    "print(x)\n",
    "\n",
    "d = squareform(pdist(x, 'euclidean'))\n",
    "print(d)"
   ]
  },
  {
   "cell_type": "markdown",
   "metadata": {
    "deletable": false,
    "editable": false,
    "nbgrader": {
     "cell_type": "markdown",
     "checksum": "4917187b6597d09397997aa0d3196203",
     "grade": false,
     "grade_id": "cell-db4cabc29a3b3654",
     "locked": true,
     "schema_version": 3,
     "solution": false,
     "task": false
    }
   },
   "source": [
    "You can read all the details about this function in the [documentation](http://docs.scipy.org/doc/scipy/reference/generated/scipy.spatial.distance.pdist.html).\n",
    "\n",
    "A similar function <strong>(scipy.spatial.distance.cdist)</strong> computes the distance between all pairs across two sets of points; you can read about it in the [documentation](http://docs.scipy.org/doc/scipy/reference/generated/scipy.spatial.distance.cdist.html)."
   ]
  },
  {
   "cell_type": "markdown",
   "metadata": {
    "deletable": false,
    "editable": false,
    "nbgrader": {
     "cell_type": "markdown",
     "checksum": "1d70d48afd152de5edce489fa73009fc",
     "grade": false,
     "grade_id": "cell-329685b85b47e4c7",
     "locked": true,
     "schema_version": 3,
     "solution": false,
     "task": false
    }
   },
   "source": [
    "# Matplotlib\n",
    "\n",
    "[Matplotlib](http://matplotlib.org/) is a plotting library. In this section give a brief introduction to the <strong>matplotlib.pyplot</strong> module, which provides a plotting system similar to that of MATLAB.\n",
    "\n",
    "## Plotting\n",
    "The most important function in matplotlib is plot, which allows you to plot 2D data. Here is a simple example:"
   ]
  },
  {
   "cell_type": "code",
   "execution_count": 92,
   "metadata": {},
   "outputs": [
    {
     "data": {
      "image/png": "[encoded data removed]",
      "text/plain": [
       "<Figure size 432x288 with 1 Axes>"
      ]
     },
     "metadata": {
      "needs_background": "light"
     },
     "output_type": "display_data"
    }
   ],
   "source": [
    "import numpy as np\n",
    "import matplotlib.pyplot as plt\n",
    "\n",
    "# Compute the x and y coordinates for points on a sine curve\n",
    "x = np.arange(0, 3 * np.pi, 0.1)\n",
    "y = np.sin(x)\n",
    "\n",
    "# Plot the points using matplotlib\n",
    "plt.plot(x, y)\n",
    "plt.show()  # You must call plt.show() to make graphics appear."
   ]
  },
  {
   "cell_type": "markdown",
   "metadata": {
    "deletable": false,
    "editable": false,
    "nbgrader": {
     "cell_type": "markdown",
     "checksum": "4570071dc162cfbca227f60cc6c21e0f",
     "grade": false,
     "grade_id": "cell-87d4f7968e59d76d",
     "locked": true,
     "schema_version": 3,
     "solution": false,
     "task": false
    }
   },
   "source": [
    "With just a little bit of extra work we can easily plot multiple lines at once, and add a title, legend, and axis labels:"
   ]
  },
  {
   "cell_type": "code",
   "execution_count": 93,
   "metadata": {},
   "outputs": [
    {
     "data": {
      "image/png": "[encoded data removed]",
      "text/plain": [
       "<Figure size 432x288 with 1 Axes>"
      ]
     },
     "metadata": {
      "needs_background": "light"
     },
     "output_type": "display_data"
    }
   ],
   "source": [
    "import numpy as np\n",
    "import matplotlib.pyplot as plt\n",
    "\n",
    "# Compute the x and y coordinates for points on sine and cosine curves\n",
    "x = np.arange(0, 3 * np.pi, 0.1)\n",
    "y_sin = np.sin(x)\n",
    "y_cos = np.cos(x)\n",
    "\n",
    "# Plot the points using matplotlib\n",
    "plt.plot(x, y_sin)\n",
    "plt.plot(x, y_cos)\n",
    "plt.xlabel('x axis label')\n",
    "plt.ylabel('y axis label')\n",
    "plt.title('Sine and Cosine')\n",
    "plt.legend(['Sine', 'Cosine'])\n",
    "plt.show()"
   ]
  },
  {
   "cell_type": "markdown",
   "metadata": {
    "deletable": false,
    "editable": false,
    "nbgrader": {
     "cell_type": "markdown",
     "checksum": "7de020f5c47d09843afc45be69087c98",
     "grade": false,
     "grade_id": "cell-e8fbcd35df24ecba",
     "locked": true,
     "schema_version": 3,
     "solution": false,
     "task": false
    }
   },
   "source": [
    "You can read much more about the <strong>plot</strong> function in the [documentation](http://matplotlib.org/api/pyplot_api.html#matplotlib.pyplot.plot)."
   ]
  },
  {
   "cell_type": "markdown",
   "metadata": {
    "deletable": false,
    "editable": false,
    "nbgrader": {
     "cell_type": "markdown",
     "checksum": "230da89fbbc8af75cd2586c1c394b8af",
     "grade": false,
     "grade_id": "cell-ed9e3272b78375b0",
     "locked": true,
     "schema_version": 3,
     "solution": false,
     "task": false
    }
   },
   "source": [
    "## Subplots\n",
    "You can plot different things in the same figure using the subplot function. Here is an example:"
   ]
  },
  {
   "cell_type": "code",
   "execution_count": 94,
   "metadata": {},
   "outputs": [
    {
     "data": {
      "image/png": "[encoded data removed]",
      "text/plain": [
       "<Figure size 432x288 with 2 Axes>"
      ]
     },
     "metadata": {
      "needs_background": "light"
     },
     "output_type": "display_data"
    }
   ],
   "source": [
    "import numpy as np\n",
    "import matplotlib.pyplot as plt\n",
    "\n",
    "# Compute the x and y coordinates for points on sine and cosine curves\n",
    "x = np.arange(0, 3 * np.pi, 0.1)\n",
    "y_sin = np.sin(x)\n",
    "y_cos = np.cos(x)\n",
    "\n",
    "# Set up a subplot grid that has height 2 and width 1,\n",
    "# and set the first such subplot as active.\n",
    "plt.subplot(2, 1, 1)\n",
    "\n",
    "# Make the first plot\n",
    "plt.plot(x, y_sin)\n",
    "plt.title('Sine')\n",
    "\n",
    "# Set the second subplot as active, and make the second plot.\n",
    "plt.subplot(2, 1, 2)\n",
    "plt.plot(x, y_cos)\n",
    "plt.title('Cosine')\n",
    "\n",
    "# Show the figure.\n",
    "plt.show()"
   ]
  },
  {
   "cell_type": "markdown",
   "metadata": {
    "deletable": false,
    "editable": false,
    "nbgrader": {
     "cell_type": "markdown",
     "checksum": "8e16ad44e4bb1a8c22d2695d48d7cce9",
     "grade": false,
     "grade_id": "cell-9869d58efd03bf2d",
     "locked": true,
     "schema_version": 3,
     "solution": false,
     "task": false
    }
   },
   "source": [
    "You can read much more about the <strong>subplot</strong> function in the [documentation](http://matplotlib.org/api/pyplot_api.html#matplotlib.pyplot.subplot)."
   ]
  },
  {
   "attachments": {
    "image.png": {
     "image/png": "[encoded data removed]"
    }
   },
   "cell_type": "markdown",
   "metadata": {
    "deletable": false,
    "editable": false,
    "nbgrader": {
     "cell_type": "markdown",
     "checksum": "868591e0818be95ad920db22281409f0",
     "grade": false,
     "grade_id": "cell-22321312c7f53e55",
     "locked": true,
     "schema_version": 3,
     "solution": false,
     "task": false
    }
   },
   "source": [
    "Create a linearly spaced numpy array with 100 values ranging from -5 to +5 and show a subplot of functions $x^2$ and $x^3$ as shown below.\n",
    "\n",
    "To adjust the axis spines of the plot, you can use commands e.g., <code>ax.spines['left'].set_position('center')</code>. If you want to remove any of the axis spine, you may write <code>ax.spines['right'].set_color('none')</code>.\n",
    "\n",
    "![image.png](attachment:image.png)"
   ]
  },
  {
   "cell_type": "code",
   "execution_count": 105,
   "metadata": {
    "deletable": false,
    "nbgrader": {
     "cell_type": "code",
     "checksum": "b84da066b23e64f45558a39d0ae50061",
     "grade": true,
     "grade_id": "cell-b7da1df7e1331e59",
     "locked": false,
     "points": 2,
     "schema_version": 3,
     "solution": true,
     "task": false
    }
   },
   "outputs": [
    {
     "data": {
      "image/png": "[encoded data removed]",
      "text/plain": [
       "<Figure size 432x288 with 1 Axes>"
      ]
     },
     "metadata": {
      "needs_background": "light"
     },
     "output_type": "display_data"
    },
    {
     "data": {
      "image/png": "[encoded data removed]",
      "text/plain": [
       "<Figure size 432x288 with 1 Axes>"
      ]
     },
     "metadata": {
      "needs_background": "light"
     },
     "output_type": "display_data"
    }
   ],
   "source": [
    "# YOUR CODE HERE\n",
    "import matplotlib.pyplot as plt\n",
    "\n",
    "x = np.linspace(-4,4)\n",
    "\n",
    "y = np.linspace(-5,5,100)\n",
    "ypower2 = x**2\n",
    "ypower3 = x**3\n",
    "\n",
    "plt.subplot(2,1,1)\n",
    "plt.plot(x,ypower2)\n",
    "plt.show()\n",
    "\n",
    "ax = plt.subplot(2,1,2)\n",
    "ax.spines['left'].set_color('none')\n",
    "plt.plot(x,ypower3)\n",
    "plt.show()\n",
    "\n"
   ]
  },
  {
   "attachments": {
    "two_.png": {
     "image/png": "[encoded data removed]"
    }
   },
   "cell_type": "markdown",
   "metadata": {
    "deletable": false,
    "editable": false,
    "nbgrader": {
     "cell_type": "markdown",
     "checksum": "e470a487b92e12267ef6024b2abbfd96",
     "grade": false,
     "grade_id": "cell-b65346061bc06715",
     "locked": true,
     "schema_version": 3,
     "solution": false,
     "task": false
    }
   },
   "source": [
    "## Images\n",
    "You can use the <strong>imshow</strong> function to show images. Here is an example:\n",
    "\n",
    "    import numpy as np\n",
    "    import matplotlib.pyplot as plt\n",
    "    \n",
    "    img = plt.imread('assets/cat.jpg')\n",
    "    img_tinted = img * [1, 0.95, 0.9]\n",
    "    \n",
    "    # Show the original image\n",
    "    plt.subplot(1, 2, 1)\n",
    "    plt.imshow(img)\n",
    "    \n",
    "    # Show the tinted image\n",
    "    plt.subplot(1, 2, 2)\n",
    "    \n",
    "    # A slight gotcha with imshow is that it might give strange results\n",
    "    # if presented with data that is not uint8. To work around this, we\n",
    "    # explicitly cast the image to uint8 before displaying it.\n",
    "    \n",
    "    plt.imshow(np.uint8(img_tinted))\n",
    "    plt.show()\n",
    "    \n",
    "![two_.png](attachment:two_.png)\n",
    "\n",
    "Try recreating this plot."
   ]
  },
  {
   "cell_type": "code",
   "execution_count": 110,
   "metadata": {
    "deletable": false,
    "nbgrader": {
     "cell_type": "code",
     "checksum": "652011f3ff2d1f3725ca933866766038",
     "grade": true,
     "grade_id": "cell-08c529518839204c",
     "locked": false,
     "points": 1,
     "schema_version": 3,
     "solution": true,
     "task": false
    }
   },
   "outputs": [
    {
     "data": {
      "text/plain": [
       "<matplotlib.image.AxesImage at 0x24c07969748>"
      ]
     },
     "execution_count": 110,
     "metadata": {},
     "output_type": "execute_result"
    },
    {
     "data": {
      "image/png": "[encoded data removed]",
      "text/plain": [
       "<Figure size 432x288 with 2 Axes>"
      ]
     },
     "metadata": {
      "needs_background": "light"
     },
     "output_type": "display_data"
    }
   ],
   "source": [
    "import numpy as np\n",
    "import matplotlib.pyplot as plt\n",
    "\n",
    "img = plt.imread('assets/cat.jpg')\n",
    "img_tinted = img* [1,0.95,0.9]\n",
    "\n",
    "plt.subplot(2,1,1)\n",
    "plt.imshow(img)\n",
    "\n",
    "plt.subplot(2,1,2)\n",
    "plt.imshow(np.uint8(img_tinted))"
   ]
  },
  {
   "cell_type": "markdown",
   "metadata": {
    "deletable": false,
    "editable": false,
    "nbgrader": {
     "cell_type": "markdown",
     "checksum": "53399fb91f003cf72bec4d16d1145717",
     "grade": false,
     "grade_id": "cell-cd9e228c946fd744",
     "locked": true,
     "schema_version": 3,
     "solution": false,
     "task": false
    }
   },
   "source": [
    "# Scikit-Image\n",
    "<strong>scikit-image</strong> is a collection of algorithms for image processing for the Python programming language. It includes algorithms for segmentation, geometric transformations, color space manipulation, analysis, filtering, morphology, feature detection, and more. It is designed to interoperate with the Python numerical and scientific libraries NumPy and SciPy. We implement some functions from <strong>scikit-image</strong> in the following:\n",
    "\n",
    "## Image Operations\n",
    "\n",
    "<strong>Rescale</strong> operation resizes an image by a given scaling factor. The scaling factor can either be a single floating point value, or multiple values - one along each axis.\n",
    "\n",
    "<strong>Resize</strong> serves the same purpose, but allows to specify an output image shape instead of a scaling factor.\n",
    "\n",
    "<strong>rgb2gray</strong> operation converts an image with RGB channels into an image with a single grayscale channel.\n",
    "\n",
    "## Note on ModuleNotFoundError\n",
    "It might be possible that the scikit-image package is not yet installed in your enviroment. Trying to import a package which is not installed results in: `ModuleNotFoundError: No module named 'skimage'`. In that case run the following command in your activated environment:\n",
    "\n",
    "      conda install scikit-image"
   ]
  },
  {
   "cell_type": "code",
   "execution_count": 113,
   "metadata": {},
   "outputs": [
    {
     "name": "stdout",
     "output_type": "stream",
     "text": [
      "(600, 800, 3)\n"
     ]
    },
    {
     "data": {
      "image/png": "[encoded data removed]",
      "text/plain": [
       "<Figure size 432x288 with 4 Axes>"
      ]
     },
     "metadata": {
      "needs_background": "light"
     },
     "output_type": "display_data"
    }
   ],
   "source": [
    "import matplotlib.pyplot as plt\n",
    "\n",
    "from skimage import data\n",
    "from skimage.color import rgb2gray\n",
    "from skimage.transform import rescale, resize\n",
    "\n",
    "image = plt.imread('assets/cat.jpg')\n",
    "\n",
    "image_rescaled = rescale(image, scale=(0.5, 0.5, 1))\n",
    "\n",
    "grayscale = rgb2gray(image)\n",
    "\n",
    "image_resized = resize(image, (image.shape[0] // 4, image.shape[1] // 4))\n",
    "\n",
    "fig, axes = plt.subplots(nrows=2, ncols=2)\n",
    "\n",
    "ax = axes.ravel()\n",
    "\n",
    "ax[0].imshow(image)\n",
    "ax[0].set_title(\"Original image\")\n",
    "\n",
    "ax[1].imshow(grayscale, cmap=plt.cm.gray)\n",
    "ax[1].set_title(\"grayscale image\")\n",
    "\n",
    "ax[2].imshow(image_rescaled)\n",
    "ax[2].set_title(\"Rescaled image\")\n",
    "\n",
    "ax[3].imshow(image_resized)\n",
    "ax[3].set_title(\"Resized image\")\n",
    "\n",
    "# ax[0].set_xlim(0, 512)\n",
    "# ax[0].set_ylim(512, 0)\n",
    "plt.tight_layout()\n",
    "plt.show()"
   ]
  },
  {
   "cell_type": "markdown",
   "metadata": {
    "deletable": false,
    "editable": false,
    "nbgrader": {
     "cell_type": "markdown",
     "checksum": "0cce5c4130481c6e0ed844a71757a06c",
     "grade": false,
     "grade_id": "cell-234f26745ccd01af",
     "locked": true,
     "schema_version": 3,
     "solution": false,
     "task": false
    }
   },
   "source": [
    "Did you notice any change in the output of rescaled or resized images above? If not, then explain why? And if yes, then explain why all photos appear to be of the same size?"
   ]
  },
  {
   "cell_type": "markdown",
   "metadata": {
    "deletable": false,
    "editable": false,
    "nbgrader": {
     "cell_type": "markdown",
     "checksum": "9357627a62d988a2d3171717c986647e",
     "grade": false,
     "grade_id": "cell-e40f4c7ae18a48b1",
     "locked": true,
     "schema_version": 3,
     "solution": false,
     "task": false
    }
   },
   "source": [
    "The limits of the axes are scaled automatically by matplotlib by default. We can fix the limits with `ax[0].set_xlim(0, 512)` and `# ax[0].set_ylim(512, 0)` to see images being rescaled or resized."
   ]
  },
  {
   "cell_type": "markdown",
   "metadata": {
    "deletable": false,
    "editable": false,
    "nbgrader": {
     "cell_type": "markdown",
     "checksum": "7ff71d94d58cbf9ff60b6c1eaccd46a9",
     "grade": false,
     "grade_id": "cell-7abfca689f9df5dc",
     "locked": true,
     "schema_version": 3,
     "solution": false,
     "task": false
    }
   },
   "source": [
    "## Simple robot learning example\n",
    "The dataset `training_data.mat` is from a simple simulation of a two degree of freedom robot that is tracking an ellipse."
   ]
  },
  {
   "cell_type": "markdown",
   "metadata": {
    "deletable": false,
    "editable": false,
    "nbgrader": {
     "cell_type": "markdown",
     "checksum": "457e6c3fb5753b1314171a03d2aee339",
     "grade": false,
     "grade_id": "cell-058ae0e65ef8d244",
     "locked": true,
     "schema_version": 3,
     "solution": false,
     "task": false
    }
   },
   "source": [
    "![RobotAnim](assets/robot_anim.gif \"RobotAnim\")"
   ]
  },
  {
   "cell_type": "markdown",
   "metadata": {
    "deletable": false,
    "editable": false,
    "nbgrader": {
     "cell_type": "markdown",
     "checksum": "55315fbf1f50880a4465512bb2c2b821",
     "grade": false,
     "grade_id": "cell-187e0de05854e6d8",
     "locked": true,
     "schema_version": 3,
     "solution": false,
     "task": false
    }
   },
   "source": [
    "The file contains a number of matrices\n",
    "* `th` joint angles/positions\n",
    "* `th_d` joint veclocities\n",
    "* `th_dd` joint accelerations\n",
    "* `tau` joint torques\n",
    "* `x` Cartesian position of the end-effector\n",
    "* `x_d` Cartesian velocity of the end-effector\n",
    "* `x_dd` Cartesian acceleration of the end-effector\n",
    "\n",
    "We now want to learn a very simple feedforward controller, that is a function that maps from joint positions to joint torques.\n",
    "\n"
   ]
  },
  {
   "cell_type": "markdown",
   "metadata": {
    "deletable": false,
    "editable": false,
    "nbgrader": {
     "cell_type": "markdown",
     "checksum": "e4ef725e920c4c06ef21f762ac578b38",
     "grade": false,
     "grade_id": "cell-f3f9678addc4acc1",
     "locked": true,
     "schema_version": 3,
     "solution": false,
     "task": false
    }
   },
   "source": [
    "Load the dataset using the `scipy` functionality for loading MATLAB files described above. Extract `th` and `tau` to NumPy arrays of the same name."
   ]
  },
  {
   "cell_type": "code",
   "execution_count": 2,
   "metadata": {
    "deletable": false,
    "nbgrader": {
     "cell_type": "code",
     "checksum": "f6856a09806376cb47182507210d5ffe",
     "grade": false,
     "grade_id": "cell-159d270ea071b93f",
     "locked": false,
     "schema_version": 3,
     "solution": true,
     "task": false
    }
   },
   "outputs": [],
   "source": [
    "# YOUR CODE HERE\n",
    "from scipy.io import loadmat as lm \n",
    "import numpy as np\n",
    "\n",
    "dataset = lm('assets/training_data.mat')\n",
    "tau = dataset['tau']\n",
    "th = dataset['th']"
   ]
  },
  {
   "cell_type": "code",
   "execution_count": 128,
   "metadata": {
    "deletable": false,
    "editable": false,
    "nbgrader": {
     "cell_type": "code",
     "checksum": "58a0120eb2a10aaf3f46ab729eca4503",
     "grade": true,
     "grade_id": "cell-fd2a9372d4afe943",
     "locked": true,
     "points": 1,
     "schema_version": 3,
     "solution": false,
     "task": false
    }
   },
   "outputs": [],
   "source": [
    "assert np.abs(th[0,0]-1.1299591748647653)<0.001\n",
    "assert np.abs(tau[0,100]-82.7710545117184)<0.001"
   ]
  },
  {
   "cell_type": "markdown",
   "metadata": {
    "deletable": false,
    "editable": false,
    "nbgrader": {
     "cell_type": "markdown",
     "checksum": "e415808ece9bc3317a25524b6cfc73d4",
     "grade": false,
     "grade_id": "cell-8a667cac0f607fd3",
     "locked": true,
     "schema_version": 3,
     "solution": false,
     "task": false
    }
   },
   "source": [
    "plot the joint angles of the first degree of freedom (over the samples)"
   ]
  },
  {
   "cell_type": "code",
   "execution_count": 236,
   "metadata": {
    "deletable": false,
    "nbgrader": {
     "cell_type": "code",
     "checksum": "6125618c10ed030ac30689596d5874e3",
     "grade": true,
     "grade_id": "cell-6e49bb28851d1b7f",
     "locked": false,
     "points": 0.25,
     "schema_version": 3,
     "solution": true,
     "task": false
    }
   },
   "outputs": [
    {
     "data": {
      "image/png": "[encoded data removed]",
      "text/plain": [
       "<Figure size 432x288 with 2 Axes>"
      ]
     },
     "metadata": {
      "needs_background": "light"
     },
     "output_type": "display_data"
    }
   ],
   "source": [
    "# YOUR CODE HERE\n",
    "import matplotlib.pyplot as plt\n",
    "time = np.linspace(0,10,334)\n",
    "\n",
    "plt.subplot(2,2,3)\n",
    "plt.plot(time,th[0])\n",
    "\n",
    "plt.subplot(2,2,4)\n",
    "plt.plot(time,th[1])\n",
    "\n",
    "plt.show()"
   ]
  },
  {
   "cell_type": "markdown",
   "metadata": {
    "deletable": false,
    "editable": false,
    "nbgrader": {
     "cell_type": "markdown",
     "checksum": "c5e4fc505ccdc70e9c666ee1f6784bea",
     "grade": false,
     "grade_id": "cell-6376eb6a59e311fd",
     "locked": true,
     "schema_version": 3,
     "solution": false,
     "task": false
    }
   },
   "source": [
    "and the torques of the first degree of freedom (over the samples)"
   ]
  },
  {
   "cell_type": "code",
   "execution_count": 138,
   "metadata": {
    "deletable": false,
    "nbgrader": {
     "cell_type": "code",
     "checksum": "aeedceb4a20236558177c9fa8f7cfc31",
     "grade": true,
     "grade_id": "cell-6ae4a5000dc8d4ca",
     "locked": false,
     "points": 0.25,
     "schema_version": 3,
     "solution": true,
     "task": false
    }
   },
   "outputs": [
    {
     "data": {
      "image/png": "[encoded data removed]",
      "text/plain": [
       "<Figure size 432x288 with 2 Axes>"
      ]
     },
     "metadata": {
      "needs_background": "light"
     },
     "output_type": "display_data"
    }
   ],
   "source": [
    "# YOUR CODE HERE\n",
    "\n",
    "plt.subplot(2,2,1)\n",
    "plt.plot(time,tau[0])\n",
    "\n",
    "plt.subplot(2,2,2)\n",
    "plt.plot(time,tau[1])\n",
    "\n",
    "plt.show()"
   ]
  },
  {
   "cell_type": "markdown",
   "metadata": {
    "deletable": false,
    "editable": false,
    "nbgrader": {
     "cell_type": "markdown",
     "checksum": "3f56f53a81df6b4ed14f1cbe66103f69",
     "grade": false,
     "grade_id": "cell-fa2439cb49df91bf",
     "locked": true,
     "schema_version": 3,
     "solution": false,
     "task": false
    }
   },
   "source": [
    "Now let's try applying Scikit-Learn blindly (following the example in Chapter 1). \n",
    "\n",
    "First we need to get the training data in the right format:\n",
    "Use the joint angles of the first degree of freedom for the inputs `X` and the torques of the first joint as outputs `y`."
   ]
  },
  {
   "cell_type": "code",
   "execution_count": 214,
   "metadata": {
    "deletable": false,
    "nbgrader": {
     "cell_type": "code",
     "checksum": "f77499760f2ff249295258b2257fe2da",
     "grade": false,
     "grade_id": "cell-f68a86b6a9538e86",
     "locked": false,
     "schema_version": 3,
     "solution": true,
     "task": false
    }
   },
   "outputs": [
    {
     "name": "stdout",
     "output_type": "stream",
     "text": [
      "(334, 1)\n"
     ]
    }
   ],
   "source": [
    "# YOUR CODE HERE\n",
    "X = th[0:1,:].T\n",
    "y = tau[0:1,:].T\n",
    "\n",
    "print(y.shape)"
   ]
  },
  {
   "cell_type": "code",
   "execution_count": 215,
   "metadata": {
    "deletable": false,
    "editable": false,
    "nbgrader": {
     "cell_type": "code",
     "checksum": "df39d122db9d6748b2a6da97f8337b9d",
     "grade": true,
     "grade_id": "cell-a4ab34022d90d5a0",
     "locked": true,
     "points": 0.25,
     "schema_version": 3,
     "solution": false,
     "task": false
    }
   },
   "outputs": [],
   "source": [
    "assert isinstance(X,np.ndarray)\n",
    "assert X.shape==(334, 1)"
   ]
  },
  {
   "cell_type": "markdown",
   "metadata": {
    "deletable": false,
    "editable": false,
    "nbgrader": {
     "cell_type": "markdown",
     "checksum": "4ba32e2cce61682164e3fc1a867a432a",
     "grade": false,
     "grade_id": "cell-d8eabe39eb3f8307",
     "locked": true,
     "schema_version": 3,
     "solution": false,
     "task": false
    }
   },
   "source": [
    "train a linear regression model using `sklearn`\n",
    "See the documentation: https://scikit-learn.org/stable/modules/generated/sklearn.linear_model.LinearRegression.html"
   ]
  },
  {
   "cell_type": "code",
   "execution_count": 216,
   "metadata": {
    "deletable": false,
    "nbgrader": {
     "cell_type": "code",
     "checksum": "17a7fc1c3e0f15c8a3a0b043c597648a",
     "grade": false,
     "grade_id": "cell-9e924f6e6fc1b74f",
     "locked": false,
     "schema_version": 3,
     "solution": true,
     "task": false
    }
   },
   "outputs": [
    {
     "data": {
      "text/plain": [
       "[<matplotlib.lines.Line2D at 0x24c0d16a6c8>]"
      ]
     },
     "execution_count": 216,
     "metadata": {},
     "output_type": "execute_result"
    },
    {
     "data": {
      "image/png": "[encoded data removed]",
      "text/plain": [
       "<Figure size 432x288 with 1 Axes>"
      ]
     },
     "metadata": {
      "needs_background": "light"
     },
     "output_type": "display_data"
    }
   ],
   "source": [
    "# YOUR CODE HERE\n",
    "import sklearn\n",
    "from sklearn import linear_model \n",
    "\n",
    "model_lin = linear_model.LinearRegression().fit(X,y)\n",
    "\n",
    "ypredict = model_lin.predict(X)\n",
    "\n",
    "plt.plot(X,y)"
   ]
  },
  {
   "cell_type": "code",
   "execution_count": 217,
   "metadata": {
    "deletable": false,
    "editable": false,
    "nbgrader": {
     "cell_type": "code",
     "checksum": "91cae77b7444bf0b535491c871cb06fa",
     "grade": true,
     "grade_id": "cell-61cc24f2fc86b5fc",
     "locked": true,
     "points": 0,
     "schema_version": 3,
     "solution": false,
     "task": false
    }
   },
   "outputs": [],
   "source": [
    "assert type(model_lin) == sklearn.linear_model.LinearRegression"
   ]
  },
  {
   "cell_type": "markdown",
   "metadata": {
    "deletable": false,
    "editable": false,
    "nbgrader": {
     "cell_type": "markdown",
     "checksum": "399d89aa01354978ea3630bd8fa142c6",
     "grade": false,
     "grade_id": "cell-3adcdf66a45f886a",
     "locked": true,
     "schema_version": 3,
     "solution": false,
     "task": false
    }
   },
   "source": [
    "Calculate the RMSE using the funtion you created above and assign it to the variable `rmse_lin`"
   ]
  },
  {
   "cell_type": "code",
   "execution_count": 225,
   "metadata": {
    "deletable": false,
    "nbgrader": {
     "cell_type": "code",
     "checksum": "da3ad04184b01d11c13e847b5038dc84",
     "grade": false,
     "grade_id": "cell-949dd64cdaeb049e",
     "locked": false,
     "schema_version": 3,
     "solution": true,
     "task": false
    }
   },
   "outputs": [
    {
     "name": "stdout",
     "output_type": "stream",
     "text": [
      "139.08026218037347\n"
     ]
    }
   ],
   "source": [
    "# YOUR CODE HERE\n",
    "print(rmse(y, ypredict))"
   ]
  },
  {
   "cell_type": "code",
   "execution_count": null,
   "metadata": {
    "deletable": false,
    "editable": false,
    "nbgrader": {
     "cell_type": "code",
     "checksum": "021225df075fc23aaec0d665771d3d1a",
     "grade": true,
     "grade_id": "cell-2df19e03a3834c68",
     "locked": true,
     "points": 0.25,
     "schema_version": 3,
     "solution": false,
     "task": false
    }
   },
   "outputs": [],
   "source": []
  },
  {
   "cell_type": "markdown",
   "metadata": {
    "deletable": false,
    "editable": false,
    "nbgrader": {
     "cell_type": "markdown",
     "checksum": "a0b74930ea4a416c441181abd07e8edb",
     "grade": false,
     "grade_id": "cell-8de744bfaa4ace02",
     "locked": true,
     "schema_version": 3,
     "solution": false,
     "task": false
    }
   },
   "source": [
    "Now let's do the same thing with a k NearestNeighbor Model (use k=3, and store the RMSE in `rmse_knn`)"
   ]
  },
  {
   "cell_type": "code",
   "execution_count": 226,
   "metadata": {
    "deletable": false,
    "nbgrader": {
     "cell_type": "code",
     "checksum": "3e77c8f100e1c19e742a202c004e26e1",
     "grade": false,
     "grade_id": "cell-bff757f0700fc6ca",
     "locked": false,
     "schema_version": 3,
     "solution": true,
     "task": false
    }
   },
   "outputs": [
    {
     "name": "stdout",
     "output_type": "stream",
     "text": [
      "3587.554608700027\n"
     ]
    },
    {
     "name": "stderr",
     "output_type": "stream",
     "text": [
      "C:\\Users\\31642\\anaconda3\\envs\\tf2\\lib\\site-packages\\sklearn\\neighbors\\_classification.py:179: DataConversionWarning: A column-vector y was passed when a 1d array was expected. Please change the shape of y to (n_samples,), for example using ravel().\n",
      "  return self._fit(X, y)\n"
     ]
    }
   ],
   "source": [
    "# YOUR CODE HERE\n",
    "from sklearn.neighbors import KNeighborsClassifier\n",
    "#X = th[1,:].T\n",
    "#y = tau[1,:].T\n",
    "\n",
    "model_knn = KNeighborsClassifier(n_neighbors = 3).fit(X.astype(int),y.astype(int))\n",
    "ypredictknn = model_knn.predict(X.astype(int))\n",
    "\n",
    "rmse_knn = rmse(y,ypredictknn)\n",
    "\n",
    "print(rmse_knn)"
   ]
  },
  {
   "cell_type": "code",
   "execution_count": null,
   "metadata": {
    "deletable": false,
    "editable": false,
    "nbgrader": {
     "cell_type": "code",
     "checksum": "fbd3418b4743fe92164dc126906ff8d4",
     "grade": true,
     "grade_id": "cell-25045b511b2def79",
     "locked": true,
     "points": 0.5,
     "schema_version": 3,
     "solution": false,
     "task": false
    }
   },
   "outputs": [],
   "source": []
  },
  {
   "cell_type": "markdown",
   "metadata": {
    "deletable": false,
    "editable": false,
    "nbgrader": {
     "cell_type": "markdown",
     "checksum": "977f59c3c8bbb12f4ddbc413b07a57b6",
     "grade": false,
     "grade_id": "cell-828a57b4e5bc2fa1",
     "locked": true,
     "schema_version": 3,
     "solution": false,
     "task": false
    }
   },
   "source": [
    "Plot `y` as a function of `X`, as well as the corresponding predictions of the linear and kNN model."
   ]
  },
  {
   "cell_type": "code",
   "execution_count": 220,
   "metadata": {
    "deletable": false,
    "nbgrader": {
     "cell_type": "code",
     "checksum": "fd6e8b37e8dc30e041879e57aaa7a73b",
     "grade": true,
     "grade_id": "cell-09e2b66ceaa76f0a",
     "locked": false,
     "points": 0.5,
     "schema_version": 3,
     "solution": true,
     "task": false
    }
   },
   "outputs": [
    {
     "data": {
      "text/plain": [
       "<function matplotlib.pyplot.show(close=None, block=None)>"
      ]
     },
     "execution_count": 220,
     "metadata": {},
     "output_type": "execute_result"
    },
    {
     "data": {
      "image/png": "[encoded data removed]",
      "text/plain": [
       "<Figure size 432x288 with 3 Axes>"
      ]
     },
     "metadata": {
      "needs_background": "light"
     },
     "output_type": "display_data"
    }
   ],
   "source": [
    "# YOUR CODE HERE\n",
    "plt.subplot(2,2,1)\n",
    "plt.plot(X,y)\n",
    "\n",
    "plt.subplot(2,2,3)\n",
    "plt.plot(X,ypredict)\n",
    "\n",
    "plt.subplot(2,2,4)\n",
    "plt.plot(X,ypredictknn)\n",
    "\n",
    "\n",
    "\n",
    "plt.show"
   ]
  },
  {
   "cell_type": "markdown",
   "metadata": {
    "deletable": false,
    "editable": false,
    "nbgrader": {
     "cell_type": "markdown",
     "checksum": "c93ab46cad4069900824a9cf2673adba",
     "grade": false,
     "grade_id": "cell-6d9404ea9c9e092e",
     "locked": true,
     "schema_version": 3,
     "solution": false,
     "task": false
    }
   },
   "source": [
    "Linear regression performs really badly. Give reasons (based on the above plot)."
   ]
  },
  {
   "cell_type": "markdown",
   "metadata": {
    "deletable": false,
    "nbgrader": {
     "cell_type": "markdown",
     "checksum": "ee4665464d6d40613930b6317b46ba1b",
     "grade": true,
     "grade_id": "cell-f919de05985c469f",
     "locked": false,
     "points": 1,
     "schema_version": 3,
     "solution": true,
     "task": false
    }
   },
   "source": [
    "YOUR ANSWER HERE"
   ]
  },
  {
   "cell_type": "code",
   "execution_count": 204,
   "metadata": {
    "deletable": false,
    "nbgrader": {
     "cell_type": "code",
     "checksum": "3440b50456ada9b2ec742fc19a079f50",
     "grade": false,
     "grade_id": "cell-29abc72fae94bb51",
     "locked": false,
     "schema_version": 3,
     "solution": true,
     "task": false
    }
   },
   "outputs": [],
   "source": [
    "# YOUR CODE HERE\n",
    "#Because the relation between angle and torque seem not to be linear but sinosodial"
   ]
  },
  {
   "cell_type": "markdown",
   "metadata": {
    "deletable": false,
    "editable": false,
    "nbgrader": {
     "cell_type": "markdown",
     "checksum": "ffa4050a5083fefd8b2db4034abe5d5f",
     "grade": false,
     "grade_id": "cell-4ec7d6e784d99d3c",
     "locked": true,
     "schema_version": 3,
     "solution": false,
     "task": false
    }
   },
   "source": [
    "As we'll discuss in the next lectures, feature engineering is often crucial in machine learning. If you look at the plot above, you'll notice that is resembels a cosine. Using this insight, transform the input `X` before training a linear regression model. You should get the RMSE down to about 17.4"
   ]
  },
  {
   "cell_type": "code",
   "execution_count": 271,
   "metadata": {
    "deletable": false,
    "nbgrader": {
     "cell_type": "code",
     "checksum": "e9462832d87214dedf5096786487ebc4",
     "grade": false,
     "grade_id": "cell-dc2ffb793cccd481",
     "locked": false,
     "schema_version": 3,
     "solution": true,
     "task": false
    }
   },
   "outputs": [
    {
     "name": "stdout",
     "output_type": "stream",
     "text": [
      "25.59081701709362\n"
     ]
    },
    {
     "data": {
      "image/png": "[encoded data removed]",
      "text/plain": [
       "<Figure size 432x288 with 1 Axes>"
      ]
     },
     "metadata": {
      "needs_background": "light"
     },
     "output_type": "display_data"
    }
   ],
   "source": [
    "# YOUR CODE HERE\n",
    "\n",
    "def rmsee(y, y_hat):\n",
    "# YOUR CODE HERE\n",
    "    x = 0\n",
    "    if len(y) == len(y_hat):\n",
    "        x = (np.sum((y_hat - y)**2/len(y)))**0.5\n",
    "    return x\n",
    "\n",
    "X1 = X[0:30]\n",
    "y1 = y[0:30]\n",
    "\n",
    "model_lin_eng = model_lin = linear_model.LinearRegression().fit(X1,y1)\n",
    "ypredict2 = model_lin_eng.predict(X1)\n",
    "\n",
    "\n",
    "print(rmsee(y1,ypredict2))\n",
    "\n",
    "plt.subplot(2,1,1)\n",
    "plt.plot(X1,ypredict2)\n",
    "plt.plot(X[1:30],y[1:30])\n",
    "\n",
    "plt.plot()\n",
    "\n",
    "plt.show()\n",
    "\n"
   ]
  },
  {
   "cell_type": "code",
   "execution_count": 269,
   "metadata": {
    "deletable": false,
    "editable": false,
    "nbgrader": {
     "cell_type": "code",
     "checksum": "a3434cecbe052cc16a4e07bcb858c7ee",
     "grade": true,
     "grade_id": "cell-9924b5b58a6e4163",
     "locked": true,
     "points": 1,
     "schema_version": 3,
     "solution": false,
     "task": false
    }
   },
   "outputs": [],
   "source": [
    "assert type(model_lin_eng) == sklearn.linear_model.LinearRegression"
   ]
  },
  {
   "cell_type": "markdown",
   "metadata": {
    "deletable": false,
    "editable": false,
    "nbgrader": {
     "cell_type": "markdown",
     "checksum": "a48a53e2e96b162c87a51a13a42b5f65",
     "grade": false,
     "grade_id": "cell-5e170b289dced727",
     "locked": true,
     "schema_version": 3,
     "solution": false,
     "task": false
    }
   },
   "source": [
    "This notebook is inspired by <em>Python Numpy [Tutorial](https://cs231n.github.io/python-numpy-tutorial/)</em>."
   ]
  },
  {
   "cell_type": "code",
   "execution_count": null,
   "metadata": {},
   "outputs": [],
   "source": []
  }
 ],
 "metadata": {
  "kernelspec": {
   "display_name": "Python 3",
   "language": "python",
   "name": "python3"
  },
  "language_info": {
   "codemirror_mode": {
    "name": "ipython",
    "version": 3
   },
   "file_extension": ".py",
   "mimetype": "text/x-python",
   "name": "python",
   "nbconvert_exporter": "python",
   "pygments_lexer": "ipython3",
   "version": "3.7.10"
  }
 },
 "nbformat": 4,
 "nbformat_minor": 4
}
