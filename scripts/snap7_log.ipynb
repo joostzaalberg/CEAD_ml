{
 "cells": [
  {
   "cell_type": "code",
   "execution_count": 52,
   "id": "22e4329d-910c-4e37-a345-38a589129ac7",
   "metadata": {},
   "outputs": [
    {
     "name": "stdout",
     "output_type": "stream",
     "text": [
      "imports succesful\n"
     ]
    }
   ],
   "source": [
    "# imports\n",
    "# system related\n",
    "import sys\n",
    "import subprocess\n",
    "from os import path\n",
    "\n",
    "# basics\n",
    "import numpy as np\n",
    "import matplotlib\n",
    "import matplotlib.pyplot as plt\n",
    "import pandas as pd\n",
    "from time import time\n",
    "import datetime\n",
    "from time import sleep\n",
    "\n",
    "# snap7 and logging\n",
    "import snap7 as s7\n",
    "import csv\n",
    "\n",
    "\n",
    "\n",
    "print('imports succesful')"
   ]
  },
  {
   "cell_type": "markdown",
   "id": "5bbc1840-8d47-4820-a573-5fcd98272215",
   "metadata": {},
   "source": [
    "## Connecting to plc"
   ]
  },
  {
   "cell_type": "code",
   "execution_count": 53,
   "id": "2ae03a97-bd5a-4da9-877c-85d6d3d5fd17",
   "metadata": {},
   "outputs": [
    {
     "name": "stdout",
     "output_type": "stream",
     "text": [
      "connection status: True\n"
     ]
    }
   ],
   "source": [
    "# connecting to plc\n",
    "\n",
    "plc = s7.client.Client()\n",
    "plc.connect('192.168.0.19', 0, 1, )  # ip, rack, slot\n",
    "\n",
    "print(f'connection status: {plc.get_connected()}')"
   ]
  },
  {
   "cell_type": "markdown",
   "id": "9b1e88d3-aa15-475b-bc06-18632e8fec61",
   "metadata": {},
   "source": [
    "## Defining get & set functions for plc variables"
   ]
  },
  {
   "cell_type": "code",
   "execution_count": 54,
   "id": "97808aef-688a-4cf3-bbf0-f5bfc9423e7f",
   "metadata": {},
   "outputs": [],
   "source": [
    "# Defining read/write functions\n",
    "\n",
    "def get_bool(db_number, start_offset, bit_offset=0):\n",
    "    data = plc.db_read(db_number, start_offset, 1) # read 1 bite\n",
    "    value = s7.util.get_bool(data, 0, bit_offset)\n",
    "    # print(f'db number: {db_number}, bit: {start_offset}, has boolean value: {value}')\n",
    "    return value\n",
    "    \n",
    "def set_bool(db_number, start_offset, value, bit_offset=0):\n",
    "    data = plc.db_read(db_number, start_offset, 1) # read 1 bite\n",
    "    s7.util.set_bool(data, 0, bit_offset, value)\n",
    "    plc.db_write(db_number, start_offset, data)\n",
    "    return None\n",
    "\n",
    "\n",
    "def get_real(db_number, start_offset):\n",
    "    data =  plc.db_read(db_number, start_offset, 4) # read 4 bites\n",
    "    real = s7.util.get_real(data, 0)\n",
    "    return real\n",
    "\n",
    "def set_real(db_number, start_offset, value):\n",
    "    data =  plc.db_read(db_number, start_offset, 4) # read 4 bites\n",
    "    s7.util.set_real(data, 0, value)\n",
    "    plc.db_write(db_number, start_offset, data)\n",
    "    return None\n",
    "\n",
    "\n",
    "\n",
    "    \n"
   ]
  },
  {
   "cell_type": "code",
   "execution_count": null,
   "id": "1b9dfbcd-852b-44d0-aa00-87c258c0efc7",
   "metadata": {},
   "outputs": [],
   "source": []
  },
  {
   "cell_type": "markdown",
   "id": "bca3b991-d391-4f0b-8dbd-b2d3aa82c121",
   "metadata": {},
   "source": [
    "# start make datalog function for ixon db"
   ]
  },
  {
   "cell_type": "code",
   "execution_count": 59,
   "id": "1e05b5bc-72f4-42b9-938a-e6f73f51dd96",
   "metadata": {},
   "outputs": [
    {
     "name": "stdout",
     "output_type": "stream",
     "text": [
      ".csv file created\n",
      "log sequence initialized\n",
      "logging has started\n",
      "logging ended by keystroke. Thank you for choosing YoussefLog services.\n"
     ]
    }
   ],
   "source": [
    "\n",
    "def log_loop(csvfile):\n",
    "    # whole_start = datetime.datetime.now()\n",
    "        \n",
    "    # defining constants\n",
    "    # db number\n",
    "    db_log = 33\n",
    "    \n",
    "    # start offsets\n",
    "    log_so_width  = 0\n",
    "    log_so_rpm    = 4\n",
    "    log_so_rpm_sp = 8\n",
    "    log_so_torque = 12\n",
    "    log_so_hz1    = 16\n",
    "    log_so_hz1_sp = 20\n",
    "    log_so_hz2    = 24\n",
    "    log_so_hz2_sp = 28\n",
    "    log_so_hz3    = 32\n",
    "    log_so_hz3_sp = 36\n",
    "    log_so_hz4    = 40\n",
    "    log_so_hz4_sp = 44\n",
    "    \n",
    "    cols = ['width', 'rpm', 'rpm_sp', 'torque', 'hz1', 'hz1_sp', 'hz2', 'hz2_sp', 'hz3', 'hz3_sp', 'hz4', 'hz4_sp']\n",
    "\n",
    "    dt = 0.050  # 50 ms = 20 times / s\n",
    "    new_log_time = np.ceil(time())\n",
    "    \n",
    "    # write headers to the .csv file\n",
    "    csv_writer = csv.writer(csvfile)\n",
    "    csv_writer.writerow(['time'] + cols)\n",
    "    \n",
    "    print('log sequence initialized')\n",
    "\n",
    "    try:\n",
    "        print('logging has started')\n",
    "        while True:\n",
    "            \n",
    "            # waiting untill enough time has elapst\n",
    "            while time() < new_log_time:\n",
    "                pass\n",
    "            # adjust time to next one to log to\n",
    "            new_log_time = np.round(new_log_time + dt, 5)\n",
    "            \n",
    "            # read DB\n",
    "            data =  plc.db_read(db_log, 0, 48)\n",
    "            \n",
    "            # converting bytes to reals\n",
    "            vals = [new_log_time]\n",
    "            for i, name in enumerate( cols):\n",
    "                val = s7.util.get_real(data, 4*i)\n",
    "                vals.append(val)\n",
    "            \n",
    "            # write to .csv file\n",
    "            csv_writer.writerow(vals)\n",
    "            csvfile.flush()   ####### important, write while loop is running!!\n",
    "            \n",
    "    except KeyboardInterrupt:\n",
    "        print(f'logging ended by keystroke. Thank you for choosing YoussefLog services.') \n",
    "\n",
    "name = f'../data/petg30gs-up_down-{datetime.date.today()}'  #### CHANGE TO DATA FOLDER\n",
    "if path.isfile(name+'.csv'): \n",
    "    for i in range(1, 100):\n",
    "        if not path.isfile(name + f'({i}).csv'):\n",
    "            name = name + f'({i})'\n",
    "            break\n",
    "    \n",
    "with open(name + '.csv', 'w') as csvfile:\n",
    "    print(f'.csv file created')\n",
    "    log_loop(csvfile)"
   ]
  },
  {
   "cell_type": "markdown",
   "id": "00d3b3dd-2ac7-4028-ac7f-6ee07efe5fd0",
   "metadata": {},
   "source": [
    "### another way of unpacking a database data (Thijs)"
   ]
  },
  {
   "cell_type": "code",
   "execution_count": 43,
   "id": "a1b97cc4-53cc-460a-8a4f-e7752809c648",
   "metadata": {},
   "outputs": [],
   "source": [
    "import struct\n",
    "# struct.unpack(\"b\",plc.db_read(db_number, 2, 1)) "
   ]
  },
  {
   "cell_type": "code",
   "execution_count": 32,
   "id": "e1309c52-374e-4533-8d7d-9c75effc7f3e",
   "metadata": {},
   "outputs": [
    {
     "name": "stderr",
     "output_type": "stream",
     "text": [
      "b'CPU : Address out of range'\n"
     ]
    },
    {
     "ename": "RuntimeError",
     "evalue": "b'CPU : Address out of range'",
     "output_type": "error",
     "traceback": [
      "\u001b[1;31m---------------------------------------------------------------------------\u001b[0m",
      "\u001b[1;31mRuntimeError\u001b[0m                              Traceback (most recent call last)",
      "File \u001b[1;32m<timed exec>:2\u001b[0m\n",
      "File \u001b[1;32m~\\AppData\\Roaming\\Python\\Python310\\site-packages\\snap7\\client.py:226\u001b[0m, in \u001b[0;36mClient.db_read\u001b[1;34m(self, db_number, start, size)\u001b[0m\n\u001b[0;32m    222\u001b[0m data \u001b[38;5;241m=\u001b[39m (type_ \u001b[38;5;241m*\u001b[39m size)()\n\u001b[0;32m    223\u001b[0m result \u001b[38;5;241m=\u001b[39m (\u001b[38;5;28mself\u001b[39m\u001b[38;5;241m.\u001b[39m_library\u001b[38;5;241m.\u001b[39mCli_DBRead(\n\u001b[0;32m    224\u001b[0m     \u001b[38;5;28mself\u001b[39m\u001b[38;5;241m.\u001b[39m_pointer, db_number, start, size,\n\u001b[0;32m    225\u001b[0m     byref(data)))\n\u001b[1;32m--> 226\u001b[0m \u001b[43mcheck_error\u001b[49m\u001b[43m(\u001b[49m\u001b[43mresult\u001b[49m\u001b[43m,\u001b[49m\u001b[43m \u001b[49m\u001b[43mcontext\u001b[49m\u001b[38;5;241;43m=\u001b[39;49m\u001b[38;5;124;43m\"\u001b[39;49m\u001b[38;5;124;43mclient\u001b[39;49m\u001b[38;5;124;43m\"\u001b[39;49m\u001b[43m)\u001b[49m\n\u001b[0;32m    227\u001b[0m \u001b[38;5;28;01mreturn\u001b[39;00m \u001b[38;5;28mbytearray\u001b[39m(data)\n",
      "File \u001b[1;32m~\\AppData\\Roaming\\Python\\Python310\\site-packages\\snap7\\common.py:89\u001b[0m, in \u001b[0;36mcheck_error\u001b[1;34m(code, context)\u001b[0m\n\u001b[0;32m     87\u001b[0m error \u001b[38;5;241m=\u001b[39m error_text(code, context)\n\u001b[0;32m     88\u001b[0m logger\u001b[38;5;241m.\u001b[39merror(error)\n\u001b[1;32m---> 89\u001b[0m \u001b[38;5;28;01mraise\u001b[39;00m \u001b[38;5;167;01mRuntimeError\u001b[39;00m(error)\n",
      "\u001b[1;31mRuntimeError\u001b[0m: b'CPU : Address out of range'"
     ]
    }
   ],
   "source": [
    "%%time\n",
    "for i in  range(1000):\n",
    "    plc.db_read(33, 0, 48)"
   ]
  },
  {
   "cell_type": "code",
   "execution_count": 26,
   "id": "208b8077-e9b7-4093-b358-95be238f747e",
   "metadata": {},
   "outputs": [
    {
     "name": "stdout",
     "output_type": "stream",
     "text": [
      "12.3 ns ± 1.38 ns per loop (mean ± std. dev. of 7 runs, 100,000,000 loops each)\n"
     ]
    }
   ],
   "source": []
  },
  {
   "cell_type": "code",
   "execution_count": 27,
   "id": "6bf7b74f-06c4-4b1b-80ef-5d25320f5978",
   "metadata": {},
   "outputs": [
    {
     "name": "stdout",
     "output_type": "stream",
     "text": [
      "CPU times: total: 0 ns\n",
      "Wall time: 0 ns\n"
     ]
    },
    {
     "data": {
      "text/plain": [
       "2"
      ]
     },
     "execution_count": 27,
     "metadata": {},
     "output_type": "execute_result"
    }
   ],
   "source": []
  },
  {
   "cell_type": "code",
   "execution_count": 46,
   "id": "4a04c6be-903a-43d9-9898-83d3909458d9",
   "metadata": {},
   "outputs": [
    {
     "name": "stdout",
     "output_type": "stream",
     "text": [
      "CPU times: total: 0 ns\n",
      "Wall time: 0 ns\n"
     ]
    },
    {
     "data": {
      "text/plain": [
       "1667382946.0825675"
      ]
     },
     "execution_count": 46,
     "metadata": {},
     "output_type": "execute_result"
    }
   ],
   "source": [
    "%%time\n",
    "time()"
   ]
  },
  {
   "cell_type": "code",
   "execution_count": 39,
   "id": "1e526428-1910-4c99-bce6-ebb50ed51d14",
   "metadata": {},
   "outputs": [
    {
     "data": {
      "text/plain": [
       "0.010970830917358398"
      ]
     },
     "execution_count": 39,
     "metadata": {},
     "output_type": "execute_result"
    }
   ],
   "source": []
  },
  {
   "cell_type": "code",
   "execution_count": null,
   "id": "58d51931-4780-4e7f-bc6d-748940477132",
   "metadata": {},
   "outputs": [],
   "source": []
  }
 ],
 "metadata": {
  "kernelspec": {
   "display_name": "Python 3 (ipykernel)",
   "language": "python",
   "name": "python3"
  },
  "language_info": {
   "codemirror_mode": {
    "name": "ipython",
    "version": 3
   },
   "file_extension": ".py",
   "mimetype": "text/x-python",
   "name": "python",
   "nbconvert_exporter": "python",
   "pygments_lexer": "ipython3",
   "version": "3.10.6"
  }
 },
 "nbformat": 4,
 "nbformat_minor": 5
}
