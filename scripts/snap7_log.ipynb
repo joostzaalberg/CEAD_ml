{
 "cells": [
  {
   "cell_type": "code",
   "execution_count": 55,
   "id": "22e4329d-910c-4e37-a345-38a589129ac7",
   "metadata": {},
   "outputs": [
    {
     "name": "stdout",
     "output_type": "stream",
     "text": [
      "imports succesful\n"
     ]
    }
   ],
   "source": [
    "# imports\n",
    "# system related\n",
    "import sys\n",
    "import subprocess\n",
    "from os import path\n",
    "\n",
    "# basics\n",
    "import numpy as np\n",
    "import matplotlib\n",
    "import matplotlib.pyplot as plt\n",
    "import pandas as pd\n",
    "import datetime\n",
    "\n",
    "# snap7 and logging\n",
    "import snap7 as s7\n",
    "import csv\n",
    "\n",
    "\n",
    "\n",
    "print('imports succesful')"
   ]
  },
  {
   "cell_type": "markdown",
   "id": "5bbc1840-8d47-4820-a573-5fcd98272215",
   "metadata": {},
   "source": [
    "## Connecting to plc"
   ]
  },
  {
   "cell_type": "code",
   "execution_count": 42,
   "id": "2ae03a97-bd5a-4da9-877c-85d6d3d5fd17",
   "metadata": {},
   "outputs": [
    {
     "name": "stdout",
     "output_type": "stream",
     "text": [
      "connection status: True\n"
     ]
    }
   ],
   "source": [
    "# connecting to plc\n",
    "\n",
    "plc = s7.client.Client()\n",
    "plc.connect('192.168.0.19', 0, 1, )  # ip, rack, slot\n",
    "\n",
    "print(f'connection status: {plc.get_connected()}')"
   ]
  },
  {
   "cell_type": "markdown",
   "id": "9b1e88d3-aa15-475b-bc06-18632e8fec61",
   "metadata": {},
   "source": [
    "## Defining get & set functions for plc variables"
   ]
  },
  {
   "cell_type": "code",
   "execution_count": 43,
   "id": "97808aef-688a-4cf3-bbf0-f5bfc9423e7f",
   "metadata": {},
   "outputs": [],
   "source": [
    "# Defining read/write functions\n",
    "\n",
    "def get_bool(db_number, start_offset, bit_offset=0):\n",
    "    data = plc.db_read(db_number, start_offset, 1) # read 1 bite\n",
    "    value = s7.util.get_bool(data, 0, bit_offset)\n",
    "    # print(f'db number: {db_number}, bit: {start_offset}, has boolean value: {value}')\n",
    "    return value\n",
    "    \n",
    "def set_bool(db_number, start_offset, value, bit_offset=0):\n",
    "    data = plc.db_read(db_number, start_offset, 1) # read 1 bite\n",
    "    s7.util.set_bool(data, 0, bit_offset, value)\n",
    "    plc.db_write(db_number, start_offset, data)\n",
    "    return None\n",
    "\n",
    "\n",
    "def get_real(db_number, start_offset):\n",
    "    data =  plc.db_read(db_number, start_offset, 4) # read 4 bites\n",
    "    real = s7.util.get_real(data, 0)\n",
    "    return real\n",
    "\n",
    "def set_real(db_number, start_offset, value):\n",
    "    data =  plc.db_read(db_number, start_offset, 4) # read 4 bites\n",
    "    s7.util.set_real(data, 0, value)\n",
    "    plc.db_write(db_number, start_offset, data)\n",
    "    return None\n",
    "\n",
    "\n",
    "\n",
    "    \n"
   ]
  },
  {
   "cell_type": "code",
   "execution_count": null,
   "id": "1b9dfbcd-852b-44d0-aa00-87c258c0efc7",
   "metadata": {},
   "outputs": [],
   "source": []
  },
  {
   "cell_type": "markdown",
   "id": "bca3b991-d391-4f0b-8dbd-b2d3aa82c121",
   "metadata": {},
   "source": [
    "# start make datalog function for ixon db"
   ]
  },
  {
   "cell_type": "code",
   "execution_count": 65,
   "id": "1e05b5bc-72f4-42b9-938a-e6f73f51dd96",
   "metadata": {},
   "outputs": [
    {
     "name": "stdout",
     "output_type": "stream",
     "text": [
      "/nloop_dt is:  0:00:00.683172\n",
      "datetime is:  2022-11-01 19:21:05.108079\n",
      "/nloop_dt is:  0:00:00.102810\n",
      "datetime is:  2022-11-01 19:21:05.210889\n",
      "/nloop_dt is:  0:00:00.099770\n",
      "datetime is:  2022-11-01 19:21:05.310659\n",
      "/nloop_dt is:  0:00:00.105717\n",
      "datetime is:  2022-11-01 19:21:05.416376\n",
      "/nloop_dt is:  0:00:00.093752\n",
      "datetime is:  2022-11-01 19:21:05.510128\n",
      "/nloop_dt is:  0:00:00.110775\n",
      "datetime is:  2022-11-01 19:21:05.620903\n",
      "/nloop_dt is:  0:00:00.098736\n",
      "datetime is:  2022-11-01 19:21:05.719639\n",
      "/nloop_dt is:  0:00:00.090757\n",
      "datetime is:  2022-11-01 19:21:05.810396\n",
      "/nloop_dt is:  0:00:00.099733\n",
      "datetime is:  2022-11-01 19:21:05.910129\n",
      "/nloop_dt is:  0:00:00.098777\n",
      "datetime is:  2022-11-01 19:21:06.008906\n",
      "/nloop_dt is:  0:00:00.101786\n",
      "datetime is:  2022-11-01 19:21:06.110692\n",
      "/nloop_dt is:  0:00:00.103746\n",
      "datetime is:  2022-11-01 19:21:06.214438\n",
      "/nloop_dt is:  0:00:00.093893\n",
      "datetime is:  2022-11-01 19:21:06.308331\n",
      "/nloop_dt is:  0:00:00.101738\n",
      "datetime is:  2022-11-01 19:21:06.410069\n",
      "/nloop_dt is:  0:00:00.108756\n",
      "datetime is:  2022-11-01 19:21:06.518825\n",
      "/nloop_dt is:  0:00:00.099772\n",
      "datetime is:  2022-11-01 19:21:06.618597\n",
      "/nloop_dt is:  0:00:00.089774\n",
      "datetime is:  2022-11-01 19:21:06.708371\n",
      "/nloop_dt is:  0:00:00.097725\n",
      "datetime is:  2022-11-01 19:21:06.806096\n",
      "/nloop_dt is:  0:00:00.102725\n",
      "datetime is:  2022-11-01 19:21:06.908821\n",
      "/nloop_dt is:  0:00:00.099733\n",
      "datetime is:  2022-11-01 19:21:07.008554\n",
      "/nloop_dt is:  0:00:00.100743\n",
      "datetime is:  2022-11-01 19:21:07.109297\n",
      "/nloop_dt is:  0:00:00.102713\n",
      "datetime is:  2022-11-01 19:21:07.212010\n",
      "/nloop_dt is:  0:00:00.096785\n",
      "datetime is:  2022-11-01 19:21:07.308795\n",
      "/nloop_dt is:  0:00:00.099734\n",
      "datetime is:  2022-11-01 19:21:07.408529\n",
      "/nloop_dt is:  0:00:00.107804\n",
      "datetime is:  2022-11-01 19:21:07.516333\n",
      "/nloop_dt is:  0:00:00.103723\n",
      "datetime is:  2022-11-01 19:21:07.620056\n",
      "/nloop_dt is:  0:00:00.092752\n",
      "datetime is:  2022-11-01 19:21:07.712808\n",
      "/nloop_dt is:  0:00:00.095759\n",
      "datetime is:  2022-11-01 19:21:07.808567\n",
      "/nloop_dt is:  0:00:00.101762\n",
      "datetime is:  2022-11-01 19:21:07.910329\n",
      "/nloop_dt is:  0:00:00.102691\n",
      "datetime is:  2022-11-01 19:21:08.013020\n",
      "/nloop_dt is:  0:00:00.103773\n",
      "datetime is:  2022-11-01 19:21:08.116793\n"
     ]
    },
    {
     "ename": "KeyboardInterrupt",
     "evalue": "",
     "output_type": "error",
     "traceback": [
      "\u001b[1;31m---------------------------------------------------------------------------\u001b[0m",
      "\u001b[1;31mKeyboardInterrupt\u001b[0m                         Traceback (most recent call last)",
      "Cell \u001b[1;32mIn [65], line 72\u001b[0m\n\u001b[0;32m     69\u001b[0m             \u001b[38;5;28;01mbreak\u001b[39;00m\n\u001b[0;32m     71\u001b[0m \u001b[38;5;28;01mwith\u001b[39;00m \u001b[38;5;28mopen\u001b[39m(name, \u001b[38;5;124m'\u001b[39m\u001b[38;5;124mw\u001b[39m\u001b[38;5;124m'\u001b[39m) \u001b[38;5;28;01mas\u001b[39;00m csvfile:\n\u001b[1;32m---> 72\u001b[0m     \u001b[43mlog_loop\u001b[49m\u001b[43m(\u001b[49m\u001b[43mcsvfile\u001b[49m\u001b[43m)\u001b[49m\n",
      "Cell \u001b[1;32mIn [65], line 40\u001b[0m, in \u001b[0;36mlog_loop\u001b[1;34m(csvfile)\u001b[0m\n\u001b[0;32m     35\u001b[0m new_log_time \u001b[38;5;241m=\u001b[39m new_log_time \u001b[38;5;241m+\u001b[39m dt\n\u001b[0;32m     37\u001b[0m \u001b[38;5;66;03m# print(f'                                          log time is: {new_log_time}')\u001b[39;00m\n\u001b[0;32m     38\u001b[0m \u001b[38;5;66;03m# print(f'wait time is {new_log_time  - datetime.datetime.now()}')\u001b[39;00m\n\u001b[1;32m---> 40\u001b[0m \u001b[38;5;28;01mwhile\u001b[39;00m \u001b[43mdatetime\u001b[49m\u001b[38;5;241;43m.\u001b[39;49m\u001b[43mdatetime\u001b[49m\u001b[38;5;241;43m.\u001b[39;49m\u001b[43mnow\u001b[49m\u001b[43m(\u001b[49m\u001b[43m)\u001b[49m \u001b[38;5;241m<\u001b[39m new_log_time:\n\u001b[0;32m     41\u001b[0m     \u001b[38;5;28;01mpass\u001b[39;00m\n\u001b[0;32m     42\u001b[0m \u001b[38;5;66;03m# read whole db\u001b[39;00m\n",
      "\u001b[1;31mKeyboardInterrupt\u001b[0m: "
     ]
    }
   ],
   "source": [
    "\n",
    "def log_loop(csvfile):\n",
    "    # whole_start = datetime.datetime.now()\n",
    "    \n",
    "    # defining constants\n",
    "    db_log = 33\n",
    "\n",
    "    log_so_width  = 0\n",
    "    log_so_rpm    = 4\n",
    "    log_so_rpm_sp = 8\n",
    "    log_so_torque = 12\n",
    "    log_so_hz1    = 16\n",
    "    log_so_hz1_sp = 20\n",
    "    log_so_hz2    = 24\n",
    "    log_so_hz2_sp = 28\n",
    "    log_so_hz3    = 32\n",
    "    log_so_hz3_sp = 36\n",
    "    log_so_hz4    = 40\n",
    "    log_so_hz4_sp = 44\n",
    "    \n",
    "    cols = ['width', 'rpm', 'rpm_sp', 'torque', 'hz1', 'hz1_sp', 'hz2', 'hz2_sp', 'hz3', 'hz3_sp', 'hz4', 'hz4_sp']\n",
    "\n",
    "    dt = datetime.timedelta(milliseconds=100) #################### CAN THIS BE FASTER?? MINIMIZE SCRIPT TIME??\n",
    "    new_log_time = datetime.datetime.now()\n",
    "    new_log_time = new_log_time.replace(second = new_log_time.second + 1, microsecond = 0)\n",
    "    \n",
    "    # write headers to the .csv file\n",
    "    csv_writer = csv.writer(csvfile)\n",
    "    csv_writer.writerow(['time'] + cols)\n",
    "\n",
    "\n",
    "    while True:\n",
    "        start_time = datetime.datetime.now()\n",
    "\n",
    "        # waiting untill enough time has elapst\n",
    "        new_log_time = new_log_time + dt\n",
    "        \n",
    "        # print(f'                                          log time is: {new_log_time}')\n",
    "        # print(f'wait time is {new_log_time  - datetime.datetime.now()}')\n",
    "        \n",
    "        while datetime.datetime.now() < new_log_time:\n",
    "            pass\n",
    "        # read whole db\n",
    "        data =  plc.db_read(db_log, 0, 48)\n",
    "\n",
    "        ######## KAN DIT vvvvvvvvvvv MISSCHIEN VEEL SNELLER???\n",
    "        vals = [new_log_time]\n",
    "        for i, name in enumerate( cols):\n",
    "            val = s7.util.get_real(data, 4*i)\n",
    "            vals.append(val)\n",
    "        #     print(f'{name} = {val} ')\n",
    "        # print('\\n')\n",
    "\n",
    "        ######### DIT ^^^^^^^^\n",
    "        \n",
    "        csv_writer.writerow(vals)\n",
    "        csvfile.flush()   ####### important, write while loop is running!!\n",
    "\n",
    "        end_time = datetime.datetime.now()\n",
    "        loop_dt = end_time - start_time\n",
    "        print('/nloop_dt is: ', loop_dt)\n",
    "        print('datetime is: ', datetime.datetime.now())\n",
    "\n",
    "\n",
    "name = f'petg30gs-{datetime.date.today()}.csv'  #### CHANGE TO DATA FOLDER\n",
    "if path.isfile(name): \n",
    "    for i in range(1, 100):\n",
    "        if not path.isfile(name + f'{i}'):\n",
    "            name = name + f'_({i})'\n",
    "            break\n",
    "    \n",
    "with open(name, 'w') as csvfile:\n",
    "    log_loop(csvfile)"
   ]
  },
  {
   "cell_type": "markdown",
   "id": "00d3b3dd-2ac7-4028-ac7f-6ee07efe5fd0",
   "metadata": {},
   "source": [
    "### another way of unpacking a database data (Thijs)"
   ]
  },
  {
   "cell_type": "code",
   "execution_count": null,
   "id": "a1b97cc4-53cc-460a-8a4f-e7752809c648",
   "metadata": {},
   "outputs": [],
   "source": [
    "import struct\n",
    "# struct.unpack(\"b\",plc.db_read(db_number, 2, 1)) "
   ]
  },
  {
   "cell_type": "code",
   "execution_count": null,
   "id": "e1309c52-374e-4533-8d7d-9c75effc7f3e",
   "metadata": {},
   "outputs": [],
   "source": []
  },
  {
   "cell_type": "code",
   "execution_count": null,
   "id": "208b8077-e9b7-4093-b358-95be238f747e",
   "metadata": {},
   "outputs": [],
   "source": []
  }
 ],
 "metadata": {
  "kernelspec": {
   "display_name": "Python 3 (ipykernel)",
   "language": "python",
   "name": "python3"
  },
  "language_info": {
   "codemirror_mode": {
    "name": "ipython",
    "version": 3
   },
   "file_extension": ".py",
   "mimetype": "text/x-python",
   "name": "python",
   "nbconvert_exporter": "python",
   "pygments_lexer": "ipython3",
   "version": "3.10.6"
  }
 },
 "nbformat": 4,
 "nbformat_minor": 5
}
