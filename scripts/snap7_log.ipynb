{
 "cells": [
  {
   "cell_type": "code",
   "execution_count": 41,
   "id": "22e4329d-910c-4e37-a345-38a589129ac7",
   "metadata": {},
   "outputs": [
    {
     "name": "stdout",
     "output_type": "stream",
     "text": [
      "imports succesful\n"
     ]
    }
   ],
   "source": [
    "# imports\n",
    "# system related\n",
    "import sys\n",
    "import subprocess\n",
    "\n",
    "# basics\n",
    "import numpy as np\n",
    "import matplotlib\n",
    "import matplotlib.pyplot as plt\n",
    "import pandas as pd\n",
    "import datetime\n",
    "\n",
    "# snap7 and logging\n",
    "import snap7 as s7\n",
    "import csv\n",
    "\n",
    "\n",
    "\n",
    "print('imports succesful')"
   ]
  },
  {
   "cell_type": "markdown",
   "id": "5bbc1840-8d47-4820-a573-5fcd98272215",
   "metadata": {},
   "source": [
    "## Connecting to plc"
   ]
  },
  {
   "cell_type": "code",
   "execution_count": 42,
   "id": "2ae03a97-bd5a-4da9-877c-85d6d3d5fd17",
   "metadata": {},
   "outputs": [
    {
     "name": "stdout",
     "output_type": "stream",
     "text": [
      "connection status: True\n"
     ]
    }
   ],
   "source": [
    "# connecting to plc\n",
    "\n",
    "plc = s7.client.Client()\n",
    "plc.connect('192.168.0.19', 0, 1, )  # ip, rack, slot\n",
    "\n",
    "print(f'connection status: {plc.get_connected()}')"
   ]
  },
  {
   "cell_type": "markdown",
   "id": "9b1e88d3-aa15-475b-bc06-18632e8fec61",
   "metadata": {},
   "source": [
    "## Defining get & set functions for plc variables"
   ]
  },
  {
   "cell_type": "code",
   "execution_count": 43,
   "id": "97808aef-688a-4cf3-bbf0-f5bfc9423e7f",
   "metadata": {},
   "outputs": [],
   "source": [
    "# Defining read/write functions\n",
    "\n",
    "def get_bool(db_number, start_offset, bit_offset=0):\n",
    "    data = plc.db_read(db_number, start_offset, 1) # read 1 bite\n",
    "    value = s7.util.get_bool(data, 0, bit_offset)\n",
    "    # print(f'db number: {db_number}, bit: {start_offset}, has boolean value: {value}')\n",
    "    return value\n",
    "    \n",
    "def set_bool(db_number, start_offset, value, bit_offset=0):\n",
    "    data = plc.db_read(db_number, start_offset, 1) # read 1 bite\n",
    "    s7.util.set_bool(data, 0, bit_offset, value)\n",
    "    plc.db_write(db_number, start_offset, data)\n",
    "    return None\n",
    "\n",
    "\n",
    "def get_real(db_number, start_offset):\n",
    "    data =  plc.db_read(db_number, start_offset, 4) # read 4 bites\n",
    "    real = s7.util.get_real(data, 0)\n",
    "    return real\n",
    "\n",
    "def set_real(db_number, start_offset, value):\n",
    "    data =  plc.db_read(db_number, start_offset, 4) # read 4 bites\n",
    "    s7.util.set_real(data, 0, value)\n",
    "    plc.db_write(db_number, start_offset, data)\n",
    "    return None\n",
    "\n",
    "\n",
    "\n",
    "    \n"
   ]
  },
  {
   "cell_type": "code",
   "execution_count": null,
   "id": "1b9dfbcd-852b-44d0-aa00-87c258c0efc7",
   "metadata": {},
   "outputs": [],
   "source": []
  },
  {
   "cell_type": "markdown",
   "id": "bca3b991-d391-4f0b-8dbd-b2d3aa82c121",
   "metadata": {},
   "source": [
    "# start make datalog function for ixon db"
   ]
  },
  {
   "cell_type": "code",
   "execution_count": 51,
   "id": "1e05b5bc-72f4-42b9-938a-e6f73f51dd96",
   "metadata": {},
   "outputs": [
    {
     "ename": "KeyboardInterrupt",
     "evalue": "",
     "output_type": "error",
     "traceback": [
      "\u001b[1;31m---------------------------------------------------------------------------\u001b[0m",
      "\u001b[1;31mKeyboardInterrupt\u001b[0m                         Traceback (most recent call last)",
      "Cell \u001b[1;32mIn [51], line 76\u001b[0m\n\u001b[0;32m     63\u001b[0m         \u001b[38;5;66;03m# end_time = datetime.datetime.now()\u001b[39;00m\n\u001b[0;32m     64\u001b[0m         \u001b[38;5;66;03m# loop_dt = end_time - start_time\u001b[39;00m\n\u001b[0;32m     65\u001b[0m         \u001b[38;5;66;03m# print('loop_dt is: ', loop_dt)\u001b[39;00m\n\u001b[1;32m   (...)\u001b[0m\n\u001b[0;32m     72\u001b[0m \u001b[38;5;66;03m#         csv_writer.writerow([new_log_time] + vals)\u001b[39;00m\n\u001b[0;32m     73\u001b[0m \u001b[38;5;66;03m#         csvfile.flush()\u001b[39;00m\n\u001b[0;32m     75\u001b[0m \u001b[38;5;28;01mwith\u001b[39;00m \u001b[38;5;28mopen\u001b[39m(\u001b[38;5;124m'\u001b[39m\u001b[38;5;124mresults.csv\u001b[39m\u001b[38;5;124m'\u001b[39m, \u001b[38;5;124m'\u001b[39m\u001b[38;5;124mw\u001b[39m\u001b[38;5;124m'\u001b[39m) \u001b[38;5;28;01mas\u001b[39;00m csvfile:\n\u001b[1;32m---> 76\u001b[0m     \u001b[43mprocessing_loop\u001b[49m\u001b[43m(\u001b[49m\u001b[43mcsvfile\u001b[49m\u001b[43m)\u001b[49m\n",
      "Cell \u001b[1;32mIn [51], line 48\u001b[0m, in \u001b[0;36mprocessing_loop\u001b[1;34m(csvfile)\u001b[0m\n\u001b[0;32m     46\u001b[0m     \u001b[38;5;28;01mpass\u001b[39;00m\n\u001b[0;32m     47\u001b[0m \u001b[38;5;66;03m# read whole db\u001b[39;00m\n\u001b[1;32m---> 48\u001b[0m data \u001b[38;5;241m=\u001b[39m  \u001b[43mplc\u001b[49m\u001b[38;5;241;43m.\u001b[39;49m\u001b[43mdb_read\u001b[49m\u001b[43m(\u001b[49m\u001b[43mdb_log\u001b[49m\u001b[43m,\u001b[49m\u001b[43m \u001b[49m\u001b[38;5;241;43m0\u001b[39;49m\u001b[43m,\u001b[49m\u001b[43m \u001b[49m\u001b[38;5;241;43m48\u001b[39;49m\u001b[43m)\u001b[49m\n\u001b[0;32m     50\u001b[0m \u001b[38;5;66;03m######## KAN DIT vvvvvvvvvvv MISSCHIEN VEEL SNELLER???\u001b[39;00m\n\u001b[0;32m     51\u001b[0m vals \u001b[38;5;241m=\u001b[39m [new_log_time]\n",
      "File \u001b[1;32m~\\AppData\\Roaming\\Python\\Python310\\site-packages\\snap7\\client.py:223\u001b[0m, in \u001b[0;36mClient.db_read\u001b[1;34m(self, db_number, start, size)\u001b[0m\n\u001b[0;32m    221\u001b[0m type_ \u001b[38;5;241m=\u001b[39m snap7\u001b[38;5;241m.\u001b[39mtypes\u001b[38;5;241m.\u001b[39mwordlen_to_ctypes[WordLen\u001b[38;5;241m.\u001b[39mByte\u001b[38;5;241m.\u001b[39mvalue]\n\u001b[0;32m    222\u001b[0m data \u001b[38;5;241m=\u001b[39m (type_ \u001b[38;5;241m*\u001b[39m size)()\n\u001b[1;32m--> 223\u001b[0m result \u001b[38;5;241m=\u001b[39m (\u001b[38;5;28;43mself\u001b[39;49m\u001b[38;5;241;43m.\u001b[39;49m\u001b[43m_library\u001b[49m\u001b[38;5;241;43m.\u001b[39;49m\u001b[43mCli_DBRead\u001b[49m\u001b[43m(\u001b[49m\n\u001b[0;32m    224\u001b[0m \u001b[43m    \u001b[49m\u001b[38;5;28;43mself\u001b[39;49m\u001b[38;5;241;43m.\u001b[39;49m\u001b[43m_pointer\u001b[49m\u001b[43m,\u001b[49m\u001b[43m \u001b[49m\u001b[43mdb_number\u001b[49m\u001b[43m,\u001b[49m\u001b[43m \u001b[49m\u001b[43mstart\u001b[49m\u001b[43m,\u001b[49m\u001b[43m \u001b[49m\u001b[43msize\u001b[49m\u001b[43m,\u001b[49m\n\u001b[0;32m    225\u001b[0m \u001b[43m    \u001b[49m\u001b[43mbyref\u001b[49m\u001b[43m(\u001b[49m\u001b[43mdata\u001b[49m\u001b[43m)\u001b[49m\u001b[43m)\u001b[49m)\n\u001b[0;32m    226\u001b[0m check_error(result, context\u001b[38;5;241m=\u001b[39m\u001b[38;5;124m\"\u001b[39m\u001b[38;5;124mclient\u001b[39m\u001b[38;5;124m\"\u001b[39m)\n\u001b[0;32m    227\u001b[0m \u001b[38;5;28;01mreturn\u001b[39;00m \u001b[38;5;28mbytearray\u001b[39m(data)\n",
      "\u001b[1;31mKeyboardInterrupt\u001b[0m: "
     ]
    }
   ],
   "source": [
    "# ixon_remake.\n",
    "\n",
    "\n",
    "\n",
    "\n",
    "def processing_loop(csvfile):\n",
    "    # whole_start = datetime.datetime.now()\n",
    "    \n",
    "    # defining constants\n",
    "    db_log = 33\n",
    "\n",
    "    log_so_width  = 0\n",
    "    log_so_rpm    = 4\n",
    "    log_so_rpm_sp = 8\n",
    "    log_so_torque = 12\n",
    "    log_so_hz1    = 16\n",
    "    log_so_hz1_sp = 20\n",
    "    log_so_hz2    = 24\n",
    "    log_so_hz2_sp = 28\n",
    "    log_so_hz3    = 32\n",
    "    log_so_hz3_sp = 36\n",
    "    log_so_hz4    = 40\n",
    "    log_so_hz4_sp = 44\n",
    "    \n",
    "    cols = ['width', 'rpm', 'rpm_sp', 'torque', 'hz1', 'hz1_sp', 'hz2', 'hz2_sp', 'hz3', 'hz3_sp', 'hz4', 'hz4_sp']\n",
    "\n",
    "    dt = datetime.timedelta(milliseconds=50)\n",
    "    new_log_time = datetime.datetime.now()\n",
    "    new_log_time = new_log_time.replace(second = new_log_time.second + 1, microsecond = 0)\n",
    "    \n",
    "    # write headers to the .csv file\n",
    "    csv_writer = csv.writer(csvfile)\n",
    "    csv_writer.writerow(['time'] + cols)\n",
    "\n",
    "\n",
    "    while True:\n",
    "        # start_time = datetime.datetime.now()\n",
    "\n",
    "        # waiting untill enough time has elapst\n",
    "        new_log_time = new_log_time + dt\n",
    "        \n",
    "        # print(f'                                          log time is: {new_log_time}')\n",
    "        # print(f'wait time is {new_log_time  - datetime.datetime.now()}')\n",
    "        \n",
    "        while datetime.datetime.now() < new_log_time:\n",
    "            pass\n",
    "        # read whole db\n",
    "        data =  plc.db_read(db_log, 0, 48)\n",
    "\n",
    "        ######## KAN DIT vvvvvvvvvvv MISSCHIEN VEEL SNELLER???\n",
    "        vals = [new_log_time]\n",
    "        for i, name in enumerate( cols):\n",
    "            val = s7.util.get_real(data, 4*i)\n",
    "            vals.append(val)\n",
    "        #     print(f'{name} = {val} ')\n",
    "        # print('\\n')\n",
    "\n",
    "        ######### DIT ^^^^^^^^\n",
    "        \n",
    "        csv_writer.writerow(vals)\n",
    "        csvfile.flush()\n",
    "\n",
    "        # end_time = datetime.datetime.now()\n",
    "        # loop_dt = end_time - start_time\n",
    "        # print('loop_dt is: ', loop_dt)\n",
    "    \n",
    "# def processing_loop(csvfile):\n",
    "#     csv_writer = csv.writer(csvfile)\n",
    "#     csv_writer.writerow(['time'] + cols)\n",
    "\n",
    "#     while True:\n",
    "#         csv_writer.writerow([new_log_time] + vals)\n",
    "#         csvfile.flush()\n",
    "\n",
    "with open('results.csv', 'w') as csvfile:\n",
    "    processing_loop(csvfile)\n",
    "\n",
    "\n",
    "        \n",
    "    \n",
    "# whole_end = datetime.datetime.now()\n",
    "\n",
    "# print(f'________________________\\n\\nMean time is: {(whole_end-whole_start)/10}')\n",
    "\n",
    "\n"
   ]
  },
  {
   "cell_type": "markdown",
   "id": "00d3b3dd-2ac7-4028-ac7f-6ee07efe5fd0",
   "metadata": {},
   "source": [
    "### another way of unpacking a database data (Thijs)"
   ]
  },
  {
   "cell_type": "code",
   "execution_count": null,
   "id": "a1b97cc4-53cc-460a-8a4f-e7752809c648",
   "metadata": {},
   "outputs": [],
   "source": [
    "import struct\n",
    "# struct.unpack(\"b\",plc.db_read(db_number, 2, 1)) "
   ]
  },
  {
   "cell_type": "code",
   "execution_count": null,
   "id": "e1309c52-374e-4533-8d7d-9c75effc7f3e",
   "metadata": {},
   "outputs": [],
   "source": []
  },
  {
   "cell_type": "code",
   "execution_count": null,
   "id": "208b8077-e9b7-4093-b358-95be238f747e",
   "metadata": {},
   "outputs": [],
   "source": []
  }
 ],
 "metadata": {
  "kernelspec": {
   "display_name": "Python 3 (ipykernel)",
   "language": "python",
   "name": "python3"
  },
  "language_info": {
   "codemirror_mode": {
    "name": "ipython",
    "version": 3
   },
   "file_extension": ".py",
   "mimetype": "text/x-python",
   "name": "python",
   "nbconvert_exporter": "python",
   "pygments_lexer": "ipython3",
   "version": "3.10.6"
  }
 },
 "nbformat": 4,
 "nbformat_minor": 5
}
