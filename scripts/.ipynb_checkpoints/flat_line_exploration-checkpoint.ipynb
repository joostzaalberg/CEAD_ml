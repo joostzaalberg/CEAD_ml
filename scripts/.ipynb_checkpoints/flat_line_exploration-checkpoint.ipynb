{
 "cells": [
  {
   "cell_type": "code",
   "execution_count": null,
   "id": "2e5466be-c949-4c77-9899-6a96cdb3346d",
   "metadata": {},
   "outputs": [],
   "source": [
    "# imports\n",
    "# system related\n",
    "import sys\n",
    "import subprocess\n",
    "\n",
    "# basics\n",
    "import numpy as np\n",
    "import matplotlib\n",
    "import matplotlib.pyplot as plt\n",
    "import pandas as pd\n",
    "import itertools\n",
    "from datetime import datetime, time\n",
    "\n",
    "# ml related\n",
    "import sklearn as sk\n",
    "import torch\n",
    "import torch.nn as nn\n",
    "\n",
    "# import scripts and functions\n",
    "from functions import *\n",
    "\n",
    "\n",
    "print('imports succesfull')"
   ]
  }
 ],
 "metadata": {
  "kernelspec": {
   "display_name": "Python 3 (ipykernel)",
   "language": "python",
   "name": "python3"
  },
  "language_info": {
   "codemirror_mode": {
    "name": "ipython",
    "version": 3
   },
   "file_extension": ".py",
   "mimetype": "text/x-python",
   "name": "python",
   "nbconvert_exporter": "python",
   "pygments_lexer": "ipython3",
   "version": "3.10.6"
  }
 },
 "nbformat": 4,
 "nbformat_minor": 5
}
