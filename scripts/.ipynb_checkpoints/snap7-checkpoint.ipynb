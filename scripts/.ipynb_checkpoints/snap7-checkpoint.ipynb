{
 "cells": [
  {
   "cell_type": "code",
   "execution_count": 1,
   "id": "22e4329d-910c-4e37-a345-38a589129ac7",
   "metadata": {},
   "outputs": [
    {
     "name": "stdout",
     "output_type": "stream",
     "text": [
      "imports succesful\n"
     ]
    }
   ],
   "source": [
    "# imports\n",
    "# system related\n",
    "import sys\n",
    "import subprocess\n",
    "\n",
    "# basics\n",
    "import numpy as np\n",
    "import matplotlib\n",
    "import matplotlib.pyplot as plt\n",
    "import pandas as pd\n",
    "\n",
    "# snap7\n",
    "import snap7 as s7\n",
    "\n",
    "print('imports succesful')"
   ]
  },
  {
   "cell_type": "code",
   "execution_count": 2,
   "id": "2ae03a97-bd5a-4da9-877c-85d6d3d5fd17",
   "metadata": {},
   "outputs": [
    {
     "name": "stdout",
     "output_type": "stream",
     "text": [
      "connection status: True\n"
     ]
    }
   ],
   "source": [
    "# connecting to plc\n",
    "\n",
    "plc = s7.client.Client()\n",
    "plc.connect('192.168.0.19', 0, 1, )  # ip, rack, slot\n",
    "\n",
    "print(f'connection status: {plc.get_connected()}')"
   ]
  },
  {
   "cell_type": "code",
   "execution_count": 8,
   "id": "97808aef-688a-4cf3-bbf0-f5bfc9423e7f",
   "metadata": {},
   "outputs": [],
   "source": [
    "# Defining read/write functions\n",
    "\n",
    "def get_bool(db_number, start_offset, bit_offset=0):\n",
    "    data = plc.db_read(db_number, start_offset, 1) # read 1 bite\n",
    "    value = s7.util.get_bool(data, 0, bit_offset)\n",
    "    # print(f'db number: {db_number}, bit: {start_offset}, has boolean value: {value}')\n",
    "    return value\n",
    "    \n",
    "def set_bool(db_number, start_offset, value, bit_offset=0):\n",
    "    data = plc.db_read(db_number, start_offset, 1) # read 1 bite\n",
    "    s7.util.set_bool(data, 0, bit_offset, value)\n",
    "    plc.db_write(db_number, start_offset, data)\n",
    "    return None\n",
    "\n",
    "\n",
    "def get_real(db_number, start_offset):\n",
    "    data =  plc.db_read(db_number, start_offset, 4) # read 4 bites\n",
    "    real = s7.util.get_real(data, 0)\n",
    "    return real\n",
    "\n",
    "def set_real(db_number, start_offset, value):\n",
    "    data =  plc.db_read(db_number, start_offset, 4) # read 4 bites\n",
    "    s7.util.set_real(data, 0, value)\n",
    "    plc.db_write(db_number, start_offset, data)\n",
    "    return None\n",
    "\n",
    "\n",
    "\n",
    "    \n"
   ]
  },
  {
   "cell_type": "code",
   "execution_count": 26,
   "id": "b4a32e88-0f2b-49b8-b4cb-d83bf85a4e1c",
   "metadata": {},
   "outputs": [
    {
     "data": {
      "text/plain": [
       "(126,)"
      ]
     },
     "execution_count": 26,
     "metadata": {},
     "output_type": "execute_result"
    }
   ],
   "source": [
    "import struct\n",
    "struct.unpack(\"b\",plc.db_read(db_number, 2, 1)) "
   ]
  },
  {
   "cell_type": "code",
   "execution_count": 13,
   "id": "2982f58a-b10e-4452-88af-ecc1e1759e45",
   "metadata": {},
   "outputs": [
    {
     "name": "stdout",
     "output_type": "stream",
     "text": [
      "[50, 71, 56, 85, 57, 80, 64, 52, 81, 67, 78, 58, 77, 55, 80, 51, 68, 51, 65, 98, 64, 97, 81, 99, 72, 88, 64, 95, 79, 53, 97, 77, 98, 54, 88, 77, 65, 80, 53, 73, 85, 58, 82, 58, 86, 62, 84, 53, 91, 79, 69, 99, 80, 92, 79, 95, 82, 72, 93, 58, 77, 66, 87, 72, 82, 72, 58, 70, 91, 71, 81, 70, 54, 75, 64, 88, 62, 81, 57, 75, 57, 91, 62, 87, 51, 100, 65, 82, 66, 81, 62, 99, 88, 77, 62, 74, 51, 64, 96, 62, 86]\n"
     ]
    }
   ],
   "source": [
    "# creating random values to loop thru\n",
    "\n",
    "min_rpm = 50\n",
    "max_rpm = 100\n",
    "d_rpm = 10\n",
    "num_values = 100\n",
    "\n",
    "rpms = [min_rpm]\n",
    "\n",
    "\n",
    "while len(rpms) <= num_values:\n",
    "    # create random rpm value\n",
    "    rpm = int(np.round(np.random.uniform(min_rpm, max_rpm),0))\n",
    "    # append if difference is high enough. \n",
    "    if abs(rpm-rpms[-1]) >= d_rpm:\n",
    "        rpms.append(rpm)\n",
    "        \n",
    "print(rpms)\n"
   ]
  },
  {
   "cell_type": "code",
   "execution_count": 15,
   "id": "634396c0-2109-4a32-bdea-a8c7b9b7d347",
   "metadata": {},
   "outputs": [
    {
     "name": "stdout",
     "output_type": "stream",
     "text": [
      "60.123451232910156\n"
     ]
    }
   ],
   "source": [
    "db_py = 50\n",
    "\n",
    "# defining start_offsets (so) for the variables in the DB50\n",
    "so_rpm = 0\n",
    "so_hz1 = 4\n",
    "so_hz2 = 8\n",
    "so_hz3 = 12\n",
    "so_hz4 = 16\n",
    "\n",
    "set_real(db_number, rpm_so, 60.12345)\n",
    "print(ReadReal(db_number, rpm_so))\n"
   ]
  },
  {
   "cell_type": "code",
   "execution_count": null,
   "id": "59b9ba16-fe4b-4a6b-9842-b78f34193cad",
   "metadata": {},
   "outputs": [],
   "source": [
    "# for loop true random rpms\n",
    "\n",
    "for rpm in rpms:\n",
    "    "
   ]
  },
  {
   "cell_type": "code",
   "execution_count": null,
   "id": "a27d8e93-0708-41c0-8b5d-269382942ed1",
   "metadata": {},
   "outputs": [],
   "source": [
    "# make datalog function for ixon db"
   ]
  },
  {
   "cell_type": "code",
   "execution_count": 27,
   "id": "1e05b5bc-72f4-42b9-938a-e6f73f51dd96",
   "metadata": {},
   "outputs": [
    {
     "data": {
      "text/plain": [
       "5.254000186920166"
      ]
     },
     "execution_count": 27,
     "metadata": {},
     "output_type": "execute_result"
    }
   ],
   "source": [
    "# ixon_remake.\n",
    "\n",
    "db_log = 33\n",
    "\n",
    "log_so_width = 0\n",
    "log_so_rpm = 4\n",
    "log_so_torque = 12\n",
    "log_so_hz1 = 16\n",
    "log_so_hz2 = 24\n",
    "log_so_hz3 = 32\n",
    "log_so_hz4 = 40\n",
    "\n",
    "names = []\n",
    "\n",
    "get_real(db_log, log_so_width)\n",
    "\n",
    "\n"
   ]
  },
  {
   "cell_type": "code",
   "execution_count": null,
   "id": "e1309c52-374e-4533-8d7d-9c75effc7f3e",
   "metadata": {},
   "outputs": [],
   "source": []
  }
 ],
 "metadata": {
  "kernelspec": {
   "display_name": "Python 3 (ipykernel)",
   "language": "python",
   "name": "python3"
  },
  "language_info": {
   "codemirror_mode": {
    "name": "ipython",
    "version": 3
   },
   "file_extension": ".py",
   "mimetype": "text/x-python",
   "name": "python",
   "nbconvert_exporter": "python",
   "pygments_lexer": "ipython3",
   "version": "3.10.6"
  }
 },
 "nbformat": 4,
 "nbformat_minor": 5
}
