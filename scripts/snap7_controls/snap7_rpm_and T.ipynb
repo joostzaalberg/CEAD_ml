{
 "cells": [
  {
   "cell_type": "code",
   "execution_count": 94,
   "id": "22e4329d-910c-4e37-a345-38a589129ac7",
   "metadata": {},
   "outputs": [
    {
     "name": "stdout",
     "output_type": "stream",
     "text": [
      "imports succesful\n"
     ]
    }
   ],
   "source": [
    "# imports\n",
    "# system related\n",
    "import sys\n",
    "import subprocess\n",
    "\n",
    "# basics\n",
    "import numpy as np\n",
    "import matplotlib\n",
    "import matplotlib.pyplot as plt\n",
    "import pandas as pd\n",
    "from time import sleep\n",
    "\n",
    "# snap7 and logging\n",
    "import snap7 as s7\n",
    "\n",
    "\n",
    "print('imports succesful')"
   ]
  },
  {
   "cell_type": "markdown",
   "id": "5bbc1840-8d47-4820-a573-5fcd98272215",
   "metadata": {},
   "source": [
    "## Connecting to plc"
   ]
  },
  {
   "cell_type": "code",
   "execution_count": 95,
   "id": "2ae03a97-bd5a-4da9-877c-85d6d3d5fd17",
   "metadata": {},
   "outputs": [
    {
     "name": "stdout",
     "output_type": "stream",
     "text": [
      "connection status: True\n"
     ]
    }
   ],
   "source": [
    "# connecting to plc\n",
    "\n",
    "plc = s7.client.Client()\n",
    "plc.connect('192.168.0.19', 0, 1, )  # ip, rack, slot\n",
    "\n",
    "print(f'connection status: {plc.get_connected()}')"
   ]
  },
  {
   "cell_type": "markdown",
   "id": "9b1e88d3-aa15-475b-bc06-18632e8fec61",
   "metadata": {},
   "source": [
    "## Defining get & set functions for plc variables"
   ]
  },
  {
   "cell_type": "code",
   "execution_count": 96,
   "id": "97808aef-688a-4cf3-bbf0-f5bfc9423e7f",
   "metadata": {},
   "outputs": [],
   "source": [
    "# Defining read/write functions\n",
    "\n",
    "def get_bool(db_number, start_offset, bit_offset=0):\n",
    "    data = plc.db_read(db_number, start_offset, 1) # read 1 bite\n",
    "    value = s7.util.get_bool(data, 0, bit_offset)\n",
    "    # print(f'db number: {db_number}, bit: {start_offset}, has boolean value: {value}')\n",
    "    return value\n",
    "    \n",
    "def set_bool(db_number, start_offset, value, bit_offset=0):\n",
    "    data = plc.db_read(db_number, start_offset, 1) # read 1 bite\n",
    "    s7.util.set_bool(data, 0, bit_offset, value)\n",
    "    plc.db_write(db_number, start_offset, data)\n",
    "    return None\n",
    "\n",
    "\n",
    "def get_real(db_number, start_offset):\n",
    "    data =  plc.db_read(db_number, start_offset, 4) # read 4 bites\n",
    "    real = s7.util.get_real(data, 0)\n",
    "    return real\n",
    "\n",
    "def set_real(db_number, start_offset, value):\n",
    "    data =  plc.db_read(db_number, start_offset, 4) # read 4 bites\n",
    "    s7.util.set_real(data, 0, value)\n",
    "    plc.db_write(db_number, start_offset, data)\n",
    "    return None\n",
    "\n",
    "\n",
    "\n",
    "    \n"
   ]
  },
  {
   "cell_type": "markdown",
   "id": "e2404e10-e794-4564-91cb-30ad8b3b125a",
   "metadata": {},
   "source": [
    "## Creating RPMs to loop thru"
   ]
  },
  {
   "cell_type": "code",
   "execution_count": 109,
   "id": "2982f58a-b10e-4452-88af-ecc1e1759e45",
   "metadata": {},
   "outputs": [
    {
     "name": "stdout",
     "output_type": "stream",
     "text": [
      "[280]\n",
      "\n",
      "[10, 16, 10, 16, 19, 10, 16, 10, 19, 16, 19, 10, 19, 10, 19, 16, 10, 19, 10, 16, 10, 16, 10, 13, 19, 13, 19, 16, 10, 19, 10, 19, 10, 19, 10, 19, 13, 10, 13, 16, 19, 16, 19, 13, 19, 16, 19, 10, 19, 13, 19, 16, 10, 19, 13, 10, 13, 16, 13, 19, 13, 10, 19, 10, 16, 13, 10, 19, 10, 19, 16, 10, 19, 10, 19, 10, 19, 16, 19, 10, 19, 10, 19, 13, 10, 19, 13, 19, 16, 13, 16, 19, 10, 19, 16, 13, 10, 19, 10, 19, 10, 19, 10, 16, 13, 19, 10, 19, 10, 13, 19, 10, 13, 19, 10, 16, 10, 19, 10, 16, 10, 19, 10, 19, 13, 19, 10, 19, 10, 19, 10, 19, 16, 13, 16, 10, 16, 19, 13, 10, 19, 10, 16, 10, 13, 19, 13, 19, 13, 10, 13, 19, 10, 19, 16, 10, 19, 16, 13, 10, 19, 10, 13, 16, 19, 16, 10, 13, 10, 13, 10, 19, 10, 13, 16, 10, 16, 13, 19, 10, 19, 10, 19, 10, 16, 13, 10, 13, 19, 10, 13, 16, 10, 19, 10, 13, 19, 13, 10, 19]\n"
     ]
    }
   ],
   "source": [
    "# creating random values to loop thru\n",
    "\n",
    "############ CHECK THESE VAls!!\n",
    "\n",
    "rpm_choices = [10, 13, 16 , 19]\n",
    "num_values = 200\n",
    "rpm_interval = 5  # s\n",
    "T_choices = list(range(280, 285, 5))\n",
    "print(T_choices)\n",
    "\n",
    "rpms = [rpm_choices[0]]\n",
    "\n",
    "def count_elements(seq):\n",
    "        \"\"\"Tally elements from `seq`.\"\"\"\n",
    "        lst = [0,0,0,0,0,0,0]\n",
    "        for i in seq:\n",
    "            j = int(i/5)\n",
    "            lst[j+3] += 1\n",
    "        lst.pop(3)\n",
    "        return lst\n",
    "\n",
    "\n",
    "a = 0.35\n",
    "b=0.5-a\n",
    "print('')\n",
    "\n",
    "while len(rpms) < num_values:\n",
    "    # create random rpm value\n",
    "\n",
    "    rpm = np.random.choice(rpm_choices, 1, p=[a, b, b, a])[0]\n",
    "    # append if difference is high enough. \n",
    "    if rpm != rpms[-1]:\n",
    "        rpms.append(rpm)\n",
    "\n",
    "print(rpms)\n",
    "\n",
    "\n"
   ]
  },
  {
   "cell_type": "markdown",
   "id": "b7ef04b5-c432-41a4-8d15-53a4fce34eb4",
   "metadata": {},
   "source": [
    "## Defining DB number and start offsets for the variables"
   ]
  },
  {
   "cell_type": "code",
   "execution_count": 97,
   "id": "634396c0-2109-4a32-bdea-a8c7b9b7d347",
   "metadata": {},
   "outputs": [],
   "source": [
    "db_py = 50\n",
    "\n",
    "# defining start_offsets (so) for the variables in the DB50\n",
    "so_rpm = 0\n",
    "so_hz1 = 4\n",
    "so_hz2 = 8\n",
    "so_hz3 = 12\n",
    "so_hz4 = 16\n"
   ]
  },
  {
   "cell_type": "code",
   "execution_count": 111,
   "id": "59b9ba16-fe4b-4a6b-9842-b78f34193cad",
   "metadata": {},
   "outputs": [
    {
     "name": "stdout",
     "output_type": "stream",
     "text": [
      "Sending RPMs interupted by keystroke                                                         It came this far: | 89.0% | 178/200 | ETA: 1.8 min | RPM: 19 | T: 1/1 | T_set = 280   \n",
      "all rpms have been sent, the job is finished\n"
     ]
    }
   ],
   "source": [
    "# for loop true random rpms\n",
    "tot = len(rpms)*len(T_choices)\n",
    "try:\n",
    "    for j, T in enumerate(T_choices):\n",
    "        set_real(db_py, so_hz1, T)\n",
    "        set_real(db_py, so_hz2, T)\n",
    "        set_real(db_py, so_hz3, T)\n",
    "        set_real(db_py, so_hz4, T)\n",
    "        for i, rpm in enumerate(rpms):\n",
    "            prog=j*len(rpms)+i\n",
    "            set_real(db_py, so_rpm, rpm)\n",
    "            print(f'Progress: |{int(100*prog/tot)*\"█\" + int(100*(1-(prog/tot)))*\"-\"} | {np.round(prog/tot*100 ,1)}% | {prog}/{tot} | ETA: {np.round((tot-prog)*rpm_interval/60,1)} min | RPM: {rpm} | T: {j+1}/{len(T_choices)} | T_set = {T}  ' , end='\\r')\n",
    "            sleep(rpm_interval)\n",
    "        \n",
    "except KeyboardInterrupt:\n",
    "    print('Sending RPMs interupted by keystroke                                                         It came this far: ')\n",
    "\n",
    "print('all rpms have been sent, the job is finished')"
   ]
  },
  {
   "cell_type": "code",
   "execution_count": null,
   "id": "a27d8e93-0708-41c0-8b5d-269382942ed1",
   "metadata": {},
   "outputs": [],
   "source": []
  },
  {
   "cell_type": "code",
   "execution_count": 98,
   "id": "ea3be692-7a78-4836-9556-139ba4de0ca8",
   "metadata": {},
   "outputs": [],
   "source": [
    "set_real(db_py, so_hz1, 250)\n",
    "set_real(db_py, so_hz2, 250)\n",
    "set_real(db_py, so_hz3, 250)\n",
    "set_real(db_py, so_hz4, 250)"
   ]
  },
  {
   "cell_type": "code",
   "execution_count": null,
   "id": "1e05b5bc-72f4-42b9-938a-e6f73f51dd96",
   "metadata": {},
   "outputs": [],
   "source": []
  },
  {
   "cell_type": "code",
   "execution_count": null,
   "id": "e1309c52-374e-4533-8d7d-9c75effc7f3e",
   "metadata": {},
   "outputs": [],
   "source": []
  },
  {
   "cell_type": "code",
   "execution_count": null,
   "id": "b1c4c41d-1349-4e01-a5f9-5f858f0f831b",
   "metadata": {},
   "outputs": [],
   "source": []
  },
  {
   "cell_type": "code",
   "execution_count": null,
   "id": "ff253672-06e1-4024-a350-023792c436b7",
   "metadata": {},
   "outputs": [],
   "source": []
  }
 ],
 "metadata": {
  "kernelspec": {
   "display_name": "Python 3 (ipykernel)",
   "language": "python",
   "name": "python3"
  },
  "language_info": {
   "codemirror_mode": {
    "name": "ipython",
    "version": 3
   },
   "file_extension": ".py",
   "mimetype": "text/x-python",
   "name": "python",
   "nbconvert_exporter": "python",
   "pygments_lexer": "ipython3",
   "version": "3.10.6"
  }
 },
 "nbformat": 4,
 "nbformat_minor": 5
}
