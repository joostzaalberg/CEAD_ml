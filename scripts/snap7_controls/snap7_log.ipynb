{
 "cells": [
  {
   "cell_type": "code",
   "execution_count": 60,
   "id": "22e4329d-910c-4e37-a345-38a589129ac7",
   "metadata": {},
   "outputs": [
    {
     "name": "stdout",
     "output_type": "stream",
     "text": [
      "imports succesful\n"
     ]
    }
   ],
   "source": [
    "# imports\n",
    "# system related\n",
    "import sys\n",
    "import subprocess\n",
    "from os import path\n",
    "\n",
    "# basics\n",
    "import numpy as np\n",
    "import matplotlib\n",
    "import matplotlib.pyplot as plt\n",
    "import pandas as pd\n",
    "from time import time\n",
    "from time import sleep\n",
    "import datetime\n",
    "\n",
    "\n",
    "# snap7 and logging\n",
    "import snap7 as s7\n",
    "import csv\n",
    "\n",
    "\n",
    "\n",
    "print('imports succesful')"
   ]
  },
  {
   "cell_type": "markdown",
   "id": "5bbc1840-8d47-4820-a573-5fcd98272215",
   "metadata": {},
   "source": [
    "## Connecting to plc"
   ]
  },
  {
   "cell_type": "code",
   "execution_count": 61,
   "id": "2ae03a97-bd5a-4da9-877c-85d6d3d5fd17",
   "metadata": {},
   "outputs": [
    {
     "name": "stdout",
     "output_type": "stream",
     "text": [
      "connection status: True\n"
     ]
    }
   ],
   "source": [
    "# connecting to plc\n",
    "\n",
    "plc = s7.client.Client()\n",
    "plc.connect('192.168.0.19', 0, 1, )  # ip, rack, slot\n",
    "\n",
    "print(f'connection status: {plc.get_connected()}')"
   ]
  },
  {
   "cell_type": "markdown",
   "id": "9b1e88d3-aa15-475b-bc06-18632e8fec61",
   "metadata": {},
   "source": [
    "## Defining get & set functions for plc variables"
   ]
  },
  {
   "cell_type": "code",
   "execution_count": 62,
   "id": "97808aef-688a-4cf3-bbf0-f5bfc9423e7f",
   "metadata": {},
   "outputs": [],
   "source": [
    "# Defining read/write functions\n",
    "\n",
    "def get_bool(db_number, start_offset, bit_offset=0):\n",
    "    data = plc.db_read(db_number, start_offset, 1) # read 1 bite\n",
    "    value = s7.util.get_bool(data, 0, bit_offset)\n",
    "    # print(f'db number: {db_number}, bit: {start_offset}, has boolean value: {value}')\n",
    "    return value\n",
    "    \n",
    "def set_bool(db_number, start_offset, value, bit_offset=0):\n",
    "    data = plc.db_read(db_number, start_offset, 1) # read 1 bite\n",
    "    s7.util.set_bool(data, 0, bit_offset, value)\n",
    "    plc.db_write(db_number, start_offset, data)\n",
    "    return None\n",
    "\n",
    "\n",
    "def get_real(db_number, start_offset):\n",
    "    data =  plc.db_read(db_number, start_offset, 4) # read 4 bites\n",
    "    real = s7.util.get_real(data, 0)\n",
    "    return real\n",
    "\n",
    "def set_real(db_number, start_offset, value):\n",
    "    data =  plc.db_read(db_number, start_offset, 4) # read 4 bites\n",
    "    s7.util.set_real(data, 0, value)\n",
    "    plc.db_write(db_number, start_offset, data)\n",
    "    return None\n",
    "\n",
    "\n",
    "\n",
    "    \n"
   ]
  },
  {
   "cell_type": "markdown",
   "id": "bca3b991-d391-4f0b-8dbd-b2d3aa82c121",
   "metadata": {},
   "source": [
    "## datalog function for log db"
   ]
  },
  {
   "cell_type": "code",
   "execution_count": 63,
   "id": "1e05b5bc-72f4-42b9-938a-e6f73f51dd96",
   "metadata": {},
   "outputs": [
    {
     "name": "stdout",
     "output_type": "stream",
     "text": [
      ".csv file created\n",
      "log sequence initialized\n",
      "logging has started\n",
      "logging ended by keystroke. Thank you for choosing YoussefLog services.\n"
     ]
    }
   ],
   "source": [
    "\n",
    "def log_loop(csvfile):\n",
    "    # whole_start = datetime.datetime.now()\n",
    "        \n",
    "    # defining constants\n",
    "    # db number\n",
    "    db_log = 33\n",
    "    \n",
    "    # start offsets\n",
    "    log_so_width  = 0\n",
    "    log_so_rpm    = 4\n",
    "    log_so_rpm_sp = 8\n",
    "    log_so_torque = 12\n",
    "    log_so_hz1    = 16\n",
    "    log_so_hz1_sp = 20\n",
    "    log_so_hz2    = 24\n",
    "    log_so_hz2_sp = 28\n",
    "    log_so_hz3    = 32\n",
    "    log_so_hz3_sp = 36\n",
    "    log_so_hz4    = 40\n",
    "    log_so_hz4_sp = 44\n",
    "    \n",
    "    cols = ['width', 'rpm', 'rpm_sp', 'torque', 'hz1', 'hz1_sp', 'hz2', 'hz2_sp', 'hz3', 'hz3_sp', 'hz4', 'hz4_sp']\n",
    "\n",
    "    dt = 0.050  # 50 ms = 20 times / s\n",
    "    new_log_time = np.ceil(time())\n",
    "    \n",
    "    # write headers to the .csv file\n",
    "    csv_writer = csv.writer(csvfile)\n",
    "    csv_writer.writerow(['time'] + cols)\n",
    "    \n",
    "    print('log sequence initialized')\n",
    "\n",
    "    try:\n",
    "        print('logging has started')\n",
    "        while True:\n",
    "            \n",
    "            # waiting untill enough time has elapst\n",
    "            while time() < new_log_time:\n",
    "                pass\n",
    "            # adjust time to next one to log to\n",
    "            new_log_time = np.round(new_log_time + dt, 5)\n",
    "            \n",
    "            # read DB\n",
    "            data =  plc.db_read(db_log, 0, 48)\n",
    "            \n",
    "            # converting bytes to reals\n",
    "            vals = [new_log_time]\n",
    "            for i, name in enumerate( cols):\n",
    "                val = s7.util.get_real(data, 4*i)\n",
    "                vals.append(val)\n",
    "            \n",
    "            # write to .csv file\n",
    "            csv_writer.writerow(vals)\n",
    "            csvfile.flush()   ####### important, write while loop is running!!\n",
    "            \n",
    "    except KeyboardInterrupt:\n",
    "        print(f'logging ended by keystroke. Thank you for choosing YoussefLog services.') \n",
    "\n",
    "name = f'../data/petg30gs-up_down-{datetime.date.today()}'  #### CHANGE TO DATA FOLDER\n",
    "if path.isfile(name+'.csv'): \n",
    "    for i in range(1, 100):\n",
    "        if not path.isfile(name + f'({i}).csv'):\n",
    "            name = name + f'({i})'\n",
    "            break\n",
    "    \n",
    "with open(name + '.csv', 'w') as csvfile:\n",
    "    print(f'.csv file created')\n",
    "    log_loop(csvfile)"
   ]
  },
  {
   "cell_type": "markdown",
   "id": "00d3b3dd-2ac7-4028-ac7f-6ee07efe5fd0",
   "metadata": {},
   "source": [
    "### another way of unpacking a database data (Thijs)"
   ]
  },
  {
   "cell_type": "code",
   "execution_count": 43,
   "id": "a1b97cc4-53cc-460a-8a4f-e7752809c648",
   "metadata": {},
   "outputs": [],
   "source": []
  }
 ],
 "metadata": {
  "kernelspec": {
   "display_name": "Python 3",
   "language": "python",
   "name": "python3"
  },
  "language_info": {
   "codemirror_mode": {
    "name": "ipython",
    "version": 3
   },
   "file_extension": ".py",
   "mimetype": "text/x-python",
   "name": "python",
   "nbconvert_exporter": "python",
   "pygments_lexer": "ipython3",
   "version": "3.9.7"
  }
 },
 "nbformat": 4,
 "nbformat_minor": 5
}
