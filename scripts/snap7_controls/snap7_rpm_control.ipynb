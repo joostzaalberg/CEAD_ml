{
 "cells": [
  {
   "cell_type": "code",
   "execution_count": 1,
   "id": "22e4329d-910c-4e37-a345-38a589129ac7",
   "metadata": {},
   "outputs": [
    {
     "name": "stdout",
     "output_type": "stream",
     "text": [
      "imports succesful\n"
     ]
    }
   ],
   "source": [
    "# imports\n",
    "# system related\n",
    "import sys\n",
    "import subprocess\n",
    "\n",
    "# basics\n",
    "import numpy as np\n",
    "import matplotlib\n",
    "import matplotlib.pyplot as plt\n",
    "import pandas as pd\n",
    "from time import sleep\n",
    "\n",
    "# snap7 and logging\n",
    "import snap7 as s7\n",
    "\n",
    "\n",
    "print('imports succesful')"
   ]
  },
  {
   "cell_type": "markdown",
   "id": "5bbc1840-8d47-4820-a573-5fcd98272215",
   "metadata": {},
   "source": [
    "## Connecting to plc"
   ]
  },
  {
   "cell_type": "code",
   "execution_count": 2,
   "id": "2ae03a97-bd5a-4da9-877c-85d6d3d5fd17",
   "metadata": {},
   "outputs": [
    {
     "name": "stderr",
     "output_type": "stream",
     "text": [
      "b' TCP : Unreachable peer'\n"
     ]
    },
    {
     "ename": "RuntimeError",
     "evalue": "b' TCP : Unreachable peer'",
     "output_type": "error",
     "traceback": [
      "\u001b[1;31m---------------------------------------------------------------------------\u001b[0m",
      "\u001b[1;31mRuntimeError\u001b[0m                              Traceback (most recent call last)",
      "Cell \u001b[1;32mIn [2], line 4\u001b[0m\n\u001b[0;32m      1\u001b[0m \u001b[38;5;66;03m# connecting to plc\u001b[39;00m\n\u001b[0;32m      3\u001b[0m plc \u001b[38;5;241m=\u001b[39m s7\u001b[38;5;241m.\u001b[39mclient\u001b[38;5;241m.\u001b[39mClient()\n\u001b[1;32m----> 4\u001b[0m \u001b[43mplc\u001b[49m\u001b[38;5;241;43m.\u001b[39;49m\u001b[43mconnect\u001b[49m\u001b[43m(\u001b[49m\u001b[38;5;124;43m'\u001b[39;49m\u001b[38;5;124;43m192.168.0.19\u001b[39;49m\u001b[38;5;124;43m'\u001b[39;49m\u001b[43m,\u001b[49m\u001b[43m \u001b[49m\u001b[38;5;241;43m0\u001b[39;49m\u001b[43m,\u001b[49m\u001b[43m \u001b[49m\u001b[38;5;241;43m1\u001b[39;49m\u001b[43m,\u001b[49m\u001b[43m \u001b[49m\u001b[43m)\u001b[49m  \u001b[38;5;66;03m# ip, rack, slot\u001b[39;00m\n\u001b[0;32m      6\u001b[0m \u001b[38;5;28mprint\u001b[39m(\u001b[38;5;124mf\u001b[39m\u001b[38;5;124m'\u001b[39m\u001b[38;5;124mconnection status: \u001b[39m\u001b[38;5;132;01m{\u001b[39;00mplc\u001b[38;5;241m.\u001b[39mget_connected()\u001b[38;5;132;01m}\u001b[39;00m\u001b[38;5;124m'\u001b[39m)\n",
      "File \u001b[1;32m~\\AppData\\Roaming\\Python\\Python310\\site-packages\\snap7\\client.py:24\u001b[0m, in \u001b[0;36merror_wrap.<locals>.f\u001b[1;34m(*args, **kw)\u001b[0m\n\u001b[0;32m     22\u001b[0m \u001b[38;5;28;01mdef\u001b[39;00m \u001b[38;5;21mf\u001b[39m(\u001b[38;5;241m*\u001b[39margs, \u001b[38;5;241m*\u001b[39m\u001b[38;5;241m*\u001b[39mkw):\n\u001b[0;32m     23\u001b[0m     code \u001b[38;5;241m=\u001b[39m func(\u001b[38;5;241m*\u001b[39margs, \u001b[38;5;241m*\u001b[39m\u001b[38;5;241m*\u001b[39mkw)\n\u001b[1;32m---> 24\u001b[0m     \u001b[43mcheck_error\u001b[49m\u001b[43m(\u001b[49m\u001b[43mcode\u001b[49m\u001b[43m,\u001b[49m\u001b[43m \u001b[49m\u001b[43mcontext\u001b[49m\u001b[38;5;241;43m=\u001b[39;49m\u001b[38;5;124;43m\"\u001b[39;49m\u001b[38;5;124;43mclient\u001b[39;49m\u001b[38;5;124;43m\"\u001b[39;49m\u001b[43m)\u001b[49m\n",
      "File \u001b[1;32m~\\AppData\\Roaming\\Python\\Python310\\site-packages\\snap7\\common.py:89\u001b[0m, in \u001b[0;36mcheck_error\u001b[1;34m(code, context)\u001b[0m\n\u001b[0;32m     87\u001b[0m error \u001b[38;5;241m=\u001b[39m error_text(code, context)\n\u001b[0;32m     88\u001b[0m logger\u001b[38;5;241m.\u001b[39merror(error)\n\u001b[1;32m---> 89\u001b[0m \u001b[38;5;28;01mraise\u001b[39;00m \u001b[38;5;167;01mRuntimeError\u001b[39;00m(error)\n",
      "\u001b[1;31mRuntimeError\u001b[0m: b' TCP : Unreachable peer'"
     ]
    }
   ],
   "source": [
    "# connecting to plc\n",
    "\n",
    "plc = s7.client.Client()\n",
    "plc.connect('192.168.0.19', 0, 1, )  # ip, rack, slot\n",
    "\n",
    "print(f'connection status: {plc.get_connected()}')"
   ]
  },
  {
   "cell_type": "markdown",
   "id": "9b1e88d3-aa15-475b-bc06-18632e8fec61",
   "metadata": {},
   "source": [
    "## Defining get & set functions for plc variables"
   ]
  },
  {
   "cell_type": "code",
   "execution_count": 8,
   "id": "97808aef-688a-4cf3-bbf0-f5bfc9423e7f",
   "metadata": {},
   "outputs": [],
   "source": [
    "# Defining read/write functions\n",
    "\n",
    "def get_bool(db_number, start_offset, bit_offset=0):\n",
    "    data = plc.db_read(db_number, start_offset, 1) # read 1 bite\n",
    "    value = s7.util.get_bool(data, 0, bit_offset)\n",
    "    # print(f'db number: {db_number}, bit: {start_offset}, has boolean value: {value}')\n",
    "    return value\n",
    "    \n",
    "def set_bool(db_number, start_offset, value, bit_offset=0):\n",
    "    data = plc.db_read(db_number, start_offset, 1) # read 1 bite\n",
    "    s7.util.set_bool(data, 0, bit_offset, value)\n",
    "    plc.db_write(db_number, start_offset, data)\n",
    "    return None\n",
    "\n",
    "\n",
    "def get_real(db_number, start_offset):\n",
    "    data =  plc.db_read(db_number, start_offset, 4) # read 4 bites\n",
    "    real = s7.util.get_real(data, 0)\n",
    "    return real\n",
    "\n",
    "def set_real(db_number, start_offset, value):\n",
    "    data =  plc.db_read(db_number, start_offset, 4) # read 4 bites\n",
    "    s7.util.set_real(data, 0, value)\n",
    "    plc.db_write(db_number, start_offset, data)\n",
    "    return None\n",
    "\n",
    "\n",
    "\n",
    "    \n"
   ]
  },
  {
   "cell_type": "markdown",
   "id": "e2404e10-e794-4564-91cb-30ad8b3b125a",
   "metadata": {},
   "source": [
    "## Creating RPMs to loop thru"
   ]
  },
  {
   "cell_type": "code",
   "execution_count": 9,
   "id": "2982f58a-b10e-4452-88af-ecc1e1759e45",
   "metadata": {},
   "outputs": [
    {
     "name": "stdout",
     "output_type": "stream",
     "text": [
      "RPMs to loop thru, in pairs of 50:\n",
      "\n",
      "  1 to  51| 22 33 24 35 32 23 34 26 23 32 33 24 33 28 24 25 24 30 22 35 26 27 29 30 23 24 26 29 23 34 35 25 37 24 25 26 23 34 28 30 32 26 27 34 32 26 36 33 27 33\n",
      " 50 to 100| 31 29 34 33 37 35 23 24 32 37 35 23 24 23 25 34 32 36 31 25 36 28 37 31 24 29 27 30 28 27 26 36 23 24 30 31 26 33 32 29 23 31 35 36 26 36 37 30 36 34\n",
      "100 to 150| 29 32 37 34 32 31 28 25 31 27 34 35 24 33 36 32 31 35 27 33 35 34 37 26 37 35 31 29 31 34 36 30 31 22 29 22 24 25 32 26 27 33 30 32 33 31 24 34 35 33\n",
      "150 to 200| 30 35 36 31 26 27 25 26 29 24 26 28 32 27 35 26 24 27 33 24 27 26 28 32 23 24 26 36 28 30 25 22 37 27 24 36 24 35 26 23 36 33 36 24 32 27 34 28 24 29\n",
      "200 to 250| 25 29 22 25 26 35 31 24 31 33 31 23 29 35 34 35 34 30 37 34 36 37 32 33 31 29 35 31 37 26 33 27 30 37 32 23 27 26 31 35 24 35 23 37 25 24 34 35 23 34\n",
      "250 to 300| 27 28 30 32 36 33 36 26 22 32 27 33 32 35 25 37 34 32 24 34 32 28 23 30 35 33 34 28 32 23 24 29 28 37 26 30 37 25 24 31 28 32 35 31 34 26 37 34 33 23\n",
      "300 to 350| 22 33 37 26 27 37 32 26 31 25 23 27 26 25 24 23 30 26 32 23 33 34 26 31 23 37 31 26 36 28 31 26 29 28 26 29 23 32 36 25 35 36 29 37 35 30 25 27 34 33\n",
      "350 to 400| 32 25 33 23 24 30 28 24 34 23 26 31 25 36 32 22 30 33 35 36 28 27 37 36 23 26 25 24 35 30 27 32 23 32 33 26 24 27 31 26 34 37 36 33 34 28 34 28 29 24\n",
      "400 to 450| 33 22 23 37 28 26 27 37 32 28 27 34 28 30 36 23 31 26 34 29 36 23 22 23 30 34 30 36 32 31 26 27 25 35 26 23 32 33 23 31 30 27 34 31 26 34 30 23 29 28\n",
      "450 to 500| 33 28 35 31 34 25 37 28 31 29 31 26 36 31 22 30 32 31 26 27 36 28 25 24 33 34 30 23 34 24 22 24 23 31 33 32 36 35 28 30 36 34 22 31 26 25 23 35 27 34\n",
      "500 to 550| 37 31 25 30 29 32 30 24 33 32 26 35 27 29 37 34 25 22 25 34 35 34 32 24 32 23 30 36 30 29 37 25 23 26 24 27 28 30 28 30 31 29 36 28 23 29 32 27 33 24\n",
      "550 to 600| 28 30 23 24 30 28 37 27 29 30 27 35 31 27 28 34 36 37 30 23 33 37 33 31 37 28 29 33 34 35 26 24 26 34 32 24 32 28 27 26 33 34 33 32 22 27 23 25 33 30\n",
      "600 to 650| 32 24 33 28 25 24 33 26 33 35 30 36 30 33 32 25 33 26 28 34 29 32 22 23 29 33 32 37 29 27 29 22 35 26 31 36 33 31 27 26 36 30 32 36 25 23 34 29 31 29\n",
      "650 to 700| 34 33 37 27 29 33 30 35 23 35 31 34 24 35 37 28 26 33 36 26 33 26 25 32 26 23 26 36 28 23 32 34 30 31 33 31 35 25 30 24 35 32 31 24 33 25 29 23 25 26\n",
      "700 to 750| 27 24 30 35 28 31 25 33 24 35 28 26 35 30 25 32 30 33 25 30 23 24 22 28 23 32 33 26 27 31 27 22 27 36 32 25 34 29 32 24 27 33 37 33 35 29 32 31 33 32\n",
      "750 to 800| 26 27 32 23 37 31 36 23 37 22 23 33 34 30 29 31 36 33 35 29 34 23 26 23 35 30 34 33 24 37 25 27 22 34 25 23 26 35 27 33 32 24 32 35 30 25 23 31 28 27\n",
      "800 to 850| 37 25 27 30 35 33 25 30 35 27 26 31 28 36 30 29 24 32 24 32 33 28 36 35 24 36 23 29 24 35 23 22 28 31 25 35 29 30 28 34 27 30 32 36 30 23 31 28 27 35\n",
      "850 to 900| 25 33 31 28 22 33 35 33 34 32 29 31 27 28 33 25 27 24 33 37 31 23 34 37 24 33 32 26 22 25 28 35 36 33 29 26 34 35 34 36 30 27 24 31 25 33 32 33 30 28\n",
      "900 to 950| 33 34 33 27 36 25 29 37 26 35 24 33 30 27 23 26 25 27 37 35 29 27 35 37 24 37 35 31 27 26 34 35 29 33 31 23 30 35 27 25 31 24 30 25 29 35 29 31 35 31\n",
      "950 to 1000| 28 34 26 24 31 27 34 28 27 23 25 33 35 30 37 36 27 33 24 33 28 37 34 28 32 33 27 35 24 35 30 25 23 32 22 27 36 33 24 22 25 23 26 30 28 27 23 33 37 30\n",
      "1000 to 1050| 34 31 27 28 33 22 36 33 25 30 31 37 31 25 35 24 32 34 26 22 30 24 36 34 28 24 27 31 32 26 24 23 33 36 22 34 24 28 30 23 28 30 35 36 25 31 27 26 29 26\n",
      "1050 to 1100| 37 34 31 35 24 36 34 36 22 25 36 28 25 34 32 25 33 34 27 30 24 34 27 30 26 32 25 27 32 26 24 36 27 24 32 36 24 30 29 32 31 33 28 29 36 33 25 26 31 27\n",
      "1100 to 1150| 24 25 22 29 34 22 37 27 34 23 35 \n",
      "Expected run time: 92.58333333333333 minutes\n"
     ]
    }
   ],
   "source": [
    "# creating random values to loop thru\n",
    "\n",
    "############ CHECK THESE VAls!!\n",
    "\n",
    "min_rpm = 22\n",
    "max_rpm = 37\n",
    "d_rpm =   1\n",
    "num_values = 1111\n",
    "\n",
    "rpm_interval = 5  # s\n",
    "\n",
    "\n",
    "rpms = [min_rpm]\n",
    "\n",
    "\n",
    "while len(rpms) < num_values:\n",
    "    # create random rpm value\n",
    "    rpm = int(np.round(np.random.uniform(min_rpm, max_rpm),0))\n",
    "    # append if difference is high enough. \n",
    "    if abs(rpm-rpms[-1]) >= d_rpm:\n",
    "        rpms.append(rpm)\n",
    "\n",
    "print_cols = 50\n",
    "print(f'RPMs to loop thru, in pairs of {print_cols}:\\n') \n",
    "\n",
    "print(f'  {1} to  {print_cols+1}| ', end='')\n",
    "for i, val in enumerate(rpms):\n",
    "    if (i+1)%print_cols != 0:\n",
    "        print(val, end=' ')\n",
    "    else: \n",
    "        if i == 49:\n",
    "            print(val, end =f'\\n {i+1} to {i+print_cols+1}| ')\n",
    "        else:\n",
    "            if i+1 == num_values:\n",
    "                print(val)\n",
    "            else:\n",
    "                print(val, end =f'\\n{i+1} to {i+print_cols+1}| ')\n",
    "print(f'\\nExpected run time: {len(rpms)*rpm_interval/60} minutes')\n"
   ]
  },
  {
   "cell_type": "markdown",
   "id": "b7ef04b5-c432-41a4-8d15-53a4fce34eb4",
   "metadata": {},
   "source": [
    "## Defining DB number and start offsets for the variables"
   ]
  },
  {
   "cell_type": "code",
   "execution_count": 10,
   "id": "634396c0-2109-4a32-bdea-a8c7b9b7d347",
   "metadata": {},
   "outputs": [],
   "source": [
    "db_py = 50\n",
    "\n",
    "# defining start_offsets (so) for the variables in the DB50\n",
    "so_rpm = 0\n",
    "so_hz1 = 4\n",
    "so_hz2 = 8\n",
    "so_hz3 = 12\n",
    "so_hz4 = 16\n"
   ]
  },
  {
   "cell_type": "code",
   "execution_count": 11,
   "id": "59b9ba16-fe4b-4a6b-9842-b78f34193cad",
   "metadata": {},
   "outputs": [
    {
     "name": "stderr",
     "output_type": "stream",
     "text": [
      "b' ISO : An error occurred during send TCP : Connection timed out'\n"
     ]
    },
    {
     "ename": "RuntimeError",
     "evalue": "b' ISO : An error occurred during send TCP : Connection timed out'",
     "output_type": "error",
     "traceback": [
      "\u001b[1;31m---------------------------------------------------------------------------\u001b[0m",
      "\u001b[1;31mRuntimeError\u001b[0m                              Traceback (most recent call last)",
      "Cell \u001b[1;32mIn [11], line 5\u001b[0m\n\u001b[0;32m      3\u001b[0m \u001b[38;5;28;01mtry\u001b[39;00m:\n\u001b[0;32m      4\u001b[0m     \u001b[38;5;28;01mfor\u001b[39;00m i, rpm \u001b[38;5;129;01min\u001b[39;00m \u001b[38;5;28menumerate\u001b[39m(rpms):\n\u001b[1;32m----> 5\u001b[0m         \u001b[43mset_real\u001b[49m\u001b[43m(\u001b[49m\u001b[43mdb_py\u001b[49m\u001b[43m,\u001b[49m\u001b[43m \u001b[49m\u001b[43mso_rpm\u001b[49m\u001b[43m,\u001b[49m\u001b[43m \u001b[49m\u001b[43mrpm\u001b[49m\u001b[43m)\u001b[49m\n\u001b[0;32m      6\u001b[0m         \u001b[38;5;28mprint\u001b[39m(\u001b[38;5;124mf\u001b[39m\u001b[38;5;124m'\u001b[39m\u001b[38;5;124mProgress: |\u001b[39m\u001b[38;5;132;01m{\u001b[39;00m\u001b[38;5;28mint\u001b[39m(\u001b[38;5;241m100\u001b[39m\u001b[38;5;241m*\u001b[39m(i\u001b[38;5;241m+\u001b[39m\u001b[38;5;241m1\u001b[39m)\u001b[38;5;241m/\u001b[39m\u001b[38;5;28mlen\u001b[39m(rpms))\u001b[38;5;241m*\u001b[39m\u001b[38;5;124m\"\u001b[39m\u001b[38;5;124m█\u001b[39m\u001b[38;5;124m\"\u001b[39m \u001b[38;5;241m+\u001b[39m \u001b[38;5;28mint\u001b[39m((\u001b[38;5;241m100\u001b[39m\u001b[38;5;241m*\u001b[39m(\u001b[38;5;241m1\u001b[39m\u001b[38;5;241m-\u001b[39m(i\u001b[38;5;241m+\u001b[39m\u001b[38;5;241m1\u001b[39m)\u001b[38;5;241m/\u001b[39m\u001b[38;5;28mlen\u001b[39m(rpms))))\u001b[38;5;241m*\u001b[39m\u001b[38;5;124m\"\u001b[39m\u001b[38;5;124m-\u001b[39m\u001b[38;5;124m\"\u001b[39m\u001b[38;5;132;01m}\u001b[39;00m\u001b[38;5;124m| \u001b[39m\u001b[38;5;132;01m{\u001b[39;00mnp\u001b[38;5;241m.\u001b[39mround((i\u001b[38;5;241m+\u001b[39m\u001b[38;5;241m1\u001b[39m)\u001b[38;5;241m/\u001b[39m\u001b[38;5;28mlen\u001b[39m(rpms)\u001b[38;5;241m*\u001b[39m\u001b[38;5;241m100\u001b[39m ,\u001b[38;5;241m1\u001b[39m)\u001b[38;5;132;01m}\u001b[39;00m\u001b[38;5;124m% |\u001b[39m\u001b[38;5;132;01m{\u001b[39;00mi\u001b[38;5;241m+\u001b[39m\u001b[38;5;241m1\u001b[39m\u001b[38;5;132;01m}\u001b[39;00m\u001b[38;5;124m/\u001b[39m\u001b[38;5;132;01m{\u001b[39;00m\u001b[38;5;28mlen\u001b[39m(rpms)\u001b[38;5;132;01m}\u001b[39;00m\u001b[38;5;124m | ETA: \u001b[39m\u001b[38;5;132;01m{\u001b[39;00mnp\u001b[38;5;241m.\u001b[39mround((\u001b[38;5;28mlen\u001b[39m(rpms)\u001b[38;5;241m-\u001b[39mi)\u001b[38;5;241m*\u001b[39mrpm_interval\u001b[38;5;241m/\u001b[39m\u001b[38;5;241m60\u001b[39m,\u001b[38;5;241m1\u001b[39m)\u001b[38;5;132;01m}\u001b[39;00m\u001b[38;5;124m min | RPM: \u001b[39m\u001b[38;5;132;01m{\u001b[39;00mget_real(db_py, so_rpm)\u001b[38;5;132;01m}\u001b[39;00m\u001b[38;5;124m'\u001b[39m, end\u001b[38;5;241m=\u001b[39m\u001b[38;5;124m'\u001b[39m\u001b[38;5;130;01m\\r\u001b[39;00m\u001b[38;5;124m'\u001b[39m)\n\u001b[0;32m      7\u001b[0m         sleep(rpm_interval)\n",
      "Cell \u001b[1;32mIn [8], line 22\u001b[0m, in \u001b[0;36mset_real\u001b[1;34m(db_number, start_offset, value)\u001b[0m\n\u001b[0;32m     21\u001b[0m \u001b[38;5;28;01mdef\u001b[39;00m \u001b[38;5;21mset_real\u001b[39m(db_number, start_offset, value):\n\u001b[1;32m---> 22\u001b[0m     data \u001b[38;5;241m=\u001b[39m  \u001b[43mplc\u001b[49m\u001b[38;5;241;43m.\u001b[39;49m\u001b[43mdb_read\u001b[49m\u001b[43m(\u001b[49m\u001b[43mdb_number\u001b[49m\u001b[43m,\u001b[49m\u001b[43m \u001b[49m\u001b[43mstart_offset\u001b[49m\u001b[43m,\u001b[49m\u001b[43m \u001b[49m\u001b[38;5;241;43m4\u001b[39;49m\u001b[43m)\u001b[49m \u001b[38;5;66;03m# read 4 bites\u001b[39;00m\n\u001b[0;32m     23\u001b[0m     s7\u001b[38;5;241m.\u001b[39mutil\u001b[38;5;241m.\u001b[39mset_real(data, \u001b[38;5;241m0\u001b[39m, value)\n\u001b[0;32m     24\u001b[0m     plc\u001b[38;5;241m.\u001b[39mdb_write(db_number, start_offset, data)\n",
      "File \u001b[1;32m~\\AppData\\Roaming\\Python\\Python310\\site-packages\\snap7\\client.py:226\u001b[0m, in \u001b[0;36mClient.db_read\u001b[1;34m(self, db_number, start, size)\u001b[0m\n\u001b[0;32m    222\u001b[0m data \u001b[38;5;241m=\u001b[39m (type_ \u001b[38;5;241m*\u001b[39m size)()\n\u001b[0;32m    223\u001b[0m result \u001b[38;5;241m=\u001b[39m (\u001b[38;5;28mself\u001b[39m\u001b[38;5;241m.\u001b[39m_library\u001b[38;5;241m.\u001b[39mCli_DBRead(\n\u001b[0;32m    224\u001b[0m     \u001b[38;5;28mself\u001b[39m\u001b[38;5;241m.\u001b[39m_pointer, db_number, start, size,\n\u001b[0;32m    225\u001b[0m     byref(data)))\n\u001b[1;32m--> 226\u001b[0m \u001b[43mcheck_error\u001b[49m\u001b[43m(\u001b[49m\u001b[43mresult\u001b[49m\u001b[43m,\u001b[49m\u001b[43m \u001b[49m\u001b[43mcontext\u001b[49m\u001b[38;5;241;43m=\u001b[39;49m\u001b[38;5;124;43m\"\u001b[39;49m\u001b[38;5;124;43mclient\u001b[39;49m\u001b[38;5;124;43m\"\u001b[39;49m\u001b[43m)\u001b[49m\n\u001b[0;32m    227\u001b[0m \u001b[38;5;28;01mreturn\u001b[39;00m \u001b[38;5;28mbytearray\u001b[39m(data)\n",
      "File \u001b[1;32m~\\AppData\\Roaming\\Python\\Python310\\site-packages\\snap7\\common.py:89\u001b[0m, in \u001b[0;36mcheck_error\u001b[1;34m(code, context)\u001b[0m\n\u001b[0;32m     87\u001b[0m error \u001b[38;5;241m=\u001b[39m error_text(code, context)\n\u001b[0;32m     88\u001b[0m logger\u001b[38;5;241m.\u001b[39merror(error)\n\u001b[1;32m---> 89\u001b[0m \u001b[38;5;28;01mraise\u001b[39;00m \u001b[38;5;167;01mRuntimeError\u001b[39;00m(error)\n",
      "\u001b[1;31mRuntimeError\u001b[0m: b' ISO : An error occurred during send TCP : Connection timed out'"
     ]
    }
   ],
   "source": [
    "# for loop true random rpms\n",
    "\n",
    "try:\n",
    "    for i, rpm in enumerate(rpms):\n",
    "        set_real(db_py, so_rpm, rpm)\n",
    "        print(f'Progress: |{int(100*(i+1)/len(rpms))*\"█\" + int((100*(1-(i+1)/len(rpms))))*\"-\"}| {np.round((i+1)/len(rpms)*100 ,1)}% |{i+1}/{len(rpms)} | ETA: {np.round((len(rpms)-i)*rpm_interval/60,1)} min | RPM: {get_real(db_py, so_rpm)}', end='\\r')\n",
    "        sleep(rpm_interval)\n",
    "        \n",
    "except KeyboardInterrupt:\n",
    "    print('Sending RPMs interupted by keystroke                                                         It came this far: ')\n",
    "\n",
    "print('all rpms have been sent, the job is finished')"
   ]
  },
  {
   "cell_type": "code",
   "execution_count": 6,
   "id": "a27d8e93-0708-41c0-8b5d-269382942ed1",
   "metadata": {},
   "outputs": [],
   "source": [
    "# start make datalog function for ixon db"
   ]
  },
  {
   "cell_type": "code",
   "execution_count": 7,
   "id": "ea3be692-7a78-4836-9556-139ba4de0ca8",
   "metadata": {},
   "outputs": [
    {
     "name": "stdout",
     "output_type": "stream",
     "text": [
      "[22, 37, 22, 37, 22, 37, 22, 37, 22, 37, 22, 37, 22, 37, 22, 37, 22, 37, 22, 37, 22, 37, 22, 37, 22, 37, 22, 37, 22, 37, 22, 37, 22, 37, 22, 37, 22, 37, 22, 37, 22, 37, 22, 37, 22, 37, 22, 37, 22, 37, 22, 37, 22, 37, 22, 37, 22, 37, 22, 37, 22, 37, 22, 37, 22, 37, 22, 37, 22, 37, 22, 37, 22, 37, 22, 37, 22, 37, 22, 37, 22, 37, 22, 37, 22, 37, 22, 37, 22, 37, 22, 37, 22, 37, 22, 37, 22, 37, 22, 37, 22, 37, 22, 37, 22, 37, 22, 37, 22, 37, 22, 37, 22, 37, 22, 37, 22, 37, 22, 37, 22, 37, 22, 37, 22, 37, 22, 37, 22, 37, 22, 37, 22, 37, 22, 37, 22, 37, 22, 37, 22, 37, 22, 37, 22, 37, 22, 37, 22, 37, 22, 37, 22, 37, 22, 37, 22, 37, 22, 37, 22, 37, 22, 37, 22, 37, 22, 37, 22, 37, 22, 37, 22, 37, 22, 37, 22, 37, 22, 37, 22, 37, 22, 37, 22, 37, 22, 37, 22, 37, 22, 37, 22, 37, 22, 37, 22, 37, 22, 37, 22, 37, 22, 37, 22, 37, 22, 37, 22, 37, 22, 37, 22, 37, 22, 37, 22, 37, 22, 37, 22, 37, 22, 37, 22, 37, 22, 37, 22, 37, 22, 37, 22, 37, 22, 37, 22, 37, 22, 37, 22, 37, 22, 37, 22, 37, 22, 37, 22, 37, 22, 37, 22, 37, 22, 37, 22, 37, 22, 37, 22, 37, 22, 37, 22, 37, 22, 37, 22, 37, 22, 37, 22, 37, 22, 37, 22, 37, 22, 37, 22, 37, 22, 37, 22, 37, 22, 37, 22, 37, 22, 37, 22, 37, 22, 37, 22, 37, 22, 37]\n"
     ]
    }
   ],
   "source": [
    "up_down = [min_rpm, max_rpm] * 150\n",
    "\n",
    "print(up_down)"
   ]
  },
  {
   "cell_type": "code",
   "execution_count": 96,
   "id": "1e05b5bc-72f4-42b9-938a-e6f73f51dd96",
   "metadata": {},
   "outputs": [
    {
     "name": "stdout",
     "output_type": "stream",
     "text": [
      "Sending RPMs interupted by keystroke                                                         It came this far: | 19.0% |57/300 | ETA: 20.3 min | RPM: 22.0\n"
     ]
    }
   ],
   "source": [
    "try:\n",
    "    for i, rpm in enumerate(up_down):\n",
    "        set_real(db_py, so_rpm, rpm)\n",
    "        print(f'Progress: |{int(100*(i+1)/len(up_down))*\"█\" + int((100*(1-(i+1)/len(up_down))))*\"-\"}| {np.round((i+1)/len(up_down)*100 ,1)}% |{i+1}/{len(up_down)} | ETA: {np.round((len(up_down)-i)*rpm_interval/60,1)} min | RPM: {get_real(db_py, so_rpm)}', end='\\r')\n",
    "        sleep(rpm_interval)\n",
    "        \n",
    "except KeyboardInterrupt:\n",
    "    print('Sending RPMs interupted by keystroke                                                         It came this far: ')\n",
    "\n",
    "\n",
    "print('job finished')\n"
   ]
  },
  {
   "cell_type": "code",
   "execution_count": 6,
   "id": "e1309c52-374e-4533-8d7d-9c75effc7f3e",
   "metadata": {},
   "outputs": [
    {
     "data": {
      "text/plain": [
       "1"
      ]
     },
     "execution_count": 6,
     "metadata": {},
     "output_type": "execute_result"
    }
   ],
   "source": [
    "1"
   ]
  },
  {
   "cell_type": "code",
   "execution_count": null,
   "id": "b1c4c41d-1349-4e01-a5f9-5f858f0f831b",
   "metadata": {},
   "outputs": [],
   "source": []
  }
 ],
 "metadata": {
  "kernelspec": {
   "display_name": "Python 3 (ipykernel)",
   "language": "python",
   "name": "python3"
  },
  "language_info": {
   "codemirror_mode": {
    "name": "ipython",
    "version": 3
   },
   "file_extension": ".py",
   "mimetype": "text/x-python",
   "name": "python",
   "nbconvert_exporter": "python",
   "pygments_lexer": "ipython3",
   "version": "3.10.6"
  }
 },
 "nbformat": 4,
 "nbformat_minor": 5
}
