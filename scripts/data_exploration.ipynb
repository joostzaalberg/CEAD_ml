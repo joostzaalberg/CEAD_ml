{
 "cells": [
  {
   "cell_type": "markdown",
   "id": "66bc6b70-6b8e-40ba-8378-fc59e07c14a2",
   "metadata": {},
   "source": [
    "# CEAD ML project on the Ringenprinter. \n",
    "\n",
    "### Welcome to the Notebook in which I will explore and visualize the data of the collected data.  \n"
   ]
  },
  {
   "cell_type": "code",
   "execution_count": null,
   "id": "5d21bbe2-c0f7-4073-9cde-cbce23e15a5e",
   "metadata": {},
   "outputs": [],
   "source": [
    "# imports\n"
   ]
  }
 ],
 "metadata": {
  "kernelspec": {
   "display_name": "Python 3 (ipykernel)",
   "language": "python",
   "name": "python3"
  },
  "language_info": {
   "codemirror_mode": {
    "name": "ipython",
    "version": 3
   },
   "file_extension": ".py",
   "mimetype": "text/x-python",
   "name": "python",
   "nbconvert_exporter": "python",
   "pygments_lexer": "ipython3",
   "version": "3.10.6"
  }
 },
 "nbformat": 4,
 "nbformat_minor": 5
}
