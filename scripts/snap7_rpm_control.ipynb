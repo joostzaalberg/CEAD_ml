{
 "cells": [
  {
   "cell_type": "code",
   "execution_count": 80,
   "id": "22e4329d-910c-4e37-a345-38a589129ac7",
   "metadata": {},
   "outputs": [
    {
     "name": "stdout",
     "output_type": "stream",
     "text": [
      "imports succesful\n"
     ]
    }
   ],
   "source": [
    "# imports\n",
    "# system related\n",
    "import sys\n",
    "import subprocess\n",
    "\n",
    "# basics\n",
    "import numpy as np\n",
    "import matplotlib\n",
    "import matplotlib.pyplot as plt\n",
    "import pandas as pd\n",
    "from time import sleep\n",
    "\n",
    "# snap7 and logging\n",
    "import snap7 as s7\n",
    "\n",
    "\n",
    "print('imports succesful')"
   ]
  },
  {
   "cell_type": "markdown",
   "id": "5bbc1840-8d47-4820-a573-5fcd98272215",
   "metadata": {},
   "source": [
    "## Connecting to plc"
   ]
  },
  {
   "cell_type": "code",
   "execution_count": 81,
   "id": "2ae03a97-bd5a-4da9-877c-85d6d3d5fd17",
   "metadata": {},
   "outputs": [
    {
     "name": "stdout",
     "output_type": "stream",
     "text": [
      "connection status: True\n"
     ]
    }
   ],
   "source": [
    "# connecting to plc\n",
    "\n",
    "plc = s7.client.Client()\n",
    "plc.connect('192.168.0.19', 0, 1, )  # ip, rack, slot\n",
    "\n",
    "print(f'connection status: {plc.get_connected()}')"
   ]
  },
  {
   "cell_type": "markdown",
   "id": "9b1e88d3-aa15-475b-bc06-18632e8fec61",
   "metadata": {},
   "source": [
    "## Defining get & set functions for plc variables"
   ]
  },
  {
   "cell_type": "code",
   "execution_count": 82,
   "id": "97808aef-688a-4cf3-bbf0-f5bfc9423e7f",
   "metadata": {},
   "outputs": [],
   "source": [
    "# Defining read/write functions\n",
    "\n",
    "def get_bool(db_number, start_offset, bit_offset=0):\n",
    "    data = plc.db_read(db_number, start_offset, 1) # read 1 bite\n",
    "    value = s7.util.get_bool(data, 0, bit_offset)\n",
    "    # print(f'db number: {db_number}, bit: {start_offset}, has boolean value: {value}')\n",
    "    return value\n",
    "    \n",
    "def set_bool(db_number, start_offset, value, bit_offset=0):\n",
    "    data = plc.db_read(db_number, start_offset, 1) # read 1 bite\n",
    "    s7.util.set_bool(data, 0, bit_offset, value)\n",
    "    plc.db_write(db_number, start_offset, data)\n",
    "    return None\n",
    "\n",
    "\n",
    "def get_real(db_number, start_offset):\n",
    "    data =  plc.db_read(db_number, start_offset, 4) # read 4 bites\n",
    "    real = s7.util.get_real(data, 0)\n",
    "    return real\n",
    "\n",
    "def set_real(db_number, start_offset, value):\n",
    "    data =  plc.db_read(db_number, start_offset, 4) # read 4 bites\n",
    "    s7.util.set_real(data, 0, value)\n",
    "    plc.db_write(db_number, start_offset, data)\n",
    "    return None\n",
    "\n",
    "\n",
    "\n",
    "    \n"
   ]
  },
  {
   "cell_type": "markdown",
   "id": "e2404e10-e794-4564-91cb-30ad8b3b125a",
   "metadata": {},
   "source": [
    "## Creating RPMs to loop thru"
   ]
  },
  {
   "cell_type": "code",
   "execution_count": 83,
   "id": "2982f58a-b10e-4452-88af-ecc1e1759e45",
   "metadata": {},
   "outputs": [
    {
     "name": "stdout",
     "output_type": "stream",
     "text": [
      "RPMs to loop thru, in pairs of 50:\n",
      "\n",
      "  1 to  51| 22 34 37 32 33 34 35 25 35 23 28 30 31 29 34 32 29 25 27 30 25 32 35 25 34 23 22 30 34 32 30 24 32 29 28 27 23 30 36 25 28 33 27 25 24 37 24 30 29 33\n",
      " 50 to 100| 36 37 36 24 31 27 26 33 35 22 33 36 35 22 26 29 24 35 29 25 32 36 28 30 32 26 27 36 28 23 30 36 24 23 28 35 32 26 22 32 30 29 25 22 24 28 25 33 35 36\n",
      "100 to 150| 35 34 31 35 23 31 22 28 29 27 31 22 23 31 36 32 25 22 34 28 33 31 35 36 28 31 36 22 27 37 25 32 37 22 36 34 31 32 24 36 26 32 28 32 35 27 36 23 32 25\n",
      "150 to 200| 24 37 22 31 32 29 28 27 34 24 27 36 32 34 22 25 23 22 30 33 31 27 33 28 29 35 23 37 33 35 33 35 25 31 30 24 25 23 36 30 25 24 23 32 34 33 35 28 27 23\n",
      "200 to 250| 34 22 35 34 36 23 34 32 23 32 29 36 31 32 28 31 29 27 35 27 26 36 31 27 24 31 28 23 25 23 31 29 34 33 24 29 31 33 31 37 32 25 30 23 31 22 31 30 29 24\n",
      "250 to 300| 29 35 25 30 26 33 35 29 24 31 29 31 35 33 32 25 33 34 23 32 29 25 28 32 34 24 28 25 28 24 36 26 22 24 27 35 30 24 36 24 23 34 28 33 25 33 24 36 24 26\n",
      "300 to 350| 23 32 30 29 27 36 37 22 31 36 31 25 36 23 29 33 26 25 36 29 26 29 34 31 36 33 30 28 24 28 36 23 22 30 24 27 33 26 22 25 27 30 36 23 36 28 33 29 32 34\n",
      "350 to 400| 28 25 36 31 28 25 31 25 34 29 28 26 27 26 30 26 31 34 25 35 30 36 23 26 28 26 28 36 33 29 26 33 32 29 33 36 24 27 25 24 28 31 23 35 23 32 33 36 24 33\n",
      "400 to 450| 25 29 23 28 35 27 24 28 36 29 26 32 24 23 30 36 29 26 23 27 32 22 35 36 30 22 29 28 34 31 27 34 37 27 32 24 29 34 36 23 32 27 33 37 32 23 35 30 26 29\n",
      "450 to 500| 27 26 33 24 29 34 30 35 33 37 32 35 28 37 32 28 23 34 26 34 30 25 26 33 23 35 33 25 26 29 33 24 37 25 34 24 35 27 30 34 35 28 26 24 32 28 27 34 24 29\n",
      "500 to 550| 35 23 30 35 28 22 28 36 26 30 26 34 28 32 23 29 25 34 24 31 23 32 25 34 33 30 32 30 34 25 31 25 33 31 23 30 27 23 27 34 30 33 35 29 37 23 27 33 26 24\n",
      "550 to 600| 32 27 31 29 35 36 31 22 27 23 28 31 26 31 30 35 29 33 27 32 35 36 26 36 23 36 25 37 25 35 22 34 35 31 25 26 27 32 31 23 31 24 26 31 28 30 34 37 31 36\n",
      "600 to 650| 37 27 31 32 28 31 35 22 25 29 33 25 30 34 24 34 27 25 32 26 35 33 35 26 35 36 24 23 31 30 29 35 33 24 27 36 30 25 22 31 34 25 37 33 28 32 34 33 25 27\n",
      "650 to 700| 31 32 33 23 29 35 37 34 24 30 28 34 31 26 25 32 27 28 33 32 23 26 34 30 22 28 27 29 27 34 35 34 26 25 29 24 34 35 28 29 26 32 36 31 36 25 29 36 33 35\n",
      "700 to 750| 24 25 31 23 31 25 28 26 22 29 36 28 35 24 30 29 25 34 31 30 26 29 35 23 34 24 29 33 23 27 29 36 25 26 27 22 37 29 23 35 33 26 23 27 32 28 33 25 34 27\n",
      "750 to 800| 31 29 35 33 28 36 22 25 30 24 25 31 32 26 24 27 34 27 35 27 30 22 32 31 34 27 26 33 23 35 30 24 27 32 25 27 24 23 27 30 36 29 37 35 28 26 27 28 25 27\n",
      "800 to 850| 31 23 36 31 23 31 32 35 30 28 35 36 32 23 36 33 37 24 37 24 30 26 28 23 32 30 24 25 36 23 31 28 30 23 28 31 34 28 36 23 35 34 35 28 35 31 34 35 26 31\n",
      "850 to 900| 27 28 25 36 31 30 35 25 32 30 29 34 27 30 28 34 22 26 32 34 28 31 25 33 24 27 35 36 33 23 35 26 31 28 31 28 24 25 22 27 36 27 23 34 30 25 23 33 25 36\n",
      "900 to 950| 31 26 35 27 28 31 37 32 24 34 24 32 23 34 23 34 30 32 35 22 33 31 28 36 30 37 33 31 37 34 31 28 30 25 23 24 34 35 27 36 34 29 22 25 24 25 30 34 23 36\n",
      "950 to 1000| 27 23 30 35 31 22 29 35 34 31 32 26 24 35 27 37 35 30 31 28 26 23 22 27 26 35 22 26 29 27 29 24 30 23 22 23 35 23 28 37 27 29 31 32 34 30 23 29 33 25\n",
      "1000 to 1050| 27 25 23 32 23 31 26 31 25 36 24 26 28 22 30 33 24 29 36 31 34 23 25 36 31 26 35 30 34 31 24 34 27 22 29 37 36 24 25 26 25 28 35 24 26 31 35 32 37 33\n",
      "1050 to 1100| 25 33 34 26 27 24 23 30 34 22 33 24 31 37 28 25 34 28 36 28 31 29 27 28 36 24 34 36 30 26 32 33 23 37 32 25 23 25 31 35 31 36 35 27 30 32 35 34 36 32\n",
      "1100 to 1150| 35 28 32 28 22 25 27 34 33 36 34 \n",
      "Expected run time: 92.58333333333333 minutes\n"
     ]
    }
   ],
   "source": [
    "# creating random values to loop thru\n",
    "\n",
    "############ CHECK THESE VAls!!\n",
    "\n",
    "min_rpm = 22\n",
    "max_rpm = 37\n",
    "d_rpm =   1\n",
    "num_values = 1111\n",
    "\n",
    "rpm_interval = 5  # s\n",
    "\n",
    "\n",
    "rpms = [min_rpm]\n",
    "\n",
    "\n",
    "while len(rpms) < num_values:\n",
    "    # create random rpm value\n",
    "    rpm = int(np.round(np.random.uniform(min_rpm, max_rpm),0))\n",
    "    # append if difference is high enough. \n",
    "    if abs(rpm-rpms[-1]) >= d_rpm:\n",
    "        rpms.append(rpm)\n",
    "\n",
    "print_cols = 50\n",
    "print(f'RPMs to loop thru, in pairs of {print_cols}:\\n') \n",
    "\n",
    "print(f'  {1} to  {print_cols+1}| ', end='')\n",
    "for i, val in enumerate(rpms):\n",
    "    if (i+1)%print_cols != 0:\n",
    "        print(val, end=' ')\n",
    "    else: \n",
    "        if i == 49:\n",
    "            print(val, end =f'\\n {i+1} to {i+print_cols+1}| ')\n",
    "        else:\n",
    "            if i+1 == num_values:\n",
    "                print(val)\n",
    "            else:\n",
    "                print(val, end =f'\\n{i+1} to {i+print_cols+1}| ')\n",
    "print(f'\\nExpected run time: {len(rpms)*rpm_interval/60} minutes')\n"
   ]
  },
  {
   "cell_type": "markdown",
   "id": "b7ef04b5-c432-41a4-8d15-53a4fce34eb4",
   "metadata": {},
   "source": [
    "## Defining DB number and start offsets for the variables"
   ]
  },
  {
   "cell_type": "code",
   "execution_count": 84,
   "id": "634396c0-2109-4a32-bdea-a8c7b9b7d347",
   "metadata": {},
   "outputs": [],
   "source": [
    "db_py = 50\n",
    "\n",
    "# defining start_offsets (so) for the variables in the DB50\n",
    "so_rpm = 0\n",
    "so_hz1 = 4\n",
    "so_hz2 = 8\n",
    "so_hz3 = 12\n",
    "so_hz4 = 16\n"
   ]
  },
  {
   "cell_type": "code",
   "execution_count": 86,
   "id": "59b9ba16-fe4b-4a6b-9842-b78f34193cad",
   "metadata": {},
   "outputs": [
    {
     "name": "stdout",
     "output_type": "stream",
     "text": [
      "Progress: |████████████████████████████████████████████████████████████████████████████████████████████████████| 100.0% |1111/1111 | ETA: 0.1 min | RPM: 34.0\r"
     ]
    }
   ],
   "source": [
    "# for loop true random rpms\n",
    "\n",
    "try:\n",
    "    for i, rpm in enumerate(rpms):\n",
    "        set_real(db_py, so_rpm, rpm)\n",
    "        print(f'Progress: |{int(100*(i+1)/len(rpms))*\"█\" + int((100*(1-(i+1)/len(rpms))))*\"-\"}| {np.round((i+1)/len(rpms)*100 ,1)}% |{i+1}/{len(rpms)} | ETA: {np.round((len(rpms)-i)*rpm_interval/60,1)} min | RPM: {get_real(db_py, so_rpm)}', end='\\r')\n",
    "        sleep(rpm_interval)\n",
    "        \n",
    "except KeyboardInterrupt:\n",
    "    print('Sending RPMs interupted by keystroke                                                         It came this far: ')\n",
    "\n"
   ]
  },
  {
   "cell_type": "code",
   "execution_count": null,
   "id": "a27d8e93-0708-41c0-8b5d-269382942ed1",
   "metadata": {},
   "outputs": [],
   "source": [
    "# start make datalog function for ixon db"
   ]
  },
  {
   "cell_type": "code",
   "execution_count": 48,
   "id": "1e05b5bc-72f4-42b9-938a-e6f73f51dd96",
   "metadata": {},
   "outputs": [
    {
     "name": "stderr",
     "output_type": "stream",
     "text": [
      "b' ISO : An error occurred during send TCP : Connection timed out'\n"
     ]
    },
    {
     "ename": "RuntimeError",
     "evalue": "b' ISO : An error occurred during send TCP : Connection timed out'",
     "output_type": "error",
     "traceback": [
      "\u001b[1;31m---------------------------------------------------------------------------\u001b[0m",
      "\u001b[1;31mRuntimeError\u001b[0m                              Traceback (most recent call last)",
      "Cell \u001b[1;32mIn [48], line 15\u001b[0m\n\u001b[0;32m     11\u001b[0m log_so_hz4 \u001b[38;5;241m=\u001b[39m \u001b[38;5;241m40\u001b[39m\n\u001b[0;32m     13\u001b[0m names \u001b[38;5;241m=\u001b[39m []\n\u001b[1;32m---> 15\u001b[0m \u001b[43mget_real\u001b[49m\u001b[43m(\u001b[49m\u001b[43mdb_log\u001b[49m\u001b[43m,\u001b[49m\u001b[43m \u001b[49m\u001b[43mlog_so_width\u001b[49m\u001b[43m)\u001b[49m\n",
      "Cell \u001b[1;32mIn [3], line 17\u001b[0m, in \u001b[0;36mget_real\u001b[1;34m(db_number, start_offset)\u001b[0m\n\u001b[0;32m     16\u001b[0m \u001b[38;5;28;01mdef\u001b[39;00m \u001b[38;5;21mget_real\u001b[39m(db_number, start_offset):\n\u001b[1;32m---> 17\u001b[0m     data \u001b[38;5;241m=\u001b[39m  \u001b[43mplc\u001b[49m\u001b[38;5;241;43m.\u001b[39;49m\u001b[43mdb_read\u001b[49m\u001b[43m(\u001b[49m\u001b[43mdb_number\u001b[49m\u001b[43m,\u001b[49m\u001b[43m \u001b[49m\u001b[43mstart_offset\u001b[49m\u001b[43m,\u001b[49m\u001b[43m \u001b[49m\u001b[38;5;241;43m4\u001b[39;49m\u001b[43m)\u001b[49m \u001b[38;5;66;03m# read 4 bites\u001b[39;00m\n\u001b[0;32m     18\u001b[0m     real \u001b[38;5;241m=\u001b[39m s7\u001b[38;5;241m.\u001b[39mutil\u001b[38;5;241m.\u001b[39mget_real(data, \u001b[38;5;241m0\u001b[39m)\n\u001b[0;32m     19\u001b[0m     \u001b[38;5;28;01mreturn\u001b[39;00m real\n",
      "File \u001b[1;32m~\\AppData\\Roaming\\Python\\Python310\\site-packages\\snap7\\client.py:226\u001b[0m, in \u001b[0;36mClient.db_read\u001b[1;34m(self, db_number, start, size)\u001b[0m\n\u001b[0;32m    222\u001b[0m data \u001b[38;5;241m=\u001b[39m (type_ \u001b[38;5;241m*\u001b[39m size)()\n\u001b[0;32m    223\u001b[0m result \u001b[38;5;241m=\u001b[39m (\u001b[38;5;28mself\u001b[39m\u001b[38;5;241m.\u001b[39m_library\u001b[38;5;241m.\u001b[39mCli_DBRead(\n\u001b[0;32m    224\u001b[0m     \u001b[38;5;28mself\u001b[39m\u001b[38;5;241m.\u001b[39m_pointer, db_number, start, size,\n\u001b[0;32m    225\u001b[0m     byref(data)))\n\u001b[1;32m--> 226\u001b[0m \u001b[43mcheck_error\u001b[49m\u001b[43m(\u001b[49m\u001b[43mresult\u001b[49m\u001b[43m,\u001b[49m\u001b[43m \u001b[49m\u001b[43mcontext\u001b[49m\u001b[38;5;241;43m=\u001b[39;49m\u001b[38;5;124;43m\"\u001b[39;49m\u001b[38;5;124;43mclient\u001b[39;49m\u001b[38;5;124;43m\"\u001b[39;49m\u001b[43m)\u001b[49m\n\u001b[0;32m    227\u001b[0m \u001b[38;5;28;01mreturn\u001b[39;00m \u001b[38;5;28mbytearray\u001b[39m(data)\n",
      "File \u001b[1;32m~\\AppData\\Roaming\\Python\\Python310\\site-packages\\snap7\\common.py:89\u001b[0m, in \u001b[0;36mcheck_error\u001b[1;34m(code, context)\u001b[0m\n\u001b[0;32m     87\u001b[0m error \u001b[38;5;241m=\u001b[39m error_text(code, context)\n\u001b[0;32m     88\u001b[0m logger\u001b[38;5;241m.\u001b[39merror(error)\n\u001b[1;32m---> 89\u001b[0m \u001b[38;5;28;01mraise\u001b[39;00m \u001b[38;5;167;01mRuntimeError\u001b[39;00m(error)\n",
      "\u001b[1;31mRuntimeError\u001b[0m: b' ISO : An error occurred during send TCP : Connection timed out'"
     ]
    }
   ],
   "source": [
    "# ixon_remake.\n",
    "\n",
    "db_log = 33\n",
    "\n",
    "log_so_width = 0\n",
    "log_so_rpm = 4\n",
    "log_so_torque = 12\n",
    "log_so_hz1 = 16\n",
    "log_so_hz2 = 24\n",
    "log_so_hz3 = 32\n",
    "log_so_hz4 = 40\n",
    "\n",
    "names = []\n",
    "\n",
    "get_real(db_log, log_so_width)\n",
    "\n",
    "\n"
   ]
  },
  {
   "cell_type": "markdown",
   "id": "00d3b3dd-2ac7-4028-ac7f-6ee07efe5fd0",
   "metadata": {},
   "source": [
    "### another way of unpacking a database data (Thijs)"
   ]
  },
  {
   "cell_type": "code",
   "execution_count": null,
   "id": "a1b97cc4-53cc-460a-8a4f-e7752809c648",
   "metadata": {},
   "outputs": [],
   "source": [
    "import struct\n",
    "# struct.unpack(\"b\",plc.db_read(db_number, 2, 1)) "
   ]
  },
  {
   "cell_type": "code",
   "execution_count": null,
   "id": "e1309c52-374e-4533-8d7d-9c75effc7f3e",
   "metadata": {},
   "outputs": [
    {
     "name": "stdout",
     "output_type": "stream",
     "text": [
      "2"
     ]
    }
   ],
   "source": []
  }
 ],
 "metadata": {
  "kernelspec": {
   "display_name": "Python 3 (ipykernel)",
   "language": "python",
   "name": "python3"
  },
  "language_info": {
   "codemirror_mode": {
    "name": "ipython",
    "version": 3
   },
   "file_extension": ".py",
   "mimetype": "text/x-python",
   "name": "python",
   "nbconvert_exporter": "python",
   "pygments_lexer": "ipython3",
   "version": "3.10.6"
  }
 },
 "nbformat": 4,
 "nbformat_minor": 5
}
