{
 "cells": [
  {
   "cell_type": "code",
   "execution_count": 26,
   "id": "22e4329d-910c-4e37-a345-38a589129ac7",
   "metadata": {},
   "outputs": [
    {
     "name": "stdout",
     "output_type": "stream",
     "text": [
      "imports succesful\n"
     ]
    }
   ],
   "source": [
    "# imports\n",
    "# system related\n",
    "import sys\n",
    "import subprocess\n",
    "\n",
    "# basics\n",
    "import numpy as np\n",
    "import matplotlib\n",
    "import matplotlib.pyplot as plt\n",
    "import pandas as pd\n",
    "from time import sleep\n",
    "\n",
    "# snap7 and logging\n",
    "import snap7 as s7\n",
    "\n",
    "\n",
    "print('imports succesful')"
   ]
  },
  {
   "cell_type": "markdown",
   "id": "5bbc1840-8d47-4820-a573-5fcd98272215",
   "metadata": {},
   "source": [
    "## Connecting to plc"
   ]
  },
  {
   "cell_type": "code",
   "execution_count": 27,
   "id": "2ae03a97-bd5a-4da9-877c-85d6d3d5fd17",
   "metadata": {},
   "outputs": [
    {
     "name": "stderr",
     "output_type": "stream",
     "text": [
      "b' TCP : Unreachable peer'\n"
     ]
    },
    {
     "ename": "RuntimeError",
     "evalue": "b' TCP : Unreachable peer'",
     "output_type": "error",
     "traceback": [
      "\u001b[1;31m---------------------------------------------------------------------------\u001b[0m",
      "\u001b[1;31mRuntimeError\u001b[0m                              Traceback (most recent call last)",
      "Cell \u001b[1;32mIn [27], line 4\u001b[0m\n\u001b[0;32m      1\u001b[0m \u001b[38;5;66;03m# connecting to plc\u001b[39;00m\n\u001b[0;32m      3\u001b[0m plc \u001b[38;5;241m=\u001b[39m s7\u001b[38;5;241m.\u001b[39mclient\u001b[38;5;241m.\u001b[39mClient()\n\u001b[1;32m----> 4\u001b[0m \u001b[43mplc\u001b[49m\u001b[38;5;241;43m.\u001b[39;49m\u001b[43mconnect\u001b[49m\u001b[43m(\u001b[49m\u001b[38;5;124;43m'\u001b[39;49m\u001b[38;5;124;43m192.168.0.19\u001b[39;49m\u001b[38;5;124;43m'\u001b[39;49m\u001b[43m,\u001b[49m\u001b[43m \u001b[49m\u001b[38;5;241;43m0\u001b[39;49m\u001b[43m,\u001b[49m\u001b[43m \u001b[49m\u001b[38;5;241;43m1\u001b[39;49m\u001b[43m,\u001b[49m\u001b[43m \u001b[49m\u001b[43m)\u001b[49m  \u001b[38;5;66;03m# ip, rack, slot\u001b[39;00m\n\u001b[0;32m      6\u001b[0m \u001b[38;5;28mprint\u001b[39m(\u001b[38;5;124mf\u001b[39m\u001b[38;5;124m'\u001b[39m\u001b[38;5;124mconnection status: \u001b[39m\u001b[38;5;132;01m{\u001b[39;00mplc\u001b[38;5;241m.\u001b[39mget_connected()\u001b[38;5;132;01m}\u001b[39;00m\u001b[38;5;124m'\u001b[39m)\n",
      "File \u001b[1;32m~\\AppData\\Roaming\\Python\\Python310\\site-packages\\snap7\\client.py:24\u001b[0m, in \u001b[0;36merror_wrap.<locals>.f\u001b[1;34m(*args, **kw)\u001b[0m\n\u001b[0;32m     22\u001b[0m \u001b[38;5;28;01mdef\u001b[39;00m \u001b[38;5;21mf\u001b[39m(\u001b[38;5;241m*\u001b[39margs, \u001b[38;5;241m*\u001b[39m\u001b[38;5;241m*\u001b[39mkw):\n\u001b[0;32m     23\u001b[0m     code \u001b[38;5;241m=\u001b[39m func(\u001b[38;5;241m*\u001b[39margs, \u001b[38;5;241m*\u001b[39m\u001b[38;5;241m*\u001b[39mkw)\n\u001b[1;32m---> 24\u001b[0m     \u001b[43mcheck_error\u001b[49m\u001b[43m(\u001b[49m\u001b[43mcode\u001b[49m\u001b[43m,\u001b[49m\u001b[43m \u001b[49m\u001b[43mcontext\u001b[49m\u001b[38;5;241;43m=\u001b[39;49m\u001b[38;5;124;43m\"\u001b[39;49m\u001b[38;5;124;43mclient\u001b[39;49m\u001b[38;5;124;43m\"\u001b[39;49m\u001b[43m)\u001b[49m\n",
      "File \u001b[1;32m~\\AppData\\Roaming\\Python\\Python310\\site-packages\\snap7\\common.py:89\u001b[0m, in \u001b[0;36mcheck_error\u001b[1;34m(code, context)\u001b[0m\n\u001b[0;32m     87\u001b[0m error \u001b[38;5;241m=\u001b[39m error_text(code, context)\n\u001b[0;32m     88\u001b[0m logger\u001b[38;5;241m.\u001b[39merror(error)\n\u001b[1;32m---> 89\u001b[0m \u001b[38;5;28;01mraise\u001b[39;00m \u001b[38;5;167;01mRuntimeError\u001b[39;00m(error)\n",
      "\u001b[1;31mRuntimeError\u001b[0m: b' TCP : Unreachable peer'"
     ]
    }
   ],
   "source": [
    "# connecting to plc\n",
    "\n",
    "plc = s7.client.Client()\n",
    "plc.connect('192.168.0.19', 0, 1, )  # ip, rack, slot\n",
    "\n",
    "print(f'connection status: {plc.get_connected()}')"
   ]
  },
  {
   "cell_type": "markdown",
   "id": "9b1e88d3-aa15-475b-bc06-18632e8fec61",
   "metadata": {},
   "source": [
    "## Defining get & set functions for plc variables"
   ]
  },
  {
   "cell_type": "code",
   "execution_count": 3,
   "id": "97808aef-688a-4cf3-bbf0-f5bfc9423e7f",
   "metadata": {},
   "outputs": [],
   "source": [
    "# Defining read/write functions\n",
    "\n",
    "def get_bool(db_number, start_offset, bit_offset=0):\n",
    "    data = plc.db_read(db_number, start_offset, 1) # read 1 bite\n",
    "    value = s7.util.get_bool(data, 0, bit_offset)\n",
    "    # print(f'db number: {db_number}, bit: {start_offset}, has boolean value: {value}')\n",
    "    return value\n",
    "    \n",
    "def set_bool(db_number, start_offset, value, bit_offset=0):\n",
    "    data = plc.db_read(db_number, start_offset, 1) # read 1 bite\n",
    "    s7.util.set_bool(data, 0, bit_offset, value)\n",
    "    plc.db_write(db_number, start_offset, data)\n",
    "    return None\n",
    "\n",
    "\n",
    "def get_real(db_number, start_offset):\n",
    "    data =  plc.db_read(db_number, start_offset, 4) # read 4 bites\n",
    "    real = s7.util.get_real(data, 0)\n",
    "    return real\n",
    "\n",
    "def set_real(db_number, start_offset, value):\n",
    "    data =  plc.db_read(db_number, start_offset, 4) # read 4 bites\n",
    "    s7.util.set_real(data, 0, value)\n",
    "    plc.db_write(db_number, start_offset, data)\n",
    "    return None\n",
    "\n",
    "\n",
    "\n",
    "    \n"
   ]
  },
  {
   "cell_type": "markdown",
   "id": "e2404e10-e794-4564-91cb-30ad8b3b125a",
   "metadata": {},
   "source": [
    "## Creating RPMs to loop thru"
   ]
  },
  {
   "cell_type": "code",
   "execution_count": 49,
   "id": "2982f58a-b10e-4452-88af-ecc1e1759e45",
   "metadata": {},
   "outputs": [
    {
     "name": "stdout",
     "output_type": "stream",
     "text": [
      "RPMs to loop thru, in pairs of 50:\n",
      "\n",
      "  1 to  51| 20 49 21 53 40 26 48 33 28 50 54 36 28 32 41 37 32 45 25 39 45 41 25 34 36 33 38 50 30 40 45 50 41 20 40 31 32 31 43 38 30 52 26 40 47 26 53 26 50 34\n",
      " 50 to 100| 26 35 34 42 29 53 48 31 41 45 32 51 37 46 27 50 25 46 37 22 33 22 47 36 32 36 52 32 33 38 51 49 53 31 43 41 29 45 33 24 40 44 34 30 27 32 51 22 41 52\n",
      "100 to 150| 25 24 34 29 42 23 45 28 27 23 39 53 45 31 45 30 51 27 44 29 54 39 31 40 42 45 49 29 28 38 44 26 42 39 35 23 44 45 29 21 49 42 29 42 21 41 35 30 29 33\n",
      "150 to 200| 35 31 35 52 55 32 41 46 28 36 37 54 26 29 53 41 24 51 54 31 32 39 28 50 28 50 21 28 39 41 34 50 38 37 45 33 42 27 26 27 26 21 39 30 46 23 52 46 50 25\n",
      "200 to 250| 49 39 47 24 54 33 40 47 54 24 42 23 35 23 29 21 20 29 23 41 26 21 28 36 52 27 39 49 29 52 20 43 50 30 49 47 31 38 44 42 41 20 28 48 41 40 36 23 34 30\n"
     ]
    }
   ],
   "source": [
    "# creating random values to loop thru\n",
    "\n",
    "min_rpm = 20\n",
    "max_rpm = 55\n",
    "d_rpm = 1\n",
    "num_values = 250\n",
    "print_cols = 50\n",
    "\n",
    "rpms = [min_rpm]\n",
    "\n",
    "\n",
    "while len(rpms) < num_values:\n",
    "    # create random rpm value\n",
    "    rpm = int(np.round(np.random.uniform(min_rpm, max_rpm),0))\n",
    "    # append if difference is high enough. \n",
    "    if abs(rpm-rpms[-1]) >= d_rpm:\n",
    "        rpms.append(rpm)\n",
    "        \n",
    "print(f'RPMs to loop thru, in pairs of {print_cols}:\\n') \n",
    "\n",
    "print(f'  {1} to  {print_cols+1}| ', end='')\n",
    "for i, val in enumerate(rpms):\n",
    "    if (i+1)%print_cols != 0:\n",
    "        print(val, end=' ')\n",
    "    else: \n",
    "        if i == 49:\n",
    "            print(val, end =f'\\n {i+1} to {i+print_cols+1}| ')\n",
    "        else:\n",
    "            if i+1 == num_values:\n",
    "                print(val)\n",
    "            else:\n",
    "                print(val, end =f'\\n{i+1} to {i+print_cols+1}| ')\n"
   ]
  },
  {
   "cell_type": "markdown",
   "id": "b7ef04b5-c432-41a4-8d15-53a4fce34eb4",
   "metadata": {},
   "source": [
    "## Defining DB number and start offsets for the variables"
   ]
  },
  {
   "cell_type": "code",
   "execution_count": 46,
   "id": "634396c0-2109-4a32-bdea-a8c7b9b7d347",
   "metadata": {},
   "outputs": [],
   "source": [
    "db_py = 50\n",
    "\n",
    "# defining start_offsets (so) for the variables in the DB50\n",
    "so_rpm = 0\n",
    "so_hz1 = 4\n",
    "so_hz2 = 8\n",
    "so_hz3 = 12\n",
    "so_hz4 = 16\n"
   ]
  },
  {
   "cell_type": "code",
   "execution_count": 47,
   "id": "59b9ba16-fe4b-4a6b-9842-b78f34193cad",
   "metadata": {},
   "outputs": [
    {
     "name": "stderr",
     "output_type": "stream",
     "text": [
      "b' ISO : An error occurred during send TCP : Connection timed out'\n"
     ]
    },
    {
     "ename": "RuntimeError",
     "evalue": "b' ISO : An error occurred during send TCP : Connection timed out'",
     "output_type": "error",
     "traceback": [
      "\u001b[1;31m---------------------------------------------------------------------------\u001b[0m",
      "\u001b[1;31mRuntimeError\u001b[0m                              Traceback (most recent call last)",
      "Cell \u001b[1;32mIn [47], line 6\u001b[0m\n\u001b[0;32m      3\u001b[0m rpm_interval \u001b[38;5;241m=\u001b[39m \u001b[38;5;241m20\u001b[39m\n\u001b[0;32m      5\u001b[0m \u001b[38;5;28;01mfor\u001b[39;00m i, rpm \u001b[38;5;129;01min\u001b[39;00m \u001b[38;5;28menumerate\u001b[39m(rpms):\n\u001b[1;32m----> 6\u001b[0m     \u001b[43mset_real\u001b[49m\u001b[43m(\u001b[49m\u001b[43mdb_py\u001b[49m\u001b[43m,\u001b[49m\u001b[43m \u001b[49m\u001b[43mso_rpm\u001b[49m\u001b[43m,\u001b[49m\u001b[43m \u001b[49m\u001b[43mrpm\u001b[49m\u001b[43m)\u001b[49m\n\u001b[0;32m      7\u001b[0m     \u001b[38;5;28mprint\u001b[39m(\u001b[38;5;124mf\u001b[39m\u001b[38;5;124m'\u001b[39m\u001b[38;5;124mProgress: |\u001b[39m\u001b[38;5;132;01m{\u001b[39;00m(i\u001b[38;5;241m+\u001b[39m\u001b[38;5;241m1\u001b[39m)\u001b[38;5;241m*\u001b[39m\u001b[38;5;124m\"\u001b[39m\u001b[38;5;124m█\u001b[39m\u001b[38;5;124m\"\u001b[39m \u001b[38;5;241m+\u001b[39m (\u001b[38;5;241m100\u001b[39m\u001b[38;5;241m-\u001b[39m(i\u001b[38;5;241m-\u001b[39m\u001b[38;5;241m1\u001b[39m))\u001b[38;5;241m*\u001b[39m\u001b[38;5;124m\"\u001b[39m\u001b[38;5;124m-\u001b[39m\u001b[38;5;124m\"\u001b[39m\u001b[38;5;132;01m}\u001b[39;00m\u001b[38;5;124m| \u001b[39m\u001b[38;5;132;01m{\u001b[39;00mnp\u001b[38;5;241m.\u001b[39mround(i\u001b[38;5;241m/\u001b[39m\u001b[38;5;28mlen\u001b[39m(rpms)\u001b[38;5;241m*\u001b[39m\u001b[38;5;241m100\u001b[39m ,\u001b[38;5;241m1\u001b[39m)\u001b[38;5;132;01m}\u001b[39;00m\u001b[38;5;124m% | \u001b[39m\u001b[38;5;132;01m{\u001b[39;00mi\u001b[38;5;132;01m}\u001b[39;00m\u001b[38;5;124m/\u001b[39m\u001b[38;5;132;01m{\u001b[39;00m\u001b[38;5;28mlen\u001b[39m(rpms)\u001b[38;5;132;01m}\u001b[39;00m\u001b[38;5;124m | RPM: \u001b[39m\u001b[38;5;132;01m{\u001b[39;00mget_real(db_py, so_rpm)\u001b[38;5;132;01m}\u001b[39;00m\u001b[38;5;124m'\u001b[39m, end\u001b[38;5;241m=\u001b[39m\u001b[38;5;124m'\u001b[39m\u001b[38;5;130;01m\\r\u001b[39;00m\u001b[38;5;124m'\u001b[39m)\n\u001b[0;32m      8\u001b[0m     sleep(rpm_interval)\n",
      "Cell \u001b[1;32mIn [3], line 22\u001b[0m, in \u001b[0;36mset_real\u001b[1;34m(db_number, start_offset, value)\u001b[0m\n\u001b[0;32m     21\u001b[0m \u001b[38;5;28;01mdef\u001b[39;00m \u001b[38;5;21mset_real\u001b[39m(db_number, start_offset, value):\n\u001b[1;32m---> 22\u001b[0m     data \u001b[38;5;241m=\u001b[39m  \u001b[43mplc\u001b[49m\u001b[38;5;241;43m.\u001b[39;49m\u001b[43mdb_read\u001b[49m\u001b[43m(\u001b[49m\u001b[43mdb_number\u001b[49m\u001b[43m,\u001b[49m\u001b[43m \u001b[49m\u001b[43mstart_offset\u001b[49m\u001b[43m,\u001b[49m\u001b[43m \u001b[49m\u001b[38;5;241;43m4\u001b[39;49m\u001b[43m)\u001b[49m \u001b[38;5;66;03m# read 4 bites\u001b[39;00m\n\u001b[0;32m     23\u001b[0m     s7\u001b[38;5;241m.\u001b[39mutil\u001b[38;5;241m.\u001b[39mset_real(data, \u001b[38;5;241m0\u001b[39m, value)\n\u001b[0;32m     24\u001b[0m     plc\u001b[38;5;241m.\u001b[39mdb_write(db_number, start_offset, data)\n",
      "File \u001b[1;32m~\\AppData\\Roaming\\Python\\Python310\\site-packages\\snap7\\client.py:226\u001b[0m, in \u001b[0;36mClient.db_read\u001b[1;34m(self, db_number, start, size)\u001b[0m\n\u001b[0;32m    222\u001b[0m data \u001b[38;5;241m=\u001b[39m (type_ \u001b[38;5;241m*\u001b[39m size)()\n\u001b[0;32m    223\u001b[0m result \u001b[38;5;241m=\u001b[39m (\u001b[38;5;28mself\u001b[39m\u001b[38;5;241m.\u001b[39m_library\u001b[38;5;241m.\u001b[39mCli_DBRead(\n\u001b[0;32m    224\u001b[0m     \u001b[38;5;28mself\u001b[39m\u001b[38;5;241m.\u001b[39m_pointer, db_number, start, size,\n\u001b[0;32m    225\u001b[0m     byref(data)))\n\u001b[1;32m--> 226\u001b[0m \u001b[43mcheck_error\u001b[49m\u001b[43m(\u001b[49m\u001b[43mresult\u001b[49m\u001b[43m,\u001b[49m\u001b[43m \u001b[49m\u001b[43mcontext\u001b[49m\u001b[38;5;241;43m=\u001b[39;49m\u001b[38;5;124;43m\"\u001b[39;49m\u001b[38;5;124;43mclient\u001b[39;49m\u001b[38;5;124;43m\"\u001b[39;49m\u001b[43m)\u001b[49m\n\u001b[0;32m    227\u001b[0m \u001b[38;5;28;01mreturn\u001b[39;00m \u001b[38;5;28mbytearray\u001b[39m(data)\n",
      "File \u001b[1;32m~\\AppData\\Roaming\\Python\\Python310\\site-packages\\snap7\\common.py:89\u001b[0m, in \u001b[0;36mcheck_error\u001b[1;34m(code, context)\u001b[0m\n\u001b[0;32m     87\u001b[0m error \u001b[38;5;241m=\u001b[39m error_text(code, context)\n\u001b[0;32m     88\u001b[0m logger\u001b[38;5;241m.\u001b[39merror(error)\n\u001b[1;32m---> 89\u001b[0m \u001b[38;5;28;01mraise\u001b[39;00m \u001b[38;5;167;01mRuntimeError\u001b[39;00m(error)\n",
      "\u001b[1;31mRuntimeError\u001b[0m: b' ISO : An error occurred during send TCP : Connection timed out'"
     ]
    }
   ],
   "source": [
    "# for loop true random rpms\n",
    "\n",
    "rpm_interval = 20\n",
    "\n",
    "for i, rpm in enumerate(rpms):\n",
    "    set_real(db_py, so_rpm, rpm)\n",
    "    print(f'Progress: |{(i+1)*\"█\" + (100-(i-1))*\"-\"}| {np.round(i/len(rpms)*100 ,1)}% | {i}/{len(rpms)} | RPM: {get_real(db_py, so_rpm)}', end='\\r')\n",
    "    sleep(rpm_interval)\n"
   ]
  },
  {
   "cell_type": "code",
   "execution_count": null,
   "id": "a27d8e93-0708-41c0-8b5d-269382942ed1",
   "metadata": {},
   "outputs": [],
   "source": [
    "# start make datalog function for ixon db"
   ]
  },
  {
   "cell_type": "code",
   "execution_count": 48,
   "id": "1e05b5bc-72f4-42b9-938a-e6f73f51dd96",
   "metadata": {},
   "outputs": [
    {
     "name": "stderr",
     "output_type": "stream",
     "text": [
      "b' ISO : An error occurred during send TCP : Connection timed out'\n"
     ]
    },
    {
     "ename": "RuntimeError",
     "evalue": "b' ISO : An error occurred during send TCP : Connection timed out'",
     "output_type": "error",
     "traceback": [
      "\u001b[1;31m---------------------------------------------------------------------------\u001b[0m",
      "\u001b[1;31mRuntimeError\u001b[0m                              Traceback (most recent call last)",
      "Cell \u001b[1;32mIn [48], line 15\u001b[0m\n\u001b[0;32m     11\u001b[0m log_so_hz4 \u001b[38;5;241m=\u001b[39m \u001b[38;5;241m40\u001b[39m\n\u001b[0;32m     13\u001b[0m names \u001b[38;5;241m=\u001b[39m []\n\u001b[1;32m---> 15\u001b[0m \u001b[43mget_real\u001b[49m\u001b[43m(\u001b[49m\u001b[43mdb_log\u001b[49m\u001b[43m,\u001b[49m\u001b[43m \u001b[49m\u001b[43mlog_so_width\u001b[49m\u001b[43m)\u001b[49m\n",
      "Cell \u001b[1;32mIn [3], line 17\u001b[0m, in \u001b[0;36mget_real\u001b[1;34m(db_number, start_offset)\u001b[0m\n\u001b[0;32m     16\u001b[0m \u001b[38;5;28;01mdef\u001b[39;00m \u001b[38;5;21mget_real\u001b[39m(db_number, start_offset):\n\u001b[1;32m---> 17\u001b[0m     data \u001b[38;5;241m=\u001b[39m  \u001b[43mplc\u001b[49m\u001b[38;5;241;43m.\u001b[39;49m\u001b[43mdb_read\u001b[49m\u001b[43m(\u001b[49m\u001b[43mdb_number\u001b[49m\u001b[43m,\u001b[49m\u001b[43m \u001b[49m\u001b[43mstart_offset\u001b[49m\u001b[43m,\u001b[49m\u001b[43m \u001b[49m\u001b[38;5;241;43m4\u001b[39;49m\u001b[43m)\u001b[49m \u001b[38;5;66;03m# read 4 bites\u001b[39;00m\n\u001b[0;32m     18\u001b[0m     real \u001b[38;5;241m=\u001b[39m s7\u001b[38;5;241m.\u001b[39mutil\u001b[38;5;241m.\u001b[39mget_real(data, \u001b[38;5;241m0\u001b[39m)\n\u001b[0;32m     19\u001b[0m     \u001b[38;5;28;01mreturn\u001b[39;00m real\n",
      "File \u001b[1;32m~\\AppData\\Roaming\\Python\\Python310\\site-packages\\snap7\\client.py:226\u001b[0m, in \u001b[0;36mClient.db_read\u001b[1;34m(self, db_number, start, size)\u001b[0m\n\u001b[0;32m    222\u001b[0m data \u001b[38;5;241m=\u001b[39m (type_ \u001b[38;5;241m*\u001b[39m size)()\n\u001b[0;32m    223\u001b[0m result \u001b[38;5;241m=\u001b[39m (\u001b[38;5;28mself\u001b[39m\u001b[38;5;241m.\u001b[39m_library\u001b[38;5;241m.\u001b[39mCli_DBRead(\n\u001b[0;32m    224\u001b[0m     \u001b[38;5;28mself\u001b[39m\u001b[38;5;241m.\u001b[39m_pointer, db_number, start, size,\n\u001b[0;32m    225\u001b[0m     byref(data)))\n\u001b[1;32m--> 226\u001b[0m \u001b[43mcheck_error\u001b[49m\u001b[43m(\u001b[49m\u001b[43mresult\u001b[49m\u001b[43m,\u001b[49m\u001b[43m \u001b[49m\u001b[43mcontext\u001b[49m\u001b[38;5;241;43m=\u001b[39;49m\u001b[38;5;124;43m\"\u001b[39;49m\u001b[38;5;124;43mclient\u001b[39;49m\u001b[38;5;124;43m\"\u001b[39;49m\u001b[43m)\u001b[49m\n\u001b[0;32m    227\u001b[0m \u001b[38;5;28;01mreturn\u001b[39;00m \u001b[38;5;28mbytearray\u001b[39m(data)\n",
      "File \u001b[1;32m~\\AppData\\Roaming\\Python\\Python310\\site-packages\\snap7\\common.py:89\u001b[0m, in \u001b[0;36mcheck_error\u001b[1;34m(code, context)\u001b[0m\n\u001b[0;32m     87\u001b[0m error \u001b[38;5;241m=\u001b[39m error_text(code, context)\n\u001b[0;32m     88\u001b[0m logger\u001b[38;5;241m.\u001b[39merror(error)\n\u001b[1;32m---> 89\u001b[0m \u001b[38;5;28;01mraise\u001b[39;00m \u001b[38;5;167;01mRuntimeError\u001b[39;00m(error)\n",
      "\u001b[1;31mRuntimeError\u001b[0m: b' ISO : An error occurred during send TCP : Connection timed out'"
     ]
    }
   ],
   "source": [
    "# ixon_remake.\n",
    "\n",
    "db_log = 33\n",
    "\n",
    "log_so_width = 0\n",
    "log_so_rpm = 4\n",
    "log_so_torque = 12\n",
    "log_so_hz1 = 16\n",
    "log_so_hz2 = 24\n",
    "log_so_hz3 = 32\n",
    "log_so_hz4 = 40\n",
    "\n",
    "names = []\n",
    "\n",
    "get_real(db_log, log_so_width)\n",
    "\n",
    "\n"
   ]
  },
  {
   "cell_type": "markdown",
   "id": "00d3b3dd-2ac7-4028-ac7f-6ee07efe5fd0",
   "metadata": {},
   "source": [
    "### another way of unpacking a database data (Thijs)"
   ]
  },
  {
   "cell_type": "code",
   "execution_count": null,
   "id": "a1b97cc4-53cc-460a-8a4f-e7752809c648",
   "metadata": {},
   "outputs": [],
   "source": [
    "import struct\n",
    "# struct.unpack(\"b\",plc.db_read(db_number, 2, 1)) "
   ]
  },
  {
   "cell_type": "code",
   "execution_count": null,
   "id": "e1309c52-374e-4533-8d7d-9c75effc7f3e",
   "metadata": {},
   "outputs": [
    {
     "name": "stdout",
     "output_type": "stream",
     "text": [
      "2"
     ]
    }
   ],
   "source": []
  }
 ],
 "metadata": {
  "kernelspec": {
   "display_name": "Python 3 (ipykernel)",
   "language": "python",
   "name": "python3"
  },
  "language_info": {
   "codemirror_mode": {
    "name": "ipython",
    "version": 3
   },
   "file_extension": ".py",
   "mimetype": "text/x-python",
   "name": "python",
   "nbconvert_exporter": "python",
   "pygments_lexer": "ipython3",
   "version": "3.10.6"
  }
 },
 "nbformat": 4,
 "nbformat_minor": 5
}
